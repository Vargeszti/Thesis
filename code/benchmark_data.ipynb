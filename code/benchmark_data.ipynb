{
 "cells": [
  {
   "cell_type": "code",
   "execution_count": 1,
   "metadata": {},
   "outputs": [],
   "source": [
    "import pandas as pd\n",
    "import numpy as np\n",
    "\n",
    "from matplotlib import pyplot as plt\n",
    "%matplotlib inline\n",
    "import seaborn as sns\n",
    "sns.set_style('whitegrid')\n",
    "\n",
    "import os"
   ]
  },
  {
   "cell_type": "markdown",
   "metadata": {},
   "source": [
    "### Getting the benchmark data from the CREEDs gene expression files created in the 'GEO_download' R file"
   ]
  },
  {
   "cell_type": "code",
   "execution_count": 8,
   "metadata": {},
   "outputs": [],
   "source": [
    "#Importing the single gene perturbation file I worked with in the 'genes_from_creeds_NN' code file\n",
    "gene_perturb = pd.read_csv('../results/gene_perturb.csv', sep=',', header=0, index_col=0)\n",
    "gene_perturb.index = gene_perturb.index.astype(str)"
   ]
  },
  {
   "cell_type": "code",
   "execution_count": 9,
   "metadata": {},
   "outputs": [],
   "source": [
    "fnames = os.listdir('../results/gene_perturb/')\n",
    "fnames = [x[:-4] for x in fnames]\n",
    "fnames = list(set(fnames) & set(gene_perturb.index))"
   ]
  },
  {
   "cell_type": "code",
   "execution_count": 10,
   "metadata": {},
   "outputs": [],
   "source": [
    "gene_perturb = gene_perturb.loc[fnames]"
   ]
  },
  {
   "cell_type": "code",
   "execution_count": 11,
   "metadata": {},
   "outputs": [],
   "source": [
    "gene_results = {}\n",
    "for file_id in fnames:\n",
    "    data = pd.read_csv('../results/gene_perturb/%s.csv' % (file_id), sep=',', header=0, index_col=0)\n",
    "    data.index = pd.Series(data.index).str.upper().values\n",
    "    data = data['t']\n",
    "    gene_results[file_id] = data"
   ]
  },
  {
   "cell_type": "code",
   "execution_count": 12,
   "metadata": {},
   "outputs": [],
   "source": [
    "all_genes = []\n",
    "for file_id in fnames:\n",
    "    all_genes += list(gene_results[file_id].index)\n",
    "all_genes = list(set(all_genes))"
   ]
  },
  {
   "cell_type": "code",
   "execution_count": 13,
   "metadata": {},
   "outputs": [],
   "source": [
    "gene_resultsDF = pd.DataFrame(0.0, index = all_genes, columns=fnames)\n",
    "for file_id  in fnames:\n",
    "    gene_resultsDF.loc[gene_results[file_id].index, file_id] = gene_results[file_id]"
   ]
  },
  {
   "cell_type": "code",
   "execution_count": 14,
   "metadata": {},
   "outputs": [
    {
     "data": {
      "text/plain": [
       "<matplotlib.axes._subplots.AxesSubplot at 0x1fe76952370>"
      ]
     },
     "execution_count": 14,
     "metadata": {},
     "output_type": "execute_result"
    },
    {
     "data": {
      "image/png": "[encoded data removed]",
      "text/plain": [
       "<Figure size 432x288 with 1 Axes>"
      ]
     },
     "metadata": {},
     "output_type": "display_data"
    }
   ],
   "source": [
    "### nuber of zeros per experiments\n",
    "(gene_resultsDF == 0).sum().hist()"
   ]
  },
  {
   "cell_type": "code",
   "execution_count": 15,
   "metadata": {},
   "outputs": [
    {
     "data": {
      "text/plain": [
       "<matplotlib.axes._subplots.AxesSubplot at 0x1fe6c05bdc0>"
      ]
     },
     "execution_count": 15,
     "metadata": {},
     "output_type": "execute_result"
    },
    {
     "data": {
      "image/png": "[encoded data removed]",
      "text/plain": [
       "<Figure size 432x288 with 1 Axes>"
      ]
     },
     "metadata": {},
     "output_type": "display_data"
    }
   ],
   "source": [
    "### nuber of zeros per genes\n",
    "(gene_resultsDF == 0).sum(1).hist()"
   ]
  },
  {
   "cell_type": "code",
   "execution_count": 16,
   "metadata": {},
   "outputs": [],
   "source": [
    "### filter bad experiments (with a lot of NaN)\n",
    "fil = (gene_resultsDF == 0).sum(0) < 27500\n",
    "good_experiments = gene_resultsDF.columns[fil]\n",
    "gene_resultsDF = gene_resultsDF[good_experiments]"
   ]
  },
  {
   "cell_type": "code",
   "execution_count": 17,
   "metadata": {},
   "outputs": [],
   "source": [
    "### filter bad genes (with a lot of NaN)\n",
    "fil = (gene_resultsDF == 0).sum(1) == 0\n",
    "gene_resultsDF = gene_resultsDF[fil]"
   ]
  },
  {
   "cell_type": "code",
   "execution_count": 19,
   "metadata": {},
   "outputs": [],
   "source": [
    "### check overlap with lincs\n",
    "lincs = pd.read_csv('../data/GSE92742/GSE92742_Broad_LINCS_gene_info.txt',\n",
    "                   sep='\\t', header=0, index_col=0)\n",
    "lincs = lincs[lincs['pr_is_lm']==1]"
   ]
  },
  {
   "cell_type": "code",
   "execution_count": 20,
   "metadata": {},
   "outputs": [
    {
     "data": {
      "text/plain": [
       "735"
      ]
     },
     "execution_count": 20,
     "metadata": {},
     "output_type": "execute_result"
    }
   ],
   "source": [
    "len(set(lincs['pr_gene_symbol']) & set(gene_resultsDF.index))"
   ]
  },
  {
   "cell_type": "code",
   "execution_count": 21,
   "metadata": {},
   "outputs": [
    {
     "data": {
      "text/plain": [
       "(11101, 101)"
      ]
     },
     "execution_count": 21,
     "metadata": {},
     "output_type": "execute_result"
    }
   ],
   "source": [
    "gene_resultsDF.shape"
   ]
  },
  {
   "cell_type": "code",
   "execution_count": 22,
   "metadata": {},
   "outputs": [],
   "source": [
    "gene_resultsDF.to_csv('../results/gene_perturb_results.csv', sep=',')"
   ]
  },
  {
   "cell_type": "markdown",
   "metadata": {},
   "source": [
    "### Getting the benchmark data from the CREEDs gene expression files created in the 'GEO_download' R file"
   ]
  },
  {
   "cell_type": "code",
   "execution_count": 45,
   "metadata": {},
   "outputs": [],
   "source": [
    "drug_perturb = pd.read_csv('../results/drug_perturb.csv', sep=',', header=0, index_col=0)\n",
    "drug_perturb.index = drug_perturb.index.astype(str)"
   ]
  },
  {
   "cell_type": "code",
   "execution_count": 46,
   "metadata": {},
   "outputs": [
    {
     "data": {
      "text/html": [
       "<div>\n",
       "<style scoped>\n",
       "    .dataframe tbody tr th:only-of-type {\n",
       "        vertical-align: middle;\n",
       "    }\n",
       "\n",
       "    .dataframe tbody tr th {\n",
       "        vertical-align: top;\n",
       "    }\n",
       "\n",
       "    .dataframe thead th {\n",
       "        text-align: right;\n",
       "    }\n",
       "</style>\n",
       "<table border=\"1\" class=\"dataframe\">\n",
       "  <thead>\n",
       "    <tr style=\"text-align: right;\">\n",
       "      <th></th>\n",
       "      <th>cell_type</th>\n",
       "      <th>ctrl_ids</th>\n",
       "      <th>curator</th>\n",
       "      <th>drug_name</th>\n",
       "      <th>drugbank_id</th>\n",
       "      <th>geo_id</th>\n",
       "      <th>organism</th>\n",
       "      <th>pert_ids</th>\n",
       "      <th>platform</th>\n",
       "      <th>pubchem_cid</th>\n",
       "      <th>smiles</th>\n",
       "      <th>version</th>\n",
       "      <th>Target</th>\n",
       "      <th>Target_type</th>\n",
       "      <th>sign</th>\n",
       "    </tr>\n",
       "  </thead>\n",
       "  <tbody>\n",
       "    <tr>\n",
       "      <th>105</th>\n",
       "      <td>liver</td>\n",
       "      <td>GSM1273512|GSM1273513|GSM1273514|GSM1273515</td>\n",
       "      <td>MicrotaskManic</td>\n",
       "      <td>Ethanol</td>\n",
       "      <td>DB00898</td>\n",
       "      <td>GSE52644</td>\n",
       "      <td>mouse</td>\n",
       "      <td>GSM1273500|GSM1273501|GSM1273502|GSM1273503</td>\n",
       "      <td>GPL1261</td>\n",
       "      <td>702.0</td>\n",
       "      <td>CCO</td>\n",
       "      <td>1.0</td>\n",
       "      <td>GABRA</td>\n",
       "      <td>agonist</td>\n",
       "      <td>1</td>\n",
       "    </tr>\n",
       "    <tr>\n",
       "      <th>106</th>\n",
       "      <td>liver</td>\n",
       "      <td>GSM1273512|GSM1273513|GSM1273514|GSM1273515</td>\n",
       "      <td>MicrotaskManic</td>\n",
       "      <td>Ethanol</td>\n",
       "      <td>DB00898</td>\n",
       "      <td>GSE52644</td>\n",
       "      <td>mouse</td>\n",
       "      <td>GSM1273500|GSM1273501|GSM1273502|GSM1273503</td>\n",
       "      <td>GPL1261</td>\n",
       "      <td>702.0</td>\n",
       "      <td>CCO</td>\n",
       "      <td>1.0</td>\n",
       "      <td>GRIN3A</td>\n",
       "      <td>antagonist</td>\n",
       "      <td>-1</td>\n",
       "    </tr>\n",
       "    <tr>\n",
       "      <th>107</th>\n",
       "      <td>liver</td>\n",
       "      <td>GSM1273512|GSM1273513|GSM1273514|GSM1273515</td>\n",
       "      <td>MicrotaskManic</td>\n",
       "      <td>Ethanol</td>\n",
       "      <td>DB00898</td>\n",
       "      <td>GSE52644</td>\n",
       "      <td>mouse</td>\n",
       "      <td>GSM1273500|GSM1273501|GSM1273502|GSM1273503</td>\n",
       "      <td>GPL1261</td>\n",
       "      <td>702.0</td>\n",
       "      <td>CCO</td>\n",
       "      <td>1.0</td>\n",
       "      <td>GLRA1</td>\n",
       "      <td>agonist</td>\n",
       "      <td>1</td>\n",
       "    </tr>\n",
       "    <tr>\n",
       "      <th>108</th>\n",
       "      <td>liver</td>\n",
       "      <td>GSM1273512|GSM1273513|GSM1273514|GSM1273515</td>\n",
       "      <td>MicrotaskManic</td>\n",
       "      <td>Ethanol</td>\n",
       "      <td>DB00898</td>\n",
       "      <td>GSE52644</td>\n",
       "      <td>mouse</td>\n",
       "      <td>GSM1273500|GSM1273501|GSM1273502|GSM1273503</td>\n",
       "      <td>GPL1261</td>\n",
       "      <td>702.0</td>\n",
       "      <td>CCO</td>\n",
       "      <td>1.0</td>\n",
       "      <td>GLRA2</td>\n",
       "      <td>agonist</td>\n",
       "      <td>1</td>\n",
       "    </tr>\n",
       "    <tr>\n",
       "      <th>153</th>\n",
       "      <td>NaN</td>\n",
       "      <td>GSM74493|GSM74494|GSM74495</td>\n",
       "      <td>Axel</td>\n",
       "      <td>Ethanol</td>\n",
       "      <td>DB00898</td>\n",
       "      <td>GSE3311</td>\n",
       "      <td>rat</td>\n",
       "      <td>GSM74496|GSM74497|GSM74498</td>\n",
       "      <td>GPL341</td>\n",
       "      <td>702.0</td>\n",
       "      <td>CCO</td>\n",
       "      <td>1.0</td>\n",
       "      <td>GABRA</td>\n",
       "      <td>agonist</td>\n",
       "      <td>1</td>\n",
       "    </tr>\n",
       "    <tr>\n",
       "      <th>...</th>\n",
       "      <td>...</td>\n",
       "      <td>...</td>\n",
       "      <td>...</td>\n",
       "      <td>...</td>\n",
       "      <td>...</td>\n",
       "      <td>...</td>\n",
       "      <td>...</td>\n",
       "      <td>...</td>\n",
       "      <td>...</td>\n",
       "      <td>...</td>\n",
       "      <td>...</td>\n",
       "      <td>...</td>\n",
       "      <td>...</td>\n",
       "      <td>...</td>\n",
       "      <td>...</td>\n",
       "    </tr>\n",
       "    <tr>\n",
       "      <th>1962</th>\n",
       "      <td>liver tissue</td>\n",
       "      <td>GSM159830|GSM159833|GSM159834|GSM159835</td>\n",
       "      <td>mmluxy</td>\n",
       "      <td>Sunitinib</td>\n",
       "      <td>DB01268</td>\n",
       "      <td>GSE6929</td>\n",
       "      <td>rat</td>\n",
       "      <td>GSM159831|GSM159832|GSM159837|GSM159838</td>\n",
       "      <td>GPL1355</td>\n",
       "      <td>5329102.0</td>\n",
       "      <td>CCN(CC)CCNC(=O)C1=C(NC(=C1C)C=C2C3=C(C=CC(=C3)...</td>\n",
       "      <td>1.0</td>\n",
       "      <td>PDGFRA</td>\n",
       "      <td>antagonist</td>\n",
       "      <td>-1</td>\n",
       "    </tr>\n",
       "    <tr>\n",
       "      <th>1964</th>\n",
       "      <td>DRG neurons - 10 &amp;Acirc;&amp;micro;M for 30 min</td>\n",
       "      <td>GSM1442972|GSM1442973|GSM1442974|GSM1442975</td>\n",
       "      <td>cadimo</td>\n",
       "      <td>Capsaicin</td>\n",
       "      <td>NaN</td>\n",
       "      <td>GSE59727</td>\n",
       "      <td>rat</td>\n",
       "      <td>GSM1442976|GSM1442977|GSM1442978|GSM1442979</td>\n",
       "      <td>GPL6101</td>\n",
       "      <td>1548943.0</td>\n",
       "      <td>CC(C)C=CCCCCC(=O)NCC1=CC(=C(C=C1)O)OC</td>\n",
       "      <td>1.0</td>\n",
       "      <td>TRPV1</td>\n",
       "      <td>agonist</td>\n",
       "      <td>1</td>\n",
       "    </tr>\n",
       "    <tr>\n",
       "      <th>1966</th>\n",
       "      <td>T47D breast cancer cells</td>\n",
       "      <td>GSM1649569|GSM1649573|GSM1649577</td>\n",
       "      <td>cadimo</td>\n",
       "      <td>Promegestone</td>\n",
       "      <td>NaN</td>\n",
       "      <td>GSE67561</td>\n",
       "      <td>human</td>\n",
       "      <td>GSM1649570|GSM1649574|GSM1649578</td>\n",
       "      <td>GPL10558</td>\n",
       "      <td>36709.0</td>\n",
       "      <td>CCC(=O)C1(CCC2C1(CCC3=C4CCC(=O)C=C4CCC23)C)C</td>\n",
       "      <td>1.0</td>\n",
       "      <td>PGR</td>\n",
       "      <td>agonist</td>\n",
       "      <td>1</td>\n",
       "    </tr>\n",
       "    <tr>\n",
       "      <th>1967</th>\n",
       "      <td>Skeletal muscles (of HIV-infected males)</td>\n",
       "      <td>GSM113921|GSM115323|GSM115325|GSM115326|GSM115...</td>\n",
       "      <td>cadimo</td>\n",
       "      <td>Testosterone</td>\n",
       "      <td>DB00624</td>\n",
       "      <td>GSE5106</td>\n",
       "      <td>human</td>\n",
       "      <td>GSM115332|GSM115333|GSM115334|GSM115335|GSM115...</td>\n",
       "      <td>GPL571</td>\n",
       "      <td>6013.0</td>\n",
       "      <td>CC12CCC3C(C1CCC2O)CCC4=CC(=O)CCC34C</td>\n",
       "      <td>1.0</td>\n",
       "      <td>AR</td>\n",
       "      <td>agonist</td>\n",
       "      <td>1</td>\n",
       "    </tr>\n",
       "    <tr>\n",
       "      <th>1968</th>\n",
       "      <td>Skeletal muscles (of HIV-infected males)</td>\n",
       "      <td>GSM113921|GSM115323|GSM115325|GSM115326|GSM115...</td>\n",
       "      <td>cadimo</td>\n",
       "      <td>Testosterone</td>\n",
       "      <td>DB00624</td>\n",
       "      <td>GSE5106</td>\n",
       "      <td>human</td>\n",
       "      <td>GSM115332|GSM115333|GSM115334|GSM115335|GSM115...</td>\n",
       "      <td>GPL571</td>\n",
       "      <td>6013.0</td>\n",
       "      <td>CC12CCC3C(C1CCC2O)CCC4=CC(=O)CCC34C</td>\n",
       "      <td>1.0</td>\n",
       "      <td>ESR1</td>\n",
       "      <td>antagonist</td>\n",
       "      <td>-1</td>\n",
       "    </tr>\n",
       "  </tbody>\n",
       "</table>\n",
       "<p>794 rows × 15 columns</p>\n",
       "</div>"
      ],
      "text/plain": [
       "                                        cell_type  \\\n",
       "105                                         liver   \n",
       "106                                         liver   \n",
       "107                                         liver   \n",
       "108                                         liver   \n",
       "153                                           NaN   \n",
       "...                                           ...   \n",
       "1962                                 liver tissue   \n",
       "1964  DRG neurons - 10 &Acirc;&micro;M for 30 min   \n",
       "1966                     T47D breast cancer cells   \n",
       "1967     Skeletal muscles (of HIV-infected males)   \n",
       "1968     Skeletal muscles (of HIV-infected males)   \n",
       "\n",
       "                                               ctrl_ids         curator  \\\n",
       "105         GSM1273512|GSM1273513|GSM1273514|GSM1273515  MicrotaskManic   \n",
       "106         GSM1273512|GSM1273513|GSM1273514|GSM1273515  MicrotaskManic   \n",
       "107         GSM1273512|GSM1273513|GSM1273514|GSM1273515  MicrotaskManic   \n",
       "108         GSM1273512|GSM1273513|GSM1273514|GSM1273515  MicrotaskManic   \n",
       "153                          GSM74493|GSM74494|GSM74495            Axel   \n",
       "...                                                 ...             ...   \n",
       "1962            GSM159830|GSM159833|GSM159834|GSM159835          mmluxy   \n",
       "1964        GSM1442972|GSM1442973|GSM1442974|GSM1442975          cadimo   \n",
       "1966                   GSM1649569|GSM1649573|GSM1649577          cadimo   \n",
       "1967  GSM113921|GSM115323|GSM115325|GSM115326|GSM115...          cadimo   \n",
       "1968  GSM113921|GSM115323|GSM115325|GSM115326|GSM115...          cadimo   \n",
       "\n",
       "         drug_name drugbank_id    geo_id organism  \\\n",
       "105        Ethanol     DB00898  GSE52644    mouse   \n",
       "106        Ethanol     DB00898  GSE52644    mouse   \n",
       "107        Ethanol     DB00898  GSE52644    mouse   \n",
       "108        Ethanol     DB00898  GSE52644    mouse   \n",
       "153        Ethanol     DB00898   GSE3311      rat   \n",
       "...            ...         ...       ...      ...   \n",
       "1962     Sunitinib     DB01268   GSE6929      rat   \n",
       "1964     Capsaicin         NaN  GSE59727      rat   \n",
       "1966  Promegestone         NaN  GSE67561    human   \n",
       "1967  Testosterone     DB00624   GSE5106    human   \n",
       "1968  Testosterone     DB00624   GSE5106    human   \n",
       "\n",
       "                                               pert_ids  platform  \\\n",
       "105         GSM1273500|GSM1273501|GSM1273502|GSM1273503   GPL1261   \n",
       "106         GSM1273500|GSM1273501|GSM1273502|GSM1273503   GPL1261   \n",
       "107         GSM1273500|GSM1273501|GSM1273502|GSM1273503   GPL1261   \n",
       "108         GSM1273500|GSM1273501|GSM1273502|GSM1273503   GPL1261   \n",
       "153                          GSM74496|GSM74497|GSM74498    GPL341   \n",
       "...                                                 ...       ...   \n",
       "1962            GSM159831|GSM159832|GSM159837|GSM159838   GPL1355   \n",
       "1964        GSM1442976|GSM1442977|GSM1442978|GSM1442979   GPL6101   \n",
       "1966                   GSM1649570|GSM1649574|GSM1649578  GPL10558   \n",
       "1967  GSM115332|GSM115333|GSM115334|GSM115335|GSM115...    GPL571   \n",
       "1968  GSM115332|GSM115333|GSM115334|GSM115335|GSM115...    GPL571   \n",
       "\n",
       "      pubchem_cid                                             smiles  version  \\\n",
       "105         702.0                                                CCO      1.0   \n",
       "106         702.0                                                CCO      1.0   \n",
       "107         702.0                                                CCO      1.0   \n",
       "108         702.0                                                CCO      1.0   \n",
       "153         702.0                                                CCO      1.0   \n",
       "...           ...                                                ...      ...   \n",
       "1962    5329102.0  CCN(CC)CCNC(=O)C1=C(NC(=C1C)C=C2C3=C(C=CC(=C3)...      1.0   \n",
       "1964    1548943.0              CC(C)C=CCCCCC(=O)NCC1=CC(=C(C=C1)O)OC      1.0   \n",
       "1966      36709.0       CCC(=O)C1(CCC2C1(CCC3=C4CCC(=O)C=C4CCC23)C)C      1.0   \n",
       "1967       6013.0                CC12CCC3C(C1CCC2O)CCC4=CC(=O)CCC34C      1.0   \n",
       "1968       6013.0                CC12CCC3C(C1CCC2O)CCC4=CC(=O)CCC34C      1.0   \n",
       "\n",
       "      Target Target_type  sign  \n",
       "105    GABRA     agonist     1  \n",
       "106   GRIN3A  antagonist    -1  \n",
       "107    GLRA1     agonist     1  \n",
       "108    GLRA2     agonist     1  \n",
       "153    GABRA     agonist     1  \n",
       "...      ...         ...   ...  \n",
       "1962  PDGFRA  antagonist    -1  \n",
       "1964   TRPV1     agonist     1  \n",
       "1966     PGR     agonist     1  \n",
       "1967      AR     agonist     1  \n",
       "1968    ESR1  antagonist    -1  \n",
       "\n",
       "[794 rows x 15 columns]"
      ]
     },
     "execution_count": 46,
     "metadata": {},
     "output_type": "execute_result"
    }
   ],
   "source": [
    "drug_perturb[drug_perturb['sign']!=0]"
   ]
  },
  {
   "cell_type": "code",
   "execution_count": 47,
   "metadata": {},
   "outputs": [],
   "source": [
    "fnames = os.listdir('../results/drug_perturb/')\n",
    "fnames = [x[:-4] for x in fnames]\n",
    "fnames = list(set(fnames) & set(drug_perturb.index))"
   ]
  },
  {
   "cell_type": "code",
   "execution_count": 49,
   "metadata": {},
   "outputs": [
    {
     "data": {
      "text/plain": [
       "1958"
      ]
     },
     "execution_count": 49,
     "metadata": {},
     "output_type": "execute_result"
    }
   ],
   "source": [
    "len(fnames)"
   ]
  },
  {
   "cell_type": "code",
   "execution_count": 50,
   "metadata": {},
   "outputs": [],
   "source": [
    "drug_perturb = drug_perturb.loc[fnames]"
   ]
  },
  {
   "cell_type": "code",
   "execution_count": 52,
   "metadata": {},
   "outputs": [],
   "source": [
    "drug_results = {}\n",
    "for file_id in fnames:\n",
    "    data = pd.read_csv('../results/drug_perturb/%s.csv' % (file_id), sep=',', header=0, index_col=0)\n",
    "    data.index = pd.Series(data.index).str.upper().values\n",
    "    data = data['t']\n",
    "    drug_results[file_id] = data"
   ]
  },
  {
   "cell_type": "code",
   "execution_count": 54,
   "metadata": {},
   "outputs": [],
   "source": [
    "all_genes = []\n",
    "for file_id in fnames:\n",
    "    all_genes += list(drug_results[file_id].index)\n",
    "all_genes = list(set(all_genes))"
   ]
  },
  {
   "cell_type": "code",
   "execution_count": 55,
   "metadata": {},
   "outputs": [],
   "source": [
    "drug_resultsDF = pd.DataFrame(0.0, index = all_genes, columns=fnames)\n",
    "for file_id  in fnames:\n",
    "    drug_resultsDF.loc[drug_results[file_id].index, file_id] = drug_results[file_id]"
   ]
  },
  {
   "cell_type": "code",
   "execution_count": 57,
   "metadata": {},
   "outputs": [
    {
     "data": {
      "text/plain": [
       "<matplotlib.axes._subplots.AxesSubplot at 0x1fef9195fd0>"
      ]
     },
     "execution_count": 57,
     "metadata": {},
     "output_type": "execute_result"
    },
    {
     "data": {
      "image/png": "[encoded data removed]",
      "text/plain": [
       "<Figure size 432x288 with 1 Axes>"
      ]
     },
     "metadata": {},
     "output_type": "display_data"
    }
   ],
   "source": [
    "### nuber of zeros per experiments\n",
    "(drug_resultsDF == 0).sum().hist()"
   ]
  },
  {
   "cell_type": "code",
   "execution_count": 58,
   "metadata": {},
   "outputs": [
    {
     "data": {
      "text/plain": [
       "<matplotlib.axes._subplots.AxesSubplot at 0x1fef171c760>"
      ]
     },
     "execution_count": 58,
     "metadata": {},
     "output_type": "execute_result"
    },
    {
     "data": {
      "image/png": "[encoded data removed]",
      "text/plain": [
       "<Figure size 432x288 with 1 Axes>"
      ]
     },
     "metadata": {},
     "output_type": "display_data"
    }
   ],
   "source": [
    "### nuber of zeros per genes\n",
    "(drug_resultsDF == 0).sum(1).hist()"
   ]
  },
  {
   "cell_type": "code",
   "execution_count": 59,
   "metadata": {},
   "outputs": [],
   "source": [
    "### filter bad experiments (with a lot of NaN)\n",
    "fil = (drug_resultsDF == 0).sum(0) < 43000\n",
    "good_experiments = drug_resultsDF.columns[fil]\n",
    "drug_resultsDF = drug_resultsDF[good_experiments]"
   ]
  },
  {
   "cell_type": "code",
   "execution_count": 61,
   "metadata": {},
   "outputs": [
    {
     "ename": "KeyError",
     "evalue": "1",
     "output_type": "error",
     "traceback": [
      "\u001b[1;31m---------------------------------------------------------------------------\u001b[0m",
      "\u001b[1;31mKeyError\u001b[0m                                  Traceback (most recent call last)",
      "\u001b[1;32m<ipython-input-61-409ef652a6db>\u001b[0m in \u001b[0;36m<module>\u001b[1;34m\u001b[0m\n\u001b[1;32m----> 1\u001b[1;33m \u001b[1;33m(\u001b[0m\u001b[0mdrug_resultsDF\u001b[0m \u001b[1;33m==\u001b[0m \u001b[1;36m0\u001b[0m\u001b[1;33m)\u001b[0m\u001b[1;33m.\u001b[0m\u001b[0msum\u001b[0m\u001b[1;33m(\u001b[0m\u001b[1;33m)\u001b[0m\u001b[1;33m.\u001b[0m\u001b[0mhist\u001b[0m\u001b[1;33m(\u001b[0m\u001b[1;36m1\u001b[0m\u001b[1;33m)\u001b[0m\u001b[1;33m\u001b[0m\u001b[1;33m\u001b[0m\u001b[0m\n\u001b[0m",
      "\u001b[1;32m~\\anaconda3\\lib\\site-packages\\pandas\\plotting\\_core.py\u001b[0m in \u001b[0;36mhist_series\u001b[1;34m(self, by, ax, grid, xlabelsize, xrot, ylabelsize, yrot, figsize, bins, backend, **kwargs)\u001b[0m\n\u001b[0;32m     72\u001b[0m     \"\"\"\n\u001b[0;32m     73\u001b[0m     \u001b[0mplot_backend\u001b[0m \u001b[1;33m=\u001b[0m \u001b[0m_get_plot_backend\u001b[0m\u001b[1;33m(\u001b[0m\u001b[0mbackend\u001b[0m\u001b[1;33m)\u001b[0m\u001b[1;33m\u001b[0m\u001b[1;33m\u001b[0m\u001b[0m\n\u001b[1;32m---> 74\u001b[1;33m     return plot_backend.hist_series(\n\u001b[0m\u001b[0;32m     75\u001b[0m         \u001b[0mself\u001b[0m\u001b[1;33m,\u001b[0m\u001b[1;33m\u001b[0m\u001b[1;33m\u001b[0m\u001b[0m\n\u001b[0;32m     76\u001b[0m         \u001b[0mby\u001b[0m\u001b[1;33m=\u001b[0m\u001b[0mby\u001b[0m\u001b[1;33m,\u001b[0m\u001b[1;33m\u001b[0m\u001b[1;33m\u001b[0m\u001b[0m\n",
      "\u001b[1;32m~\\anaconda3\\lib\\site-packages\\pandas\\plotting\\_matplotlib\\hist.py\u001b[0m in \u001b[0;36mhist_series\u001b[1;34m(self, by, ax, grid, xlabelsize, xrot, ylabelsize, yrot, figsize, bins, **kwds)\u001b[0m\n\u001b[0;32m    322\u001b[0m                 \u001b[1;34m\"will be created\"\u001b[0m\u001b[1;33m\u001b[0m\u001b[1;33m\u001b[0m\u001b[0m\n\u001b[0;32m    323\u001b[0m             )\n\u001b[1;32m--> 324\u001b[1;33m         axes = _grouped_hist(\n\u001b[0m\u001b[0;32m    325\u001b[0m             \u001b[0mself\u001b[0m\u001b[1;33m,\u001b[0m\u001b[1;33m\u001b[0m\u001b[1;33m\u001b[0m\u001b[0m\n\u001b[0;32m    326\u001b[0m             \u001b[0mby\u001b[0m\u001b[1;33m=\u001b[0m\u001b[0mby\u001b[0m\u001b[1;33m,\u001b[0m\u001b[1;33m\u001b[0m\u001b[1;33m\u001b[0m\u001b[0m\n",
      "\u001b[1;32m~\\anaconda3\\lib\\site-packages\\pandas\\plotting\\_matplotlib\\hist.py\u001b[0m in \u001b[0;36m_grouped_hist\u001b[1;34m(data, column, by, ax, bins, figsize, layout, sharex, sharey, rot, grid, xlabelsize, xrot, ylabelsize, yrot, **kwargs)\u001b[0m\n\u001b[0;32m    254\u001b[0m         \u001b[0mxrot\u001b[0m \u001b[1;33m=\u001b[0m \u001b[0mrot\u001b[0m\u001b[1;33m\u001b[0m\u001b[1;33m\u001b[0m\u001b[0m\n\u001b[0;32m    255\u001b[0m \u001b[1;33m\u001b[0m\u001b[0m\n\u001b[1;32m--> 256\u001b[1;33m     fig, axes = _grouped_plot(\n\u001b[0m\u001b[0;32m    257\u001b[0m         \u001b[0mplot_group\u001b[0m\u001b[1;33m,\u001b[0m\u001b[1;33m\u001b[0m\u001b[1;33m\u001b[0m\u001b[0m\n\u001b[0;32m    258\u001b[0m         \u001b[0mdata\u001b[0m\u001b[1;33m,\u001b[0m\u001b[1;33m\u001b[0m\u001b[1;33m\u001b[0m\u001b[0m\n",
      "\u001b[1;32m~\\anaconda3\\lib\\site-packages\\pandas\\plotting\\_matplotlib\\hist.py\u001b[0m in \u001b[0;36m_grouped_plot\u001b[1;34m(plotf, data, column, by, numeric_only, figsize, sharex, sharey, layout, rot, ax, **kwargs)\u001b[0m\n\u001b[0;32m    186\u001b[0m         )\n\u001b[0;32m    187\u001b[0m \u001b[1;33m\u001b[0m\u001b[0m\n\u001b[1;32m--> 188\u001b[1;33m     \u001b[0mgrouped\u001b[0m \u001b[1;33m=\u001b[0m \u001b[0mdata\u001b[0m\u001b[1;33m.\u001b[0m\u001b[0mgroupby\u001b[0m\u001b[1;33m(\u001b[0m\u001b[0mby\u001b[0m\u001b[1;33m)\u001b[0m\u001b[1;33m\u001b[0m\u001b[1;33m\u001b[0m\u001b[0m\n\u001b[0m\u001b[0;32m    189\u001b[0m     \u001b[1;32mif\u001b[0m \u001b[0mcolumn\u001b[0m \u001b[1;32mis\u001b[0m \u001b[1;32mnot\u001b[0m \u001b[1;32mNone\u001b[0m\u001b[1;33m:\u001b[0m\u001b[1;33m\u001b[0m\u001b[1;33m\u001b[0m\u001b[0m\n\u001b[0;32m    190\u001b[0m         \u001b[0mgrouped\u001b[0m \u001b[1;33m=\u001b[0m \u001b[0mgrouped\u001b[0m\u001b[1;33m[\u001b[0m\u001b[0mcolumn\u001b[0m\u001b[1;33m]\u001b[0m\u001b[1;33m\u001b[0m\u001b[1;33m\u001b[0m\u001b[0m\n",
      "\u001b[1;32m~\\anaconda3\\lib\\site-packages\\pandas\\core\\series.py\u001b[0m in \u001b[0;36mgroupby\u001b[1;34m(self, by, axis, level, as_index, sort, group_keys, squeeze, observed)\u001b[0m\n\u001b[0;32m   1676\u001b[0m         \u001b[0maxis\u001b[0m \u001b[1;33m=\u001b[0m \u001b[0mself\u001b[0m\u001b[1;33m.\u001b[0m\u001b[0m_get_axis_number\u001b[0m\u001b[1;33m(\u001b[0m\u001b[0maxis\u001b[0m\u001b[1;33m)\u001b[0m\u001b[1;33m\u001b[0m\u001b[1;33m\u001b[0m\u001b[0m\n\u001b[0;32m   1677\u001b[0m \u001b[1;33m\u001b[0m\u001b[0m\n\u001b[1;32m-> 1678\u001b[1;33m         return groupby_generic.SeriesGroupBy(\n\u001b[0m\u001b[0;32m   1679\u001b[0m             \u001b[0mobj\u001b[0m\u001b[1;33m=\u001b[0m\u001b[0mself\u001b[0m\u001b[1;33m,\u001b[0m\u001b[1;33m\u001b[0m\u001b[1;33m\u001b[0m\u001b[0m\n\u001b[0;32m   1680\u001b[0m             \u001b[0mkeys\u001b[0m\u001b[1;33m=\u001b[0m\u001b[0mby\u001b[0m\u001b[1;33m,\u001b[0m\u001b[1;33m\u001b[0m\u001b[1;33m\u001b[0m\u001b[0m\n",
      "\u001b[1;32m~\\anaconda3\\lib\\site-packages\\pandas\\core\\groupby\\groupby.py\u001b[0m in \u001b[0;36m__init__\u001b[1;34m(self, obj, keys, axis, level, grouper, exclusions, selection, as_index, sort, group_keys, squeeze, observed, mutated)\u001b[0m\n\u001b[0;32m    401\u001b[0m             \u001b[1;32mfrom\u001b[0m \u001b[0mpandas\u001b[0m\u001b[1;33m.\u001b[0m\u001b[0mcore\u001b[0m\u001b[1;33m.\u001b[0m\u001b[0mgroupby\u001b[0m\u001b[1;33m.\u001b[0m\u001b[0mgrouper\u001b[0m \u001b[1;32mimport\u001b[0m \u001b[0mget_grouper\u001b[0m\u001b[1;33m\u001b[0m\u001b[1;33m\u001b[0m\u001b[0m\n\u001b[0;32m    402\u001b[0m \u001b[1;33m\u001b[0m\u001b[0m\n\u001b[1;32m--> 403\u001b[1;33m             grouper, exclusions, obj = get_grouper(\n\u001b[0m\u001b[0;32m    404\u001b[0m                 \u001b[0mobj\u001b[0m\u001b[1;33m,\u001b[0m\u001b[1;33m\u001b[0m\u001b[1;33m\u001b[0m\u001b[0m\n\u001b[0;32m    405\u001b[0m                 \u001b[0mkeys\u001b[0m\u001b[1;33m,\u001b[0m\u001b[1;33m\u001b[0m\u001b[1;33m\u001b[0m\u001b[0m\n",
      "\u001b[1;32m~\\anaconda3\\lib\\site-packages\\pandas\\core\\groupby\\grouper.py\u001b[0m in \u001b[0;36mget_grouper\u001b[1;34m(obj, key, axis, level, sort, observed, mutated, validate)\u001b[0m\n\u001b[0;32m    598\u001b[0m                 \u001b[0min_axis\u001b[0m\u001b[1;33m,\u001b[0m \u001b[0mname\u001b[0m\u001b[1;33m,\u001b[0m \u001b[0mlevel\u001b[0m\u001b[1;33m,\u001b[0m \u001b[0mgpr\u001b[0m \u001b[1;33m=\u001b[0m \u001b[1;32mFalse\u001b[0m\u001b[1;33m,\u001b[0m \u001b[1;32mNone\u001b[0m\u001b[1;33m,\u001b[0m \u001b[0mgpr\u001b[0m\u001b[1;33m,\u001b[0m \u001b[1;32mNone\u001b[0m\u001b[1;33m\u001b[0m\u001b[1;33m\u001b[0m\u001b[0m\n\u001b[0;32m    599\u001b[0m             \u001b[1;32melse\u001b[0m\u001b[1;33m:\u001b[0m\u001b[1;33m\u001b[0m\u001b[1;33m\u001b[0m\u001b[0m\n\u001b[1;32m--> 600\u001b[1;33m                 \u001b[1;32mraise\u001b[0m \u001b[0mKeyError\u001b[0m\u001b[1;33m(\u001b[0m\u001b[0mgpr\u001b[0m\u001b[1;33m)\u001b[0m\u001b[1;33m\u001b[0m\u001b[1;33m\u001b[0m\u001b[0m\n\u001b[0m\u001b[0;32m    601\u001b[0m         \u001b[1;32melif\u001b[0m \u001b[0misinstance\u001b[0m\u001b[1;33m(\u001b[0m\u001b[0mgpr\u001b[0m\u001b[1;33m,\u001b[0m \u001b[0mGrouper\u001b[0m\u001b[1;33m)\u001b[0m \u001b[1;32mand\u001b[0m \u001b[0mgpr\u001b[0m\u001b[1;33m.\u001b[0m\u001b[0mkey\u001b[0m \u001b[1;32mis\u001b[0m \u001b[1;32mnot\u001b[0m \u001b[1;32mNone\u001b[0m\u001b[1;33m:\u001b[0m\u001b[1;33m\u001b[0m\u001b[1;33m\u001b[0m\u001b[0m\n\u001b[0;32m    602\u001b[0m             \u001b[1;31m# Add key to exclusions\u001b[0m\u001b[1;33m\u001b[0m\u001b[1;33m\u001b[0m\u001b[1;33m\u001b[0m\u001b[0m\n",
      "\u001b[1;31mKeyError\u001b[0m: 1"
     ]
    }
   ],
   "source": [
    "(drug_resultsDF == 0).sum().hist(1)"
   ]
  },
  {
   "cell_type": "code",
   "execution_count": null,
   "metadata": {},
   "outputs": [],
   "source": [
    "### filter bad genes (with a lot of NaN)\n",
    "fil = (drug_resultsDF == 0).sum(1) == 0\n",
    "drug_resultsDF = drug_resultsDF[fil]"
   ]
  },
  {
   "cell_type": "code",
   "execution_count": null,
   "metadata": {},
   "outputs": [],
   "source": [
    "### check overlap with lincs\n",
    "lincs = pd.read_csv('../data/GSE92742/GSE92742_Broad_LINCS_gene_info.txt',\n",
    "                   sep='\\t', header=0, index_col=0)\n",
    "lincs = lincs[lincs['pr_is_lm']==1]"
   ]
  },
  {
   "cell_type": "code",
   "execution_count": null,
   "metadata": {},
   "outputs": [],
   "source": [
    "len(set(lincs['pr_gene_symbol']) & set(drug_resultsDF.index))"
   ]
  },
  {
   "cell_type": "code",
   "execution_count": null,
   "metadata": {},
   "outputs": [],
   "source": [
    "drug_resultsDF.shape"
   ]
  },
  {
   "cell_type": "code",
   "execution_count": null,
   "metadata": {},
   "outputs": [],
   "source": [
    "drug_resultsDF.to_csv('../results/drug_perturb_results.csv', sep=',')"
   ]
  },
  {
   "cell_type": "code",
   "execution_count": null,
   "metadata": {},
   "outputs": [],
   "source": []
  }
 ],
 "metadata": {
  "kernelspec": {
   "display_name": "Python 3",
   "language": "python",
   "name": "python3"
  },
  "language_info": {
   "codemirror_mode": {
    "name": "ipython",
    "version": 3
   },
   "file_extension": ".py",
   "mimetype": "text/x-python",
   "name": "python",
   "nbconvert_exporter": "python",
   "pygments_lexer": "ipython3",
   "version": "3.8.3"
  }
 },
 "nbformat": 4,
 "nbformat_minor": 4
}
