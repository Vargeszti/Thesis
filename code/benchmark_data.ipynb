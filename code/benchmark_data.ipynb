{
 "cells": [
  {
   "cell_type": "code",
   "execution_count": 1,
   "metadata": {},
   "outputs": [],
   "source": [
    "import pandas as pd\n",
    "import numpy as np\n",
    "\n",
    "from matplotlib import pyplot as plt\n",
    "%matplotlib inline\n",
    "import seaborn as sns\n",
    "sns.set_style('whitegrid')\n",
    "\n",
    "import os"
   ]
  },
  {
   "cell_type": "markdown",
   "metadata": {},
   "source": [
    "### Getting the benchmark data from the CREEDs gene expression files created in the 'GEO_download' R file"
   ]
  },
  {
   "cell_type": "code",
   "execution_count": 2,
   "metadata": {},
   "outputs": [],
   "source": [
    "#Importing the single gene perturbation file I worked with in the 'genes_from_creeds_NN' code file\n",
    "gene_perturb = pd.read_csv('../results/gene_perturb.csv', sep=',', header=0, index_col=0)\n",
    "gene_perturb.index = gene_perturb.index.astype(str)"
   ]
  },
  {
   "cell_type": "code",
   "execution_count": 3,
   "metadata": {},
   "outputs": [],
   "source": [
    "fnames = os.listdir('../results/gene_perturb/')\n",
    "fnames = [x[:-4] for x in fnames]\n",
    "fnames = list(set(fnames) & set(gene_perturb.index))"
   ]
  },
  {
   "cell_type": "code",
   "execution_count": 4,
   "metadata": {},
   "outputs": [],
   "source": [
    "gene_perturb = gene_perturb.loc[fnames]"
   ]
  },
  {
   "cell_type": "code",
   "execution_count": 5,
   "metadata": {},
   "outputs": [],
   "source": [
    "gene_results = {}\n",
    "for file_id in fnames:\n",
    "    data = pd.read_csv('../results/gene_perturb/%s.csv' % (file_id), sep=',', header=0, index_col=0)\n",
    "    data.index = pd.Series(data.index).str.upper().values\n",
    "    data = data['t']\n",
    "    gene_results[file_id] = data"
   ]
  },
  {
   "cell_type": "code",
   "execution_count": 6,
   "metadata": {},
   "outputs": [],
   "source": [
    "all_genes = []\n",
    "for file_id in fnames:\n",
    "    all_genes += list(gene_results[file_id].index)\n",
    "all_genes = list(set(all_genes))"
   ]
  },
  {
   "cell_type": "code",
   "execution_count": 7,
   "metadata": {},
   "outputs": [],
   "source": [
    "#Creating the benchmark file\n",
    "gene_resultsDF = pd.DataFrame(0.0, index = all_genes, columns=fnames)\n",
    "for file_id  in fnames:\n",
    "    gene_resultsDF.loc[gene_results[file_id].index, file_id] = gene_results[file_id]"
   ]
  },
  {
   "cell_type": "code",
   "execution_count": 8,
   "metadata": {},
   "outputs": [
    {
     "data": {
      "text/plain": [
       "<matplotlib.axes._subplots.AxesSubplot at 0x2557c477af0>"
      ]
     },
     "execution_count": 8,
     "metadata": {},
     "output_type": "execute_result"
    },
    {
     "data": {
      "image/png": "[encoded data removed]",
      "text/plain": [
       "<Figure size 432x288 with 1 Axes>"
      ]
     },
     "metadata": {},
     "output_type": "display_data"
    }
   ],
   "source": [
    "### nuber of zeros per experiments\n",
    "(gene_resultsDF == 0).sum().hist()"
   ]
  },
  {
   "cell_type": "code",
   "execution_count": 9,
   "metadata": {},
   "outputs": [
    {
     "data": {
      "text/plain": [
       "<matplotlib.axes._subplots.AxesSubplot at 0x25578bb81c0>"
      ]
     },
     "execution_count": 9,
     "metadata": {},
     "output_type": "execute_result"
    },
    {
     "data": {
      "image/png": "[encoded data removed]",
      "text/plain": [
       "<Figure size 432x288 with 1 Axes>"
      ]
     },
     "metadata": {},
     "output_type": "display_data"
    }
   ],
   "source": [
    "### number of zeros per genes\n",
    "(gene_resultsDF == 0).sum(1).hist()"
   ]
  },
  {
   "cell_type": "code",
   "execution_count": 10,
   "metadata": {},
   "outputs": [],
   "source": [
    "### filter bad experiments (with a lot of NaN)\n",
    "fil = (gene_resultsDF == 0).sum(0) < 27500\n",
    "good_experiments = gene_resultsDF.columns[fil]\n",
    "gene_resultsDF = gene_resultsDF[good_experiments]"
   ]
  },
  {
   "cell_type": "code",
   "execution_count": 11,
   "metadata": {},
   "outputs": [],
   "source": [
    "### filter bad genes (with a lot of NaN)\n",
    "fil = (gene_resultsDF == 0).sum(1) == 0\n",
    "gene_resultsDF = gene_resultsDF[fil]"
   ]
  },
  {
   "cell_type": "code",
   "execution_count": 12,
   "metadata": {},
   "outputs": [],
   "source": [
    "### check overlap with lincs\n",
    "lincs = pd.read_csv('../data/GSE92742/GSE92742_Broad_LINCS_gene_info.txt',\n",
    "                   sep='\\t', header=0, index_col=0)\n",
    "lincs = lincs[lincs['pr_is_lm']==1]"
   ]
  },
  {
   "cell_type": "code",
   "execution_count": 13,
   "metadata": {},
   "outputs": [
    {
     "data": {
      "text/plain": [
       "735"
      ]
     },
     "execution_count": 13,
     "metadata": {},
     "output_type": "execute_result"
    }
   ],
   "source": [
    "len(set(lincs['pr_gene_symbol']) & set(gene_resultsDF.index))"
   ]
  },
  {
   "cell_type": "code",
   "execution_count": 14,
   "metadata": {},
   "outputs": [
    {
     "data": {
      "text/plain": [
       "(11101, 101)"
      ]
     },
     "execution_count": 14,
     "metadata": {},
     "output_type": "execute_result"
    }
   ],
   "source": [
    "gene_resultsDF.shape"
   ]
  },
  {
   "cell_type": "code",
   "execution_count": 15,
   "metadata": {},
   "outputs": [],
   "source": [
    "gene_resultsDF.to_csv('../results/gene_perturb_results.csv', sep=',')"
   ]
  },
  {
   "cell_type": "markdown",
   "metadata": {},
   "source": [
    "### Getting the benchmark data from the CREEDs gene expression files created in the 'GEO_download' R file"
   ]
  },
  {
   "cell_type": "code",
   "execution_count": 16,
   "metadata": {},
   "outputs": [],
   "source": [
    "drug_perturb = pd.read_csv('../results/drug_perturb.csv', sep=',', header=0, index_col=0)\n",
    "drug_perturb.index = drug_perturb.index.astype(str)"
   ]
  },
  {
   "cell_type": "code",
   "execution_count": 17,
   "metadata": {},
   "outputs": [
    {
     "data": {
      "text/html": [
       "<div>\n",
       "<style scoped>\n",
       "    .dataframe tbody tr th:only-of-type {\n",
       "        vertical-align: middle;\n",
       "    }\n",
       "\n",
       "    .dataframe tbody tr th {\n",
       "        vertical-align: top;\n",
       "    }\n",
       "\n",
       "    .dataframe thead th {\n",
       "        text-align: right;\n",
       "    }\n",
       "</style>\n",
       "<table border=\"1\" class=\"dataframe\">\n",
       "  <thead>\n",
       "    <tr style=\"text-align: right;\">\n",
       "      <th></th>\n",
       "      <th>cell_type</th>\n",
       "      <th>ctrl_ids</th>\n",
       "      <th>curator</th>\n",
       "      <th>drug_name</th>\n",
       "      <th>drugbank_id</th>\n",
       "      <th>geo_id</th>\n",
       "      <th>organism</th>\n",
       "      <th>pert_ids</th>\n",
       "      <th>platform</th>\n",
       "      <th>pubchem_cid</th>\n",
       "      <th>smiles</th>\n",
       "      <th>version</th>\n",
       "      <th>Target</th>\n",
       "      <th>Target_type</th>\n",
       "      <th>sign</th>\n",
       "    </tr>\n",
       "  </thead>\n",
       "  <tbody>\n",
       "    <tr>\n",
       "      <th>105</th>\n",
       "      <td>liver</td>\n",
       "      <td>GSM1273512|GSM1273513|GSM1273514|GSM1273515</td>\n",
       "      <td>MicrotaskManic</td>\n",
       "      <td>Ethanol</td>\n",
       "      <td>DB00898</td>\n",
       "      <td>GSE52644</td>\n",
       "      <td>mouse</td>\n",
       "      <td>GSM1273500|GSM1273501|GSM1273502|GSM1273503</td>\n",
       "      <td>GPL1261</td>\n",
       "      <td>702.0</td>\n",
       "      <td>CCO</td>\n",
       "      <td>1.0</td>\n",
       "      <td>GABRA</td>\n",
       "      <td>agonist</td>\n",
       "      <td>1</td>\n",
       "    </tr>\n",
       "    <tr>\n",
       "      <th>106</th>\n",
       "      <td>liver</td>\n",
       "      <td>GSM1273512|GSM1273513|GSM1273514|GSM1273515</td>\n",
       "      <td>MicrotaskManic</td>\n",
       "      <td>Ethanol</td>\n",
       "      <td>DB00898</td>\n",
       "      <td>GSE52644</td>\n",
       "      <td>mouse</td>\n",
       "      <td>GSM1273500|GSM1273501|GSM1273502|GSM1273503</td>\n",
       "      <td>GPL1261</td>\n",
       "      <td>702.0</td>\n",
       "      <td>CCO</td>\n",
       "      <td>1.0</td>\n",
       "      <td>GRIN3A</td>\n",
       "      <td>antagonist</td>\n",
       "      <td>-1</td>\n",
       "    </tr>\n",
       "    <tr>\n",
       "      <th>107</th>\n",
       "      <td>liver</td>\n",
       "      <td>GSM1273512|GSM1273513|GSM1273514|GSM1273515</td>\n",
       "      <td>MicrotaskManic</td>\n",
       "      <td>Ethanol</td>\n",
       "      <td>DB00898</td>\n",
       "      <td>GSE52644</td>\n",
       "      <td>mouse</td>\n",
       "      <td>GSM1273500|GSM1273501|GSM1273502|GSM1273503</td>\n",
       "      <td>GPL1261</td>\n",
       "      <td>702.0</td>\n",
       "      <td>CCO</td>\n",
       "      <td>1.0</td>\n",
       "      <td>GLRA1</td>\n",
       "      <td>agonist</td>\n",
       "      <td>1</td>\n",
       "    </tr>\n",
       "    <tr>\n",
       "      <th>108</th>\n",
       "      <td>liver</td>\n",
       "      <td>GSM1273512|GSM1273513|GSM1273514|GSM1273515</td>\n",
       "      <td>MicrotaskManic</td>\n",
       "      <td>Ethanol</td>\n",
       "      <td>DB00898</td>\n",
       "      <td>GSE52644</td>\n",
       "      <td>mouse</td>\n",
       "      <td>GSM1273500|GSM1273501|GSM1273502|GSM1273503</td>\n",
       "      <td>GPL1261</td>\n",
       "      <td>702.0</td>\n",
       "      <td>CCO</td>\n",
       "      <td>1.0</td>\n",
       "      <td>GLRA2</td>\n",
       "      <td>agonist</td>\n",
       "      <td>1</td>\n",
       "    </tr>\n",
       "    <tr>\n",
       "      <th>153</th>\n",
       "      <td>NaN</td>\n",
       "      <td>GSM74493|GSM74494|GSM74495</td>\n",
       "      <td>Axel</td>\n",
       "      <td>Ethanol</td>\n",
       "      <td>DB00898</td>\n",
       "      <td>GSE3311</td>\n",
       "      <td>rat</td>\n",
       "      <td>GSM74496|GSM74497|GSM74498</td>\n",
       "      <td>GPL341</td>\n",
       "      <td>702.0</td>\n",
       "      <td>CCO</td>\n",
       "      <td>1.0</td>\n",
       "      <td>GABRA</td>\n",
       "      <td>agonist</td>\n",
       "      <td>1</td>\n",
       "    </tr>\n",
       "    <tr>\n",
       "      <th>...</th>\n",
       "      <td>...</td>\n",
       "      <td>...</td>\n",
       "      <td>...</td>\n",
       "      <td>...</td>\n",
       "      <td>...</td>\n",
       "      <td>...</td>\n",
       "      <td>...</td>\n",
       "      <td>...</td>\n",
       "      <td>...</td>\n",
       "      <td>...</td>\n",
       "      <td>...</td>\n",
       "      <td>...</td>\n",
       "      <td>...</td>\n",
       "      <td>...</td>\n",
       "      <td>...</td>\n",
       "    </tr>\n",
       "    <tr>\n",
       "      <th>1962</th>\n",
       "      <td>liver tissue</td>\n",
       "      <td>GSM159830|GSM159833|GSM159834|GSM159835</td>\n",
       "      <td>mmluxy</td>\n",
       "      <td>Sunitinib</td>\n",
       "      <td>DB01268</td>\n",
       "      <td>GSE6929</td>\n",
       "      <td>rat</td>\n",
       "      <td>GSM159831|GSM159832|GSM159837|GSM159838</td>\n",
       "      <td>GPL1355</td>\n",
       "      <td>5329102.0</td>\n",
       "      <td>CCN(CC)CCNC(=O)C1=C(NC(=C1C)C=C2C3=C(C=CC(=C3)...</td>\n",
       "      <td>1.0</td>\n",
       "      <td>PDGFRA</td>\n",
       "      <td>antagonist</td>\n",
       "      <td>-1</td>\n",
       "    </tr>\n",
       "    <tr>\n",
       "      <th>1964</th>\n",
       "      <td>DRG neurons - 10 &amp;Acirc;&amp;micro;M for 30 min</td>\n",
       "      <td>GSM1442972|GSM1442973|GSM1442974|GSM1442975</td>\n",
       "      <td>cadimo</td>\n",
       "      <td>Capsaicin</td>\n",
       "      <td>NaN</td>\n",
       "      <td>GSE59727</td>\n",
       "      <td>rat</td>\n",
       "      <td>GSM1442976|GSM1442977|GSM1442978|GSM1442979</td>\n",
       "      <td>GPL6101</td>\n",
       "      <td>1548943.0</td>\n",
       "      <td>CC(C)C=CCCCCC(=O)NCC1=CC(=C(C=C1)O)OC</td>\n",
       "      <td>1.0</td>\n",
       "      <td>TRPV1</td>\n",
       "      <td>agonist</td>\n",
       "      <td>1</td>\n",
       "    </tr>\n",
       "    <tr>\n",
       "      <th>1966</th>\n",
       "      <td>T47D breast cancer cells</td>\n",
       "      <td>GSM1649569|GSM1649573|GSM1649577</td>\n",
       "      <td>cadimo</td>\n",
       "      <td>Promegestone</td>\n",
       "      <td>NaN</td>\n",
       "      <td>GSE67561</td>\n",
       "      <td>human</td>\n",
       "      <td>GSM1649570|GSM1649574|GSM1649578</td>\n",
       "      <td>GPL10558</td>\n",
       "      <td>36709.0</td>\n",
       "      <td>CCC(=O)C1(CCC2C1(CCC3=C4CCC(=O)C=C4CCC23)C)C</td>\n",
       "      <td>1.0</td>\n",
       "      <td>PGR</td>\n",
       "      <td>agonist</td>\n",
       "      <td>1</td>\n",
       "    </tr>\n",
       "    <tr>\n",
       "      <th>1967</th>\n",
       "      <td>Skeletal muscles (of HIV-infected males)</td>\n",
       "      <td>GSM113921|GSM115323|GSM115325|GSM115326|GSM115...</td>\n",
       "      <td>cadimo</td>\n",
       "      <td>Testosterone</td>\n",
       "      <td>DB00624</td>\n",
       "      <td>GSE5106</td>\n",
       "      <td>human</td>\n",
       "      <td>GSM115332|GSM115333|GSM115334|GSM115335|GSM115...</td>\n",
       "      <td>GPL571</td>\n",
       "      <td>6013.0</td>\n",
       "      <td>CC12CCC3C(C1CCC2O)CCC4=CC(=O)CCC34C</td>\n",
       "      <td>1.0</td>\n",
       "      <td>AR</td>\n",
       "      <td>agonist</td>\n",
       "      <td>1</td>\n",
       "    </tr>\n",
       "    <tr>\n",
       "      <th>1968</th>\n",
       "      <td>Skeletal muscles (of HIV-infected males)</td>\n",
       "      <td>GSM113921|GSM115323|GSM115325|GSM115326|GSM115...</td>\n",
       "      <td>cadimo</td>\n",
       "      <td>Testosterone</td>\n",
       "      <td>DB00624</td>\n",
       "      <td>GSE5106</td>\n",
       "      <td>human</td>\n",
       "      <td>GSM115332|GSM115333|GSM115334|GSM115335|GSM115...</td>\n",
       "      <td>GPL571</td>\n",
       "      <td>6013.0</td>\n",
       "      <td>CC12CCC3C(C1CCC2O)CCC4=CC(=O)CCC34C</td>\n",
       "      <td>1.0</td>\n",
       "      <td>ESR1</td>\n",
       "      <td>antagonist</td>\n",
       "      <td>-1</td>\n",
       "    </tr>\n",
       "  </tbody>\n",
       "</table>\n",
       "<p>794 rows × 15 columns</p>\n",
       "</div>"
      ],
      "text/plain": [
       "                                        cell_type  \\\n",
       "105                                         liver   \n",
       "106                                         liver   \n",
       "107                                         liver   \n",
       "108                                         liver   \n",
       "153                                           NaN   \n",
       "...                                           ...   \n",
       "1962                                 liver tissue   \n",
       "1964  DRG neurons - 10 &Acirc;&micro;M for 30 min   \n",
       "1966                     T47D breast cancer cells   \n",
       "1967     Skeletal muscles (of HIV-infected males)   \n",
       "1968     Skeletal muscles (of HIV-infected males)   \n",
       "\n",
       "                                               ctrl_ids         curator  \\\n",
       "105         GSM1273512|GSM1273513|GSM1273514|GSM1273515  MicrotaskManic   \n",
       "106         GSM1273512|GSM1273513|GSM1273514|GSM1273515  MicrotaskManic   \n",
       "107         GSM1273512|GSM1273513|GSM1273514|GSM1273515  MicrotaskManic   \n",
       "108         GSM1273512|GSM1273513|GSM1273514|GSM1273515  MicrotaskManic   \n",
       "153                          GSM74493|GSM74494|GSM74495            Axel   \n",
       "...                                                 ...             ...   \n",
       "1962            GSM159830|GSM159833|GSM159834|GSM159835          mmluxy   \n",
       "1964        GSM1442972|GSM1442973|GSM1442974|GSM1442975          cadimo   \n",
       "1966                   GSM1649569|GSM1649573|GSM1649577          cadimo   \n",
       "1967  GSM113921|GSM115323|GSM115325|GSM115326|GSM115...          cadimo   \n",
       "1968  GSM113921|GSM115323|GSM115325|GSM115326|GSM115...          cadimo   \n",
       "\n",
       "         drug_name drugbank_id    geo_id organism  \\\n",
       "105        Ethanol     DB00898  GSE52644    mouse   \n",
       "106        Ethanol     DB00898  GSE52644    mouse   \n",
       "107        Ethanol     DB00898  GSE52644    mouse   \n",
       "108        Ethanol     DB00898  GSE52644    mouse   \n",
       "153        Ethanol     DB00898   GSE3311      rat   \n",
       "...            ...         ...       ...      ...   \n",
       "1962     Sunitinib     DB01268   GSE6929      rat   \n",
       "1964     Capsaicin         NaN  GSE59727      rat   \n",
       "1966  Promegestone         NaN  GSE67561    human   \n",
       "1967  Testosterone     DB00624   GSE5106    human   \n",
       "1968  Testosterone     DB00624   GSE5106    human   \n",
       "\n",
       "                                               pert_ids  platform  \\\n",
       "105         GSM1273500|GSM1273501|GSM1273502|GSM1273503   GPL1261   \n",
       "106         GSM1273500|GSM1273501|GSM1273502|GSM1273503   GPL1261   \n",
       "107         GSM1273500|GSM1273501|GSM1273502|GSM1273503   GPL1261   \n",
       "108         GSM1273500|GSM1273501|GSM1273502|GSM1273503   GPL1261   \n",
       "153                          GSM74496|GSM74497|GSM74498    GPL341   \n",
       "...                                                 ...       ...   \n",
       "1962            GSM159831|GSM159832|GSM159837|GSM159838   GPL1355   \n",
       "1964        GSM1442976|GSM1442977|GSM1442978|GSM1442979   GPL6101   \n",
       "1966                   GSM1649570|GSM1649574|GSM1649578  GPL10558   \n",
       "1967  GSM115332|GSM115333|GSM115334|GSM115335|GSM115...    GPL571   \n",
       "1968  GSM115332|GSM115333|GSM115334|GSM115335|GSM115...    GPL571   \n",
       "\n",
       "      pubchem_cid                                             smiles  version  \\\n",
       "105         702.0                                                CCO      1.0   \n",
       "106         702.0                                                CCO      1.0   \n",
       "107         702.0                                                CCO      1.0   \n",
       "108         702.0                                                CCO      1.0   \n",
       "153         702.0                                                CCO      1.0   \n",
       "...           ...                                                ...      ...   \n",
       "1962    5329102.0  CCN(CC)CCNC(=O)C1=C(NC(=C1C)C=C2C3=C(C=CC(=C3)...      1.0   \n",
       "1964    1548943.0              CC(C)C=CCCCCC(=O)NCC1=CC(=C(C=C1)O)OC      1.0   \n",
       "1966      36709.0       CCC(=O)C1(CCC2C1(CCC3=C4CCC(=O)C=C4CCC23)C)C      1.0   \n",
       "1967       6013.0                CC12CCC3C(C1CCC2O)CCC4=CC(=O)CCC34C      1.0   \n",
       "1968       6013.0                CC12CCC3C(C1CCC2O)CCC4=CC(=O)CCC34C      1.0   \n",
       "\n",
       "      Target Target_type  sign  \n",
       "105    GABRA     agonist     1  \n",
       "106   GRIN3A  antagonist    -1  \n",
       "107    GLRA1     agonist     1  \n",
       "108    GLRA2     agonist     1  \n",
       "153    GABRA     agonist     1  \n",
       "...      ...         ...   ...  \n",
       "1962  PDGFRA  antagonist    -1  \n",
       "1964   TRPV1     agonist     1  \n",
       "1966     PGR     agonist     1  \n",
       "1967      AR     agonist     1  \n",
       "1968    ESR1  antagonist    -1  \n",
       "\n",
       "[794 rows x 15 columns]"
      ]
     },
     "execution_count": 17,
     "metadata": {},
     "output_type": "execute_result"
    }
   ],
   "source": [
    "drug_perturb[drug_perturb['sign']!=0]"
   ]
  },
  {
   "cell_type": "code",
   "execution_count": 18,
   "metadata": {},
   "outputs": [],
   "source": [
    "fnames = os.listdir('../results/drug_perturb/')\n",
    "fnames = [x[:-4] for x in fnames]\n",
    "fnames = list(set(fnames) & set(drug_perturb.index))"
   ]
  },
  {
   "cell_type": "code",
   "execution_count": 19,
   "metadata": {},
   "outputs": [
    {
     "data": {
      "text/plain": [
       "1958"
      ]
     },
     "execution_count": 19,
     "metadata": {},
     "output_type": "execute_result"
    }
   ],
   "source": [
    "len(fnames)"
   ]
  },
  {
   "cell_type": "code",
   "execution_count": 20,
   "metadata": {},
   "outputs": [],
   "source": [
    "drug_perturb = drug_perturb.loc[fnames]"
   ]
  },
  {
   "cell_type": "code",
   "execution_count": 21,
   "metadata": {},
   "outputs": [],
   "source": [
    "drug_results = {}\n",
    "for file_id in fnames:\n",
    "    data = pd.read_csv('../results/drug_perturb/%s.csv' % (file_id), sep=',', header=0, index_col=0)\n",
    "    data.index = pd.Series(data.index).str.upper().values\n",
    "    data = data['t']\n",
    "    drug_results[file_id] = data"
   ]
  },
  {
   "cell_type": "code",
   "execution_count": 22,
   "metadata": {},
   "outputs": [],
   "source": [
    "all_genes = []\n",
    "for file_id in fnames:\n",
    "    all_genes += list(drug_results[file_id].index)\n",
    "all_genes = list(set(all_genes))"
   ]
  },
  {
   "cell_type": "code",
   "execution_count": 23,
   "metadata": {},
   "outputs": [],
   "source": [
    "drug_resultsDF = pd.DataFrame(0.0, index = all_genes, columns=fnames)\n",
    "for file_id  in fnames:\n",
    "    drug_resultsDF.loc[drug_results[file_id].index, file_id] = drug_results[file_id]"
   ]
  },
  {
   "cell_type": "code",
   "execution_count": 24,
   "metadata": {},
   "outputs": [
    {
     "data": {
      "text/plain": [
       "<matplotlib.axes._subplots.AxesSubplot at 0x255dd650760>"
      ]
     },
     "execution_count": 24,
     "metadata": {},
     "output_type": "execute_result"
    },
    {
     "data": {
      "image/png": "[encoded data removed]",
      "text/plain": [
       "<Figure size 432x288 with 1 Axes>"
      ]
     },
     "metadata": {},
     "output_type": "display_data"
    }
   ],
   "source": [
    "### nuber of zeros per experiments\n",
    "(drug_resultsDF == 0).sum().hist()"
   ]
  },
  {
   "cell_type": "code",
   "execution_count": 25,
   "metadata": {},
   "outputs": [
    {
     "data": {
      "text/plain": [
       "<matplotlib.axes._subplots.AxesSubplot at 0x255d9612340>"
      ]
     },
     "execution_count": 25,
     "metadata": {},
     "output_type": "execute_result"
    },
    {
     "data": {
      "image/png": "[encoded data removed]",
      "text/plain": [
       "<Figure size 432x288 with 1 Axes>"
      ]
     },
     "metadata": {},
     "output_type": "display_data"
    }
   ],
   "source": [
    "### nuber of zeros per genes\n",
    "(drug_resultsDF == 0).sum(1).hist()"
   ]
  },
  {
   "cell_type": "code",
   "execution_count": 26,
   "metadata": {},
   "outputs": [],
   "source": [
    "### filter bad experiments (with a lot of NaN)\n",
    "fil = (drug_resultsDF == 0).sum(0) < 43000\n",
    "good_experiments = drug_resultsDF.columns[fil]\n",
    "drug_resultsDF = drug_resultsDF[good_experiments]"
   ]
  },
  {
   "cell_type": "code",
   "execution_count": 27,
   "metadata": {},
   "outputs": [
    {
     "data": {
      "text/plain": [
       "<matplotlib.axes._subplots.AxesSubplot at 0x255df1d4df0>"
      ]
     },
     "execution_count": 27,
     "metadata": {},
     "output_type": "execute_result"
    },
    {
     "data": {
      "image/png": "[encoded data removed]",
      "text/plain": [
       "<Figure size 432x288 with 1 Axes>"
      ]
     },
     "metadata": {},
     "output_type": "display_data"
    }
   ],
   "source": [
    "(drug_resultsDF == 0).sum().hist()"
   ]
  },
  {
   "cell_type": "code",
   "execution_count": 28,
   "metadata": {},
   "outputs": [],
   "source": [
    "fil = (drug_resultsDF == 0).sum(0) < 32500\n",
    "good_experiments = drug_resultsDF.columns[fil]\n",
    "drug_resultsDF = drug_resultsDF[good_experiments]"
   ]
  },
  {
   "cell_type": "code",
   "execution_count": 29,
   "metadata": {},
   "outputs": [
    {
     "data": {
      "text/plain": [
       "<matplotlib.axes._subplots.AxesSubplot at 0x255dd912a00>"
      ]
     },
     "execution_count": 29,
     "metadata": {},
     "output_type": "execute_result"
    },
    {
     "data": {
      "image/png": "[encoded data removed]",
      "text/plain": [
       "<Figure size 432x288 with 1 Axes>"
      ]
     },
     "metadata": {},
     "output_type": "display_data"
    }
   ],
   "source": [
    "(drug_resultsDF == 0).sum().hist()"
   ]
  },
  {
   "cell_type": "code",
   "execution_count": 30,
   "metadata": {},
   "outputs": [],
   "source": [
    "### filter bad genes (with a lot of NaN)\n",
    "fil = (drug_resultsDF == 0).sum(1) == 0\n",
    "drug_resultsDF = drug_resultsDF[fil]"
   ]
  },
  {
   "cell_type": "code",
   "execution_count": 31,
   "metadata": {},
   "outputs": [],
   "source": [
    "### check overlap with lincs\n",
    "lincs = pd.read_csv('../data/GSE92742/GSE92742_Broad_LINCS_gene_info.txt',\n",
    "                   sep='\\t', header=0, index_col=0)\n",
    "lincs = lincs[lincs['pr_is_lm']==1]"
   ]
  },
  {
   "cell_type": "code",
   "execution_count": 32,
   "metadata": {},
   "outputs": [
    {
     "data": {
      "text/plain": [
       "648"
      ]
     },
     "execution_count": 32,
     "metadata": {},
     "output_type": "execute_result"
    }
   ],
   "source": [
    "len(set(lincs['pr_gene_symbol']) & set(drug_resultsDF.index))"
   ]
  },
  {
   "cell_type": "code",
   "execution_count": 33,
   "metadata": {},
   "outputs": [
    {
     "data": {
      "text/plain": [
       "(7781, 387)"
      ]
     },
     "execution_count": 33,
     "metadata": {},
     "output_type": "execute_result"
    }
   ],
   "source": [
    "drug_resultsDF.shape"
   ]
  },
  {
   "cell_type": "code",
   "execution_count": 34,
   "metadata": {},
   "outputs": [],
   "source": [
    "drug_resultsDF.to_csv('../results/drug_perturb_results.csv', sep=',')"
   ]
  },
  {
   "cell_type": "code",
   "execution_count": 35,
   "metadata": {},
   "outputs": [
    {
     "data": {
      "text/html": [
       "<div>\n",
       "<style scoped>\n",
       "    .dataframe tbody tr th:only-of-type {\n",
       "        vertical-align: middle;\n",
       "    }\n",
       "\n",
       "    .dataframe tbody tr th {\n",
       "        vertical-align: top;\n",
       "    }\n",
       "\n",
       "    .dataframe thead th {\n",
       "        text-align: right;\n",
       "    }\n",
       "</style>\n",
       "<table border=\"1\" class=\"dataframe\">\n",
       "  <thead>\n",
       "    <tr style=\"text-align: right;\">\n",
       "      <th></th>\n",
       "      <th>1416</th>\n",
       "      <th>1074</th>\n",
       "      <th>925</th>\n",
       "      <th>345</th>\n",
       "      <th>551</th>\n",
       "      <th>750</th>\n",
       "      <th>885</th>\n",
       "      <th>1584</th>\n",
       "      <th>1585</th>\n",
       "      <th>636</th>\n",
       "      <th>...</th>\n",
       "      <th>1912</th>\n",
       "      <th>552</th>\n",
       "      <th>1362</th>\n",
       "      <th>668</th>\n",
       "      <th>697</th>\n",
       "      <th>1369</th>\n",
       "      <th>550</th>\n",
       "      <th>1579</th>\n",
       "      <th>1219</th>\n",
       "      <th>1514</th>\n",
       "    </tr>\n",
       "  </thead>\n",
       "  <tbody>\n",
       "    <tr>\n",
       "      <th>HSPD1</th>\n",
       "      <td>-0.977902</td>\n",
       "      <td>-0.495226</td>\n",
       "      <td>2.645156</td>\n",
       "      <td>-1.402658</td>\n",
       "      <td>-0.472635</td>\n",
       "      <td>1.171039</td>\n",
       "      <td>0.371829</td>\n",
       "      <td>-2.950343</td>\n",
       "      <td>-2.950343</td>\n",
       "      <td>-1.217178</td>\n",
       "      <td>...</td>\n",
       "      <td>-3.405230</td>\n",
       "      <td>-0.113964</td>\n",
       "      <td>-0.548385</td>\n",
       "      <td>-0.583012</td>\n",
       "      <td>-1.683659</td>\n",
       "      <td>-3.103644</td>\n",
       "      <td>-0.780401</td>\n",
       "      <td>0.519419</td>\n",
       "      <td>0.135799</td>\n",
       "      <td>-1.124970</td>\n",
       "    </tr>\n",
       "    <tr>\n",
       "      <th>C1QTNF6</th>\n",
       "      <td>-0.812820</td>\n",
       "      <td>-0.395383</td>\n",
       "      <td>1.038499</td>\n",
       "      <td>0.287884</td>\n",
       "      <td>-0.176610</td>\n",
       "      <td>-1.260067</td>\n",
       "      <td>3.139442</td>\n",
       "      <td>-0.123518</td>\n",
       "      <td>-0.123518</td>\n",
       "      <td>0.392044</td>\n",
       "      <td>...</td>\n",
       "      <td>-1.172718</td>\n",
       "      <td>0.917352</td>\n",
       "      <td>-2.947168</td>\n",
       "      <td>-1.801547</td>\n",
       "      <td>0.832710</td>\n",
       "      <td>8.257347</td>\n",
       "      <td>1.014694</td>\n",
       "      <td>-1.261224</td>\n",
       "      <td>-0.918467</td>\n",
       "      <td>0.279741</td>\n",
       "    </tr>\n",
       "    <tr>\n",
       "      <th>TANGO6</th>\n",
       "      <td>-1.347119</td>\n",
       "      <td>0.798411</td>\n",
       "      <td>-0.835500</td>\n",
       "      <td>-0.277805</td>\n",
       "      <td>0.355813</td>\n",
       "      <td>0.649659</td>\n",
       "      <td>1.018080</td>\n",
       "      <td>0.739773</td>\n",
       "      <td>0.739773</td>\n",
       "      <td>-0.549202</td>\n",
       "      <td>...</td>\n",
       "      <td>-0.833089</td>\n",
       "      <td>0.667091</td>\n",
       "      <td>-1.194884</td>\n",
       "      <td>-1.649035</td>\n",
       "      <td>0.997228</td>\n",
       "      <td>8.527643</td>\n",
       "      <td>-2.027916</td>\n",
       "      <td>0.580672</td>\n",
       "      <td>-0.747719</td>\n",
       "      <td>-0.688254</td>\n",
       "    </tr>\n",
       "    <tr>\n",
       "      <th>ACIN1</th>\n",
       "      <td>-0.741827</td>\n",
       "      <td>0.599398</td>\n",
       "      <td>0.202811</td>\n",
       "      <td>-0.213735</td>\n",
       "      <td>0.010692</td>\n",
       "      <td>-0.071792</td>\n",
       "      <td>8.024920</td>\n",
       "      <td>1.425588</td>\n",
       "      <td>1.425588</td>\n",
       "      <td>-0.907158</td>\n",
       "      <td>...</td>\n",
       "      <td>0.028910</td>\n",
       "      <td>-0.841475</td>\n",
       "      <td>-0.137936</td>\n",
       "      <td>0.145820</td>\n",
       "      <td>0.198583</td>\n",
       "      <td>-7.185948</td>\n",
       "      <td>0.495708</td>\n",
       "      <td>0.044030</td>\n",
       "      <td>-0.002079</td>\n",
       "      <td>-0.186203</td>\n",
       "    </tr>\n",
       "    <tr>\n",
       "      <th>EBAG9</th>\n",
       "      <td>-0.267233</td>\n",
       "      <td>0.962713</td>\n",
       "      <td>0.970027</td>\n",
       "      <td>-0.092120</td>\n",
       "      <td>0.546296</td>\n",
       "      <td>-1.401199</td>\n",
       "      <td>-0.947189</td>\n",
       "      <td>1.786996</td>\n",
       "      <td>1.786996</td>\n",
       "      <td>0.502146</td>\n",
       "      <td>...</td>\n",
       "      <td>0.233708</td>\n",
       "      <td>0.172293</td>\n",
       "      <td>-0.873505</td>\n",
       "      <td>0.487397</td>\n",
       "      <td>-1.622473</td>\n",
       "      <td>1.689068</td>\n",
       "      <td>-3.106171</td>\n",
       "      <td>-1.549363</td>\n",
       "      <td>-0.570498</td>\n",
       "      <td>-0.181124</td>\n",
       "    </tr>\n",
       "    <tr>\n",
       "      <th>...</th>\n",
       "      <td>...</td>\n",
       "      <td>...</td>\n",
       "      <td>...</td>\n",
       "      <td>...</td>\n",
       "      <td>...</td>\n",
       "      <td>...</td>\n",
       "      <td>...</td>\n",
       "      <td>...</td>\n",
       "      <td>...</td>\n",
       "      <td>...</td>\n",
       "      <td>...</td>\n",
       "      <td>...</td>\n",
       "      <td>...</td>\n",
       "      <td>...</td>\n",
       "      <td>...</td>\n",
       "      <td>...</td>\n",
       "      <td>...</td>\n",
       "      <td>...</td>\n",
       "      <td>...</td>\n",
       "      <td>...</td>\n",
       "      <td>...</td>\n",
       "    </tr>\n",
       "    <tr>\n",
       "      <th>COMP</th>\n",
       "      <td>0.113174</td>\n",
       "      <td>-2.297470</td>\n",
       "      <td>-0.546279</td>\n",
       "      <td>0.372331</td>\n",
       "      <td>1.337586</td>\n",
       "      <td>1.534462</td>\n",
       "      <td>1.049377</td>\n",
       "      <td>1.438318</td>\n",
       "      <td>1.438318</td>\n",
       "      <td>-1.617112</td>\n",
       "      <td>...</td>\n",
       "      <td>0.067918</td>\n",
       "      <td>0.393438</td>\n",
       "      <td>1.387687</td>\n",
       "      <td>4.341017</td>\n",
       "      <td>0.391137</td>\n",
       "      <td>0.403279</td>\n",
       "      <td>-0.911899</td>\n",
       "      <td>0.282464</td>\n",
       "      <td>-0.993456</td>\n",
       "      <td>0.075333</td>\n",
       "    </tr>\n",
       "    <tr>\n",
       "      <th>POMC</th>\n",
       "      <td>0.083734</td>\n",
       "      <td>-1.283736</td>\n",
       "      <td>-1.522173</td>\n",
       "      <td>0.261264</td>\n",
       "      <td>-0.758168</td>\n",
       "      <td>0.536297</td>\n",
       "      <td>2.166779</td>\n",
       "      <td>0.725726</td>\n",
       "      <td>0.725726</td>\n",
       "      <td>-1.466509</td>\n",
       "      <td>...</td>\n",
       "      <td>-1.392520</td>\n",
       "      <td>1.390610</td>\n",
       "      <td>1.653663</td>\n",
       "      <td>0.438332</td>\n",
       "      <td>0.791268</td>\n",
       "      <td>-2.357944</td>\n",
       "      <td>-0.200029</td>\n",
       "      <td>-0.490870</td>\n",
       "      <td>2.203952</td>\n",
       "      <td>0.846940</td>\n",
       "    </tr>\n",
       "    <tr>\n",
       "      <th>TRA2B</th>\n",
       "      <td>-0.146213</td>\n",
       "      <td>0.959273</td>\n",
       "      <td>1.539276</td>\n",
       "      <td>-1.177394</td>\n",
       "      <td>0.361115</td>\n",
       "      <td>3.059752</td>\n",
       "      <td>-1.805891</td>\n",
       "      <td>-0.648172</td>\n",
       "      <td>-0.648172</td>\n",
       "      <td>-0.533938</td>\n",
       "      <td>...</td>\n",
       "      <td>-2.727863</td>\n",
       "      <td>-0.351405</td>\n",
       "      <td>0.959477</td>\n",
       "      <td>0.230524</td>\n",
       "      <td>-0.731791</td>\n",
       "      <td>-0.517571</td>\n",
       "      <td>-2.967414</td>\n",
       "      <td>0.674418</td>\n",
       "      <td>0.791235</td>\n",
       "      <td>-0.437711</td>\n",
       "    </tr>\n",
       "    <tr>\n",
       "      <th>PTPA</th>\n",
       "      <td>0.059637</td>\n",
       "      <td>-1.174207</td>\n",
       "      <td>0.667468</td>\n",
       "      <td>-0.423984</td>\n",
       "      <td>-0.217675</td>\n",
       "      <td>-0.183868</td>\n",
       "      <td>2.669919</td>\n",
       "      <td>-0.496450</td>\n",
       "      <td>-0.496450</td>\n",
       "      <td>-1.004140</td>\n",
       "      <td>...</td>\n",
       "      <td>1.819967</td>\n",
       "      <td>2.456579</td>\n",
       "      <td>-0.692096</td>\n",
       "      <td>1.868919</td>\n",
       "      <td>-1.169484</td>\n",
       "      <td>-3.201584</td>\n",
       "      <td>1.609274</td>\n",
       "      <td>0.565937</td>\n",
       "      <td>0.163621</td>\n",
       "      <td>0.627112</td>\n",
       "    </tr>\n",
       "    <tr>\n",
       "      <th>DNAJB12</th>\n",
       "      <td>-0.737247</td>\n",
       "      <td>-0.009556</td>\n",
       "      <td>-0.242278</td>\n",
       "      <td>0.883566</td>\n",
       "      <td>2.092335</td>\n",
       "      <td>0.376301</td>\n",
       "      <td>0.527243</td>\n",
       "      <td>1.059143</td>\n",
       "      <td>1.059143</td>\n",
       "      <td>-0.737487</td>\n",
       "      <td>...</td>\n",
       "      <td>-1.571086</td>\n",
       "      <td>1.024038</td>\n",
       "      <td>-0.041158</td>\n",
       "      <td>0.871268</td>\n",
       "      <td>0.453930</td>\n",
       "      <td>7.131098</td>\n",
       "      <td>1.804629</td>\n",
       "      <td>0.617169</td>\n",
       "      <td>1.212137</td>\n",
       "      <td>-0.316943</td>\n",
       "    </tr>\n",
       "  </tbody>\n",
       "</table>\n",
       "<p>7781 rows × 387 columns</p>\n",
       "</div>"
      ],
      "text/plain": [
       "             1416      1074       925       345       551       750       885  \\\n",
       "HSPD1   -0.977902 -0.495226  2.645156 -1.402658 -0.472635  1.171039  0.371829   \n",
       "C1QTNF6 -0.812820 -0.395383  1.038499  0.287884 -0.176610 -1.260067  3.139442   \n",
       "TANGO6  -1.347119  0.798411 -0.835500 -0.277805  0.355813  0.649659  1.018080   \n",
       "ACIN1   -0.741827  0.599398  0.202811 -0.213735  0.010692 -0.071792  8.024920   \n",
       "EBAG9   -0.267233  0.962713  0.970027 -0.092120  0.546296 -1.401199 -0.947189   \n",
       "...           ...       ...       ...       ...       ...       ...       ...   \n",
       "COMP     0.113174 -2.297470 -0.546279  0.372331  1.337586  1.534462  1.049377   \n",
       "POMC     0.083734 -1.283736 -1.522173  0.261264 -0.758168  0.536297  2.166779   \n",
       "TRA2B   -0.146213  0.959273  1.539276 -1.177394  0.361115  3.059752 -1.805891   \n",
       "PTPA     0.059637 -1.174207  0.667468 -0.423984 -0.217675 -0.183868  2.669919   \n",
       "DNAJB12 -0.737247 -0.009556 -0.242278  0.883566  2.092335  0.376301  0.527243   \n",
       "\n",
       "             1584      1585       636  ...      1912       552      1362  \\\n",
       "HSPD1   -2.950343 -2.950343 -1.217178  ... -3.405230 -0.113964 -0.548385   \n",
       "C1QTNF6 -0.123518 -0.123518  0.392044  ... -1.172718  0.917352 -2.947168   \n",
       "TANGO6   0.739773  0.739773 -0.549202  ... -0.833089  0.667091 -1.194884   \n",
       "ACIN1    1.425588  1.425588 -0.907158  ...  0.028910 -0.841475 -0.137936   \n",
       "EBAG9    1.786996  1.786996  0.502146  ...  0.233708  0.172293 -0.873505   \n",
       "...           ...       ...       ...  ...       ...       ...       ...   \n",
       "COMP     1.438318  1.438318 -1.617112  ...  0.067918  0.393438  1.387687   \n",
       "POMC     0.725726  0.725726 -1.466509  ... -1.392520  1.390610  1.653663   \n",
       "TRA2B   -0.648172 -0.648172 -0.533938  ... -2.727863 -0.351405  0.959477   \n",
       "PTPA    -0.496450 -0.496450 -1.004140  ...  1.819967  2.456579 -0.692096   \n",
       "DNAJB12  1.059143  1.059143 -0.737487  ... -1.571086  1.024038 -0.041158   \n",
       "\n",
       "              668       697      1369       550      1579      1219      1514  \n",
       "HSPD1   -0.583012 -1.683659 -3.103644 -0.780401  0.519419  0.135799 -1.124970  \n",
       "C1QTNF6 -1.801547  0.832710  8.257347  1.014694 -1.261224 -0.918467  0.279741  \n",
       "TANGO6  -1.649035  0.997228  8.527643 -2.027916  0.580672 -0.747719 -0.688254  \n",
       "ACIN1    0.145820  0.198583 -7.185948  0.495708  0.044030 -0.002079 -0.186203  \n",
       "EBAG9    0.487397 -1.622473  1.689068 -3.106171 -1.549363 -0.570498 -0.181124  \n",
       "...           ...       ...       ...       ...       ...       ...       ...  \n",
       "COMP     4.341017  0.391137  0.403279 -0.911899  0.282464 -0.993456  0.075333  \n",
       "POMC     0.438332  0.791268 -2.357944 -0.200029 -0.490870  2.203952  0.846940  \n",
       "TRA2B    0.230524 -0.731791 -0.517571 -2.967414  0.674418  0.791235 -0.437711  \n",
       "PTPA     1.868919 -1.169484 -3.201584  1.609274  0.565937  0.163621  0.627112  \n",
       "DNAJB12  0.871268  0.453930  7.131098  1.804629  0.617169  1.212137 -0.316943  \n",
       "\n",
       "[7781 rows x 387 columns]"
      ]
     },
     "execution_count": 35,
     "metadata": {},
     "output_type": "execute_result"
    }
   ],
   "source": [
    "drug_resultsDF"
   ]
  },
  {
   "cell_type": "code",
   "execution_count": null,
   "metadata": {},
   "outputs": [],
   "source": []
  }
 ],
 "metadata": {
  "kernelspec": {
   "display_name": "Python 3",
   "language": "python",
   "name": "python3"
  },
  "language_info": {
   "codemirror_mode": {
    "name": "ipython",
    "version": 3
   },
   "file_extension": ".py",
   "mimetype": "text/x-python",
   "name": "python",
   "nbconvert_exporter": "python",
   "pygments_lexer": "ipython3",
   "version": "3.8.3"
  }
 },
 "nbformat": 4,
 "nbformat_minor": 4
}
