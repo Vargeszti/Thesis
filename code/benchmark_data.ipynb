{
 "cells": [
  {
   "cell_type": "code",
   "execution_count": 108,
   "metadata": {},
   "outputs": [],
   "source": [
    "import pandas as pd\n",
    "import numpy as np\n",
    "\n",
    "from matplotlib import pyplot as plt\n",
    "%matplotlib inline\n",
    "import seaborn as sns\n",
    "sns.set_style('whitegrid')\n",
    "\n",
    "import os"
   ]
  },
  {
   "cell_type": "code",
   "execution_count": 188,
   "metadata": {},
   "outputs": [],
   "source": [
    "meta = pd.read_csv('../results/gene_perturb.csv', sep=',', header=0, index_col=0)\n",
    "meta.index = meta.index.astype(str)"
   ]
  },
  {
   "cell_type": "code",
   "execution_count": 189,
   "metadata": {},
   "outputs": [],
   "source": [
    "fnames = os.listdir('../results/gene/')\n",
    "fnames = [x[:-4] for x in fnames]\n",
    "fnames = list(set(fnames) & set(meta.index))"
   ]
  },
  {
   "cell_type": "code",
   "execution_count": 190,
   "metadata": {},
   "outputs": [],
   "source": [
    "meta = meta.loc[fnames]"
   ]
  },
  {
   "cell_type": "code",
   "execution_count": 213,
   "metadata": {},
   "outputs": [],
   "source": [
    "results = {}\n",
    "for file_id in fnames:\n",
    "    data = pd.read_csv('../results/gene/%s.csv' % (file_id), sep=',', header=0, index_col=0)\n",
    "    data.index = pd.Series(data.index).str.upper().values\n",
    "    data = data['t']\n",
    "    results[file_id] = data"
   ]
  },
  {
   "cell_type": "code",
   "execution_count": 244,
   "metadata": {},
   "outputs": [],
   "source": [
    "all_genes = []\n",
    "for file_id in fnames:\n",
    "    all_genes += list(results[file_id].index)\n",
    "all_genes = list(set(all_genes))"
   ]
  },
  {
   "cell_type": "code",
   "execution_count": 245,
   "metadata": {},
   "outputs": [],
   "source": [
    "resultsDF = pd.DataFrame(0.0, index = all_genes, columns=fnames)\n",
    "for file_id  in fnames:\n",
    "    resultsDF.loc[results[file_id].index, file_id] = results[file_id]"
   ]
  },
  {
   "cell_type": "code",
   "execution_count": 246,
   "metadata": {},
   "outputs": [
    {
     "data": {
      "text/plain": [
       "<matplotlib.axes._subplots.AxesSubplot at 0x7fe1c219f250>"
      ]
     },
     "execution_count": 246,
     "metadata": {},
     "output_type": "execute_result"
    },
    {
     "data": {
      "image/png": "[encoded data removed]",
      "text/plain": [
       "<Figure size 432x288 with 1 Axes>"
      ]
     },
     "metadata": {},
     "output_type": "display_data"
    }
   ],
   "source": [
    "### nuber of zeros per experiments\n",
    "(resultsDF == 0).sum().hist()"
   ]
  },
  {
   "cell_type": "code",
   "execution_count": 247,
   "metadata": {},
   "outputs": [
    {
     "data": {
      "text/plain": [
       "<matplotlib.axes._subplots.AxesSubplot at 0x7fe1c2184ad0>"
      ]
     },
     "execution_count": 247,
     "metadata": {},
     "output_type": "execute_result"
    },
    {
     "data": {
      "image/png": "[encoded data removed]",
      "text/plain": [
       "<Figure size 432x288 with 1 Axes>"
      ]
     },
     "metadata": {},
     "output_type": "display_data"
    }
   ],
   "source": [
    "### nuber of zeros per genes\n",
    "(resultsDF == 0).sum(1).hist()"
   ]
  },
  {
   "cell_type": "code",
   "execution_count": 248,
   "metadata": {},
   "outputs": [],
   "source": [
    "### filter bad experiments (with a lot of NaN)\n",
    "fil = (resultsDF == 0).sum(0) < 27500\n",
    "good_experiments = resultsDF.columns[fil]\n",
    "resultsDF = resultsDF[good_experiments]"
   ]
  },
  {
   "cell_type": "code",
   "execution_count": 249,
   "metadata": {},
   "outputs": [],
   "source": [
    "### filter bad genes (with a lot of NaN)\n",
    "fil = (resultsDF == 0).sum(1) == 0\n",
    "resultsDF = resultsDF[fil]"
   ]
  },
  {
   "cell_type": "code",
   "execution_count": 250,
   "metadata": {},
   "outputs": [],
   "source": [
    "### check overlap with lincs\n",
    "lincs = pd.read_csv('/Users/benceszalai/Documents/Data/LINCS-L1000/GSE92742/GSE92742_Broad_LINCS_gene_info.txt',\n",
    "                   sep='\\t', header=0, index_col=0)\n",
    "lincs = lincs[lincs['pr_is_lm']==1]"
   ]
  },
  {
   "cell_type": "code",
   "execution_count": 251,
   "metadata": {},
   "outputs": [
    {
     "data": {
      "text/plain": [
       "735"
      ]
     },
     "execution_count": 251,
     "metadata": {},
     "output_type": "execute_result"
    }
   ],
   "source": [
    "len(set(lincs['pr_gene_symbol']) & set(resultsDF.index))"
   ]
  },
  {
   "cell_type": "code",
   "execution_count": 252,
   "metadata": {},
   "outputs": [
    {
     "data": {
      "text/plain": [
       "(11101, 101)"
      ]
     },
     "execution_count": 252,
     "metadata": {},
     "output_type": "execute_result"
    }
   ],
   "source": [
    "resultsDF.shape"
   ]
  },
  {
   "cell_type": "code",
   "execution_count": 254,
   "metadata": {},
   "outputs": [],
   "source": [
    "resultsDF.to_csv('../results/gene_perurb_results.csv', sep=',')"
   ]
  },
  {
   "cell_type": "markdown",
   "metadata": {},
   "source": [
    "### Drug perturb"
   ]
  },
  {
   "cell_type": "code",
   "execution_count": 255,
   "metadata": {},
   "outputs": [],
   "source": [
    "meta = pd.read_csv('../results/drug_perturb.csv', sep=',', header=0, index_col=0)"
   ]
  },
  {
   "cell_type": "code",
   "execution_count": 257,
   "metadata": {},
   "outputs": [
    {
     "data": {
      "text/html": [
       "<div>\n",
       "<style scoped>\n",
       "    .dataframe tbody tr th:only-of-type {\n",
       "        vertical-align: middle;\n",
       "    }\n",
       "\n",
       "    .dataframe tbody tr th {\n",
       "        vertical-align: top;\n",
       "    }\n",
       "\n",
       "    .dataframe thead th {\n",
       "        text-align: right;\n",
       "    }\n",
       "</style>\n",
       "<table border=\"1\" class=\"dataframe\">\n",
       "  <thead>\n",
       "    <tr style=\"text-align: right;\">\n",
       "      <th></th>\n",
       "      <th>cell_type</th>\n",
       "      <th>ctrl_ids</th>\n",
       "      <th>curator</th>\n",
       "      <th>drug_name</th>\n",
       "      <th>drugbank_id</th>\n",
       "      <th>geo_id</th>\n",
       "      <th>organism</th>\n",
       "      <th>pert_ids</th>\n",
       "      <th>platform</th>\n",
       "      <th>pubchem_cid</th>\n",
       "      <th>smiles</th>\n",
       "      <th>version</th>\n",
       "      <th>Target</th>\n",
       "      <th>Target_type</th>\n",
       "      <th>sign</th>\n",
       "    </tr>\n",
       "  </thead>\n",
       "  <tbody>\n",
       "    <tr>\n",
       "      <th>105</th>\n",
       "      <td>liver</td>\n",
       "      <td>GSM1273512|GSM1273513|GSM1273514|GSM1273515</td>\n",
       "      <td>MicrotaskManic</td>\n",
       "      <td>Ethanol</td>\n",
       "      <td>DB00898</td>\n",
       "      <td>GSE52644</td>\n",
       "      <td>mouse</td>\n",
       "      <td>GSM1273500|GSM1273501|GSM1273502|GSM1273503</td>\n",
       "      <td>GPL1261</td>\n",
       "      <td>702.0</td>\n",
       "      <td>CCO</td>\n",
       "      <td>1.0</td>\n",
       "      <td>GABRA</td>\n",
       "      <td>agonist</td>\n",
       "      <td>1</td>\n",
       "    </tr>\n",
       "    <tr>\n",
       "      <th>106</th>\n",
       "      <td>liver</td>\n",
       "      <td>GSM1273512|GSM1273513|GSM1273514|GSM1273515</td>\n",
       "      <td>MicrotaskManic</td>\n",
       "      <td>Ethanol</td>\n",
       "      <td>DB00898</td>\n",
       "      <td>GSE52644</td>\n",
       "      <td>mouse</td>\n",
       "      <td>GSM1273500|GSM1273501|GSM1273502|GSM1273503</td>\n",
       "      <td>GPL1261</td>\n",
       "      <td>702.0</td>\n",
       "      <td>CCO</td>\n",
       "      <td>1.0</td>\n",
       "      <td>GRIN3A</td>\n",
       "      <td>antagonist</td>\n",
       "      <td>-1</td>\n",
       "    </tr>\n",
       "    <tr>\n",
       "      <th>107</th>\n",
       "      <td>liver</td>\n",
       "      <td>GSM1273512|GSM1273513|GSM1273514|GSM1273515</td>\n",
       "      <td>MicrotaskManic</td>\n",
       "      <td>Ethanol</td>\n",
       "      <td>DB00898</td>\n",
       "      <td>GSE52644</td>\n",
       "      <td>mouse</td>\n",
       "      <td>GSM1273500|GSM1273501|GSM1273502|GSM1273503</td>\n",
       "      <td>GPL1261</td>\n",
       "      <td>702.0</td>\n",
       "      <td>CCO</td>\n",
       "      <td>1.0</td>\n",
       "      <td>GLRA1</td>\n",
       "      <td>agonist</td>\n",
       "      <td>1</td>\n",
       "    </tr>\n",
       "    <tr>\n",
       "      <th>108</th>\n",
       "      <td>liver</td>\n",
       "      <td>GSM1273512|GSM1273513|GSM1273514|GSM1273515</td>\n",
       "      <td>MicrotaskManic</td>\n",
       "      <td>Ethanol</td>\n",
       "      <td>DB00898</td>\n",
       "      <td>GSE52644</td>\n",
       "      <td>mouse</td>\n",
       "      <td>GSM1273500|GSM1273501|GSM1273502|GSM1273503</td>\n",
       "      <td>GPL1261</td>\n",
       "      <td>702.0</td>\n",
       "      <td>CCO</td>\n",
       "      <td>1.0</td>\n",
       "      <td>GLRA2</td>\n",
       "      <td>agonist</td>\n",
       "      <td>1</td>\n",
       "    </tr>\n",
       "    <tr>\n",
       "      <th>153</th>\n",
       "      <td>NaN</td>\n",
       "      <td>GSM74493|GSM74494|GSM74495</td>\n",
       "      <td>Axel</td>\n",
       "      <td>Ethanol</td>\n",
       "      <td>DB00898</td>\n",
       "      <td>GSE3311</td>\n",
       "      <td>rat</td>\n",
       "      <td>GSM74496|GSM74497|GSM74498</td>\n",
       "      <td>GPL341</td>\n",
       "      <td>702.0</td>\n",
       "      <td>CCO</td>\n",
       "      <td>1.0</td>\n",
       "      <td>GABRA</td>\n",
       "      <td>agonist</td>\n",
       "      <td>1</td>\n",
       "    </tr>\n",
       "    <tr>\n",
       "      <th>...</th>\n",
       "      <td>...</td>\n",
       "      <td>...</td>\n",
       "      <td>...</td>\n",
       "      <td>...</td>\n",
       "      <td>...</td>\n",
       "      <td>...</td>\n",
       "      <td>...</td>\n",
       "      <td>...</td>\n",
       "      <td>...</td>\n",
       "      <td>...</td>\n",
       "      <td>...</td>\n",
       "      <td>...</td>\n",
       "      <td>...</td>\n",
       "      <td>...</td>\n",
       "      <td>...</td>\n",
       "    </tr>\n",
       "    <tr>\n",
       "      <th>1962</th>\n",
       "      <td>liver tissue</td>\n",
       "      <td>GSM159830|GSM159833|GSM159834|GSM159835</td>\n",
       "      <td>mmluxy</td>\n",
       "      <td>Sunitinib</td>\n",
       "      <td>DB01268</td>\n",
       "      <td>GSE6929</td>\n",
       "      <td>rat</td>\n",
       "      <td>GSM159831|GSM159832|GSM159837|GSM159838</td>\n",
       "      <td>GPL1355</td>\n",
       "      <td>5329102.0</td>\n",
       "      <td>CCN(CC)CCNC(=O)C1=C(NC(=C1C)C=C2C3=C(C=CC(=C3)...</td>\n",
       "      <td>1.0</td>\n",
       "      <td>PDGFRA</td>\n",
       "      <td>antagonist</td>\n",
       "      <td>-1</td>\n",
       "    </tr>\n",
       "    <tr>\n",
       "      <th>1964</th>\n",
       "      <td>DRG neurons - 10 &amp;Acirc;&amp;micro;M for 30 min</td>\n",
       "      <td>GSM1442972|GSM1442973|GSM1442974|GSM1442975</td>\n",
       "      <td>cadimo</td>\n",
       "      <td>Capsaicin</td>\n",
       "      <td>NaN</td>\n",
       "      <td>GSE59727</td>\n",
       "      <td>rat</td>\n",
       "      <td>GSM1442976|GSM1442977|GSM1442978|GSM1442979</td>\n",
       "      <td>GPL6101</td>\n",
       "      <td>1548943.0</td>\n",
       "      <td>CC(C)C=CCCCCC(=O)NCC1=CC(=C(C=C1)O)OC</td>\n",
       "      <td>1.0</td>\n",
       "      <td>TRPV1</td>\n",
       "      <td>agonist</td>\n",
       "      <td>1</td>\n",
       "    </tr>\n",
       "    <tr>\n",
       "      <th>1966</th>\n",
       "      <td>T47D breast cancer cells</td>\n",
       "      <td>GSM1649569|GSM1649573|GSM1649577</td>\n",
       "      <td>cadimo</td>\n",
       "      <td>Promegestone</td>\n",
       "      <td>NaN</td>\n",
       "      <td>GSE67561</td>\n",
       "      <td>human</td>\n",
       "      <td>GSM1649570|GSM1649574|GSM1649578</td>\n",
       "      <td>GPL10558</td>\n",
       "      <td>36709.0</td>\n",
       "      <td>CCC(=O)C1(CCC2C1(CCC3=C4CCC(=O)C=C4CCC23)C)C</td>\n",
       "      <td>1.0</td>\n",
       "      <td>PGR</td>\n",
       "      <td>agonist</td>\n",
       "      <td>1</td>\n",
       "    </tr>\n",
       "    <tr>\n",
       "      <th>1967</th>\n",
       "      <td>Skeletal muscles (of HIV-infected males)</td>\n",
       "      <td>GSM113921|GSM115323|GSM115325|GSM115326|GSM115...</td>\n",
       "      <td>cadimo</td>\n",
       "      <td>Testosterone</td>\n",
       "      <td>DB00624</td>\n",
       "      <td>GSE5106</td>\n",
       "      <td>human</td>\n",
       "      <td>GSM115332|GSM115333|GSM115334|GSM115335|GSM115...</td>\n",
       "      <td>GPL571</td>\n",
       "      <td>6013.0</td>\n",
       "      <td>CC12CCC3C(C1CCC2O)CCC4=CC(=O)CCC34C</td>\n",
       "      <td>1.0</td>\n",
       "      <td>AR</td>\n",
       "      <td>agonist</td>\n",
       "      <td>1</td>\n",
       "    </tr>\n",
       "    <tr>\n",
       "      <th>1968</th>\n",
       "      <td>Skeletal muscles (of HIV-infected males)</td>\n",
       "      <td>GSM113921|GSM115323|GSM115325|GSM115326|GSM115...</td>\n",
       "      <td>cadimo</td>\n",
       "      <td>Testosterone</td>\n",
       "      <td>DB00624</td>\n",
       "      <td>GSE5106</td>\n",
       "      <td>human</td>\n",
       "      <td>GSM115332|GSM115333|GSM115334|GSM115335|GSM115...</td>\n",
       "      <td>GPL571</td>\n",
       "      <td>6013.0</td>\n",
       "      <td>CC12CCC3C(C1CCC2O)CCC4=CC(=O)CCC34C</td>\n",
       "      <td>1.0</td>\n",
       "      <td>ESR1</td>\n",
       "      <td>antagonist</td>\n",
       "      <td>-1</td>\n",
       "    </tr>\n",
       "  </tbody>\n",
       "</table>\n",
       "<p>794 rows × 15 columns</p>\n",
       "</div>"
      ],
      "text/plain": [
       "                                        cell_type  \\\n",
       "105                                         liver   \n",
       "106                                         liver   \n",
       "107                                         liver   \n",
       "108                                         liver   \n",
       "153                                           NaN   \n",
       "...                                           ...   \n",
       "1962                                 liver tissue   \n",
       "1964  DRG neurons - 10 &Acirc;&micro;M for 30 min   \n",
       "1966                     T47D breast cancer cells   \n",
       "1967     Skeletal muscles (of HIV-infected males)   \n",
       "1968     Skeletal muscles (of HIV-infected males)   \n",
       "\n",
       "                                               ctrl_ids         curator  \\\n",
       "105         GSM1273512|GSM1273513|GSM1273514|GSM1273515  MicrotaskManic   \n",
       "106         GSM1273512|GSM1273513|GSM1273514|GSM1273515  MicrotaskManic   \n",
       "107         GSM1273512|GSM1273513|GSM1273514|GSM1273515  MicrotaskManic   \n",
       "108         GSM1273512|GSM1273513|GSM1273514|GSM1273515  MicrotaskManic   \n",
       "153                          GSM74493|GSM74494|GSM74495            Axel   \n",
       "...                                                 ...             ...   \n",
       "1962            GSM159830|GSM159833|GSM159834|GSM159835          mmluxy   \n",
       "1964        GSM1442972|GSM1442973|GSM1442974|GSM1442975          cadimo   \n",
       "1966                   GSM1649569|GSM1649573|GSM1649577          cadimo   \n",
       "1967  GSM113921|GSM115323|GSM115325|GSM115326|GSM115...          cadimo   \n",
       "1968  GSM113921|GSM115323|GSM115325|GSM115326|GSM115...          cadimo   \n",
       "\n",
       "         drug_name drugbank_id    geo_id organism  \\\n",
       "105        Ethanol     DB00898  GSE52644    mouse   \n",
       "106        Ethanol     DB00898  GSE52644    mouse   \n",
       "107        Ethanol     DB00898  GSE52644    mouse   \n",
       "108        Ethanol     DB00898  GSE52644    mouse   \n",
       "153        Ethanol     DB00898   GSE3311      rat   \n",
       "...            ...         ...       ...      ...   \n",
       "1962     Sunitinib     DB01268   GSE6929      rat   \n",
       "1964     Capsaicin         NaN  GSE59727      rat   \n",
       "1966  Promegestone         NaN  GSE67561    human   \n",
       "1967  Testosterone     DB00624   GSE5106    human   \n",
       "1968  Testosterone     DB00624   GSE5106    human   \n",
       "\n",
       "                                               pert_ids  platform  \\\n",
       "105         GSM1273500|GSM1273501|GSM1273502|GSM1273503   GPL1261   \n",
       "106         GSM1273500|GSM1273501|GSM1273502|GSM1273503   GPL1261   \n",
       "107         GSM1273500|GSM1273501|GSM1273502|GSM1273503   GPL1261   \n",
       "108         GSM1273500|GSM1273501|GSM1273502|GSM1273503   GPL1261   \n",
       "153                          GSM74496|GSM74497|GSM74498    GPL341   \n",
       "...                                                 ...       ...   \n",
       "1962            GSM159831|GSM159832|GSM159837|GSM159838   GPL1355   \n",
       "1964        GSM1442976|GSM1442977|GSM1442978|GSM1442979   GPL6101   \n",
       "1966                   GSM1649570|GSM1649574|GSM1649578  GPL10558   \n",
       "1967  GSM115332|GSM115333|GSM115334|GSM115335|GSM115...    GPL571   \n",
       "1968  GSM115332|GSM115333|GSM115334|GSM115335|GSM115...    GPL571   \n",
       "\n",
       "      pubchem_cid                                             smiles  version  \\\n",
       "105         702.0                                                CCO      1.0   \n",
       "106         702.0                                                CCO      1.0   \n",
       "107         702.0                                                CCO      1.0   \n",
       "108         702.0                                                CCO      1.0   \n",
       "153         702.0                                                CCO      1.0   \n",
       "...           ...                                                ...      ...   \n",
       "1962    5329102.0  CCN(CC)CCNC(=O)C1=C(NC(=C1C)C=C2C3=C(C=CC(=C3)...      1.0   \n",
       "1964    1548943.0              CC(C)C=CCCCCC(=O)NCC1=CC(=C(C=C1)O)OC      1.0   \n",
       "1966      36709.0       CCC(=O)C1(CCC2C1(CCC3=C4CCC(=O)C=C4CCC23)C)C      1.0   \n",
       "1967       6013.0                CC12CCC3C(C1CCC2O)CCC4=CC(=O)CCC34C      1.0   \n",
       "1968       6013.0                CC12CCC3C(C1CCC2O)CCC4=CC(=O)CCC34C      1.0   \n",
       "\n",
       "      Target Target_type  sign  \n",
       "105    GABRA     agonist     1  \n",
       "106   GRIN3A  antagonist    -1  \n",
       "107    GLRA1     agonist     1  \n",
       "108    GLRA2     agonist     1  \n",
       "153    GABRA     agonist     1  \n",
       "...      ...         ...   ...  \n",
       "1962  PDGFRA  antagonist    -1  \n",
       "1964   TRPV1     agonist     1  \n",
       "1966     PGR     agonist     1  \n",
       "1967      AR     agonist     1  \n",
       "1968    ESR1  antagonist    -1  \n",
       "\n",
       "[794 rows x 15 columns]"
      ]
     },
     "execution_count": 257,
     "metadata": {},
     "output_type": "execute_result"
    }
   ],
   "source": [
    "meta[meta['sign']!=0]"
   ]
  },
  {
   "cell_type": "code",
   "execution_count": null,
   "metadata": {},
   "outputs": [],
   "source": []
  }
 ],
 "metadata": {
  "kernelspec": {
   "display_name": "pycharm",
   "language": "python",
   "name": "pycharm"
  },
  "language_info": {
   "codemirror_mode": {
    "name": "ipython",
    "version": 3
   },
   "file_extension": ".py",
   "mimetype": "text/x-python",
   "name": "python",
   "nbconvert_exporter": "python",
   "pygments_lexer": "ipython3",
   "version": "3.7.7"
  }
 },
 "nbformat": 4,
 "nbformat_minor": 4
}
