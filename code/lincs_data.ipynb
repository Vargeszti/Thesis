{
 "cells": [
  {
   "cell_type": "code",
   "execution_count": 1,
   "metadata": {},
   "outputs": [],
   "source": [
    "import pandas as pd\n",
    "import numpy as np\n",
    "\n",
    "from matplotlib import pyplot as plt\n",
    "import seaborn as sns\n",
    "%matplotlib inline\n",
    "from cmapPy.pandasGEXpress.parse import parse\n",
    "from scipy.stats import spearmanr as scor\n",
    "from scipy.stats import mannwhitneyu as mwu"
   ]
  },
  {
   "cell_type": "markdown",
   "metadata": {},
   "source": [
    "**Downloading LINCS data** \\\n",
    "From Gene Expression Omnibus downloading the [GSE92742](https://www.ncbi.nlm.nih.gov/geo/query/acc.cgi?acc=GSE92742) and the [GSE70138](https://www.ncbi.nlm.nih.gov/geo/query/acc.cgi?acc=GSE70138) datasets. From both datasets I dowloaded the Level5 gene expression profiles, the metadata from the sig_info files and a gene info file.\\\n",
    "I downloaded the drug indformation and the sample information for  compound metadata from the [Drug Repurposing Hub](https://clue.io/repurposing)"
   ]
  },
  {
   "cell_type": "code",
   "execution_count": 5,
   "metadata": {},
   "outputs": [],
   "source": [
    "#checking if the files are in the correct directory\n",
    "import os\n",
    "files_needed_GSE92742=['GSE92742_Broad_LINCS_Level5_COMPZ.MODZ_n473647x12328.gctx',\n",
    "               'GSE92742_Broad_LINCS_sig_info.txt','GSE92742_Broad_LINCS_gene_info.txt']\n",
    "files_needed_GSE70138=['GSE70138_Broad_LINCS_Level5_COMPZ_n118050x12328.gctx',\n",
    "                      'GSE70138_Broad_LINCS_sig_info.txt']\n",
    "files_needed_rep=['repurposing_drugs_20180907.txt','repurposing_samples_20180907.txt']\n",
    "files_GSE92742=os.listdir('../data/GSE92742/')\n",
    "files_GSE70138=os.listdir('../data/GSE70138/')\n",
    "files_rep=os.listdir('../data/repurposing/')\n",
    "for f in files_needed_GSE92742:\n",
    "    assert (f in files_GSE92742)\n",
    "for f in files_needed_GSE70138:\n",
    "    assert (f in files_GSE70138)\n",
    "for f in files_needed_rep:\n",
    "    assert (f in files_rep)"
   ]
  },
  {
   "cell_type": "markdown",
   "metadata": {},
   "source": [
    "**Importing gene ids** "
   ]
  },
  {
   "cell_type": "code",
   "execution_count": 8,
   "metadata": {},
   "outputs": [
    {
     "data": {
      "text/html": [
       "<div>\n",
       "<style scoped>\n",
       "    .dataframe tbody tr th:only-of-type {\n",
       "        vertical-align: middle;\n",
       "    }\n",
       "\n",
       "    .dataframe tbody tr th {\n",
       "        vertical-align: top;\n",
       "    }\n",
       "\n",
       "    .dataframe thead th {\n",
       "        text-align: right;\n",
       "    }\n",
       "</style>\n",
       "<table border=\"1\" class=\"dataframe\">\n",
       "  <thead>\n",
       "    <tr style=\"text-align: right;\">\n",
       "      <th></th>\n",
       "      <th>pr_gene_symbol</th>\n",
       "      <th>pr_gene_title</th>\n",
       "      <th>pr_is_lm</th>\n",
       "      <th>pr_is_bing</th>\n",
       "    </tr>\n",
       "    <tr>\n",
       "      <th>pr_gene_id</th>\n",
       "      <th></th>\n",
       "      <th></th>\n",
       "      <th></th>\n",
       "      <th></th>\n",
       "    </tr>\n",
       "  </thead>\n",
       "  <tbody>\n",
       "    <tr>\n",
       "      <th>780</th>\n",
       "      <td>DDR1</td>\n",
       "      <td>discoidin domain receptor tyrosine kinase 1</td>\n",
       "      <td>1</td>\n",
       "      <td>1</td>\n",
       "    </tr>\n",
       "    <tr>\n",
       "      <th>7849</th>\n",
       "      <td>PAX8</td>\n",
       "      <td>paired box 8</td>\n",
       "      <td>1</td>\n",
       "      <td>1</td>\n",
       "    </tr>\n",
       "    <tr>\n",
       "      <th>2978</th>\n",
       "      <td>GUCA1A</td>\n",
       "      <td>guanylate cyclase activator 1A</td>\n",
       "      <td>0</td>\n",
       "      <td>0</td>\n",
       "    </tr>\n",
       "    <tr>\n",
       "      <th>2049</th>\n",
       "      <td>EPHB3</td>\n",
       "      <td>EPH receptor B3</td>\n",
       "      <td>0</td>\n",
       "      <td>1</td>\n",
       "    </tr>\n",
       "    <tr>\n",
       "      <th>2101</th>\n",
       "      <td>ESRRA</td>\n",
       "      <td>estrogen related receptor alpha</td>\n",
       "      <td>0</td>\n",
       "      <td>1</td>\n",
       "    </tr>\n",
       "  </tbody>\n",
       "</table>\n",
       "</div>"
      ],
      "text/plain": [
       "           pr_gene_symbol                                pr_gene_title  \\\n",
       "pr_gene_id                                                               \n",
       "780                  DDR1  discoidin domain receptor tyrosine kinase 1   \n",
       "7849                 PAX8                                 paired box 8   \n",
       "2978               GUCA1A               guanylate cyclase activator 1A   \n",
       "2049                EPHB3                              EPH receptor B3   \n",
       "2101                ESRRA              estrogen related receptor alpha   \n",
       "\n",
       "            pr_is_lm  pr_is_bing  \n",
       "pr_gene_id                        \n",
       "780                1           1  \n",
       "7849               1           1  \n",
       "2978               0           0  \n",
       "2049               0           1  \n",
       "2101               0           1  "
      ]
     },
     "execution_count": 8,
     "metadata": {},
     "output_type": "execute_result"
    }
   ],
   "source": [
    "gene_ids=pd.read_csv('../data/GSE92742/GSE92742_Broad_LINCS_gene_info.txt',\n",
    "                    sep='\\t',header=0,index_col=0)\n",
    "gene_ids.head()"
   ]
  },
  {
   "cell_type": "code",
   "execution_count": 9,
   "metadata": {},
   "outputs": [
    {
     "data": {
      "text/plain": [
       "pr_gene_id\n",
       "780      DDR1\n",
       "7849     PAX8\n",
       "6193     RPS5\n",
       "23      ABCF1\n",
       "9552    SPAG7\n",
       "Name: pr_gene_symbol, dtype: object"
      ]
     },
     "execution_count": 9,
     "metadata": {},
     "output_type": "execute_result"
    }
   ],
   "source": [
    "fil=gene_ids['pr_is_lm']==1\n",
    "gene_ids=gene_ids[fil]\n",
    "gene_ids=gene_ids['pr_gene_symbol']\n",
    "gene_ids.head()"
   ]
  },
  {
   "cell_type": "code",
   "execution_count": 10,
   "metadata": {},
   "outputs": [],
   "source": [
    "gene_ids.index=gene_ids.index.astype(str)"
   ]
  },
  {
   "cell_type": "code",
   "execution_count": 11,
   "metadata": {},
   "outputs": [],
   "source": [
    "#To calculate consensus signature,I used the MODZ method\n",
    "#described in the original LINCS manuscript.\n",
    "def calc_MODZ(data):\n",
    "    if len(data)==1:\n",
    "        return data.iloc[0]\n",
    "    if len(data)==2:\n",
    "        return np.mean(data,0)\n",
    "    else:\n",
    "        CM=scor(data.T)[0]\n",
    "        fil=CM<0\n",
    "        CM[fil]=0.01\n",
    "        weights=np.sum(CM,1)-1\n",
    "        weights=weights/np.sum(weights)\n",
    "        weights=weights.reshape((-1,1))\n",
    "        return pd.Series(np.dot(data.T,weights).reshape((-1,1)[0]),index=data.columns)"
   ]
  },
  {
   "cell_type": "markdown",
   "metadata": {},
   "source": [
    "**Importing ligand-receptor network**\\\n",
    "I downloaded the receptor-ligand network from [here](https://zenodo.org/record/3260758/files/lr_network.rds), and preprocessed it in R. From it I choose the ligand and receptor genes"
   ]
  },
  {
   "cell_type": "code",
   "execution_count": 13,
   "metadata": {},
   "outputs": [],
   "source": [
    "#column 'to': receptors, column 'from': ligands\n",
    "ligand_receptor=pd.read_csv('../data/lr_network.csv', sep=',', header=0, index_col=0)"
   ]
  },
  {
   "cell_type": "code",
   "execution_count": 14,
   "metadata": {},
   "outputs": [],
   "source": [
    "good_sources=['kegg_cytokines', 'kegg_neuroactive','pharmacology', 'ramilowski_known']"
   ]
  },
  {
   "cell_type": "code",
   "execution_count": 15,
   "metadata": {},
   "outputs": [],
   "source": [
    "fil=np.in1d(ligand_receptor['source'], good_sources)\n",
    "ligand_receptor=ligand_receptor[fil]"
   ]
  },
  {
   "cell_type": "code",
   "execution_count": 16,
   "metadata": {},
   "outputs": [],
   "source": [
    "receptors=ligand_receptor['to'].unique()\n",
    "ligands=ligand_receptor['from'].unique()"
   ]
  },
  {
   "cell_type": "code",
   "execution_count": 17,
   "metadata": {},
   "outputs": [],
   "source": [
    "l_r=list(receptors)+list(ligands)"
   ]
  },
  {
   "cell_type": "markdown",
   "metadata": {},
   "source": [
    "**Getting the drugs from the Drug Repurposing Hub**"
   ]
  },
  {
   "cell_type": "code",
   "execution_count": 18,
   "metadata": {},
   "outputs": [],
   "source": [
    "drugs=pd.read_csv('../data/repurposing/repurposing_drugs_20180907.txt', sep='\\t', header=0, index_col=None, encoding='latin', skiprows=9)"
   ]
  },
  {
   "cell_type": "code",
   "execution_count": 20,
   "metadata": {},
   "outputs": [],
   "source": [
    "fil=drugs['target'].isnull()\n",
    "drugs=drugs[~fil]"
   ]
  },
  {
   "cell_type": "code",
   "execution_count": 21,
   "metadata": {},
   "outputs": [
    {
     "data": {
      "text/html": [
       "<div>\n",
       "<style scoped>\n",
       "    .dataframe tbody tr th:only-of-type {\n",
       "        vertical-align: middle;\n",
       "    }\n",
       "\n",
       "    .dataframe tbody tr th {\n",
       "        vertical-align: top;\n",
       "    }\n",
       "\n",
       "    .dataframe thead th {\n",
       "        text-align: right;\n",
       "    }\n",
       "</style>\n",
       "<table border=\"1\" class=\"dataframe\">\n",
       "  <thead>\n",
       "    <tr style=\"text-align: right;\">\n",
       "      <th></th>\n",
       "      <th>pert_iname</th>\n",
       "      <th>clinical_phase</th>\n",
       "      <th>moa</th>\n",
       "      <th>target</th>\n",
       "      <th>disease_area</th>\n",
       "      <th>indication</th>\n",
       "    </tr>\n",
       "  </thead>\n",
       "  <tbody>\n",
       "    <tr>\n",
       "      <th>0</th>\n",
       "      <td>[sar9,met(o2)11]-substance-p</td>\n",
       "      <td>Preclinical</td>\n",
       "      <td>tachykinin antagonist</td>\n",
       "      <td>TACR1</td>\n",
       "      <td>NaN</td>\n",
       "      <td>NaN</td>\n",
       "    </tr>\n",
       "    <tr>\n",
       "      <th>1</th>\n",
       "      <td>A-1070722</td>\n",
       "      <td>Preclinical</td>\n",
       "      <td>glycogen synthase kinase inhibitor</td>\n",
       "      <td>GSK3A|GSK3B</td>\n",
       "      <td>NaN</td>\n",
       "      <td>NaN</td>\n",
       "    </tr>\n",
       "    <tr>\n",
       "      <th>2</th>\n",
       "      <td>A-1120</td>\n",
       "      <td>Preclinical</td>\n",
       "      <td>retinoid receptor ligand</td>\n",
       "      <td>RBP4</td>\n",
       "      <td>NaN</td>\n",
       "      <td>NaN</td>\n",
       "    </tr>\n",
       "    <tr>\n",
       "      <th>3</th>\n",
       "      <td>A-317491</td>\n",
       "      <td>Preclinical</td>\n",
       "      <td>purinergic receptor antagonist</td>\n",
       "      <td>P2RX3</td>\n",
       "      <td>NaN</td>\n",
       "      <td>NaN</td>\n",
       "    </tr>\n",
       "    <tr>\n",
       "      <th>5</th>\n",
       "      <td>A-366</td>\n",
       "      <td>Preclinical</td>\n",
       "      <td>histone lysine methyltransferase inhibitor</td>\n",
       "      <td>EHMT1|EHMT2</td>\n",
       "      <td>NaN</td>\n",
       "      <td>NaN</td>\n",
       "    </tr>\n",
       "  </tbody>\n",
       "</table>\n",
       "</div>"
      ],
      "text/plain": [
       "                     pert_iname clinical_phase  \\\n",
       "0  [sar9,met(o2)11]-substance-p    Preclinical   \n",
       "1                     A-1070722    Preclinical   \n",
       "2                        A-1120    Preclinical   \n",
       "3                      A-317491    Preclinical   \n",
       "5                         A-366    Preclinical   \n",
       "\n",
       "                                          moa       target disease_area  \\\n",
       "0                       tachykinin antagonist        TACR1          NaN   \n",
       "1          glycogen synthase kinase inhibitor  GSK3A|GSK3B          NaN   \n",
       "2                    retinoid receptor ligand         RBP4          NaN   \n",
       "3              purinergic receptor antagonist        P2RX3          NaN   \n",
       "5  histone lysine methyltransferase inhibitor  EHMT1|EHMT2          NaN   \n",
       "\n",
       "  indication  \n",
       "0        NaN  \n",
       "1        NaN  \n",
       "2        NaN  \n",
       "3        NaN  \n",
       "5        NaN  "
      ]
     },
     "execution_count": 21,
     "metadata": {},
     "output_type": "execute_result"
    }
   ],
   "source": [
    "drugs.head()"
   ]
  },
  {
   "cell_type": "code",
   "execution_count": 22,
   "metadata": {},
   "outputs": [],
   "source": [
    "#creating a file that has the drug, its target and the target type\n",
    "def split_dataframe(one_line):\n",
    "    if '|' in one_line['target']:\n",
    "        targets=one_line['target'].split('|')\n",
    "        temp=pd.DataFrame(index=range(len(targets)), columns=one_line.index)\n",
    "        for col in temp.columns:\n",
    "            temp[col]=one_line[col]\n",
    "        temp['target']=targets\n",
    "        return temp\n",
    "    else:\n",
    "        return pd.DataFrame(one_line).T"
   ]
  },
  {
   "cell_type": "code",
   "execution_count": 35,
   "metadata": {},
   "outputs": [],
   "source": [
    "results=pd.DataFrame(columns=drugs.columns)\n",
    "for i in drugs.index:\n",
    "    one_line=drugs.loc[i]\n",
    "    results=pd.concat([results, split_dataframe(one_line)])"
   ]
  },
  {
   "cell_type": "code",
   "execution_count": 36,
   "metadata": {},
   "outputs": [],
   "source": [
    "results.to_csv('../results/lincs_drugs.csv', sep=',')"
   ]
  },
  {
   "cell_type": "code",
   "execution_count": 37,
   "metadata": {},
   "outputs": [
    {
     "data": {
      "text/html": [
       "<div>\n",
       "<style scoped>\n",
       "    .dataframe tbody tr th:only-of-type {\n",
       "        vertical-align: middle;\n",
       "    }\n",
       "\n",
       "    .dataframe tbody tr th {\n",
       "        vertical-align: top;\n",
       "    }\n",
       "\n",
       "    .dataframe thead th {\n",
       "        text-align: right;\n",
       "    }\n",
       "</style>\n",
       "<table border=\"1\" class=\"dataframe\">\n",
       "  <thead>\n",
       "    <tr style=\"text-align: right;\">\n",
       "      <th></th>\n",
       "      <th>pert_iname</th>\n",
       "      <th>clinical_phase</th>\n",
       "      <th>moa</th>\n",
       "      <th>target</th>\n",
       "      <th>disease_area</th>\n",
       "      <th>indication</th>\n",
       "    </tr>\n",
       "  </thead>\n",
       "  <tbody>\n",
       "    <tr>\n",
       "      <th>0</th>\n",
       "      <td>[sar9,met(o2)11]-substance-p</td>\n",
       "      <td>Preclinical</td>\n",
       "      <td>tachykinin antagonist</td>\n",
       "      <td>TACR1</td>\n",
       "      <td>NaN</td>\n",
       "      <td>NaN</td>\n",
       "    </tr>\n",
       "    <tr>\n",
       "      <th>0</th>\n",
       "      <td>A-1070722</td>\n",
       "      <td>Preclinical</td>\n",
       "      <td>glycogen synthase kinase inhibitor</td>\n",
       "      <td>GSK3A</td>\n",
       "      <td>NaN</td>\n",
       "      <td>NaN</td>\n",
       "    </tr>\n",
       "    <tr>\n",
       "      <th>1</th>\n",
       "      <td>A-1070722</td>\n",
       "      <td>Preclinical</td>\n",
       "      <td>glycogen synthase kinase inhibitor</td>\n",
       "      <td>GSK3B</td>\n",
       "      <td>NaN</td>\n",
       "      <td>NaN</td>\n",
       "    </tr>\n",
       "    <tr>\n",
       "      <th>2</th>\n",
       "      <td>A-1120</td>\n",
       "      <td>Preclinical</td>\n",
       "      <td>retinoid receptor ligand</td>\n",
       "      <td>RBP4</td>\n",
       "      <td>NaN</td>\n",
       "      <td>NaN</td>\n",
       "    </tr>\n",
       "    <tr>\n",
       "      <th>3</th>\n",
       "      <td>A-317491</td>\n",
       "      <td>Preclinical</td>\n",
       "      <td>purinergic receptor antagonist</td>\n",
       "      <td>P2RX3</td>\n",
       "      <td>NaN</td>\n",
       "      <td>NaN</td>\n",
       "    </tr>\n",
       "  </tbody>\n",
       "</table>\n",
       "</div>"
      ],
      "text/plain": [
       "                     pert_iname clinical_phase  \\\n",
       "0  [sar9,met(o2)11]-substance-p    Preclinical   \n",
       "0                     A-1070722    Preclinical   \n",
       "1                     A-1070722    Preclinical   \n",
       "2                        A-1120    Preclinical   \n",
       "3                      A-317491    Preclinical   \n",
       "\n",
       "                                  moa target disease_area indication  \n",
       "0               tachykinin antagonist  TACR1          NaN        NaN  \n",
       "0  glycogen synthase kinase inhibitor  GSK3A          NaN        NaN  \n",
       "1  glycogen synthase kinase inhibitor  GSK3B          NaN        NaN  \n",
       "2            retinoid receptor ligand   RBP4          NaN        NaN  \n",
       "3      purinergic receptor antagonist  P2RX3          NaN        NaN  "
      ]
     },
     "execution_count": 37,
     "metadata": {},
     "output_type": "execute_result"
    }
   ],
   "source": [
    "results.head()"
   ]
  },
  {
   "cell_type": "code",
   "execution_count": 38,
   "metadata": {},
   "outputs": [
    {
     "data": {
      "text/plain": [
       "(13097, 6)"
      ]
     },
     "execution_count": 38,
     "metadata": {},
     "output_type": "execute_result"
    }
   ],
   "source": [
    "results.shape"
   ]
  },
  {
   "cell_type": "code",
   "execution_count": 39,
   "metadata": {},
   "outputs": [],
   "source": [
    "d=list(results['pert_iname'].unique())\n",
    "l_r_d=l_r + d"
   ]
  },
  {
   "cell_type": "code",
   "execution_count": 40,
   "metadata": {},
   "outputs": [],
   "source": [
    "filt0=np.in1d(results['target'],l_r_d)\n",
    "results=results[filt0]"
   ]
  },
  {
   "cell_type": "code",
   "execution_count": 41,
   "metadata": {},
   "outputs": [
    {
     "data": {
      "text/plain": [
       "(2518, 6)"
      ]
     },
     "execution_count": 41,
     "metadata": {},
     "output_type": "execute_result"
    }
   ],
   "source": [
    "results.shape"
   ]
  },
  {
   "cell_type": "code",
   "execution_count": 42,
   "metadata": {},
   "outputs": [],
   "source": [
    "activators=['agonist', 'activator', 'stimulant', 'enhancer', 'reactivator', 'inducer']\n",
    "inhibitors=['inhibitor', 'antagonist', 'blocker', 'downregulator', 'destabilizer']"
   ]
  },
  {
   "cell_type": "code",
   "execution_count": 43,
   "metadata": {},
   "outputs": [],
   "source": [
    "fil=~results['moa'].isna()\n",
    "results=results[fil]"
   ]
  },
  {
   "cell_type": "code",
   "execution_count": 44,
   "metadata": {},
   "outputs": [],
   "source": [
    "#arrange them in order\n",
    "results.index=range(len(results.index)) "
   ]
  },
  {
   "cell_type": "code",
   "execution_count": 47,
   "metadata": {},
   "outputs": [],
   "source": [
    "#Giving a sign for each drug-target pairs (antagonists: -1, agonists: +1)\n",
    "results['activator']=0\n",
    "results['inhibitor']=0\n",
    "for i in results.index:\n",
    "    moa=results.loc[i, 'moa']\n",
    "    is_a=len(set(moa.split()) &set (activators))\n",
    "    is_i=len(set(moa.split()) &set (inhibitors))\n",
    "    results.loc[i,['activator', 'inhibitor']]=is_a, is_i"
   ]
  },
  {
   "cell_type": "code",
   "execution_count": 48,
   "metadata": {},
   "outputs": [
    {
     "data": {
      "text/html": [
       "<div>\n",
       "<style scoped>\n",
       "    .dataframe tbody tr th:only-of-type {\n",
       "        vertical-align: middle;\n",
       "    }\n",
       "\n",
       "    .dataframe tbody tr th {\n",
       "        vertical-align: top;\n",
       "    }\n",
       "\n",
       "    .dataframe thead th {\n",
       "        text-align: right;\n",
       "    }\n",
       "</style>\n",
       "<table border=\"1\" class=\"dataframe\">\n",
       "  <thead>\n",
       "    <tr style=\"text-align: right;\">\n",
       "      <th></th>\n",
       "      <th>pert_iname</th>\n",
       "      <th>clinical_phase</th>\n",
       "      <th>moa</th>\n",
       "      <th>target</th>\n",
       "      <th>disease_area</th>\n",
       "      <th>indication</th>\n",
       "      <th>activator</th>\n",
       "      <th>inhibitor</th>\n",
       "    </tr>\n",
       "  </thead>\n",
       "  <tbody>\n",
       "    <tr>\n",
       "      <th>0</th>\n",
       "      <td>[sar9,met(o2)11]-substance-p</td>\n",
       "      <td>Preclinical</td>\n",
       "      <td>tachykinin antagonist</td>\n",
       "      <td>TACR1</td>\n",
       "      <td>NaN</td>\n",
       "      <td>NaN</td>\n",
       "      <td>0</td>\n",
       "      <td>1</td>\n",
       "    </tr>\n",
       "    <tr>\n",
       "      <th>1</th>\n",
       "      <td>A-987306</td>\n",
       "      <td>Preclinical</td>\n",
       "      <td>histamine receptor antagonist</td>\n",
       "      <td>AVPR1A</td>\n",
       "      <td>NaN</td>\n",
       "      <td>NaN</td>\n",
       "      <td>0</td>\n",
       "      <td>1</td>\n",
       "    </tr>\n",
       "    <tr>\n",
       "      <th>2</th>\n",
       "      <td>A-987306</td>\n",
       "      <td>Preclinical</td>\n",
       "      <td>histamine receptor antagonist</td>\n",
       "      <td>CCR1</td>\n",
       "      <td>NaN</td>\n",
       "      <td>NaN</td>\n",
       "      <td>0</td>\n",
       "      <td>1</td>\n",
       "    </tr>\n",
       "    <tr>\n",
       "      <th>3</th>\n",
       "      <td>A-987306</td>\n",
       "      <td>Preclinical</td>\n",
       "      <td>histamine receptor antagonist</td>\n",
       "      <td>HTR1A</td>\n",
       "      <td>NaN</td>\n",
       "      <td>NaN</td>\n",
       "      <td>0</td>\n",
       "      <td>1</td>\n",
       "    </tr>\n",
       "    <tr>\n",
       "      <th>4</th>\n",
       "      <td>A-987306</td>\n",
       "      <td>Preclinical</td>\n",
       "      <td>histamine receptor antagonist</td>\n",
       "      <td>HTR1B</td>\n",
       "      <td>NaN</td>\n",
       "      <td>NaN</td>\n",
       "      <td>0</td>\n",
       "      <td>1</td>\n",
       "    </tr>\n",
       "  </tbody>\n",
       "</table>\n",
       "</div>"
      ],
      "text/plain": [
       "                     pert_iname clinical_phase                            moa  \\\n",
       "0  [sar9,met(o2)11]-substance-p    Preclinical          tachykinin antagonist   \n",
       "1                      A-987306    Preclinical  histamine receptor antagonist   \n",
       "2                      A-987306    Preclinical  histamine receptor antagonist   \n",
       "3                      A-987306    Preclinical  histamine receptor antagonist   \n",
       "4                      A-987306    Preclinical  histamine receptor antagonist   \n",
       "\n",
       "   target disease_area indication  activator  inhibitor  \n",
       "0   TACR1          NaN        NaN          0          1  \n",
       "1  AVPR1A          NaN        NaN          0          1  \n",
       "2    CCR1          NaN        NaN          0          1  \n",
       "3   HTR1A          NaN        NaN          0          1  \n",
       "4   HTR1B          NaN        NaN          0          1  "
      ]
     },
     "execution_count": 48,
     "metadata": {},
     "output_type": "execute_result"
    }
   ],
   "source": [
    "results.head()"
   ]
  },
  {
   "cell_type": "code",
   "execution_count": 49,
   "metadata": {},
   "outputs": [],
   "source": [
    "results.to_csv('../results/lincs_drugs_act_inhib.csv', sep=',')"
   ]
  },
  {
   "cell_type": "markdown",
   "metadata": {},
   "source": [
    "**Importing the gse92742 and gse70138 files**"
   ]
  },
  {
   "cell_type": "code",
   "execution_count": 52,
   "metadata": {},
   "outputs": [],
   "source": [
    "gse92742=pd.read_csv('../data/gse92742/GSE92742_Broad_LINCS_sig_info.txt', sep='\\t', header=0, index_col=0) \n",
    "gse70138=pd.read_csv('../data/gse70138/GSE70138_Broad_LINCS_sig_info.txt', sep='\\t', header=0, index_col=0) "
   ]
  },
  {
   "cell_type": "code",
   "execution_count": 51,
   "metadata": {},
   "outputs": [
    {
     "data": {
      "text/plain": [
       "array(['ctl_vehicle', 'trt_cp', 'ctl_untrt', 'trt_sh.cgs',\n",
       "       'ctl_vehicle.cns', 'ctl_vector.cns', 'ctl_untrt.cns', 'trt_sh.css',\n",
       "       'trt_lig', 'ctl_vector', 'trt_sh', 'trt_oe', 'trt_oe.mut'],\n",
       "      dtype=object)"
      ]
     },
     "execution_count": 51,
     "metadata": {},
     "output_type": "execute_result"
    }
   ],
   "source": [
    "gse92742['pert_type'].unique() "
   ]
  },
  {
   "cell_type": "code",
   "execution_count": 54,
   "metadata": {},
   "outputs": [
    {
     "data": {
      "text/plain": [
       "array(['ctl_vehicle', 'trt_cp', 'trt_xpr', 'ctl_untrt', 'ctl_vector'],\n",
       "      dtype=object)"
      ]
     },
     "execution_count": 54,
     "metadata": {},
     "output_type": "execute_result"
    }
   ],
   "source": [
    "gse70138['pert_type'].unique()"
   ]
  },
  {
   "cell_type": "code",
   "execution_count": 53,
   "metadata": {},
   "outputs": [],
   "source": [
    "#filering by perturbation type\n",
    "good_92742=['trt_sh.cgs','trt_lig','trt_cp','trt_oe']\n",
    "fil1=np.in1d(gse92742['pert_type'], good_92742)\n",
    "gse92742=gse92742[fil1]\n",
    "\n",
    "good_70138=['trt_cp','trt_xpr']\n",
    "fil2=np.in1d(gse70138['pert_type'], good_70138)\n",
    "gse70138=gse70138[fil2]"
   ]
  },
  {
   "cell_type": "code",
   "execution_count": 56,
   "metadata": {},
   "outputs": [],
   "source": [
    "#filtering receptors and ligans\n",
    "filt1=np.in1d(gse92742['pert_iname'], l_r_d) \n",
    "gse92742=gse92742[filt1]\n",
    "\n",
    "filt2=np.in1d(gse70138['pert_iname'], l_r_d)\n",
    "gse70138=gse70138[filt2]"
   ]
  },
  {
   "cell_type": "code",
   "execution_count": 62,
   "metadata": {},
   "outputs": [],
   "source": [
    "#Giving signs for the perturbations:\n",
    "#CRIPSR, shRNA : -1 \n",
    "#ligand, overexpression: +1\n",
    "gse70138['sign']=0\n",
    "gse92742['sign']=0\n",
    "\n",
    "fil_xpr=gse70138['pert_type']=='trt_xpr'\n",
    "gse70138.loc[gse70138.index[fil_xpr],'sign']=-1\n",
    "fil_sh=gse92742['pert_type']=='trt_sh.cgs',\n",
    "gse92742.loc[gse92742.index[fil_sh],'sign']=-1\n",
    "fil_lig=gse92742['pert_type']=='trt_lig'\n",
    "gse92742.loc[gse92742.index[fil_lig],'sign']=+1\n",
    "fil_oe=gse92742['pert_type']=='trt_oe'\n",
    "gse92742.loc[gse92742.index[fil_oe],'sign']=+1"
   ]
  },
  {
   "cell_type": "code",
   "execution_count": 63,
   "metadata": {},
   "outputs": [],
   "source": [
    "gse70138.to_csv('../results/LINCS_gse70138.csv', sep=',')\n",
    "gse92742.to_csv('../results/LINCS_gse92742.csv', sep=',')"
   ]
  },
  {
   "cell_type": "markdown",
   "metadata": {},
   "source": [
    "**Creating a seperate file for each perturbations**"
   ]
  },
  {
   "cell_type": "code",
   "execution_count": 64,
   "metadata": {},
   "outputs": [],
   "source": [
    "fil_xpr2=gse70138['pert_type']=='trt_xpr'\n",
    "gse70138_trt_xpr=gse70138[fil_xpr2]\n",
    "gse70138_trt_xpr.to_csv('../results/LINCS_gse70138_trt_xpr.csv', sep=',')"
   ]
  },
  {
   "cell_type": "code",
   "execution_count": 65,
   "metadata": {},
   "outputs": [],
   "source": [
    "fil_cp1=gse70138['pert_type']=='trt_cp'\n",
    "gse70138_trt_cp=gse70138[fil_cp1]\n",
    "gse70138_trt_cp.to_csv('../results/LINCS_gse70138_trt_cp.csv', sep=',')"
   ]
  },
  {
   "cell_type": "code",
   "execution_count": 66,
   "metadata": {},
   "outputs": [],
   "source": [
    "fil_cp2=gse92742['pert_type']=='trt_cp'\n",
    "gse92742_trt_cp=gse92742[fil_cp2]\n",
    "gse92742_trt_cp.to_csv('../results/LINCS_gse92742_trt_cp.csv', sep=',')"
   ]
  },
  {
   "cell_type": "code",
   "execution_count": 67,
   "metadata": {},
   "outputs": [],
   "source": [
    "fil_sh2=gse92742['pert_type']=='trt_sh.cgs'\n",
    "gse92742_trt_sh=gse92742[fil_sh2]\n",
    "gse92742_trt_sh.to_csv('../results/LINCS_gse92742_trt_sh.csv', sep=',')"
   ]
  },
  {
   "cell_type": "code",
   "execution_count": 68,
   "metadata": {},
   "outputs": [],
   "source": [
    "fil_lig2=gse92742['pert_type']=='trt_lig'\n",
    "gse92742_trt_lig=gse92742[fil_lig2]\n",
    "gse92742_trt_lig.to_csv('../results/LINCS_gse92742_trt_lig.csv', sep=',')"
   ]
  },
  {
   "cell_type": "code",
   "execution_count": 69,
   "metadata": {},
   "outputs": [],
   "source": [
    "fil_oe2=gse92742['pert_type']=='trt_oe'\n",
    "gse92742_trt_oe=gse92742[fil_oe2]\n",
    "gse92742_trt_oe.to_csv('../results/LINCS_gse92742_trt_oe.csv', sep=',')"
   ]
  },
  {
   "cell_type": "markdown",
   "metadata": {},
   "source": [
    "**Creating consensus singatures**"
   ]
  },
  {
   "cell_type": "code",
   "execution_count": null,
   "metadata": {},
   "outputs": [],
   "source": [
    "gse70138_trt_xpr=pd.read_csv('../results/LINCS_gse70138_trt_xpr.csv', sep=',',header=0, index_col=0, low_memory=False)"
   ]
  },
  {
   "cell_type": "code",
   "execution_count": null,
   "metadata": {},
   "outputs": [],
   "source": [
    "#rows are the perturbed genes, columns are the measured landmark genes from LINCS\n",
    "genes_perturbed=gse70138_trt_xpr['pert_iname'].unique()\n",
    "consensus_signatures_gse70138_trt_xpr=pd.DataFrame(index=genes_perturbed,columns=gene_ids.index.astype(str))\n",
    "consensus_signatures_gse70138_trt_xpr.head()"
   ]
  },
  {
   "cell_type": "code",
   "execution_count": null,
   "metadata": {},
   "outputs": [],
   "source": [
    "for i in range(len(genes_perturbed)):\n",
    "    if (i%100)==0:\n",
    "        print('Done for %i genes' %i)\n",
    "    gene=genes_perturbed[i]\n",
    "    fil=gse70138_trt_xpr['pert_iname']==gene\n",
    "    samples=gse70138_trt_xpr.index[fil]\n",
    "    expression=parse('../data/gse70138/GSE70138_Broad_LINCS_Level5_COMPZ_n118050x12328.gctx',\n",
    "                 cid=samples,rid=gene_ids.index.astype(str)).data_df.T[gene_ids.index.astype(str)]\n",
    "    consensus_signatures_gse70138_trt_xpr.loc[gene]=calc_MODZ(expression)"
   ]
  },
  {
   "cell_type": "code",
   "execution_count": null,
   "metadata": {},
   "outputs": [],
   "source": [
    "consensus_signatures_gse70138_trt_xpr.columns=gene_ids[consensus_signatures_gse70138_trt_xpr.columns].values"
   ]
  },
  {
   "cell_type": "code",
   "execution_count": null,
   "metadata": {},
   "outputs": [],
   "source": [
    "consensus_signatures_gse70138_trt_xpr.to_csv('../results/consensus_signature_gse70138_trt_xpr.csv',sep=',')"
   ]
  },
  {
   "cell_type": "code",
   "execution_count": null,
   "metadata": {},
   "outputs": [],
   "source": [
    "gse70138_trt_cp=pd.read_csv('../results/LINCS_gse70138_trt_cp.csv', sep=',',header=0, index_col=0, low_memory=False)"
   ]
  },
  {
   "cell_type": "code",
   "execution_count": null,
   "metadata": {},
   "outputs": [],
   "source": [
    "genes_perturbed1=gse70138_trt_cp['pert_iname'].unique()\n",
    "consensus_signatures_gse70138_trt_cp=pd.DataFrame(index=genes_perturbed1,columns=gene_ids.index)\n",
    "consensus_signatures_gse70138_trt_cp.head()"
   ]
  },
  {
   "cell_type": "code",
   "execution_count": null,
   "metadata": {},
   "outputs": [],
   "source": [
    "for i in range(len(genes_perturbed1)):\n",
    "    if (i%100)==0:\n",
    "        print('Done for %i genes' %i)\n",
    "    gene=genes_perturbed1[i]\n",
    "    fil=gse70138_trt_cp['pert_iname']==gene\n",
    "    samples=gse70138_trt_cp.index[fil]\n",
    "    expression=parse('../data/gse70138/GSE70138_Broad_LINCS_Level5_COMPZ_n118050x12328.gctx',\n",
    "                 cid=samples,rid=gene_ids.index).data_df.T[gene_ids.index]\n",
    "    consensus_signatures_gse70138_trt_cp.loc[gene]=calc_MODZ(expression)"
   ]
  },
  {
   "cell_type": "code",
   "execution_count": null,
   "metadata": {},
   "outputs": [],
   "source": [
    "consensus_signatures_gse70138_trt_cp.columns=gene_ids[consensus_signatures_gse70138_trt_cp.columns].values"
   ]
  },
  {
   "cell_type": "code",
   "execution_count": null,
   "metadata": {},
   "outputs": [],
   "source": [
    "consensus_signatures_gse70138_trt_cp.to_csv('../results/consensus_signature_gse70138_trt_cp.csv',sep=',')"
   ]
  },
  {
   "cell_type": "code",
   "execution_count": null,
   "metadata": {},
   "outputs": [],
   "source": [
    "gse92742_trt_cp=pd.read_csv('../results/LINCS_gse92742_trt_cp.csv', sep=',',header=0, index_col=0, low_memory=False)"
   ]
  },
  {
   "cell_type": "code",
   "execution_count": null,
   "metadata": {},
   "outputs": [],
   "source": [
    "genes_perturbed2=gse92742_trt_cp['pert_iname'].unique()\n",
    "consensus_signatures_gse92742_trt_cp=pd.DataFrame(index=genes_perturbed2,columns=gene_ids.index)\n",
    "consensus_signatures_gse92742_trt_cp.head()"
   ]
  },
  {
   "cell_type": "code",
   "execution_count": null,
   "metadata": {},
   "outputs": [],
   "source": [
    "for i in range(len(genes_perturbed2)):\n",
    "    if (i%100)==0:\n",
    "        print('Done for %i genes' %i)\n",
    "    gene=genes_perturbed2[i]\n",
    "    fil=gse92742_trt_cp['pert_iname']==gene\n",
    "    samples=gse92742_trt_cp.index[fil]\n",
    "    expression=parse('../data/GSE92742/GSE92742_Broad_LINCS_Level5_COMPZ.MODZ_n473647x12328.gctx',\n",
    "                 cid=samples,rid=gene_ids.index).data_df.T[gene_ids.index]\n",
    "    consensus_signatures_gse92742_trt_cp.loc[gene]=calc_MODZ(expression)"
   ]
  },
  {
   "cell_type": "code",
   "execution_count": null,
   "metadata": {},
   "outputs": [],
   "source": [
    "consensus_signatures_gse92742_trt_cp.head()"
   ]
  },
  {
   "cell_type": "code",
   "execution_count": null,
   "metadata": {},
   "outputs": [],
   "source": [
    "consensus_signatures_gse92742_trt_cp.columns=gene_ids[consensus_signatures_gse92742_trt_cp.columns].values"
   ]
  },
  {
   "cell_type": "code",
   "execution_count": null,
   "metadata": {},
   "outputs": [],
   "source": [
    "consensus_signatures_gse92742_trt_cp.to_csv('../results/consensus_signature_gse92742_trt_cp.csv',sep=',')"
   ]
  },
  {
   "cell_type": "code",
   "execution_count": null,
   "metadata": {},
   "outputs": [],
   "source": [
    "gse92742_trt_sh=pd.read_csv('../results/LINCS_gse92742_trt_sh.csv', sep=',',header=0, index_col=0, low_memory=False)"
   ]
  },
  {
   "cell_type": "code",
   "execution_count": null,
   "metadata": {},
   "outputs": [],
   "source": [
    "genes_perturbed3=gse92742_trt_sh['pert_iname'].unique()\n",
    "consensus_signatures_gse92742_trt_sh=pd.DataFrame(index=genes_perturbed3,columns=gene_ids.index)\n",
    "consensus_signatures_gse92742_trt_sh.head()"
   ]
  },
  {
   "cell_type": "code",
   "execution_count": null,
   "metadata": {},
   "outputs": [],
   "source": [
    "for i in range(len(genes_perturbed3)):\n",
    "    if (i%100)==0:\n",
    "        print('Done for %i genes' %i)\n",
    "    gene=genes_perturbed3[i]\n",
    "    fil=gse92742_trt_sh['pert_iname']==gene\n",
    "    samples=gse92742_trt_sh.index[fil]\n",
    "    expression=parse('../data/GSE92742/GSE92742_Broad_LINCS_Level5_COMPZ.MODZ_n473647x12328.gctx',\n",
    "                 cid=samples,rid=gene_ids.index).data_df.T[gene_ids.index]\n",
    "    consensus_signatures_gse92742_trt_sh.loc[gene]=calc_MODZ(expression)"
   ]
  },
  {
   "cell_type": "code",
   "execution_count": null,
   "metadata": {},
   "outputs": [],
   "source": [
    "consensus_signatures_gse92742_trt_sh.head()"
   ]
  },
  {
   "cell_type": "code",
   "execution_count": null,
   "metadata": {},
   "outputs": [],
   "source": [
    "consensus_signatures_gse92742_trt_sh.columns=gene_ids[consensus_signatures_gse92742_trt_sh.columns].values"
   ]
  },
  {
   "cell_type": "code",
   "execution_count": null,
   "metadata": {},
   "outputs": [],
   "source": [
    "consensus_signatures_gse92742_trt_sh.to_csv('../results/consensus_signature_gse92742_trt_sh.csv',sep=',')"
   ]
  },
  {
   "cell_type": "code",
   "execution_count": null,
   "metadata": {},
   "outputs": [],
   "source": [
    "gse92742_trt_sh_fil=pd.read_csv('../results/LINCS_gse92742_trt_sh_fil.csv', sep=',',header=0, index_col=0, low_memory=False)"
   ]
  },
  {
   "cell_type": "code",
   "execution_count": null,
   "metadata": {},
   "outputs": [],
   "source": [
    "genes_perturbed7=gse92742_trt_sh_fil['pert_iname'].unique()\n",
    "consensus_signatures_gse92742_trt_sh_fil=pd.DataFrame(index=genes_perturbed7,columns=gene_ids.index)\n",
    "consensus_signatures_gse92742_trt_sh_fil.head()"
   ]
  },
  {
   "cell_type": "code",
   "execution_count": null,
   "metadata": {},
   "outputs": [],
   "source": [
    "for i in range(len(genes_perturbed7)):\n",
    "    if (i%100)==0:\n",
    "        print('Done for %i genes' %i)\n",
    "    gene=genes_perturbed7[i]\n",
    "    fil=gse92742_trt_sh_fil['pert_iname']==gene\n",
    "    samples=gse92742_trt_sh_fil.index[fil]\n",
    "    expression=parse('../data/GSE92742/GSE92742_Broad_LINCS_Level5_COMPZ.MODZ_n473647x12328.gctx',\n",
    "                 cid=samples,rid=gene_ids.index).data_df.T[gene_ids.index]\n",
    "    consensus_signatures_gse92742_trt_sh_fil.loc[gene]=calc_MODZ(expression)"
   ]
  },
  {
   "cell_type": "code",
   "execution_count": null,
   "metadata": {},
   "outputs": [],
   "source": [
    "consensus_signatures_gse92742_trt_sh_fil.head()"
   ]
  },
  {
   "cell_type": "code",
   "execution_count": null,
   "metadata": {},
   "outputs": [],
   "source": [
    "consensus_signatures_gse92742_trt_sh_fil.columns=gene_ids[consensus_signatures_gse92742_trt_sh_fil.columns].values"
   ]
  },
  {
   "cell_type": "code",
   "execution_count": null,
   "metadata": {},
   "outputs": [],
   "source": [
    "consensus_signatures_gse92742_trt_sh_fil.to_csv('../results/consensus_signature_gse92742_trt_sh_fil.csv',sep=',')"
   ]
  },
  {
   "cell_type": "code",
   "execution_count": null,
   "metadata": {},
   "outputs": [],
   "source": [
    "gse92742_trt_lig=pd.read_csv('../results/LINCS_gse92742_trt_lig.csv', sep=',',header=0, index_col=0, low_memory=False)"
   ]
  },
  {
   "cell_type": "code",
   "execution_count": null,
   "metadata": {},
   "outputs": [],
   "source": [
    "genes_perturbed4=gse92742_trt_lig['pert_iname'].unique()\n",
    "consensus_signatures_gse92742_trt_lig=pd.DataFrame(index=genes_perturbed4,columns=gene_ids.index)\n",
    "consensus_signatures_gse92742_trt_lig.head()"
   ]
  },
  {
   "cell_type": "code",
   "execution_count": null,
   "metadata": {},
   "outputs": [],
   "source": [
    "for i in range(len(genes_perturbed4)):\n",
    "    if (i%100)==0:\n",
    "        print('Done for %i genes' %i)\n",
    "    gene=genes_perturbed4[i]\n",
    "    fil=gse92742_trt_lig['pert_iname']==gene\n",
    "    samples=gse92742_trt_lig.index[fil]\n",
    "    expression=parse('../data/GSE92742/GSE92742_Broad_LINCS_Level5_COMPZ.MODZ_n473647x12328.gctx',\n",
    "                 cid=samples,rid=gene_ids.index).data_df.T[gene_ids.index]\n",
    "    consensus_signatures_gse92742_trt_lig.loc[gene]=calc_MODZ(expression)"
   ]
  },
  {
   "cell_type": "code",
   "execution_count": null,
   "metadata": {},
   "outputs": [],
   "source": [
    "consensus_signatures_gse92742_trt_lig.head()"
   ]
  },
  {
   "cell_type": "code",
   "execution_count": null,
   "metadata": {},
   "outputs": [],
   "source": [
    "consensus_signatures_gse92742_trt_lig.columns=gene_ids[consensus_signatures_gse92742_trt_lig.columns].values"
   ]
  },
  {
   "cell_type": "code",
   "execution_count": null,
   "metadata": {},
   "outputs": [],
   "source": [
    "consensus_signatures_gse92742_trt_lig.to_csv('../results/consensus_signature_gse92742_trt_lig.csv',sep=',')"
   ]
  },
  {
   "cell_type": "code",
   "execution_count": null,
   "metadata": {},
   "outputs": [],
   "source": [
    "gse92742_trt_oe=pd.read_csv('../results/LINCS_gse92742_trt_oe.csv', sep=',',header=0, index_col=0, low_memory=False)"
   ]
  },
  {
   "cell_type": "code",
   "execution_count": null,
   "metadata": {},
   "outputs": [],
   "source": [
    "genes_perturbed5=gse92742_trt_oe['pert_iname'].unique()\n",
    "consensus_signatures_gse92742_trt_oe=pd.DataFrame(index=genes_perturbed5,columns=gene_ids.index)\n",
    "consensus_signatures_gse92742_trt_oe.head()"
   ]
  },
  {
   "cell_type": "code",
   "execution_count": null,
   "metadata": {},
   "outputs": [],
   "source": [
    "for i in range(len(genes_perturbed5)):\n",
    "    if (i%100)==0:\n",
    "        print('Done for %i genes' %i)\n",
    "    gene=genes_perturbed5[i]\n",
    "    fil=gse92742_trt_oe['pert_iname']==gene\n",
    "    samples=gse92742_trt_oe.index[fil]\n",
    "    expression=parse('../data/GSE92742/GSE92742_Broad_LINCS_Level5_COMPZ.MODZ_n473647x12328.gctx',\n",
    "                 cid=samples,rid=gene_ids.index).data_df.T[gene_ids.index]\n",
    "    consensus_signatures_gse92742_trt_oe.loc[gene]=calc_MODZ(expression)"
   ]
  },
  {
   "cell_type": "code",
   "execution_count": null,
   "metadata": {},
   "outputs": [],
   "source": [
    "consensus_signatures_gse92742_trt_oe.head()"
   ]
  },
  {
   "cell_type": "code",
   "execution_count": null,
   "metadata": {},
   "outputs": [],
   "source": [
    "consensus_signatures_gse92742_trt_oe.columns=gene_ids[consensus_signatures_gse92742_trt_oe.columns].values"
   ]
  },
  {
   "cell_type": "code",
   "execution_count": null,
   "metadata": {},
   "outputs": [],
   "source": [
    "consensus_signatures_gse92742_trt_oe.to_csv('../results/consensus_signature_gse92742_trt_oe.csv',sep=',')"
   ]
  },
  {
   "cell_type": "code",
   "execution_count": null,
   "metadata": {},
   "outputs": [],
   "source": []
  }
 ],
 "metadata": {
  "kernelspec": {
   "display_name": "Python 3",
   "language": "python",
   "name": "python3"
  },
  "language_info": {
   "codemirror_mode": {
    "name": "ipython",
    "version": 3
   },
   "file_extension": ".py",
   "mimetype": "text/x-python",
   "name": "python",
   "nbconvert_exporter": "python",
   "pygments_lexer": "ipython3",
   "version": "3.8.3"
  }
 },
 "nbformat": 4,
 "nbformat_minor": 4
}
