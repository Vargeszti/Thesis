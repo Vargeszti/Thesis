{
 "cells": [
  {
   "cell_type": "code",
   "execution_count": 61,
   "metadata": {},
   "outputs": [],
   "source": [
    "from subprocess import call\n",
    "import pandas as pd"
   ]
  },
  {
   "cell_type": "code",
   "execution_count": 63,
   "metadata": {},
   "outputs": [
    {
     "data": {
      "text/plain": [
       "0"
      ]
     },
     "execution_count": 63,
     "metadata": {},
     "output_type": "execute_result"
    }
   ],
   "source": [
    "#Probing out calling an R script from Python\n",
    "call([ 'C:/Users/nidik/R/R-4.0.2/bin/Rscript.exe','R_cml.R','szilva','tojas'])"
   ]
  },
  {
   "cell_type": "markdown",
   "metadata": {},
   "source": [
    "**Importing the single drug and single gene perturbation files I worked with in the 'genes_from_creeds_NN' code file**"
   ]
  },
  {
   "cell_type": "code",
   "execution_count": 65,
   "metadata": {},
   "outputs": [],
   "source": [
    "#single gene perturbation file:\n",
    "gene= pd.read_csv('../results/gene_perturb.csv', sep=',', header=0, index_col=0)"
   ]
  },
  {
   "cell_type": "code",
   "execution_count": 66,
   "metadata": {},
   "outputs": [
    {
     "data": {
      "text/html": [
       "<div>\n",
       "<style scoped>\n",
       "    .dataframe tbody tr th:only-of-type {\n",
       "        vertical-align: middle;\n",
       "    }\n",
       "\n",
       "    .dataframe tbody tr th {\n",
       "        vertical-align: top;\n",
       "    }\n",
       "\n",
       "    .dataframe thead th {\n",
       "        text-align: right;\n",
       "    }\n",
       "</style>\n",
       "<table border=\"1\" class=\"dataframe\">\n",
       "  <thead>\n",
       "    <tr style=\"text-align: right;\">\n",
       "      <th></th>\n",
       "      <th>cell_type</th>\n",
       "      <th>chdir_norm</th>\n",
       "      <th>ctrl_ids</th>\n",
       "      <th>curator</th>\n",
       "      <th>geo_id</th>\n",
       "      <th>hs_gene_symbol</th>\n",
       "      <th>mm_gene_symbol</th>\n",
       "      <th>organism</th>\n",
       "      <th>pert_ids</th>\n",
       "      <th>pert_type</th>\n",
       "      <th>platform</th>\n",
       "      <th>version</th>\n",
       "      <th>sign</th>\n",
       "    </tr>\n",
       "  </thead>\n",
       "  <tbody>\n",
       "    <tr>\n",
       "      <th>1928</th>\n",
       "      <td>brown adipose tissue of ob/ob mice</td>\n",
       "      <td>NaN</td>\n",
       "      <td>GSM800590|GSM800591|GSM800592|GSM800593|GSM800...</td>\n",
       "      <td>Andrew</td>\n",
       "      <td>GSE32316</td>\n",
       "      <td>FGFR1</td>\n",
       "      <td>Fgfr1</td>\n",
       "      <td>mouse</td>\n",
       "      <td>GSM800596|GSM800597|GSM800598|GSM800599|GSM800...</td>\n",
       "      <td>drugactivation</td>\n",
       "      <td>GPL1261</td>\n",
       "      <td>1.0</td>\n",
       "      <td>0</td>\n",
       "    </tr>\n",
       "    <tr>\n",
       "      <th>2347</th>\n",
       "      <td>heart</td>\n",
       "      <td>NaN</td>\n",
       "      <td>GSM360098|GSM360099|GSM360100</td>\n",
       "      <td>nbongio</td>\n",
       "      <td>GSE14411</td>\n",
       "      <td>ITGB1</td>\n",
       "      <td>Itgb1</td>\n",
       "      <td>mouse</td>\n",
       "      <td>GSM360101|GSM360102|GSM360103</td>\n",
       "      <td>KO</td>\n",
       "      <td>GPL6246</td>\n",
       "      <td>1.0</td>\n",
       "      <td>-1</td>\n",
       "    </tr>\n",
       "    <tr>\n",
       "      <th>2584</th>\n",
       "      <td>Osteoclasts</td>\n",
       "      <td>NaN</td>\n",
       "      <td>GSM1487524|GSM1487525|GSM1487526</td>\n",
       "      <td>maroulisv</td>\n",
       "      <td>GSE60761</td>\n",
       "      <td>CALCR</td>\n",
       "      <td>Calcr</td>\n",
       "      <td>mouse</td>\n",
       "      <td>GSM1487530|GSM1487531|GSM1487532</td>\n",
       "      <td>KO</td>\n",
       "      <td>GPL1261</td>\n",
       "      <td>1.0</td>\n",
       "      <td>-1</td>\n",
       "    </tr>\n",
       "    <tr>\n",
       "      <th>2589</th>\n",
       "      <td>glioma cells</td>\n",
       "      <td>NaN</td>\n",
       "      <td>GSM1498939|GSM1498940|GSM1498941</td>\n",
       "      <td>NaN</td>\n",
       "      <td>GSE61178</td>\n",
       "      <td>KDR</td>\n",
       "      <td>Kdr</td>\n",
       "      <td>human</td>\n",
       "      <td>GSM1498942|GSM1498943|GSM1498944</td>\n",
       "      <td>KD</td>\n",
       "      <td>GPL10558</td>\n",
       "      <td>1.0</td>\n",
       "      <td>-1</td>\n",
       "    </tr>\n",
       "    <tr>\n",
       "      <th>1852</th>\n",
       "      <td>mammary gland</td>\n",
       "      <td>NaN</td>\n",
       "      <td>GSM72723|GSM72730|GSM72795|GSM72877</td>\n",
       "      <td>Andrew</td>\n",
       "      <td>GSE3260</td>\n",
       "      <td>FGFR1</td>\n",
       "      <td>Fgfr1</td>\n",
       "      <td>mouse</td>\n",
       "      <td>GSM72726|GSM72727|GSM72789|GSM72793|GSM72869</td>\n",
       "      <td>activemutant</td>\n",
       "      <td>GPL81</td>\n",
       "      <td>1.0</td>\n",
       "      <td>1</td>\n",
       "    </tr>\n",
       "  </tbody>\n",
       "</table>\n",
       "</div>"
      ],
      "text/plain": [
       "                               cell_type chdir_norm  \\\n",
       "1928  brown adipose tissue of ob/ob mice        NaN   \n",
       "2347                               heart        NaN   \n",
       "2584                         Osteoclasts        NaN   \n",
       "2589                        glioma cells        NaN   \n",
       "1852                       mammary gland        NaN   \n",
       "\n",
       "                                               ctrl_ids    curator    geo_id  \\\n",
       "1928  GSM800590|GSM800591|GSM800592|GSM800593|GSM800...     Andrew  GSE32316   \n",
       "2347                      GSM360098|GSM360099|GSM360100    nbongio  GSE14411   \n",
       "2584                   GSM1487524|GSM1487525|GSM1487526  maroulisv  GSE60761   \n",
       "2589                   GSM1498939|GSM1498940|GSM1498941        NaN  GSE61178   \n",
       "1852                GSM72723|GSM72730|GSM72795|GSM72877     Andrew   GSE3260   \n",
       "\n",
       "     hs_gene_symbol mm_gene_symbol organism  \\\n",
       "1928          FGFR1          Fgfr1    mouse   \n",
       "2347          ITGB1          Itgb1    mouse   \n",
       "2584          CALCR          Calcr    mouse   \n",
       "2589            KDR            Kdr    human   \n",
       "1852          FGFR1          Fgfr1    mouse   \n",
       "\n",
       "                                               pert_ids       pert_type  \\\n",
       "1928  GSM800596|GSM800597|GSM800598|GSM800599|GSM800...  drugactivation   \n",
       "2347                      GSM360101|GSM360102|GSM360103              KO   \n",
       "2584                   GSM1487530|GSM1487531|GSM1487532              KO   \n",
       "2589                   GSM1498942|GSM1498943|GSM1498944              KD   \n",
       "1852       GSM72726|GSM72727|GSM72789|GSM72793|GSM72869    activemutant   \n",
       "\n",
       "      platform  version  sign  \n",
       "1928   GPL1261      1.0     0  \n",
       "2347   GPL6246      1.0    -1  \n",
       "2584   GPL1261      1.0    -1  \n",
       "2589  GPL10558      1.0    -1  \n",
       "1852     GPL81      1.0     1  "
      ]
     },
     "execution_count": 66,
     "metadata": {},
     "output_type": "execute_result"
    }
   ],
   "source": [
    "gene.head()"
   ]
  },
  {
   "cell_type": "code",
   "execution_count": 67,
   "metadata": {},
   "outputs": [],
   "source": [
    "#single drug perturbation file:\n",
    "drug = pd.read_csv('../results/drug_perturb.csv', sep=',', header=0, index_col=0)"
   ]
  },
  {
   "cell_type": "code",
   "execution_count": 68,
   "metadata": {},
   "outputs": [
    {
     "data": {
      "text/html": [
       "<div>\n",
       "<style scoped>\n",
       "    .dataframe tbody tr th:only-of-type {\n",
       "        vertical-align: middle;\n",
       "    }\n",
       "\n",
       "    .dataframe tbody tr th {\n",
       "        vertical-align: top;\n",
       "    }\n",
       "\n",
       "    .dataframe thead th {\n",
       "        text-align: right;\n",
       "    }\n",
       "</style>\n",
       "<table border=\"1\" class=\"dataframe\">\n",
       "  <thead>\n",
       "    <tr style=\"text-align: right;\">\n",
       "      <th></th>\n",
       "      <th>cell_type</th>\n",
       "      <th>ctrl_ids</th>\n",
       "      <th>curator</th>\n",
       "      <th>drug_name</th>\n",
       "      <th>drugbank_id</th>\n",
       "      <th>geo_id</th>\n",
       "      <th>organism</th>\n",
       "      <th>pert_ids</th>\n",
       "      <th>platform</th>\n",
       "      <th>pubchem_cid</th>\n",
       "      <th>smiles</th>\n",
       "      <th>version</th>\n",
       "      <th>Target</th>\n",
       "      <th>Target_type</th>\n",
       "      <th>sign</th>\n",
       "    </tr>\n",
       "  </thead>\n",
       "  <tbody>\n",
       "    <tr>\n",
       "      <th>1416</th>\n",
       "      <td>brainstem</td>\n",
       "      <td>GSM53440|GSM53441|GSM53442|GSM53443|GSM53444</td>\n",
       "      <td>garibr01</td>\n",
       "      <td>Phenytoin</td>\n",
       "      <td>DB00252</td>\n",
       "      <td>GSE2880</td>\n",
       "      <td>rat</td>\n",
       "      <td>GSM53412|GSM53413|GSM53414|GSM53415|GSM53416</td>\n",
       "      <td>GPL1355</td>\n",
       "      <td>1775.0</td>\n",
       "      <td>C1=CC=C(C=C1)C2(C(=O)NC(=O)N2)C3=CC=CC=C3</td>\n",
       "      <td>1.0</td>\n",
       "      <td>SCN2A</td>\n",
       "      <td>antagonist</td>\n",
       "      <td>-1</td>\n",
       "    </tr>\n",
       "    <tr>\n",
       "      <th>730</th>\n",
       "      <td>Chronic myelogenous leukemia CD34+CD38- cells</td>\n",
       "      <td>GSM521987|GSM521991|GSM521995</td>\n",
       "      <td>cadimo</td>\n",
       "      <td>Imatinib</td>\n",
       "      <td>DB00619</td>\n",
       "      <td>GSE20876</td>\n",
       "      <td>human</td>\n",
       "      <td>GSM521988|GSM521992|GSM521996</td>\n",
       "      <td>GPL570</td>\n",
       "      <td>5291.0</td>\n",
       "      <td>CC1=C(C=C(C=C1)NC(=O)C2=CC=C(C=C2)CN3CCN(CC3)C...</td>\n",
       "      <td>1.0</td>\n",
       "      <td>CSF1R</td>\n",
       "      <td>antagonist</td>\n",
       "      <td>-1</td>\n",
       "    </tr>\n",
       "    <tr>\n",
       "      <th>731</th>\n",
       "      <td>Chronic myelogenous leukemia CD34+CD38- cells</td>\n",
       "      <td>GSM521987|GSM521991|GSM521995</td>\n",
       "      <td>cadimo</td>\n",
       "      <td>Imatinib</td>\n",
       "      <td>DB00619</td>\n",
       "      <td>GSE20876</td>\n",
       "      <td>human</td>\n",
       "      <td>GSM521988|GSM521992|GSM521996</td>\n",
       "      <td>GPL570</td>\n",
       "      <td>5291.0</td>\n",
       "      <td>CC1=C(C=C(C=C1)NC(=O)C2=CC=C(C=C2)CN3CCN(CC3)C...</td>\n",
       "      <td>1.0</td>\n",
       "      <td>PDGFRA</td>\n",
       "      <td>antagonist</td>\n",
       "      <td>-1</td>\n",
       "    </tr>\n",
       "    <tr>\n",
       "      <th>298</th>\n",
       "      <td>lung alveolar type 2 cells (Sprague-Dawley mal...</td>\n",
       "      <td>GSM1332324|GSM1332325|GSM1332326|GSM1332327</td>\n",
       "      <td>cadimo</td>\n",
       "      <td>Ethanol</td>\n",
       "      <td>DB00898</td>\n",
       "      <td>GSE55243</td>\n",
       "      <td>rat</td>\n",
       "      <td>GSM1332328|GSM1332329|GSM1332330</td>\n",
       "      <td>GPL85</td>\n",
       "      <td>702.0</td>\n",
       "      <td>CCO</td>\n",
       "      <td>1.0</td>\n",
       "      <td>GRIN3A</td>\n",
       "      <td>antagonist</td>\n",
       "      <td>-1</td>\n",
       "    </tr>\n",
       "    <tr>\n",
       "      <th>732</th>\n",
       "      <td>Chronic myelogenous leukemia CD34+CD38- cells</td>\n",
       "      <td>GSM521987|GSM521991|GSM521995</td>\n",
       "      <td>cadimo</td>\n",
       "      <td>Imatinib</td>\n",
       "      <td>DB00619</td>\n",
       "      <td>GSE20876</td>\n",
       "      <td>human</td>\n",
       "      <td>GSM521988|GSM521992|GSM521996</td>\n",
       "      <td>GPL570</td>\n",
       "      <td>5291.0</td>\n",
       "      <td>CC1=C(C=C(C=C1)NC(=O)C2=CC=C(C=C2)CN3CCN(CC3)C...</td>\n",
       "      <td>1.0</td>\n",
       "      <td>DDR1</td>\n",
       "      <td>antagonist</td>\n",
       "      <td>-1</td>\n",
       "    </tr>\n",
       "    <tr>\n",
       "      <th>...</th>\n",
       "      <td>...</td>\n",
       "      <td>...</td>\n",
       "      <td>...</td>\n",
       "      <td>...</td>\n",
       "      <td>...</td>\n",
       "      <td>...</td>\n",
       "      <td>...</td>\n",
       "      <td>...</td>\n",
       "      <td>...</td>\n",
       "      <td>...</td>\n",
       "      <td>...</td>\n",
       "      <td>...</td>\n",
       "      <td>...</td>\n",
       "      <td>...</td>\n",
       "      <td>...</td>\n",
       "    </tr>\n",
       "    <tr>\n",
       "      <th>1339</th>\n",
       "      <td>Fetal CONDROCYTES treated with pharmacological...</td>\n",
       "      <td>GSM185888|GSM185892|GSM185893</td>\n",
       "      <td>cadimo</td>\n",
       "      <td>Dexamethasone</td>\n",
       "      <td>DB01234</td>\n",
       "      <td>GSE7683</td>\n",
       "      <td>mouse</td>\n",
       "      <td>GSM185887|GSM185890|GSM185891</td>\n",
       "      <td>GPL1261</td>\n",
       "      <td>5743.0</td>\n",
       "      <td>CC1CC2C3CCC4=CC(=O)C=CC4(C3(C(CC2(C1(C(=O)CO)O...</td>\n",
       "      <td>1.0</td>\n",
       "      <td>NR1I2</td>\n",
       "      <td>agonist</td>\n",
       "      <td>1</td>\n",
       "    </tr>\n",
       "    <tr>\n",
       "      <th>1340</th>\n",
       "      <td>NaN</td>\n",
       "      <td>GSM124988|GSM124989</td>\n",
       "      <td>Axel</td>\n",
       "      <td>Dexamethasone</td>\n",
       "      <td>DB01234</td>\n",
       "      <td>GSE5463</td>\n",
       "      <td>mouse</td>\n",
       "      <td>GSM124990|GSM124991</td>\n",
       "      <td>GPL81</td>\n",
       "      <td>5743.0</td>\n",
       "      <td>CC1CC2C3CCC4=CC(=O)C=CC4(C3(C(CC2(C1(C(=O)CO)O...</td>\n",
       "      <td>1.0</td>\n",
       "      <td>NR3C1</td>\n",
       "      <td>agonist</td>\n",
       "      <td>1</td>\n",
       "    </tr>\n",
       "    <tr>\n",
       "      <th>1341</th>\n",
       "      <td>NaN</td>\n",
       "      <td>GSM124988|GSM124989</td>\n",
       "      <td>Axel</td>\n",
       "      <td>Dexamethasone</td>\n",
       "      <td>DB01234</td>\n",
       "      <td>GSE5463</td>\n",
       "      <td>mouse</td>\n",
       "      <td>GSM124990|GSM124991</td>\n",
       "      <td>GPL81</td>\n",
       "      <td>5743.0</td>\n",
       "      <td>CC1CC2C3CCC4=CC(=O)C=CC4(C3(C(CC2(C1(C(=O)CO)O...</td>\n",
       "      <td>1.0</td>\n",
       "      <td>NR0B1</td>\n",
       "      <td>agonist</td>\n",
       "      <td>1</td>\n",
       "    </tr>\n",
       "    <tr>\n",
       "      <th>1374</th>\n",
       "      <td>brown norway</td>\n",
       "      <td>GSM92214|GSM92215|GSM92216</td>\n",
       "      <td>Axel</td>\n",
       "      <td>Diethylstilbestrol</td>\n",
       "      <td>DB00255</td>\n",
       "      <td>GSE4028</td>\n",
       "      <td>rat</td>\n",
       "      <td>GSM92217|GSM92218|GSM92219|GSM92220</td>\n",
       "      <td>GPL1355</td>\n",
       "      <td>448537.0</td>\n",
       "      <td>CCC(=C(CC)C1=CC=C(C=C1)O)C2=CC=C(C=C2)O</td>\n",
       "      <td>1.0</td>\n",
       "      <td>ESR1</td>\n",
       "      <td>agonist</td>\n",
       "      <td>1</td>\n",
       "    </tr>\n",
       "    <tr>\n",
       "      <th>430</th>\n",
       "      <td>NaN</td>\n",
       "      <td>GSM4141|GSM4142</td>\n",
       "      <td>Axel</td>\n",
       "      <td>Tretinoin</td>\n",
       "      <td>DB00755</td>\n",
       "      <td>GSE484</td>\n",
       "      <td>mouse</td>\n",
       "      <td>GSM4143|GSM4144</td>\n",
       "      <td>GPL81</td>\n",
       "      <td>444795.0</td>\n",
       "      <td>CC1=C(C(CCC1)(C)C)C=CC(=CC=CC(=CC(=O)O)C)C</td>\n",
       "      <td>1.0</td>\n",
       "      <td>RXRG</td>\n",
       "      <td>agonist</td>\n",
       "      <td>1</td>\n",
       "    </tr>\n",
       "  </tbody>\n",
       "</table>\n",
       "<p>1971 rows × 15 columns</p>\n",
       "</div>"
      ],
      "text/plain": [
       "                                              cell_type  \\\n",
       "1416                                          brainstem   \n",
       "730       Chronic myelogenous leukemia CD34+CD38- cells   \n",
       "731       Chronic myelogenous leukemia CD34+CD38- cells   \n",
       "298   lung alveolar type 2 cells (Sprague-Dawley mal...   \n",
       "732       Chronic myelogenous leukemia CD34+CD38- cells   \n",
       "...                                                 ...   \n",
       "1339  Fetal CONDROCYTES treated with pharmacological...   \n",
       "1340                                                NaN   \n",
       "1341                                                NaN   \n",
       "1374                                       brown norway   \n",
       "430                                                 NaN   \n",
       "\n",
       "                                          ctrl_ids   curator  \\\n",
       "1416  GSM53440|GSM53441|GSM53442|GSM53443|GSM53444  garibr01   \n",
       "730                  GSM521987|GSM521991|GSM521995    cadimo   \n",
       "731                  GSM521987|GSM521991|GSM521995    cadimo   \n",
       "298    GSM1332324|GSM1332325|GSM1332326|GSM1332327    cadimo   \n",
       "732                  GSM521987|GSM521991|GSM521995    cadimo   \n",
       "...                                            ...       ...   \n",
       "1339                 GSM185888|GSM185892|GSM185893    cadimo   \n",
       "1340                           GSM124988|GSM124989      Axel   \n",
       "1341                           GSM124988|GSM124989      Axel   \n",
       "1374                    GSM92214|GSM92215|GSM92216      Axel   \n",
       "430                                GSM4141|GSM4142      Axel   \n",
       "\n",
       "               drug_name drugbank_id    geo_id organism  \\\n",
       "1416           Phenytoin     DB00252   GSE2880      rat   \n",
       "730             Imatinib     DB00619  GSE20876    human   \n",
       "731             Imatinib     DB00619  GSE20876    human   \n",
       "298              Ethanol     DB00898  GSE55243      rat   \n",
       "732             Imatinib     DB00619  GSE20876    human   \n",
       "...                  ...         ...       ...      ...   \n",
       "1339       Dexamethasone     DB01234   GSE7683    mouse   \n",
       "1340       Dexamethasone     DB01234   GSE5463    mouse   \n",
       "1341       Dexamethasone     DB01234   GSE5463    mouse   \n",
       "1374  Diethylstilbestrol     DB00255   GSE4028      rat   \n",
       "430            Tretinoin     DB00755    GSE484    mouse   \n",
       "\n",
       "                                          pert_ids platform  pubchem_cid  \\\n",
       "1416  GSM53412|GSM53413|GSM53414|GSM53415|GSM53416  GPL1355       1775.0   \n",
       "730                  GSM521988|GSM521992|GSM521996   GPL570       5291.0   \n",
       "731                  GSM521988|GSM521992|GSM521996   GPL570       5291.0   \n",
       "298               GSM1332328|GSM1332329|GSM1332330    GPL85        702.0   \n",
       "732                  GSM521988|GSM521992|GSM521996   GPL570       5291.0   \n",
       "...                                            ...      ...          ...   \n",
       "1339                 GSM185887|GSM185890|GSM185891  GPL1261       5743.0   \n",
       "1340                           GSM124990|GSM124991    GPL81       5743.0   \n",
       "1341                           GSM124990|GSM124991    GPL81       5743.0   \n",
       "1374           GSM92217|GSM92218|GSM92219|GSM92220  GPL1355     448537.0   \n",
       "430                                GSM4143|GSM4144    GPL81     444795.0   \n",
       "\n",
       "                                                 smiles  version  Target  \\\n",
       "1416          C1=CC=C(C=C1)C2(C(=O)NC(=O)N2)C3=CC=CC=C3      1.0   SCN2A   \n",
       "730   CC1=C(C=C(C=C1)NC(=O)C2=CC=C(C=C2)CN3CCN(CC3)C...      1.0   CSF1R   \n",
       "731   CC1=C(C=C(C=C1)NC(=O)C2=CC=C(C=C2)CN3CCN(CC3)C...      1.0  PDGFRA   \n",
       "298                                                 CCO      1.0  GRIN3A   \n",
       "732   CC1=C(C=C(C=C1)NC(=O)C2=CC=C(C=C2)CN3CCN(CC3)C...      1.0    DDR1   \n",
       "...                                                 ...      ...     ...   \n",
       "1339  CC1CC2C3CCC4=CC(=O)C=CC4(C3(C(CC2(C1(C(=O)CO)O...      1.0   NR1I2   \n",
       "1340  CC1CC2C3CCC4=CC(=O)C=CC4(C3(C(CC2(C1(C(=O)CO)O...      1.0   NR3C1   \n",
       "1341  CC1CC2C3CCC4=CC(=O)C=CC4(C3(C(CC2(C1(C(=O)CO)O...      1.0   NR0B1   \n",
       "1374            CCC(=C(CC)C1=CC=C(C=C1)O)C2=CC=C(C=C2)O      1.0    ESR1   \n",
       "430          CC1=C(C(CCC1)(C)C)C=CC(=CC=CC(=CC(=O)O)C)C      1.0    RXRG   \n",
       "\n",
       "     Target_type  sign  \n",
       "1416  antagonist    -1  \n",
       "730   antagonist    -1  \n",
       "731   antagonist    -1  \n",
       "298   antagonist    -1  \n",
       "732   antagonist    -1  \n",
       "...          ...   ...  \n",
       "1339     agonist     1  \n",
       "1340     agonist     1  \n",
       "1341     agonist     1  \n",
       "1374     agonist     1  \n",
       "430      agonist     1  \n",
       "\n",
       "[1971 rows x 15 columns]"
      ]
     },
     "execution_count": 68,
     "metadata": {},
     "output_type": "execute_result"
    }
   ],
   "source": [
    "drug.sort_values('sign')"
   ]
  },
  {
   "cell_type": "code",
   "execution_count": 69,
   "metadata": {},
   "outputs": [],
   "source": [
    "#Trying out the code on 1 line\n",
    "i = 430\n",
    "geo_id = drug.loc[i, 'geo_id']\n",
    "ctrl_id = drug.loc[i, 'ctrl_ids']\n",
    "stim_id = drug.loc[i, 'pert_ids']\n",
    "sign = drug.loc[i, 'sign']"
   ]
  },
  {
   "cell_type": "code",
   "execution_count": 70,
   "metadata": {},
   "outputs": [
    {
     "data": {
      "text/plain": [
       "'GSE484'"
      ]
     },
     "execution_count": 70,
     "metadata": {},
     "output_type": "execute_result"
    }
   ],
   "source": [
    "geo_id"
   ]
  },
  {
   "cell_type": "code",
   "execution_count": 71,
   "metadata": {},
   "outputs": [
    {
     "data": {
      "text/plain": [
       "'GSM4141|GSM4142'"
      ]
     },
     "execution_count": 71,
     "metadata": {},
     "output_type": "execute_result"
    }
   ],
   "source": [
    "ctrl_id"
   ]
  },
  {
   "cell_type": "code",
   "execution_count": 72,
   "metadata": {},
   "outputs": [
    {
     "data": {
      "text/plain": [
       "'GSM4143|GSM4144'"
      ]
     },
     "execution_count": 72,
     "metadata": {},
     "output_type": "execute_result"
    }
   ],
   "source": [
    "stim_id"
   ]
  },
  {
   "cell_type": "code",
   "execution_count": 73,
   "metadata": {},
   "outputs": [
    {
     "data": {
      "text/plain": [
       "1"
      ]
     },
     "execution_count": 73,
     "metadata": {},
     "output_type": "execute_result"
    }
   ],
   "source": [
    "sign"
   ]
  },
  {
   "cell_type": "code",
   "execution_count": 75,
   "metadata": {},
   "outputs": [],
   "source": [
    "a = call(['C://Users/nidik/R/R-4.0.2/bin/Rscript.exe', 'download_GEO.R', geo_id, ctrl_id, stim_id, str(sign), str(i)])"
   ]
  },
  {
   "cell_type": "code",
   "execution_count": 76,
   "metadata": {},
   "outputs": [
    {
     "data": {
      "text/plain": [
       "0"
      ]
     },
     "execution_count": 76,
     "metadata": {},
     "output_type": "execute_result"
    }
   ],
   "source": [
    "a"
   ]
  },
  {
   "cell_type": "code",
   "execution_count": 77,
   "metadata": {},
   "outputs": [],
   "source": [
    "if a !=0:\n",
    "    bad_ids.append(a)"
   ]
  },
  {
   "cell_type": "markdown",
   "metadata": {},
   "source": [
    "# Running the R script 'download_GEO' "
   ]
  },
  {
   "cell_type": "code",
   "execution_count": 80,
   "metadata": {},
   "outputs": [],
   "source": [
    "for i in gene.index:\n",
    "    geo_id = gene.loc[i, 'geo_id']\n",
    "    ctrl_id = gene.loc[i, 'ctrl_ids']\n",
    "    stim_id = gene.loc[i, 'pert_ids']\n",
    "    sign = gene.loc[i, 'sign']\n",
    "    a = call(['C://Users/nidik/R/R-4.0.2/bin/Rscript.exe', 'download_GEO.R', geo_id, ctrl_id, stim_id, str(sign), str(i)])\n",
    "    bad_ids=[]\n",
    "    if a !=0:\n",
    "        bad_ids.append(a)"
   ]
  },
  {
   "cell_type": "code",
   "execution_count": 58,
   "metadata": {},
   "outputs": [
    {
     "data": {
      "text/plain": [
       "[]"
      ]
     },
     "execution_count": 58,
     "metadata": {},
     "output_type": "execute_result"
    }
   ],
   "source": [
    "bad_ids"
   ]
  },
  {
   "cell_type": "code",
   "execution_count": 59,
   "metadata": {},
   "outputs": [],
   "source": [
    "for i in drug.index:\n",
    "    geo_id = drug.loc[i, 'geo_id']\n",
    "    ctrl_id = drug.loc[i, 'ctrl_ids']\n",
    "    stim_id = drug.loc[i, 'pert_ids']\n",
    "    sign = drug.loc[i, 'sign']\n",
    "    a = call(['C://Users/nidik/R/R-4.0.2/bin/Rscript.exe', 'download_GEO.R', geo_id, ctrl_id, stim_id, str(sign), str(i)])\n",
    "    bad_ids_2=[]\n",
    "    if a !=0:\n",
    "        bad_ids_2.append(a)"
   ]
  },
  {
   "cell_type": "code",
   "execution_count": 60,
   "metadata": {},
   "outputs": [
    {
     "data": {
      "text/plain": [
       "[]"
      ]
     },
     "execution_count": 60,
     "metadata": {},
     "output_type": "execute_result"
    }
   ],
   "source": [
    "bad_ids_2"
   ]
  },
  {
   "cell_type": "code",
   "execution_count": null,
   "metadata": {},
   "outputs": [],
   "source": []
  }
 ],
 "metadata": {
  "kernelspec": {
   "display_name": "Python 3",
   "language": "python",
   "name": "python3"
  },
  "language_info": {
   "codemirror_mode": {
    "name": "ipython",
    "version": 3
   },
   "file_extension": ".py",
   "mimetype": "text/x-python",
   "name": "python",
   "nbconvert_exporter": "python",
   "pygments_lexer": "ipython3",
   "version": "3.8.3"
  }
 },
 "nbformat": 4,
 "nbformat_minor": 4
}
