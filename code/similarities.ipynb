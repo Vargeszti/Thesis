{
 "cells": [
  {
   "cell_type": "code",
   "execution_count": 36,
   "metadata": {},
   "outputs": [],
   "source": [
    "import pandas as pd\n",
    "import numpy as np\n",
    "\n",
    "from matplotlib import pyplot as plt\n",
    "import seaborn as sns\n",
    "%matplotlib inline\n",
    "from cmapPy.pandasGEXpress.parse import parse\n",
    "\n",
    "from scipy.stats import spearmanr as scor\n",
    "from scipy.stats import pearsonr\n",
    "from scipy.stats import mannwhitneyu as mwu\n",
    "\n",
    "from sklearn.metrics import roc_curve as ROC\n",
    "from sklearn.metrics import auc as AUC\n",
    "from sklearn.metrics import precision_recall_curve as PRC"
   ]
  },
  {
   "cell_type": "markdown",
   "metadata": {},
   "source": [
    "# Importing data for comparison"
   ]
  },
  {
   "cell_type": "code",
   "execution_count": 41,
   "metadata": {},
   "outputs": [],
   "source": [
    "#Importing CREEDs benchmark data files \n",
    "gene_perturb=pd.read_csv('../results/gene_perturb_results.csv', sep=',', index_col=0, header=0)\n",
    "drug_perturb=pd.read_csv('../results/drug_perturb_results.csv', sep=',', index_col=0, header=0)"
   ]
  },
  {
   "cell_type": "code",
   "execution_count": 86,
   "metadata": {},
   "outputs": [],
   "source": [
    "#Checking the absolut values of the benchmark data also\n",
    "gene_perturb_A=gene_perturb.abs()\n",
    "drug_perturb_A=drug_perturb.abs()\n",
    "gene_perturb_A.to_csv('../results/gene_perturb_A')\n",
    "drug_perturb_A.to_csv('../results/drug_perturb_A')"
   ]
  },
  {
   "cell_type": "code",
   "execution_count": 48,
   "metadata": {},
   "outputs": [],
   "source": [
    "#Importing the NicheNet model\n",
    "nn_model=pd.read_csv('../data/ligand_target_matrix.csv', sep=',', header=0, index_col=0)\n",
    "nn_model = nn_model.reindex(sorted(nn_model.columns), axis=1)"
   ]
  },
  {
   "cell_type": "code",
   "execution_count": 44,
   "metadata": {},
   "outputs": [],
   "source": [
    "#Importing LINCS perturbation signatures \n",
    "consig_gse70138_trt_cp=pd.read_csv('../results/consensus_signature_gse70138_trt_cp.csv', header=0, sep=',', index_col=0)\n",
    "consig_gse70138_trt_xpr=pd.read_csv('../results/consensus_signature_gse70138_trt_xpr.csv', header=0, sep=',', index_col=0)\n",
    "consig_gse92742_trt_cp=pd.read_csv('../results/consensus_signature_gse92742_trt_cp.csv', header=0, sep=',', index_col=0)\n",
    "consig_gse92742_trt_lig=pd.read_csv('../results/consensus_signature_gse92742_trt_lig.csv', header=0, sep=',', index_col=0)\n",
    "consig_gse92742_trt_oe=pd.read_csv('../results/consensus_signature_gse92742_trt_oe.csv', header=0, sep=',', index_col=0)\n",
    "consig_gse92742_trt_sh=pd.read_csv('../results/consensus_signature_gse92742_trt_sh.csv', header=0, sep=',', index_col=0)\n",
    "consig_gse92742_trt_sh_fil=pd.read_csv('../results/consensus_signature_gse92742_trt_sh_fil.csv', header=0, sep=',', index_col=0)"
   ]
  },
  {
   "cell_type": "code",
   "execution_count": 45,
   "metadata": {},
   "outputs": [],
   "source": [
    "#Checking the absolut values of LINCS also\n",
    "consig_gse70138_trt_cp_A=consig_gse70138_trt_cp.abs()\n",
    "consig_gse70138_trt_xpr_A=consig_gse70138_trt_xpr.abs()\n",
    "consig_gse92742_trt_cp_A=consig_gse92742_trt_cp.abs()\n",
    "consig_gse92742_trt_lig_A=consig_gse92742_trt_lig.abs()\n",
    "consig_gse92742_trt_oe_A=consig_gse92742_trt_oe.abs()\n",
    "consig_gse92742_trt_sh_A=consig_gse92742_trt_sh.abs()\n",
    "consig_gse92742_trt_sh_fil_A=consig_gse92742_trt_sh_fil.abs()"
   ]
  },
  {
   "cell_type": "code",
   "execution_count": 81,
   "metadata": {},
   "outputs": [],
   "source": [
    "consig_gse70138_trt_xpr=consig_gse70138_trt_xpr.T\n",
    "consig_gse92742_trt_lig=consig_gse92742_trt_lig.T\n",
    "consig_gse92742_trt_oe=consig_gse92742_trt_oe.T\n",
    "consig_gse92742_trt_sh=consig_gse92742_trt_sh.T\n",
    "consig_gse92742_trt_sh_fil=consig_gse92742_trt_sh_fil.T\n",
    "\n",
    "consig_gse70138_trt_xpr_A=consig_gse70138_trt_xpr_A.T\n",
    "consig_gse92742_trt_lig_A=consig_gse92742_trt_lig_A.T\n",
    "consig_gse92742_trt_oe_A=consig_gse92742_trt_oe_A.T\n",
    "consig_gse92742_trt_sh_A=consig_gse92742_trt_sh_A.T\n",
    "consig_gse92742_trt_sh_fil_A=consig_gse92742_trt_sh_fil_A.T"
   ]
  },
  {
   "cell_type": "markdown",
   "metadata": {},
   "source": [
    "# NicheNet vs. CREEDs"
   ]
  },
  {
   "cell_type": "markdown",
   "metadata": {},
   "source": [
    "### NN vs. drug_perturb"
   ]
  },
  {
   "cell_type": "code",
   "execution_count": 49,
   "metadata": {},
   "outputs": [
    {
     "data": {
      "text/plain": [
       "(7781, 387)"
      ]
     },
     "execution_count": 49,
     "metadata": {},
     "output_type": "execute_result"
    }
   ],
   "source": [
    "drug_perturb.shape"
   ]
  },
  {
   "cell_type": "code",
   "execution_count": 50,
   "metadata": {},
   "outputs": [
    {
     "data": {
      "text/plain": [
       "(25345, 688)"
      ]
     },
     "execution_count": 50,
     "metadata": {},
     "output_type": "execute_result"
    }
   ],
   "source": [
    "nn_model.shape"
   ]
  },
  {
   "cell_type": "code",
   "execution_count": 51,
   "metadata": {},
   "outputs": [],
   "source": [
    "common_genes=list(set(nn_model.index)& set(drug_perturb.index))"
   ]
  },
  {
   "cell_type": "code",
   "execution_count": 52,
   "metadata": {},
   "outputs": [
    {
     "data": {
      "text/plain": [
       "7727"
      ]
     },
     "execution_count": 52,
     "metadata": {},
     "output_type": "execute_result"
    }
   ],
   "source": [
    "len(common_genes)"
   ]
  },
  {
   "cell_type": "code",
   "execution_count": 53,
   "metadata": {},
   "outputs": [],
   "source": [
    "nn_model=nn_model.loc[common_genes]\n",
    "drug_perturb=drug_perturb.loc[common_genes]\n",
    "drug_perturb_A=drug_perturb_A.loc[common_genes]"
   ]
  },
  {
   "cell_type": "code",
   "execution_count": 62,
   "metadata": {},
   "outputs": [
    {
     "data": {
      "text/plain": [
       "(7727, 387)"
      ]
     },
     "execution_count": 62,
     "metadata": {},
     "output_type": "execute_result"
    }
   ],
   "source": [
    "drug_perturb.shape"
   ]
  },
  {
   "cell_type": "code",
   "execution_count": 55,
   "metadata": {},
   "outputs": [
    {
     "data": {
      "text/plain": [
       "(7727, 688)"
      ]
     },
     "execution_count": 55,
     "metadata": {},
     "output_type": "execute_result"
    }
   ],
   "source": [
    "nn_model.shape"
   ]
  },
  {
   "cell_type": "code",
   "execution_count": 56,
   "metadata": {},
   "outputs": [
    {
     "data": {
      "text/html": [
       "<div>\n",
       "<style scoped>\n",
       "    .dataframe tbody tr th:only-of-type {\n",
       "        vertical-align: middle;\n",
       "    }\n",
       "\n",
       "    .dataframe tbody tr th {\n",
       "        vertical-align: top;\n",
       "    }\n",
       "\n",
       "    .dataframe thead th {\n",
       "        text-align: right;\n",
       "    }\n",
       "</style>\n",
       "<table border=\"1\" class=\"dataframe\">\n",
       "  <thead>\n",
       "    <tr style=\"text-align: right;\">\n",
       "      <th></th>\n",
       "      <th>1416</th>\n",
       "      <th>1074</th>\n",
       "      <th>925</th>\n",
       "      <th>345</th>\n",
       "      <th>551</th>\n",
       "      <th>750</th>\n",
       "      <th>885</th>\n",
       "      <th>1584</th>\n",
       "      <th>1585</th>\n",
       "      <th>636</th>\n",
       "      <th>...</th>\n",
       "      <th>1912</th>\n",
       "      <th>552</th>\n",
       "      <th>1362</th>\n",
       "      <th>668</th>\n",
       "      <th>697</th>\n",
       "      <th>1369</th>\n",
       "      <th>550</th>\n",
       "      <th>1579</th>\n",
       "      <th>1219</th>\n",
       "      <th>1514</th>\n",
       "    </tr>\n",
       "  </thead>\n",
       "  <tbody>\n",
       "    <tr>\n",
       "      <th>FAM3A</th>\n",
       "      <td>1.528467</td>\n",
       "      <td>-0.150743</td>\n",
       "      <td>0.222181</td>\n",
       "      <td>-0.470496</td>\n",
       "      <td>0.731880</td>\n",
       "      <td>-0.181326</td>\n",
       "      <td>3.436021</td>\n",
       "      <td>-1.500258</td>\n",
       "      <td>-1.500258</td>\n",
       "      <td>0.068688</td>\n",
       "      <td>...</td>\n",
       "      <td>-0.054181</td>\n",
       "      <td>-0.471603</td>\n",
       "      <td>1.638888</td>\n",
       "      <td>0.813216</td>\n",
       "      <td>1.220660</td>\n",
       "      <td>7.955420</td>\n",
       "      <td>2.458027</td>\n",
       "      <td>-1.388246</td>\n",
       "      <td>0.192524</td>\n",
       "      <td>0.089808</td>\n",
       "    </tr>\n",
       "    <tr>\n",
       "      <th>MPI</th>\n",
       "      <td>-0.349662</td>\n",
       "      <td>-2.366964</td>\n",
       "      <td>-0.065323</td>\n",
       "      <td>0.101187</td>\n",
       "      <td>-0.379393</td>\n",
       "      <td>0.432761</td>\n",
       "      <td>3.318031</td>\n",
       "      <td>1.594171</td>\n",
       "      <td>1.594171</td>\n",
       "      <td>-0.759975</td>\n",
       "      <td>...</td>\n",
       "      <td>1.402696</td>\n",
       "      <td>-0.200662</td>\n",
       "      <td>-1.609156</td>\n",
       "      <td>2.248813</td>\n",
       "      <td>0.453140</td>\n",
       "      <td>2.587244</td>\n",
       "      <td>2.098900</td>\n",
       "      <td>1.275870</td>\n",
       "      <td>-0.174179</td>\n",
       "      <td>-0.738923</td>\n",
       "    </tr>\n",
       "    <tr>\n",
       "      <th>MIER2</th>\n",
       "      <td>-1.125718</td>\n",
       "      <td>0.779621</td>\n",
       "      <td>-0.603046</td>\n",
       "      <td>-0.580376</td>\n",
       "      <td>0.836180</td>\n",
       "      <td>1.459272</td>\n",
       "      <td>1.060877</td>\n",
       "      <td>0.616406</td>\n",
       "      <td>0.616406</td>\n",
       "      <td>-0.509168</td>\n",
       "      <td>...</td>\n",
       "      <td>1.237060</td>\n",
       "      <td>-3.720114</td>\n",
       "      <td>-0.269386</td>\n",
       "      <td>-0.343174</td>\n",
       "      <td>0.976845</td>\n",
       "      <td>-0.602606</td>\n",
       "      <td>-1.084516</td>\n",
       "      <td>1.839062</td>\n",
       "      <td>-1.892136</td>\n",
       "      <td>0.419547</td>\n",
       "    </tr>\n",
       "    <tr>\n",
       "      <th>ARHGEF10</th>\n",
       "      <td>-0.178789</td>\n",
       "      <td>0.251414</td>\n",
       "      <td>-1.485443</td>\n",
       "      <td>0.183717</td>\n",
       "      <td>0.564224</td>\n",
       "      <td>1.062560</td>\n",
       "      <td>-1.319166</td>\n",
       "      <td>-0.834716</td>\n",
       "      <td>-0.834716</td>\n",
       "      <td>-0.852956</td>\n",
       "      <td>...</td>\n",
       "      <td>-1.157459</td>\n",
       "      <td>-1.534592</td>\n",
       "      <td>-1.136904</td>\n",
       "      <td>-1.125984</td>\n",
       "      <td>-0.257826</td>\n",
       "      <td>8.268007</td>\n",
       "      <td>1.298609</td>\n",
       "      <td>0.539243</td>\n",
       "      <td>-1.166287</td>\n",
       "      <td>0.863441</td>\n",
       "    </tr>\n",
       "    <tr>\n",
       "      <th>SPATA24</th>\n",
       "      <td>1.005510</td>\n",
       "      <td>-2.834021</td>\n",
       "      <td>3.133430</td>\n",
       "      <td>-1.404423</td>\n",
       "      <td>0.773887</td>\n",
       "      <td>-0.140430</td>\n",
       "      <td>-0.627203</td>\n",
       "      <td>1.616636</td>\n",
       "      <td>1.616636</td>\n",
       "      <td>-0.366637</td>\n",
       "      <td>...</td>\n",
       "      <td>2.014616</td>\n",
       "      <td>1.198471</td>\n",
       "      <td>-0.936847</td>\n",
       "      <td>-0.579943</td>\n",
       "      <td>-4.438929</td>\n",
       "      <td>-10.927265</td>\n",
       "      <td>-0.068208</td>\n",
       "      <td>-0.686556</td>\n",
       "      <td>-0.744657</td>\n",
       "      <td>0.740323</td>\n",
       "    </tr>\n",
       "  </tbody>\n",
       "</table>\n",
       "<p>5 rows × 387 columns</p>\n",
       "</div>"
      ],
      "text/plain": [
       "              1416      1074       925       345       551       750  \\\n",
       "FAM3A     1.528467 -0.150743  0.222181 -0.470496  0.731880 -0.181326   \n",
       "MPI      -0.349662 -2.366964 -0.065323  0.101187 -0.379393  0.432761   \n",
       "MIER2    -1.125718  0.779621 -0.603046 -0.580376  0.836180  1.459272   \n",
       "ARHGEF10 -0.178789  0.251414 -1.485443  0.183717  0.564224  1.062560   \n",
       "SPATA24   1.005510 -2.834021  3.133430 -1.404423  0.773887 -0.140430   \n",
       "\n",
       "               885      1584      1585       636  ...      1912       552  \\\n",
       "FAM3A     3.436021 -1.500258 -1.500258  0.068688  ... -0.054181 -0.471603   \n",
       "MPI       3.318031  1.594171  1.594171 -0.759975  ...  1.402696 -0.200662   \n",
       "MIER2     1.060877  0.616406  0.616406 -0.509168  ...  1.237060 -3.720114   \n",
       "ARHGEF10 -1.319166 -0.834716 -0.834716 -0.852956  ... -1.157459 -1.534592   \n",
       "SPATA24  -0.627203  1.616636  1.616636 -0.366637  ...  2.014616  1.198471   \n",
       "\n",
       "              1362       668       697       1369       550      1579  \\\n",
       "FAM3A     1.638888  0.813216  1.220660   7.955420  2.458027 -1.388246   \n",
       "MPI      -1.609156  2.248813  0.453140   2.587244  2.098900  1.275870   \n",
       "MIER2    -0.269386 -0.343174  0.976845  -0.602606 -1.084516  1.839062   \n",
       "ARHGEF10 -1.136904 -1.125984 -0.257826   8.268007  1.298609  0.539243   \n",
       "SPATA24  -0.936847 -0.579943 -4.438929 -10.927265 -0.068208 -0.686556   \n",
       "\n",
       "              1219      1514  \n",
       "FAM3A     0.192524  0.089808  \n",
       "MPI      -0.174179 -0.738923  \n",
       "MIER2    -1.892136  0.419547  \n",
       "ARHGEF10 -1.166287  0.863441  \n",
       "SPATA24  -0.744657  0.740323  \n",
       "\n",
       "[5 rows x 387 columns]"
      ]
     },
     "execution_count": 56,
     "metadata": {},
     "output_type": "execute_result"
    }
   ],
   "source": [
    "drug_perturb.head()"
   ]
  },
  {
   "cell_type": "code",
   "execution_count": 67,
   "metadata": {},
   "outputs": [],
   "source": [
    "drug_NN=pd.DataFrame(index=nn_model.columns, columns=drug_perturb.columns)\n",
    "drug_A_NN=pd.DataFrame(index=nn_model.columns, columns=drug_perturb_A.columns)"
   ]
  },
  {
   "cell_type": "code",
   "execution_count": 68,
   "metadata": {},
   "outputs": [
    {
     "data": {
      "text/html": [
       "<div>\n",
       "<style scoped>\n",
       "    .dataframe tbody tr th:only-of-type {\n",
       "        vertical-align: middle;\n",
       "    }\n",
       "\n",
       "    .dataframe tbody tr th {\n",
       "        vertical-align: top;\n",
       "    }\n",
       "\n",
       "    .dataframe thead th {\n",
       "        text-align: right;\n",
       "    }\n",
       "</style>\n",
       "<table border=\"1\" class=\"dataframe\">\n",
       "  <thead>\n",
       "    <tr style=\"text-align: right;\">\n",
       "      <th></th>\n",
       "      <th>1416</th>\n",
       "      <th>1074</th>\n",
       "      <th>925</th>\n",
       "      <th>345</th>\n",
       "      <th>551</th>\n",
       "      <th>750</th>\n",
       "      <th>885</th>\n",
       "      <th>1584</th>\n",
       "      <th>1585</th>\n",
       "      <th>636</th>\n",
       "      <th>...</th>\n",
       "      <th>1912</th>\n",
       "      <th>552</th>\n",
       "      <th>1362</th>\n",
       "      <th>668</th>\n",
       "      <th>697</th>\n",
       "      <th>1369</th>\n",
       "      <th>550</th>\n",
       "      <th>1579</th>\n",
       "      <th>1219</th>\n",
       "      <th>1514</th>\n",
       "    </tr>\n",
       "  </thead>\n",
       "  <tbody>\n",
       "    <tr>\n",
       "      <th>A2M</th>\n",
       "      <td>NaN</td>\n",
       "      <td>NaN</td>\n",
       "      <td>NaN</td>\n",
       "      <td>NaN</td>\n",
       "      <td>NaN</td>\n",
       "      <td>NaN</td>\n",
       "      <td>NaN</td>\n",
       "      <td>NaN</td>\n",
       "      <td>NaN</td>\n",
       "      <td>NaN</td>\n",
       "      <td>...</td>\n",
       "      <td>NaN</td>\n",
       "      <td>NaN</td>\n",
       "      <td>NaN</td>\n",
       "      <td>NaN</td>\n",
       "      <td>NaN</td>\n",
       "      <td>NaN</td>\n",
       "      <td>NaN</td>\n",
       "      <td>NaN</td>\n",
       "      <td>NaN</td>\n",
       "      <td>NaN</td>\n",
       "    </tr>\n",
       "    <tr>\n",
       "      <th>AANAT</th>\n",
       "      <td>NaN</td>\n",
       "      <td>NaN</td>\n",
       "      <td>NaN</td>\n",
       "      <td>NaN</td>\n",
       "      <td>NaN</td>\n",
       "      <td>NaN</td>\n",
       "      <td>NaN</td>\n",
       "      <td>NaN</td>\n",
       "      <td>NaN</td>\n",
       "      <td>NaN</td>\n",
       "      <td>...</td>\n",
       "      <td>NaN</td>\n",
       "      <td>NaN</td>\n",
       "      <td>NaN</td>\n",
       "      <td>NaN</td>\n",
       "      <td>NaN</td>\n",
       "      <td>NaN</td>\n",
       "      <td>NaN</td>\n",
       "      <td>NaN</td>\n",
       "      <td>NaN</td>\n",
       "      <td>NaN</td>\n",
       "    </tr>\n",
       "    <tr>\n",
       "      <th>ADAM12</th>\n",
       "      <td>NaN</td>\n",
       "      <td>NaN</td>\n",
       "      <td>NaN</td>\n",
       "      <td>NaN</td>\n",
       "      <td>NaN</td>\n",
       "      <td>NaN</td>\n",
       "      <td>NaN</td>\n",
       "      <td>NaN</td>\n",
       "      <td>NaN</td>\n",
       "      <td>NaN</td>\n",
       "      <td>...</td>\n",
       "      <td>NaN</td>\n",
       "      <td>NaN</td>\n",
       "      <td>NaN</td>\n",
       "      <td>NaN</td>\n",
       "      <td>NaN</td>\n",
       "      <td>NaN</td>\n",
       "      <td>NaN</td>\n",
       "      <td>NaN</td>\n",
       "      <td>NaN</td>\n",
       "      <td>NaN</td>\n",
       "    </tr>\n",
       "    <tr>\n",
       "      <th>ADAM15</th>\n",
       "      <td>NaN</td>\n",
       "      <td>NaN</td>\n",
       "      <td>NaN</td>\n",
       "      <td>NaN</td>\n",
       "      <td>NaN</td>\n",
       "      <td>NaN</td>\n",
       "      <td>NaN</td>\n",
       "      <td>NaN</td>\n",
       "      <td>NaN</td>\n",
       "      <td>NaN</td>\n",
       "      <td>...</td>\n",
       "      <td>NaN</td>\n",
       "      <td>NaN</td>\n",
       "      <td>NaN</td>\n",
       "      <td>NaN</td>\n",
       "      <td>NaN</td>\n",
       "      <td>NaN</td>\n",
       "      <td>NaN</td>\n",
       "      <td>NaN</td>\n",
       "      <td>NaN</td>\n",
       "      <td>NaN</td>\n",
       "    </tr>\n",
       "    <tr>\n",
       "      <th>ADAM17</th>\n",
       "      <td>NaN</td>\n",
       "      <td>NaN</td>\n",
       "      <td>NaN</td>\n",
       "      <td>NaN</td>\n",
       "      <td>NaN</td>\n",
       "      <td>NaN</td>\n",
       "      <td>NaN</td>\n",
       "      <td>NaN</td>\n",
       "      <td>NaN</td>\n",
       "      <td>NaN</td>\n",
       "      <td>...</td>\n",
       "      <td>NaN</td>\n",
       "      <td>NaN</td>\n",
       "      <td>NaN</td>\n",
       "      <td>NaN</td>\n",
       "      <td>NaN</td>\n",
       "      <td>NaN</td>\n",
       "      <td>NaN</td>\n",
       "      <td>NaN</td>\n",
       "      <td>NaN</td>\n",
       "      <td>NaN</td>\n",
       "    </tr>\n",
       "  </tbody>\n",
       "</table>\n",
       "<p>5 rows × 387 columns</p>\n",
       "</div>"
      ],
      "text/plain": [
       "       1416 1074  925  345  551  750  885 1584 1585  636  ... 1912  552 1362  \\\n",
       "A2M     NaN  NaN  NaN  NaN  NaN  NaN  NaN  NaN  NaN  NaN  ...  NaN  NaN  NaN   \n",
       "AANAT   NaN  NaN  NaN  NaN  NaN  NaN  NaN  NaN  NaN  NaN  ...  NaN  NaN  NaN   \n",
       "ADAM12  NaN  NaN  NaN  NaN  NaN  NaN  NaN  NaN  NaN  NaN  ...  NaN  NaN  NaN   \n",
       "ADAM15  NaN  NaN  NaN  NaN  NaN  NaN  NaN  NaN  NaN  NaN  ...  NaN  NaN  NaN   \n",
       "ADAM17  NaN  NaN  NaN  NaN  NaN  NaN  NaN  NaN  NaN  NaN  ...  NaN  NaN  NaN   \n",
       "\n",
       "        668  697 1369  550 1579 1219 1514  \n",
       "A2M     NaN  NaN  NaN  NaN  NaN  NaN  NaN  \n",
       "AANAT   NaN  NaN  NaN  NaN  NaN  NaN  NaN  \n",
       "ADAM12  NaN  NaN  NaN  NaN  NaN  NaN  NaN  \n",
       "ADAM15  NaN  NaN  NaN  NaN  NaN  NaN  NaN  \n",
       "ADAM17  NaN  NaN  NaN  NaN  NaN  NaN  NaN  \n",
       "\n",
       "[5 rows x 387 columns]"
      ]
     },
     "execution_count": 68,
     "metadata": {},
     "output_type": "execute_result"
    }
   ],
   "source": [
    "drug_NN.head()"
   ]
  },
  {
   "cell_type": "code",
   "execution_count": 69,
   "metadata": {},
   "outputs": [
    {
     "name": "stderr",
     "output_type": "stream",
     "text": [
      "C:\\Users\\nidik\\anaconda3\\lib\\site-packages\\scipy\\stats\\stats.py:3845: PearsonRConstantInputWarning: An input array is constant; the correlation coefficent is not defined.\n",
      "  warnings.warn(PearsonRConstantInputWarning())\n"
     ]
    }
   ],
   "source": [
    "for lig in drug_NN.index:\n",
    "    for exp in drug_NN.columns:\n",
    "        r=pearsonr(nn_model[lig],drug_perturb[exp])\n",
    "        r=r[0]\n",
    "        drug_NN.loc[lig,exp]=r"
   ]
  },
  {
   "cell_type": "code",
   "execution_count": 70,
   "metadata": {},
   "outputs": [],
   "source": [
    "for lig in drug_A_NN.index:\n",
    "    for exp in drug_A_NN.columns:\n",
    "        r=pearsonr(nn_model[lig],drug_perturb_A[exp])\n",
    "        r=r[0]\n",
    "        drug_A_NN.loc[lig,exp]=r"
   ]
  },
  {
   "cell_type": "code",
   "execution_count": 72,
   "metadata": {},
   "outputs": [],
   "source": [
    "drug_NN.to_csv('../results/drug_NN_sim.csv', sep=',')\n",
    "drug_A_NN.to_csv('../results/drug_A_NN_sim.csv', sep=',')"
   ]
  },
  {
   "cell_type": "markdown",
   "metadata": {},
   "source": [
    "### NN vs. gene_perturb"
   ]
  },
  {
   "cell_type": "code",
   "execution_count": 73,
   "metadata": {},
   "outputs": [
    {
     "data": {
      "text/plain": [
       "6826"
      ]
     },
     "execution_count": 73,
     "metadata": {},
     "output_type": "execute_result"
    }
   ],
   "source": [
    "common_genes=list(set(nn_model.index)& set(gene_perturb.index))\n",
    "len(common_genes)"
   ]
  },
  {
   "cell_type": "code",
   "execution_count": 74,
   "metadata": {},
   "outputs": [],
   "source": [
    "nn_model=nn_model.loc[common_genes]\n",
    "gene_perturb=gene_perturb.loc[common_genes]\n",
    "gene_perturb_A=gene_perturb_A.loc[common_genes]"
   ]
  },
  {
   "cell_type": "code",
   "execution_count": 75,
   "metadata": {},
   "outputs": [],
   "source": [
    "gene_NN=pd.DataFrame(index=nn_model.columns, columns=gene_perturb.columns)\n",
    "gene_A_NN=pd.DataFrame(index=nn_model.columns, columns=gene_perturb_A.columns)"
   ]
  },
  {
   "cell_type": "code",
   "execution_count": 76,
   "metadata": {},
   "outputs": [
    {
     "data": {
      "text/html": [
       "<div>\n",
       "<style scoped>\n",
       "    .dataframe tbody tr th:only-of-type {\n",
       "        vertical-align: middle;\n",
       "    }\n",
       "\n",
       "    .dataframe tbody tr th {\n",
       "        vertical-align: top;\n",
       "    }\n",
       "\n",
       "    .dataframe thead th {\n",
       "        text-align: right;\n",
       "    }\n",
       "</style>\n",
       "<table border=\"1\" class=\"dataframe\">\n",
       "  <thead>\n",
       "    <tr style=\"text-align: right;\">\n",
       "      <th></th>\n",
       "      <th>2410</th>\n",
       "      <th>2860</th>\n",
       "      <th>2487</th>\n",
       "      <th>2723</th>\n",
       "      <th>1319</th>\n",
       "      <th>3062</th>\n",
       "      <th>169</th>\n",
       "      <th>358</th>\n",
       "      <th>2422</th>\n",
       "      <th>2338</th>\n",
       "      <th>...</th>\n",
       "      <th>1830</th>\n",
       "      <th>2025</th>\n",
       "      <th>2777</th>\n",
       "      <th>2993</th>\n",
       "      <th>1946</th>\n",
       "      <th>2389</th>\n",
       "      <th>378</th>\n",
       "      <th>2411</th>\n",
       "      <th>2982</th>\n",
       "      <th>2742</th>\n",
       "    </tr>\n",
       "  </thead>\n",
       "  <tbody>\n",
       "    <tr>\n",
       "      <th>A2M</th>\n",
       "      <td>NaN</td>\n",
       "      <td>NaN</td>\n",
       "      <td>NaN</td>\n",
       "      <td>NaN</td>\n",
       "      <td>NaN</td>\n",
       "      <td>NaN</td>\n",
       "      <td>NaN</td>\n",
       "      <td>NaN</td>\n",
       "      <td>NaN</td>\n",
       "      <td>NaN</td>\n",
       "      <td>...</td>\n",
       "      <td>NaN</td>\n",
       "      <td>NaN</td>\n",
       "      <td>NaN</td>\n",
       "      <td>NaN</td>\n",
       "      <td>NaN</td>\n",
       "      <td>NaN</td>\n",
       "      <td>NaN</td>\n",
       "      <td>NaN</td>\n",
       "      <td>NaN</td>\n",
       "      <td>NaN</td>\n",
       "    </tr>\n",
       "    <tr>\n",
       "      <th>AANAT</th>\n",
       "      <td>NaN</td>\n",
       "      <td>NaN</td>\n",
       "      <td>NaN</td>\n",
       "      <td>NaN</td>\n",
       "      <td>NaN</td>\n",
       "      <td>NaN</td>\n",
       "      <td>NaN</td>\n",
       "      <td>NaN</td>\n",
       "      <td>NaN</td>\n",
       "      <td>NaN</td>\n",
       "      <td>...</td>\n",
       "      <td>NaN</td>\n",
       "      <td>NaN</td>\n",
       "      <td>NaN</td>\n",
       "      <td>NaN</td>\n",
       "      <td>NaN</td>\n",
       "      <td>NaN</td>\n",
       "      <td>NaN</td>\n",
       "      <td>NaN</td>\n",
       "      <td>NaN</td>\n",
       "      <td>NaN</td>\n",
       "    </tr>\n",
       "    <tr>\n",
       "      <th>ADAM12</th>\n",
       "      <td>NaN</td>\n",
       "      <td>NaN</td>\n",
       "      <td>NaN</td>\n",
       "      <td>NaN</td>\n",
       "      <td>NaN</td>\n",
       "      <td>NaN</td>\n",
       "      <td>NaN</td>\n",
       "      <td>NaN</td>\n",
       "      <td>NaN</td>\n",
       "      <td>NaN</td>\n",
       "      <td>...</td>\n",
       "      <td>NaN</td>\n",
       "      <td>NaN</td>\n",
       "      <td>NaN</td>\n",
       "      <td>NaN</td>\n",
       "      <td>NaN</td>\n",
       "      <td>NaN</td>\n",
       "      <td>NaN</td>\n",
       "      <td>NaN</td>\n",
       "      <td>NaN</td>\n",
       "      <td>NaN</td>\n",
       "    </tr>\n",
       "    <tr>\n",
       "      <th>ADAM15</th>\n",
       "      <td>NaN</td>\n",
       "      <td>NaN</td>\n",
       "      <td>NaN</td>\n",
       "      <td>NaN</td>\n",
       "      <td>NaN</td>\n",
       "      <td>NaN</td>\n",
       "      <td>NaN</td>\n",
       "      <td>NaN</td>\n",
       "      <td>NaN</td>\n",
       "      <td>NaN</td>\n",
       "      <td>...</td>\n",
       "      <td>NaN</td>\n",
       "      <td>NaN</td>\n",
       "      <td>NaN</td>\n",
       "      <td>NaN</td>\n",
       "      <td>NaN</td>\n",
       "      <td>NaN</td>\n",
       "      <td>NaN</td>\n",
       "      <td>NaN</td>\n",
       "      <td>NaN</td>\n",
       "      <td>NaN</td>\n",
       "    </tr>\n",
       "    <tr>\n",
       "      <th>ADAM17</th>\n",
       "      <td>NaN</td>\n",
       "      <td>NaN</td>\n",
       "      <td>NaN</td>\n",
       "      <td>NaN</td>\n",
       "      <td>NaN</td>\n",
       "      <td>NaN</td>\n",
       "      <td>NaN</td>\n",
       "      <td>NaN</td>\n",
       "      <td>NaN</td>\n",
       "      <td>NaN</td>\n",
       "      <td>...</td>\n",
       "      <td>NaN</td>\n",
       "      <td>NaN</td>\n",
       "      <td>NaN</td>\n",
       "      <td>NaN</td>\n",
       "      <td>NaN</td>\n",
       "      <td>NaN</td>\n",
       "      <td>NaN</td>\n",
       "      <td>NaN</td>\n",
       "      <td>NaN</td>\n",
       "      <td>NaN</td>\n",
       "    </tr>\n",
       "  </tbody>\n",
       "</table>\n",
       "<p>5 rows × 101 columns</p>\n",
       "</div>"
      ],
      "text/plain": [
       "       2410 2860 2487 2723 1319 3062  169  358 2422 2338  ... 1830 2025 2777  \\\n",
       "A2M     NaN  NaN  NaN  NaN  NaN  NaN  NaN  NaN  NaN  NaN  ...  NaN  NaN  NaN   \n",
       "AANAT   NaN  NaN  NaN  NaN  NaN  NaN  NaN  NaN  NaN  NaN  ...  NaN  NaN  NaN   \n",
       "ADAM12  NaN  NaN  NaN  NaN  NaN  NaN  NaN  NaN  NaN  NaN  ...  NaN  NaN  NaN   \n",
       "ADAM15  NaN  NaN  NaN  NaN  NaN  NaN  NaN  NaN  NaN  NaN  ...  NaN  NaN  NaN   \n",
       "ADAM17  NaN  NaN  NaN  NaN  NaN  NaN  NaN  NaN  NaN  NaN  ...  NaN  NaN  NaN   \n",
       "\n",
       "       2993 1946 2389  378 2411 2982 2742  \n",
       "A2M     NaN  NaN  NaN  NaN  NaN  NaN  NaN  \n",
       "AANAT   NaN  NaN  NaN  NaN  NaN  NaN  NaN  \n",
       "ADAM12  NaN  NaN  NaN  NaN  NaN  NaN  NaN  \n",
       "ADAM15  NaN  NaN  NaN  NaN  NaN  NaN  NaN  \n",
       "ADAM17  NaN  NaN  NaN  NaN  NaN  NaN  NaN  \n",
       "\n",
       "[5 rows x 101 columns]"
      ]
     },
     "execution_count": 76,
     "metadata": {},
     "output_type": "execute_result"
    }
   ],
   "source": [
    "gene_NN.head()"
   ]
  },
  {
   "cell_type": "code",
   "execution_count": 77,
   "metadata": {},
   "outputs": [
    {
     "name": "stderr",
     "output_type": "stream",
     "text": [
      "C:\\Users\\nidik\\anaconda3\\lib\\site-packages\\scipy\\stats\\stats.py:3845: PearsonRConstantInputWarning: An input array is constant; the correlation coefficent is not defined.\n",
      "  warnings.warn(PearsonRConstantInputWarning())\n"
     ]
    }
   ],
   "source": [
    "for lig in gene_NN.index:\n",
    "    for exp in gene_NN.columns:\n",
    "        r=pearsonr(nn_model[lig],gene_perturb[exp])\n",
    "        r=r[0]\n",
    "        gene_NN.loc[lig,exp]=r"
   ]
  },
  {
   "cell_type": "code",
   "execution_count": 78,
   "metadata": {},
   "outputs": [],
   "source": [
    "for lig in gene_A_NN.index:\n",
    "    for exp in gene_A_NN.columns:\n",
    "        r=pearsonr(nn_model[lig],gene_perturb_A[exp])\n",
    "        r=r[0]\n",
    "        gene_A_NN.loc[lig,exp]=r"
   ]
  },
  {
   "cell_type": "code",
   "execution_count": 80,
   "metadata": {},
   "outputs": [],
   "source": [
    "gene_NN.to_csv('../results/gene_NN_sim.csv', sep=',')\n",
    "gene_A_NN.to_csv('../results/gene_A_NN_sim.csv', sep=',')"
   ]
  },
  {
   "cell_type": "markdown",
   "metadata": {},
   "source": [
    "### LINCS vs drug_perturb"
   ]
  },
  {
   "cell_type": "code",
   "execution_count": 103,
   "metadata": {},
   "outputs": [
    {
     "data": {
      "text/plain": [
       "645"
      ]
     },
     "execution_count": 103,
     "metadata": {},
     "output_type": "execute_result"
    }
   ],
   "source": [
    "common_genes=list(set(consig_gse70138_trt_xpr.index)& set(drug_perturb.index))\n",
    "len(common_genes)"
   ]
  },
  {
   "cell_type": "code",
   "execution_count": 104,
   "metadata": {},
   "outputs": [],
   "source": [
    "consig_gse70138_trt_xpr=consig_gse70138_trt_xpr.loc[common_genes]\n",
    "drug_perturb=drug_perturb.loc[common_genes]"
   ]
  },
  {
   "cell_type": "code",
   "execution_count": 105,
   "metadata": {},
   "outputs": [],
   "source": [
    "similarity=pd.DataFrame(index=consig_gse70138_trt_xpr.columns, columns=drug_perturb.columns)"
   ]
  },
  {
   "cell_type": "code",
   "execution_count": 109,
   "metadata": {},
   "outputs": [],
   "source": [
    "for lig in similarity.index:\n",
    "    for exp in similarity.columns:\n",
    "        r=pearsonr(consig_gse70138_trt_xpr[lig],drug_perturb[exp])\n",
    "        r=r[0]\n",
    "        similarity.loc[lig,exp]=r"
   ]
  },
  {
   "cell_type": "code",
   "execution_count": 117,
   "metadata": {},
   "outputs": [],
   "source": [
    "def lincs_creeds_sim(consig, creeds_name, fname):\n",
    "    creeds=pd.read_csv('../results/'+creeds_name+'.csv',sep=',', index_col=0, header=0)\n",
    "    common_genes=list(set(consig.index)& set(creeds.index))\n",
    "    creeds=creeds.loc[common_genes]\n",
    "    consig=consig.loc[common_genes]\n",
    "    similarity_fname=pd.DataFrame(index=consig.columns, columns=creeds.columns)\n",
    "    for lig in similarity_fname.index:\n",
    "        for exp in similarity_fname.columns:\n",
    "            r=pearsonr(consig[lig],creeds[exp])\n",
    "            r=r[0]\n",
    "            similarity_fname.loc[lig,exp]=r\n",
    "    #similarity_fname.to_csv('../results/'+creeds_name+'_'+fname+'.csv', sep=',')\n",
    "    return similarity_fname.head()"
   ]
  },
  {
   "cell_type": "code",
   "execution_count": 118,
   "metadata": {},
   "outputs": [
    {
     "ename": "ValueError",
     "evalue": "x and y must have length at least 2.",
     "output_type": "error",
     "traceback": [
      "\u001b[1;31m---------------------------------------------------------------------------\u001b[0m",
      "\u001b[1;31mValueError\u001b[0m                                Traceback (most recent call last)",
      "\u001b[1;32m<ipython-input-118-2d32a0cb2e18>\u001b[0m in \u001b[0;36m<module>\u001b[1;34m\u001b[0m\n\u001b[1;32m----> 1\u001b[1;33m \u001b[0mlincs_progeny_sim\u001b[0m\u001b[1;33m(\u001b[0m\u001b[0mconsig_gse70138_trt_xpr\u001b[0m\u001b[1;33m,\u001b[0m \u001b[1;34m'drug_perturb'\u001b[0m\u001b[1;33m,\u001b[0m \u001b[1;34m'gse70138_trt_xpr'\u001b[0m\u001b[1;33m)\u001b[0m\u001b[1;33m\u001b[0m\u001b[1;33m\u001b[0m\u001b[0m\n\u001b[0m",
      "\u001b[1;32m<ipython-input-83-ed458ed48796>\u001b[0m in \u001b[0;36mlincs_progeny_sim\u001b[1;34m(consig, creeds_name, fname)\u001b[0m\n\u001b[0;32m      7\u001b[0m     \u001b[1;32mfor\u001b[0m \u001b[0mlig\u001b[0m \u001b[1;32min\u001b[0m \u001b[0msimilarity_fname\u001b[0m\u001b[1;33m.\u001b[0m\u001b[0mindex\u001b[0m\u001b[1;33m:\u001b[0m\u001b[1;33m\u001b[0m\u001b[1;33m\u001b[0m\u001b[0m\n\u001b[0;32m      8\u001b[0m         \u001b[1;32mfor\u001b[0m \u001b[0mexp\u001b[0m \u001b[1;32min\u001b[0m \u001b[0msimilarity_fname\u001b[0m\u001b[1;33m.\u001b[0m\u001b[0mcolumns\u001b[0m\u001b[1;33m:\u001b[0m\u001b[1;33m\u001b[0m\u001b[1;33m\u001b[0m\u001b[0m\n\u001b[1;32m----> 9\u001b[1;33m             \u001b[0mr\u001b[0m\u001b[1;33m=\u001b[0m\u001b[0mpearsonr\u001b[0m\u001b[1;33m(\u001b[0m\u001b[0mconsig\u001b[0m\u001b[1;33m[\u001b[0m\u001b[0mlig\u001b[0m\u001b[1;33m]\u001b[0m\u001b[1;33m,\u001b[0m\u001b[0mcreeds\u001b[0m\u001b[1;33m[\u001b[0m\u001b[0mexp\u001b[0m\u001b[1;33m]\u001b[0m\u001b[1;33m)\u001b[0m\u001b[1;33m\u001b[0m\u001b[1;33m\u001b[0m\u001b[0m\n\u001b[0m\u001b[0;32m     10\u001b[0m             \u001b[0mr\u001b[0m\u001b[1;33m=\u001b[0m\u001b[0mr\u001b[0m\u001b[1;33m[\u001b[0m\u001b[1;36m0\u001b[0m\u001b[1;33m]\u001b[0m\u001b[1;33m\u001b[0m\u001b[1;33m\u001b[0m\u001b[0m\n\u001b[0;32m     11\u001b[0m             \u001b[0msimilarity_fname\u001b[0m\u001b[1;33m.\u001b[0m\u001b[0mloc\u001b[0m\u001b[1;33m[\u001b[0m\u001b[0mlig\u001b[0m\u001b[1;33m,\u001b[0m\u001b[0mexp\u001b[0m\u001b[1;33m]\u001b[0m\u001b[1;33m=\u001b[0m\u001b[0mr\u001b[0m\u001b[1;33m\u001b[0m\u001b[1;33m\u001b[0m\u001b[0m\n",
      "\u001b[1;32m~\\anaconda3\\lib\\site-packages\\scipy\\stats\\stats.py\u001b[0m in \u001b[0;36mpearsonr\u001b[1;34m(x, y)\u001b[0m\n\u001b[0;32m   3836\u001b[0m \u001b[1;33m\u001b[0m\u001b[0m\n\u001b[0;32m   3837\u001b[0m     \u001b[1;32mif\u001b[0m \u001b[0mn\u001b[0m \u001b[1;33m<\u001b[0m \u001b[1;36m2\u001b[0m\u001b[1;33m:\u001b[0m\u001b[1;33m\u001b[0m\u001b[1;33m\u001b[0m\u001b[0m\n\u001b[1;32m-> 3838\u001b[1;33m         \u001b[1;32mraise\u001b[0m \u001b[0mValueError\u001b[0m\u001b[1;33m(\u001b[0m\u001b[1;34m'x and y must have length at least 2.'\u001b[0m\u001b[1;33m)\u001b[0m\u001b[1;33m\u001b[0m\u001b[1;33m\u001b[0m\u001b[0m\n\u001b[0m\u001b[0;32m   3839\u001b[0m \u001b[1;33m\u001b[0m\u001b[0m\n\u001b[0;32m   3840\u001b[0m     \u001b[0mx\u001b[0m \u001b[1;33m=\u001b[0m \u001b[0mnp\u001b[0m\u001b[1;33m.\u001b[0m\u001b[0masarray\u001b[0m\u001b[1;33m(\u001b[0m\u001b[0mx\u001b[0m\u001b[1;33m)\u001b[0m\u001b[1;33m\u001b[0m\u001b[1;33m\u001b[0m\u001b[0m\n",
      "\u001b[1;31mValueError\u001b[0m: x and y must have length at least 2."
     ]
    }
   ],
   "source": [
    "lincs_progeny_sim(consig_gse70138_trt_xpr, 'drug_perturb', 'gse70138_trt_xpr')"
   ]
  },
  {
   "cell_type": "code",
   "execution_count": null,
   "metadata": {},
   "outputs": [],
   "source": []
  },
  {
   "cell_type": "code",
   "execution_count": null,
   "metadata": {},
   "outputs": [],
   "source": []
  }
 ],
 "metadata": {
  "kernelspec": {
   "display_name": "Python 3",
   "language": "python",
   "name": "python3"
  },
  "language_info": {
   "codemirror_mode": {
    "name": "ipython",
    "version": 3
   },
   "file_extension": ".py",
   "mimetype": "text/x-python",
   "name": "python",
   "nbconvert_exporter": "python",
   "pygments_lexer": "ipython3",
   "version": "3.8.3"
  }
 },
 "nbformat": 4,
 "nbformat_minor": 4
}
