{
 "cells": [
  {
   "cell_type": "code",
   "execution_count": 1,
   "metadata": {},
   "outputs": [
    {
     "name": "stderr",
     "output_type": "stream",
     "text": [
      "/Users/benceszalai/Library/Enthought/Canopy/edm/envs/Python3/lib/python3.5/site-packages/h5py/__init__.py:34: FutureWarning: Conversion of the second argument of issubdtype from `float` to `np.floating` is deprecated. In future, it will be treated as `np.float64 == np.dtype(float).type`.\n",
      "  from ._conv import register_converters as _register_converters\n"
     ]
    }
   ],
   "source": [
    "import pandas as pd\n",
    "import numpy as np\n",
    "\n",
    "from matplotlib import pyplot as plt\n",
    "import seaborn as sns\n",
    "%matplotlib inline\n",
    "from cmapPy.pandasGEXpress.parse import parse\n",
    "\n",
    "from scipy.stats import spearmanr as scor\n",
    "from scipy.stats import pearsonr\n",
    "from scipy.stats import mannwhitneyu as mwu\n",
    "\n",
    "from sklearn.metrics import roc_curve as ROC\n",
    "from sklearn.metrics import auc as AUC\n",
    "from sklearn.metrics import precision_recall_curve as PRC"
   ]
  },
  {
   "cell_type": "markdown",
   "metadata": {},
   "source": [
    "# Importing data for comparison"
   ]
  },
  {
   "cell_type": "code",
   "execution_count": 37,
   "metadata": {},
   "outputs": [],
   "source": [
    "#Importing CREEDs benchmark data files \n",
    "gene_perturb=pd.read_csv('../results/gene_pert.csv', sep=',', index_col=0, header=0)\n",
    "drug_perturb=pd.read_csv('../results/drug_pert.csv', sep=',', index_col=0, header=0)"
   ]
  },
  {
   "cell_type": "code",
   "execution_count": 38,
   "metadata": {},
   "outputs": [],
   "source": [
    "#Checking the absolut values of the benchmark data also\n",
    "gene_perturb_A=gene_perturb.abs()\n",
    "drug_perturb_A=drug_perturb.abs()\n",
    "gene_perturb_A.to_csv('../results/gene_pert_A.csv', sep=',')\n",
    "drug_perturb_A.to_csv('../results/drug_pert_A.csv', sep=',')"
   ]
  },
  {
   "cell_type": "code",
   "execution_count": 50,
   "metadata": {},
   "outputs": [],
   "source": [
    "#Importing the NicheNet model\n",
    "nn_model=pd.read_csv('../data/ligand_target_matrix.csv', sep=',', header=0, index_col=0)\n",
    "nn_model = nn_model.reindex(sorted(nn_model.columns), axis=1)\n",
    "ligand_receptor=pd.read_csv('../data/lr_network.csv', sep=',', header=0, index_col=0)"
   ]
  },
  {
   "cell_type": "code",
   "execution_count": 40,
   "metadata": {},
   "outputs": [],
   "source": [
    "#Importing LINCS perturbation signatures \n",
    "consig_gse70138_trt_cp=pd.read_csv('../results/consensus_signature_gse70138_trt_cp.csv', header=0, sep=',', index_col=0)\n",
    "consig_gse70138_trt_xpr=pd.read_csv('../results/consensus_signature_gse70138_trt_xpr.csv', header=0, sep=',', index_col=0)\n",
    "consig_gse92742_trt_cp=pd.read_csv('../results/consensus_signature_gse92742_trt_cp.csv', header=0, sep=',', index_col=0)\n",
    "consig_gse92742_trt_lig=pd.read_csv('../results/consensus_signature_gse92742_trt_lig.csv', header=0, sep=',', index_col=0)\n",
    "consig_gse92742_trt_oe=pd.read_csv('../results/consensus_signature_gse92742_trt_oe.csv', header=0, sep=',', index_col=0)\n",
    "consig_gse92742_trt_sh=pd.read_csv('../results/consensus_signature_gse92742_trt_sh.csv', header=0, sep=',', index_col=0)\n",
    "consig_gse92742_trt_sh_fil=pd.read_csv('../results/consensus_signature_gse92742_trt_sh_fil.csv', header=0, sep=',', index_col=0)"
   ]
  },
  {
   "cell_type": "code",
   "execution_count": 41,
   "metadata": {},
   "outputs": [],
   "source": [
    "#Checking the absolut values of LINCS also\n",
    "consig_gse70138_trt_cp_A=consig_gse70138_trt_cp.abs()\n",
    "consig_gse70138_trt_xpr_A=consig_gse70138_trt_xpr.abs()\n",
    "consig_gse92742_trt_cp_A=consig_gse92742_trt_cp.abs()\n",
    "consig_gse92742_trt_lig_A=consig_gse92742_trt_lig.abs()\n",
    "consig_gse92742_trt_oe_A=consig_gse92742_trt_oe.abs()\n",
    "consig_gse92742_trt_sh_A=consig_gse92742_trt_sh.abs()\n",
    "consig_gse92742_trt_sh_fil_A=consig_gse92742_trt_sh_fil.abs()"
   ]
  },
  {
   "cell_type": "code",
   "execution_count": 42,
   "metadata": {},
   "outputs": [],
   "source": [
    "consig_gse70138_trt_xpr=consig_gse70138_trt_xpr.T\n",
    "consig_gse92742_trt_lig=consig_gse92742_trt_lig.T\n",
    "consig_gse92742_trt_oe=consig_gse92742_trt_oe.T\n",
    "consig_gse92742_trt_sh=consig_gse92742_trt_sh.T\n",
    "consig_gse92742_trt_sh_fil=consig_gse92742_trt_sh_fil.T\n",
    "\n",
    "consig_gse70138_trt_xpr_A=consig_gse70138_trt_xpr_A.T\n",
    "consig_gse92742_trt_lig_A=consig_gse92742_trt_lig_A.T\n",
    "consig_gse92742_trt_oe_A=consig_gse92742_trt_oe_A.T\n",
    "consig_gse92742_trt_sh_A=consig_gse92742_trt_sh_A.T\n",
    "consig_gse92742_trt_sh_fil_A=consig_gse92742_trt_sh_fil_A.T"
   ]
  },
  {
   "cell_type": "markdown",
   "metadata": {},
   "source": [
    "# NicheNet vs. CREEDs"
   ]
  },
  {
   "cell_type": "markdown",
   "metadata": {},
   "source": [
    "### NN vs. drug_perturb"
   ]
  },
  {
   "cell_type": "code",
   "execution_count": 49,
   "metadata": {},
   "outputs": [
    {
     "data": {
      "text/plain": [
       "(7781, 387)"
      ]
     },
     "execution_count": 49,
     "metadata": {},
     "output_type": "execute_result"
    }
   ],
   "source": [
    "drug_perturb.shape"
   ]
  },
  {
   "cell_type": "code",
   "execution_count": 50,
   "metadata": {},
   "outputs": [
    {
     "data": {
      "text/plain": [
       "(25345, 688)"
      ]
     },
     "execution_count": 50,
     "metadata": {},
     "output_type": "execute_result"
    }
   ],
   "source": [
    "nn_model.shape"
   ]
  },
  {
   "cell_type": "code",
   "execution_count": 51,
   "metadata": {},
   "outputs": [],
   "source": [
    "common_genes=list(set(nn_model.index)& set(drug_perturb.index))"
   ]
  },
  {
   "cell_type": "code",
   "execution_count": 52,
   "metadata": {},
   "outputs": [
    {
     "data": {
      "text/plain": [
       "7727"
      ]
     },
     "execution_count": 52,
     "metadata": {},
     "output_type": "execute_result"
    }
   ],
   "source": [
    "len(common_genes)"
   ]
  },
  {
   "cell_type": "code",
   "execution_count": 53,
   "metadata": {},
   "outputs": [],
   "source": [
    "nn_model=nn_model.loc[common_genes]\n",
    "drug_perturb=drug_perturb.loc[common_genes]\n",
    "drug_perturb_A=drug_perturb_A.loc[common_genes]"
   ]
  },
  {
   "cell_type": "code",
   "execution_count": 62,
   "metadata": {},
   "outputs": [
    {
     "data": {
      "text/plain": [
       "(7727, 387)"
      ]
     },
     "execution_count": 62,
     "metadata": {},
     "output_type": "execute_result"
    }
   ],
   "source": [
    "drug_perturb.shape"
   ]
  },
  {
   "cell_type": "code",
   "execution_count": 55,
   "metadata": {},
   "outputs": [
    {
     "data": {
      "text/plain": [
       "(7727, 688)"
      ]
     },
     "execution_count": 55,
     "metadata": {},
     "output_type": "execute_result"
    }
   ],
   "source": [
    "nn_model.shape"
   ]
  },
  {
   "cell_type": "code",
   "execution_count": 56,
   "metadata": {},
   "outputs": [
    {
     "data": {
      "text/html": [
       "<div>\n",
       "<style scoped>\n",
       "    .dataframe tbody tr th:only-of-type {\n",
       "        vertical-align: middle;\n",
       "    }\n",
       "\n",
       "    .dataframe tbody tr th {\n",
       "        vertical-align: top;\n",
       "    }\n",
       "\n",
       "    .dataframe thead th {\n",
       "        text-align: right;\n",
       "    }\n",
       "</style>\n",
       "<table border=\"1\" class=\"dataframe\">\n",
       "  <thead>\n",
       "    <tr style=\"text-align: right;\">\n",
       "      <th></th>\n",
       "      <th>1416</th>\n",
       "      <th>1074</th>\n",
       "      <th>925</th>\n",
       "      <th>345</th>\n",
       "      <th>551</th>\n",
       "      <th>750</th>\n",
       "      <th>885</th>\n",
       "      <th>1584</th>\n",
       "      <th>1585</th>\n",
       "      <th>636</th>\n",
       "      <th>...</th>\n",
       "      <th>1912</th>\n",
       "      <th>552</th>\n",
       "      <th>1362</th>\n",
       "      <th>668</th>\n",
       "      <th>697</th>\n",
       "      <th>1369</th>\n",
       "      <th>550</th>\n",
       "      <th>1579</th>\n",
       "      <th>1219</th>\n",
       "      <th>1514</th>\n",
       "    </tr>\n",
       "  </thead>\n",
       "  <tbody>\n",
       "    <tr>\n",
       "      <th>FAM3A</th>\n",
       "      <td>1.528467</td>\n",
       "      <td>-0.150743</td>\n",
       "      <td>0.222181</td>\n",
       "      <td>-0.470496</td>\n",
       "      <td>0.731880</td>\n",
       "      <td>-0.181326</td>\n",
       "      <td>3.436021</td>\n",
       "      <td>-1.500258</td>\n",
       "      <td>-1.500258</td>\n",
       "      <td>0.068688</td>\n",
       "      <td>...</td>\n",
       "      <td>-0.054181</td>\n",
       "      <td>-0.471603</td>\n",
       "      <td>1.638888</td>\n",
       "      <td>0.813216</td>\n",
       "      <td>1.220660</td>\n",
       "      <td>7.955420</td>\n",
       "      <td>2.458027</td>\n",
       "      <td>-1.388246</td>\n",
       "      <td>0.192524</td>\n",
       "      <td>0.089808</td>\n",
       "    </tr>\n",
       "    <tr>\n",
       "      <th>MPI</th>\n",
       "      <td>-0.349662</td>\n",
       "      <td>-2.366964</td>\n",
       "      <td>-0.065323</td>\n",
       "      <td>0.101187</td>\n",
       "      <td>-0.379393</td>\n",
       "      <td>0.432761</td>\n",
       "      <td>3.318031</td>\n",
       "      <td>1.594171</td>\n",
       "      <td>1.594171</td>\n",
       "      <td>-0.759975</td>\n",
       "      <td>...</td>\n",
       "      <td>1.402696</td>\n",
       "      <td>-0.200662</td>\n",
       "      <td>-1.609156</td>\n",
       "      <td>2.248813</td>\n",
       "      <td>0.453140</td>\n",
       "      <td>2.587244</td>\n",
       "      <td>2.098900</td>\n",
       "      <td>1.275870</td>\n",
       "      <td>-0.174179</td>\n",
       "      <td>-0.738923</td>\n",
       "    </tr>\n",
       "    <tr>\n",
       "      <th>MIER2</th>\n",
       "      <td>-1.125718</td>\n",
       "      <td>0.779621</td>\n",
       "      <td>-0.603046</td>\n",
       "      <td>-0.580376</td>\n",
       "      <td>0.836180</td>\n",
       "      <td>1.459272</td>\n",
       "      <td>1.060877</td>\n",
       "      <td>0.616406</td>\n",
       "      <td>0.616406</td>\n",
       "      <td>-0.509168</td>\n",
       "      <td>...</td>\n",
       "      <td>1.237060</td>\n",
       "      <td>-3.720114</td>\n",
       "      <td>-0.269386</td>\n",
       "      <td>-0.343174</td>\n",
       "      <td>0.976845</td>\n",
       "      <td>-0.602606</td>\n",
       "      <td>-1.084516</td>\n",
       "      <td>1.839062</td>\n",
       "      <td>-1.892136</td>\n",
       "      <td>0.419547</td>\n",
       "    </tr>\n",
       "    <tr>\n",
       "      <th>ARHGEF10</th>\n",
       "      <td>-0.178789</td>\n",
       "      <td>0.251414</td>\n",
       "      <td>-1.485443</td>\n",
       "      <td>0.183717</td>\n",
       "      <td>0.564224</td>\n",
       "      <td>1.062560</td>\n",
       "      <td>-1.319166</td>\n",
       "      <td>-0.834716</td>\n",
       "      <td>-0.834716</td>\n",
       "      <td>-0.852956</td>\n",
       "      <td>...</td>\n",
       "      <td>-1.157459</td>\n",
       "      <td>-1.534592</td>\n",
       "      <td>-1.136904</td>\n",
       "      <td>-1.125984</td>\n",
       "      <td>-0.257826</td>\n",
       "      <td>8.268007</td>\n",
       "      <td>1.298609</td>\n",
       "      <td>0.539243</td>\n",
       "      <td>-1.166287</td>\n",
       "      <td>0.863441</td>\n",
       "    </tr>\n",
       "    <tr>\n",
       "      <th>SPATA24</th>\n",
       "      <td>1.005510</td>\n",
       "      <td>-2.834021</td>\n",
       "      <td>3.133430</td>\n",
       "      <td>-1.404423</td>\n",
       "      <td>0.773887</td>\n",
       "      <td>-0.140430</td>\n",
       "      <td>-0.627203</td>\n",
       "      <td>1.616636</td>\n",
       "      <td>1.616636</td>\n",
       "      <td>-0.366637</td>\n",
       "      <td>...</td>\n",
       "      <td>2.014616</td>\n",
       "      <td>1.198471</td>\n",
       "      <td>-0.936847</td>\n",
       "      <td>-0.579943</td>\n",
       "      <td>-4.438929</td>\n",
       "      <td>-10.927265</td>\n",
       "      <td>-0.068208</td>\n",
       "      <td>-0.686556</td>\n",
       "      <td>-0.744657</td>\n",
       "      <td>0.740323</td>\n",
       "    </tr>\n",
       "  </tbody>\n",
       "</table>\n",
       "<p>5 rows × 387 columns</p>\n",
       "</div>"
      ],
      "text/plain": [
       "              1416      1074       925       345       551       750  \\\n",
       "FAM3A     1.528467 -0.150743  0.222181 -0.470496  0.731880 -0.181326   \n",
       "MPI      -0.349662 -2.366964 -0.065323  0.101187 -0.379393  0.432761   \n",
       "MIER2    -1.125718  0.779621 -0.603046 -0.580376  0.836180  1.459272   \n",
       "ARHGEF10 -0.178789  0.251414 -1.485443  0.183717  0.564224  1.062560   \n",
       "SPATA24   1.005510 -2.834021  3.133430 -1.404423  0.773887 -0.140430   \n",
       "\n",
       "               885      1584      1585       636  ...      1912       552  \\\n",
       "FAM3A     3.436021 -1.500258 -1.500258  0.068688  ... -0.054181 -0.471603   \n",
       "MPI       3.318031  1.594171  1.594171 -0.759975  ...  1.402696 -0.200662   \n",
       "MIER2     1.060877  0.616406  0.616406 -0.509168  ...  1.237060 -3.720114   \n",
       "ARHGEF10 -1.319166 -0.834716 -0.834716 -0.852956  ... -1.157459 -1.534592   \n",
       "SPATA24  -0.627203  1.616636  1.616636 -0.366637  ...  2.014616  1.198471   \n",
       "\n",
       "              1362       668       697       1369       550      1579  \\\n",
       "FAM3A     1.638888  0.813216  1.220660   7.955420  2.458027 -1.388246   \n",
       "MPI      -1.609156  2.248813  0.453140   2.587244  2.098900  1.275870   \n",
       "MIER2    -0.269386 -0.343174  0.976845  -0.602606 -1.084516  1.839062   \n",
       "ARHGEF10 -1.136904 -1.125984 -0.257826   8.268007  1.298609  0.539243   \n",
       "SPATA24  -0.936847 -0.579943 -4.438929 -10.927265 -0.068208 -0.686556   \n",
       "\n",
       "              1219      1514  \n",
       "FAM3A     0.192524  0.089808  \n",
       "MPI      -0.174179 -0.738923  \n",
       "MIER2    -1.892136  0.419547  \n",
       "ARHGEF10 -1.166287  0.863441  \n",
       "SPATA24  -0.744657  0.740323  \n",
       "\n",
       "[5 rows x 387 columns]"
      ]
     },
     "execution_count": 56,
     "metadata": {},
     "output_type": "execute_result"
    }
   ],
   "source": [
    "drug_perturb.head()"
   ]
  },
  {
   "cell_type": "code",
   "execution_count": 67,
   "metadata": {},
   "outputs": [],
   "source": [
    "drug_NN=pd.DataFrame(index=nn_model.columns, columns=drug_perturb.columns)\n",
    "drug_A_NN=pd.DataFrame(index=nn_model.columns, columns=drug_perturb_A.columns)"
   ]
  },
  {
   "cell_type": "code",
   "execution_count": 68,
   "metadata": {},
   "outputs": [
    {
     "data": {
      "text/html": [
       "<div>\n",
       "<style scoped>\n",
       "    .dataframe tbody tr th:only-of-type {\n",
       "        vertical-align: middle;\n",
       "    }\n",
       "\n",
       "    .dataframe tbody tr th {\n",
       "        vertical-align: top;\n",
       "    }\n",
       "\n",
       "    .dataframe thead th {\n",
       "        text-align: right;\n",
       "    }\n",
       "</style>\n",
       "<table border=\"1\" class=\"dataframe\">\n",
       "  <thead>\n",
       "    <tr style=\"text-align: right;\">\n",
       "      <th></th>\n",
       "      <th>1416</th>\n",
       "      <th>1074</th>\n",
       "      <th>925</th>\n",
       "      <th>345</th>\n",
       "      <th>551</th>\n",
       "      <th>750</th>\n",
       "      <th>885</th>\n",
       "      <th>1584</th>\n",
       "      <th>1585</th>\n",
       "      <th>636</th>\n",
       "      <th>...</th>\n",
       "      <th>1912</th>\n",
       "      <th>552</th>\n",
       "      <th>1362</th>\n",
       "      <th>668</th>\n",
       "      <th>697</th>\n",
       "      <th>1369</th>\n",
       "      <th>550</th>\n",
       "      <th>1579</th>\n",
       "      <th>1219</th>\n",
       "      <th>1514</th>\n",
       "    </tr>\n",
       "  </thead>\n",
       "  <tbody>\n",
       "    <tr>\n",
       "      <th>A2M</th>\n",
       "      <td>NaN</td>\n",
       "      <td>NaN</td>\n",
       "      <td>NaN</td>\n",
       "      <td>NaN</td>\n",
       "      <td>NaN</td>\n",
       "      <td>NaN</td>\n",
       "      <td>NaN</td>\n",
       "      <td>NaN</td>\n",
       "      <td>NaN</td>\n",
       "      <td>NaN</td>\n",
       "      <td>...</td>\n",
       "      <td>NaN</td>\n",
       "      <td>NaN</td>\n",
       "      <td>NaN</td>\n",
       "      <td>NaN</td>\n",
       "      <td>NaN</td>\n",
       "      <td>NaN</td>\n",
       "      <td>NaN</td>\n",
       "      <td>NaN</td>\n",
       "      <td>NaN</td>\n",
       "      <td>NaN</td>\n",
       "    </tr>\n",
       "    <tr>\n",
       "      <th>AANAT</th>\n",
       "      <td>NaN</td>\n",
       "      <td>NaN</td>\n",
       "      <td>NaN</td>\n",
       "      <td>NaN</td>\n",
       "      <td>NaN</td>\n",
       "      <td>NaN</td>\n",
       "      <td>NaN</td>\n",
       "      <td>NaN</td>\n",
       "      <td>NaN</td>\n",
       "      <td>NaN</td>\n",
       "      <td>...</td>\n",
       "      <td>NaN</td>\n",
       "      <td>NaN</td>\n",
       "      <td>NaN</td>\n",
       "      <td>NaN</td>\n",
       "      <td>NaN</td>\n",
       "      <td>NaN</td>\n",
       "      <td>NaN</td>\n",
       "      <td>NaN</td>\n",
       "      <td>NaN</td>\n",
       "      <td>NaN</td>\n",
       "    </tr>\n",
       "    <tr>\n",
       "      <th>ADAM12</th>\n",
       "      <td>NaN</td>\n",
       "      <td>NaN</td>\n",
       "      <td>NaN</td>\n",
       "      <td>NaN</td>\n",
       "      <td>NaN</td>\n",
       "      <td>NaN</td>\n",
       "      <td>NaN</td>\n",
       "      <td>NaN</td>\n",
       "      <td>NaN</td>\n",
       "      <td>NaN</td>\n",
       "      <td>...</td>\n",
       "      <td>NaN</td>\n",
       "      <td>NaN</td>\n",
       "      <td>NaN</td>\n",
       "      <td>NaN</td>\n",
       "      <td>NaN</td>\n",
       "      <td>NaN</td>\n",
       "      <td>NaN</td>\n",
       "      <td>NaN</td>\n",
       "      <td>NaN</td>\n",
       "      <td>NaN</td>\n",
       "    </tr>\n",
       "    <tr>\n",
       "      <th>ADAM15</th>\n",
       "      <td>NaN</td>\n",
       "      <td>NaN</td>\n",
       "      <td>NaN</td>\n",
       "      <td>NaN</td>\n",
       "      <td>NaN</td>\n",
       "      <td>NaN</td>\n",
       "      <td>NaN</td>\n",
       "      <td>NaN</td>\n",
       "      <td>NaN</td>\n",
       "      <td>NaN</td>\n",
       "      <td>...</td>\n",
       "      <td>NaN</td>\n",
       "      <td>NaN</td>\n",
       "      <td>NaN</td>\n",
       "      <td>NaN</td>\n",
       "      <td>NaN</td>\n",
       "      <td>NaN</td>\n",
       "      <td>NaN</td>\n",
       "      <td>NaN</td>\n",
       "      <td>NaN</td>\n",
       "      <td>NaN</td>\n",
       "    </tr>\n",
       "    <tr>\n",
       "      <th>ADAM17</th>\n",
       "      <td>NaN</td>\n",
       "      <td>NaN</td>\n",
       "      <td>NaN</td>\n",
       "      <td>NaN</td>\n",
       "      <td>NaN</td>\n",
       "      <td>NaN</td>\n",
       "      <td>NaN</td>\n",
       "      <td>NaN</td>\n",
       "      <td>NaN</td>\n",
       "      <td>NaN</td>\n",
       "      <td>...</td>\n",
       "      <td>NaN</td>\n",
       "      <td>NaN</td>\n",
       "      <td>NaN</td>\n",
       "      <td>NaN</td>\n",
       "      <td>NaN</td>\n",
       "      <td>NaN</td>\n",
       "      <td>NaN</td>\n",
       "      <td>NaN</td>\n",
       "      <td>NaN</td>\n",
       "      <td>NaN</td>\n",
       "    </tr>\n",
       "  </tbody>\n",
       "</table>\n",
       "<p>5 rows × 387 columns</p>\n",
       "</div>"
      ],
      "text/plain": [
       "       1416 1074  925  345  551  750  885 1584 1585  636  ... 1912  552 1362  \\\n",
       "A2M     NaN  NaN  NaN  NaN  NaN  NaN  NaN  NaN  NaN  NaN  ...  NaN  NaN  NaN   \n",
       "AANAT   NaN  NaN  NaN  NaN  NaN  NaN  NaN  NaN  NaN  NaN  ...  NaN  NaN  NaN   \n",
       "ADAM12  NaN  NaN  NaN  NaN  NaN  NaN  NaN  NaN  NaN  NaN  ...  NaN  NaN  NaN   \n",
       "ADAM15  NaN  NaN  NaN  NaN  NaN  NaN  NaN  NaN  NaN  NaN  ...  NaN  NaN  NaN   \n",
       "ADAM17  NaN  NaN  NaN  NaN  NaN  NaN  NaN  NaN  NaN  NaN  ...  NaN  NaN  NaN   \n",
       "\n",
       "        668  697 1369  550 1579 1219 1514  \n",
       "A2M     NaN  NaN  NaN  NaN  NaN  NaN  NaN  \n",
       "AANAT   NaN  NaN  NaN  NaN  NaN  NaN  NaN  \n",
       "ADAM12  NaN  NaN  NaN  NaN  NaN  NaN  NaN  \n",
       "ADAM15  NaN  NaN  NaN  NaN  NaN  NaN  NaN  \n",
       "ADAM17  NaN  NaN  NaN  NaN  NaN  NaN  NaN  \n",
       "\n",
       "[5 rows x 387 columns]"
      ]
     },
     "execution_count": 68,
     "metadata": {},
     "output_type": "execute_result"
    }
   ],
   "source": [
    "drug_NN.head()"
   ]
  },
  {
   "cell_type": "code",
   "execution_count": 69,
   "metadata": {},
   "outputs": [
    {
     "name": "stderr",
     "output_type": "stream",
     "text": [
      "C:\\Users\\nidik\\anaconda3\\lib\\site-packages\\scipy\\stats\\stats.py:3845: PearsonRConstantInputWarning: An input array is constant; the correlation coefficent is not defined.\n",
      "  warnings.warn(PearsonRConstantInputWarning())\n"
     ]
    }
   ],
   "source": [
    "for lig in drug_NN.index:\n",
    "    for exp in drug_NN.columns:\n",
    "        r=pearsonr(nn_model[lig],drug_perturb[exp])\n",
    "        r=r[0]\n",
    "        drug_NN.loc[lig,exp]=r"
   ]
  },
  {
   "cell_type": "code",
   "execution_count": 70,
   "metadata": {},
   "outputs": [],
   "source": [
    "for lig in drug_A_NN.index:\n",
    "    for exp in drug_A_NN.columns:\n",
    "        r=pearsonr(nn_model[lig],drug_perturb_A[exp])\n",
    "        r=r[0]\n",
    "        drug_A_NN.loc[lig,exp]=r"
   ]
  },
  {
   "cell_type": "code",
   "execution_count": 72,
   "metadata": {},
   "outputs": [],
   "source": [
    "drug_NN.to_csv('../results/drug_NN_sim.csv', sep=',')\n",
    "drug_A_NN.to_csv('../results/drug_A_NN_sim.csv', sep=',')"
   ]
  },
  {
   "cell_type": "markdown",
   "metadata": {},
   "source": [
    "### NN vs. gene_perturb"
   ]
  },
  {
   "cell_type": "code",
   "execution_count": 73,
   "metadata": {},
   "outputs": [
    {
     "data": {
      "text/plain": [
       "6826"
      ]
     },
     "execution_count": 73,
     "metadata": {},
     "output_type": "execute_result"
    }
   ],
   "source": [
    "common_genes=list(set(nn_model.index)& set(gene_perturb.index))\n",
    "len(common_genes)"
   ]
  },
  {
   "cell_type": "code",
   "execution_count": 74,
   "metadata": {},
   "outputs": [],
   "source": [
    "nn_model=nn_model.loc[common_genes]\n",
    "gene_perturb=gene_perturb.loc[common_genes]\n",
    "gene_perturb_A=gene_perturb_A.loc[common_genes]"
   ]
  },
  {
   "cell_type": "code",
   "execution_count": 75,
   "metadata": {},
   "outputs": [],
   "source": [
    "gene_NN=pd.DataFrame(index=nn_model.columns, columns=gene_perturb.columns)\n",
    "gene_A_NN=pd.DataFrame(index=nn_model.columns, columns=gene_perturb_A.columns)"
   ]
  },
  {
   "cell_type": "code",
   "execution_count": 76,
   "metadata": {},
   "outputs": [
    {
     "data": {
      "text/html": [
       "<div>\n",
       "<style scoped>\n",
       "    .dataframe tbody tr th:only-of-type {\n",
       "        vertical-align: middle;\n",
       "    }\n",
       "\n",
       "    .dataframe tbody tr th {\n",
       "        vertical-align: top;\n",
       "    }\n",
       "\n",
       "    .dataframe thead th {\n",
       "        text-align: right;\n",
       "    }\n",
       "</style>\n",
       "<table border=\"1\" class=\"dataframe\">\n",
       "  <thead>\n",
       "    <tr style=\"text-align: right;\">\n",
       "      <th></th>\n",
       "      <th>2410</th>\n",
       "      <th>2860</th>\n",
       "      <th>2487</th>\n",
       "      <th>2723</th>\n",
       "      <th>1319</th>\n",
       "      <th>3062</th>\n",
       "      <th>169</th>\n",
       "      <th>358</th>\n",
       "      <th>2422</th>\n",
       "      <th>2338</th>\n",
       "      <th>...</th>\n",
       "      <th>1830</th>\n",
       "      <th>2025</th>\n",
       "      <th>2777</th>\n",
       "      <th>2993</th>\n",
       "      <th>1946</th>\n",
       "      <th>2389</th>\n",
       "      <th>378</th>\n",
       "      <th>2411</th>\n",
       "      <th>2982</th>\n",
       "      <th>2742</th>\n",
       "    </tr>\n",
       "  </thead>\n",
       "  <tbody>\n",
       "    <tr>\n",
       "      <th>A2M</th>\n",
       "      <td>NaN</td>\n",
       "      <td>NaN</td>\n",
       "      <td>NaN</td>\n",
       "      <td>NaN</td>\n",
       "      <td>NaN</td>\n",
       "      <td>NaN</td>\n",
       "      <td>NaN</td>\n",
       "      <td>NaN</td>\n",
       "      <td>NaN</td>\n",
       "      <td>NaN</td>\n",
       "      <td>...</td>\n",
       "      <td>NaN</td>\n",
       "      <td>NaN</td>\n",
       "      <td>NaN</td>\n",
       "      <td>NaN</td>\n",
       "      <td>NaN</td>\n",
       "      <td>NaN</td>\n",
       "      <td>NaN</td>\n",
       "      <td>NaN</td>\n",
       "      <td>NaN</td>\n",
       "      <td>NaN</td>\n",
       "    </tr>\n",
       "    <tr>\n",
       "      <th>AANAT</th>\n",
       "      <td>NaN</td>\n",
       "      <td>NaN</td>\n",
       "      <td>NaN</td>\n",
       "      <td>NaN</td>\n",
       "      <td>NaN</td>\n",
       "      <td>NaN</td>\n",
       "      <td>NaN</td>\n",
       "      <td>NaN</td>\n",
       "      <td>NaN</td>\n",
       "      <td>NaN</td>\n",
       "      <td>...</td>\n",
       "      <td>NaN</td>\n",
       "      <td>NaN</td>\n",
       "      <td>NaN</td>\n",
       "      <td>NaN</td>\n",
       "      <td>NaN</td>\n",
       "      <td>NaN</td>\n",
       "      <td>NaN</td>\n",
       "      <td>NaN</td>\n",
       "      <td>NaN</td>\n",
       "      <td>NaN</td>\n",
       "    </tr>\n",
       "    <tr>\n",
       "      <th>ADAM12</th>\n",
       "      <td>NaN</td>\n",
       "      <td>NaN</td>\n",
       "      <td>NaN</td>\n",
       "      <td>NaN</td>\n",
       "      <td>NaN</td>\n",
       "      <td>NaN</td>\n",
       "      <td>NaN</td>\n",
       "      <td>NaN</td>\n",
       "      <td>NaN</td>\n",
       "      <td>NaN</td>\n",
       "      <td>...</td>\n",
       "      <td>NaN</td>\n",
       "      <td>NaN</td>\n",
       "      <td>NaN</td>\n",
       "      <td>NaN</td>\n",
       "      <td>NaN</td>\n",
       "      <td>NaN</td>\n",
       "      <td>NaN</td>\n",
       "      <td>NaN</td>\n",
       "      <td>NaN</td>\n",
       "      <td>NaN</td>\n",
       "    </tr>\n",
       "    <tr>\n",
       "      <th>ADAM15</th>\n",
       "      <td>NaN</td>\n",
       "      <td>NaN</td>\n",
       "      <td>NaN</td>\n",
       "      <td>NaN</td>\n",
       "      <td>NaN</td>\n",
       "      <td>NaN</td>\n",
       "      <td>NaN</td>\n",
       "      <td>NaN</td>\n",
       "      <td>NaN</td>\n",
       "      <td>NaN</td>\n",
       "      <td>...</td>\n",
       "      <td>NaN</td>\n",
       "      <td>NaN</td>\n",
       "      <td>NaN</td>\n",
       "      <td>NaN</td>\n",
       "      <td>NaN</td>\n",
       "      <td>NaN</td>\n",
       "      <td>NaN</td>\n",
       "      <td>NaN</td>\n",
       "      <td>NaN</td>\n",
       "      <td>NaN</td>\n",
       "    </tr>\n",
       "    <tr>\n",
       "      <th>ADAM17</th>\n",
       "      <td>NaN</td>\n",
       "      <td>NaN</td>\n",
       "      <td>NaN</td>\n",
       "      <td>NaN</td>\n",
       "      <td>NaN</td>\n",
       "      <td>NaN</td>\n",
       "      <td>NaN</td>\n",
       "      <td>NaN</td>\n",
       "      <td>NaN</td>\n",
       "      <td>NaN</td>\n",
       "      <td>...</td>\n",
       "      <td>NaN</td>\n",
       "      <td>NaN</td>\n",
       "      <td>NaN</td>\n",
       "      <td>NaN</td>\n",
       "      <td>NaN</td>\n",
       "      <td>NaN</td>\n",
       "      <td>NaN</td>\n",
       "      <td>NaN</td>\n",
       "      <td>NaN</td>\n",
       "      <td>NaN</td>\n",
       "    </tr>\n",
       "  </tbody>\n",
       "</table>\n",
       "<p>5 rows × 101 columns</p>\n",
       "</div>"
      ],
      "text/plain": [
       "       2410 2860 2487 2723 1319 3062  169  358 2422 2338  ... 1830 2025 2777  \\\n",
       "A2M     NaN  NaN  NaN  NaN  NaN  NaN  NaN  NaN  NaN  NaN  ...  NaN  NaN  NaN   \n",
       "AANAT   NaN  NaN  NaN  NaN  NaN  NaN  NaN  NaN  NaN  NaN  ...  NaN  NaN  NaN   \n",
       "ADAM12  NaN  NaN  NaN  NaN  NaN  NaN  NaN  NaN  NaN  NaN  ...  NaN  NaN  NaN   \n",
       "ADAM15  NaN  NaN  NaN  NaN  NaN  NaN  NaN  NaN  NaN  NaN  ...  NaN  NaN  NaN   \n",
       "ADAM17  NaN  NaN  NaN  NaN  NaN  NaN  NaN  NaN  NaN  NaN  ...  NaN  NaN  NaN   \n",
       "\n",
       "       2993 1946 2389  378 2411 2982 2742  \n",
       "A2M     NaN  NaN  NaN  NaN  NaN  NaN  NaN  \n",
       "AANAT   NaN  NaN  NaN  NaN  NaN  NaN  NaN  \n",
       "ADAM12  NaN  NaN  NaN  NaN  NaN  NaN  NaN  \n",
       "ADAM15  NaN  NaN  NaN  NaN  NaN  NaN  NaN  \n",
       "ADAM17  NaN  NaN  NaN  NaN  NaN  NaN  NaN  \n",
       "\n",
       "[5 rows x 101 columns]"
      ]
     },
     "execution_count": 76,
     "metadata": {},
     "output_type": "execute_result"
    }
   ],
   "source": [
    "gene_NN.head()"
   ]
  },
  {
   "cell_type": "code",
   "execution_count": 77,
   "metadata": {},
   "outputs": [
    {
     "name": "stderr",
     "output_type": "stream",
     "text": [
      "C:\\Users\\nidik\\anaconda3\\lib\\site-packages\\scipy\\stats\\stats.py:3845: PearsonRConstantInputWarning: An input array is constant; the correlation coefficent is not defined.\n",
      "  warnings.warn(PearsonRConstantInputWarning())\n"
     ]
    }
   ],
   "source": [
    "for lig in gene_NN.index:\n",
    "    for exp in gene_NN.columns:\n",
    "        r=pearsonr(nn_model[lig],gene_perturb[exp])\n",
    "        r=r[0]\n",
    "        gene_NN.loc[lig,exp]=r"
   ]
  },
  {
   "cell_type": "code",
   "execution_count": 78,
   "metadata": {},
   "outputs": [],
   "source": [
    "for lig in gene_A_NN.index:\n",
    "    for exp in gene_A_NN.columns:\n",
    "        r=pearsonr(nn_model[lig],gene_perturb_A[exp])\n",
    "        r=r[0]\n",
    "        gene_A_NN.loc[lig,exp]=r"
   ]
  },
  {
   "cell_type": "code",
   "execution_count": 80,
   "metadata": {},
   "outputs": [],
   "source": [
    "gene_NN.to_csv('../results/gene_NN_sim.csv', sep=',')\n",
    "gene_A_NN.to_csv('../results/gene_A_NN_sim.csv', sep=',')"
   ]
  },
  {
   "cell_type": "markdown",
   "metadata": {},
   "source": [
    "# LINCS vs. CREEDs"
   ]
  },
  {
   "cell_type": "code",
   "execution_count": 43,
   "metadata": {},
   "outputs": [],
   "source": [
    "def lincs_creeds_sim(consig, creeds_name, fname):\n",
    "    creeds=pd.read_csv('../results/'+creeds_name+'.csv',sep=',', index_col=0, header=0)\n",
    "    common_genes=list(set(consig.index)& set(creeds.index))\n",
    "    creeds=creeds.loc[common_genes]\n",
    "    consig=consig.loc[common_genes]\n",
    "    similarity_fname=pd.DataFrame(index=consig.columns, columns=creeds.columns)\n",
    "    for lig in similarity_fname.index:\n",
    "        for exp in similarity_fname.columns:\n",
    "            r=pearsonr(consig[lig],creeds[exp])\n",
    "            r=r[0]\n",
    "            similarity_fname.loc[lig,exp]=r\n",
    "    similarity_fname.to_csv('../results/'+creeds_name+'_'+fname+'.csv', sep=',')\n",
    "    #return similarity_fname.head()"
   ]
  },
  {
   "cell_type": "markdown",
   "metadata": {},
   "source": [
    "### LINCS vs. drug_perturb"
   ]
  },
  {
   "cell_type": "code",
   "execution_count": 45,
   "metadata": {},
   "outputs": [],
   "source": [
    "lincs_creeds_sim(consig_gse70138_trt_xpr, 'drug_pert', 'gse70138_trt_xpr')\n",
    "lincs_creeds_sim(consig_gse70138_trt_xpr_A, 'drug_pert', 'gse70138_trt_xpr_A')\n",
    "lincs_creeds_sim(consig_gse92742_trt_lig, 'drug_pert', 'gse70138_trt_lig')\n",
    "lincs_creeds_sim(consig_gse92742_trt_lig_A, 'drug_pert', 'gse70138_trt_lig_A')\n",
    "lincs_creeds_sim(consig_gse92742_trt_oe, 'drug_pert', 'gse70138_trt_oe')\n",
    "lincs_creeds_sim(consig_gse92742_trt_oe_A, 'drug_pert', 'gse70138_trt_oe_A')\n",
    "lincs_creeds_sim(consig_gse92742_trt_sh, 'drug_pert', 'gse70138_trt_sh')\n",
    "lincs_creeds_sim(consig_gse92742_trt_sh_A, 'drug_pert', 'gse70138_trt_sh_A')\n",
    "lincs_creeds_sim(consig_gse92742_trt_sh_fil, 'drug_pert', 'gse70138_trt_sh_fil')\n",
    "lincs_creeds_sim(consig_gse92742_trt_sh_fil_A, 'drug_pert', 'gse70138_trt_sh_fil_A')"
   ]
  },
  {
   "cell_type": "markdown",
   "metadata": {},
   "source": [
    "### LINCS vs. drug_perturb_A"
   ]
  },
  {
   "cell_type": "code",
   "execution_count": 46,
   "metadata": {},
   "outputs": [],
   "source": [
    "lincs_creeds_sim(consig_gse70138_trt_xpr, 'drug_pert_A', 'gse70138_trt_xpr')\n",
    "lincs_creeds_sim(consig_gse70138_trt_xpr_A, 'drug_pert_A', 'gse70138_trt_xpr_A')\n",
    "lincs_creeds_sim(consig_gse92742_trt_lig, 'drug_pert_A', 'gse70138_trt_lig')\n",
    "lincs_creeds_sim(consig_gse92742_trt_lig_A, 'drug_pert_A', 'gse70138_trt_lig_A')\n",
    "lincs_creeds_sim(consig_gse92742_trt_oe, 'drug_pert_A', 'gse70138_trt_oe')\n",
    "lincs_creeds_sim(consig_gse92742_trt_oe_A, 'drug_pert_A', 'gse70138_trt_oe_A')\n",
    "lincs_creeds_sim(consig_gse92742_trt_sh, 'drug_pert_A', 'gse70138_trt_sh')\n",
    "lincs_creeds_sim(consig_gse92742_trt_sh_A, 'drug_pert_A', 'gse70138_trt_sh_A')\n",
    "lincs_creeds_sim(consig_gse92742_trt_sh_fil, 'drug_pert_A', 'gse70138_trt_sh_fil')\n",
    "lincs_creeds_sim(consig_gse92742_trt_sh_fil_A, 'drug_pert_A', 'gse70138_trt_sh_fil_A')"
   ]
  },
  {
   "cell_type": "markdown",
   "metadata": {},
   "source": [
    "### LINCS vs. gene_perturb"
   ]
  },
  {
   "cell_type": "code",
   "execution_count": 47,
   "metadata": {},
   "outputs": [],
   "source": [
    "lincs_creeds_sim(consig_gse70138_trt_xpr, 'gene_pert', 'gse70138_trt_xpr')\n",
    "lincs_creeds_sim(consig_gse70138_trt_xpr_A, 'gene_pert', 'gse70138_trt_xpr_A')\n",
    "lincs_creeds_sim(consig_gse92742_trt_lig, 'gene_pert', 'gse70138_trt_lig')\n",
    "lincs_creeds_sim(consig_gse92742_trt_lig_A, 'gene_pert', 'gse70138_trt_lig_A')\n",
    "lincs_creeds_sim(consig_gse92742_trt_oe, 'gene_pert', 'gse70138_trt_oe')\n",
    "lincs_creeds_sim(consig_gse92742_trt_oe_A, 'gene_pert', 'gse70138_trt_oe_A')\n",
    "lincs_creeds_sim(consig_gse92742_trt_sh, 'gene_pert', 'gse70138_trt_sh')\n",
    "lincs_creeds_sim(consig_gse92742_trt_sh_A, 'gene_pert', 'gse70138_trt_sh_A')\n",
    "lincs_creeds_sim(consig_gse92742_trt_sh_fil, 'gene_pert', 'gse70138_trt_sh_fil')\n",
    "lincs_creeds_sim(consig_gse92742_trt_sh_fil_A, 'gene_pert', 'gse70138_trt_sh_fil_A')"
   ]
  },
  {
   "cell_type": "markdown",
   "metadata": {},
   "source": [
    "### LINCS vs. gene_perturb_A"
   ]
  },
  {
   "cell_type": "code",
   "execution_count": 48,
   "metadata": {},
   "outputs": [],
   "source": [
    "lincs_creeds_sim(consig_gse70138_trt_xpr, 'gene_pert_A', 'gse70138_trt_xpr')\n",
    "lincs_creeds_sim(consig_gse70138_trt_xpr_A, 'gene_pert_A', 'gse70138_trt_xpr_A')\n",
    "lincs_creeds_sim(consig_gse92742_trt_lig, 'gene_pert_A', 'gse70138_trt_lig')\n",
    "lincs_creeds_sim(consig_gse92742_trt_lig_A, 'gene_pert_A', 'gse70138_trt_lig_A')\n",
    "lincs_creeds_sim(consig_gse92742_trt_oe, 'gene_pert_A', 'gse70138_trt_oe')\n",
    "lincs_creeds_sim(consig_gse92742_trt_oe_A, 'gene_pert_A', 'gse70138_trt_oe_A')\n",
    "lincs_creeds_sim(consig_gse92742_trt_sh, 'gene_pert_A', 'gse70138_trt_sh')\n",
    "lincs_creeds_sim(consig_gse92742_trt_sh_A, 'gene_pert_A', 'gse70138_trt_sh_A')\n",
    "lincs_creeds_sim(consig_gse92742_trt_sh_fil, 'gene_pert_A', 'gse70138_trt_sh_fil')\n",
    "lincs_creeds_sim(consig_gse92742_trt_sh_fil_A, 'gene_pert_A', 'gse70138_trt_sh_fil_A')"
   ]
  },
  {
   "cell_type": "markdown",
   "metadata": {},
   "source": [
    "# Evaluating similarity with ROC curves"
   ]
  },
  {
   "cell_type": "markdown",
   "metadata": {},
   "source": [
    "### Comparing NicheNet with CREEDs"
   ]
  },
  {
   "cell_type": "code",
   "execution_count": 62,
   "metadata": {},
   "outputs": [],
   "source": [
    "similarity=pd.read_csv('../results/gene_NN_sim.csv',sep=',',header=0,index_col=0)"
   ]
  },
  {
   "cell_type": "code",
   "execution_count": 63,
   "metadata": {},
   "outputs": [],
   "source": [
    "meta = pd.read_csv('../results/gene_perturb.csv', sep=',', header=0, index_col=0)"
   ]
  },
  {
   "cell_type": "code",
   "execution_count": 64,
   "metadata": {},
   "outputs": [],
   "source": [
    "lr_network = pd.read_csv('../data/lr_network.csv', sep=',', header=0, index_col=0)"
   ]
  },
  {
   "cell_type": "code",
   "execution_count": 65,
   "metadata": {},
   "outputs": [
    {
     "data": {
      "text/html": [
       "<div>\n",
       "<style scoped>\n",
       "    .dataframe tbody tr th:only-of-type {\n",
       "        vertical-align: middle;\n",
       "    }\n",
       "\n",
       "    .dataframe tbody tr th {\n",
       "        vertical-align: top;\n",
       "    }\n",
       "\n",
       "    .dataframe thead th {\n",
       "        text-align: right;\n",
       "    }\n",
       "</style>\n",
       "<table border=\"1\" class=\"dataframe\">\n",
       "  <thead>\n",
       "    <tr style=\"text-align: right;\">\n",
       "      <th></th>\n",
       "      <th>from</th>\n",
       "      <th>to</th>\n",
       "      <th>source</th>\n",
       "      <th>database</th>\n",
       "    </tr>\n",
       "  </thead>\n",
       "  <tbody>\n",
       "    <tr>\n",
       "      <th>1</th>\n",
       "      <td>CXCL1</td>\n",
       "      <td>CXCR2</td>\n",
       "      <td>kegg_cytokines</td>\n",
       "      <td>kegg</td>\n",
       "    </tr>\n",
       "    <tr>\n",
       "      <th>2</th>\n",
       "      <td>CXCL2</td>\n",
       "      <td>CXCR2</td>\n",
       "      <td>kegg_cytokines</td>\n",
       "      <td>kegg</td>\n",
       "    </tr>\n",
       "    <tr>\n",
       "      <th>3</th>\n",
       "      <td>CXCL3</td>\n",
       "      <td>CXCR2</td>\n",
       "      <td>kegg_cytokines</td>\n",
       "      <td>kegg</td>\n",
       "    </tr>\n",
       "    <tr>\n",
       "      <th>4</th>\n",
       "      <td>CXCL5</td>\n",
       "      <td>CXCR2</td>\n",
       "      <td>kegg_cytokines</td>\n",
       "      <td>kegg</td>\n",
       "    </tr>\n",
       "    <tr>\n",
       "      <th>5</th>\n",
       "      <td>PPBP</td>\n",
       "      <td>CXCR2</td>\n",
       "      <td>kegg_cytokines</td>\n",
       "      <td>kegg</td>\n",
       "    </tr>\n",
       "  </tbody>\n",
       "</table>\n",
       "</div>"
      ],
      "text/plain": [
       "    from     to          source database\n",
       "1  CXCL1  CXCR2  kegg_cytokines     kegg\n",
       "2  CXCL2  CXCR2  kegg_cytokines     kegg\n",
       "3  CXCL3  CXCR2  kegg_cytokines     kegg\n",
       "4  CXCL5  CXCR2  kegg_cytokines     kegg\n",
       "5   PPBP  CXCR2  kegg_cytokines     kegg"
      ]
     },
     "execution_count": 65,
     "metadata": {},
     "output_type": "execute_result"
    }
   ],
   "source": [
    "good_source = ['kegg_cytokines', 'kegg_cams', 'kegg_neuroactive', 'kegg_ecm', 'pharmacology', 'ramilowski_known']\n",
    "lr_network = lr_network[np.in1d(lr_network['source'], good_source)]\n",
    "lr_network.head()"
   ]
  },
  {
   "cell_type": "code",
   "execution_count": 66,
   "metadata": {},
   "outputs": [
    {
     "data": {
      "text/html": [
       "<div>\n",
       "<style scoped>\n",
       "    .dataframe tbody tr th:only-of-type {\n",
       "        vertical-align: middle;\n",
       "    }\n",
       "\n",
       "    .dataframe tbody tr th {\n",
       "        vertical-align: top;\n",
       "    }\n",
       "\n",
       "    .dataframe thead th {\n",
       "        text-align: right;\n",
       "    }\n",
       "</style>\n",
       "<table border=\"1\" class=\"dataframe\">\n",
       "  <thead>\n",
       "    <tr style=\"text-align: right;\">\n",
       "      <th></th>\n",
       "      <th>2410</th>\n",
       "      <th>2860</th>\n",
       "      <th>2487</th>\n",
       "      <th>2723</th>\n",
       "      <th>1319</th>\n",
       "      <th>3062</th>\n",
       "      <th>169</th>\n",
       "      <th>358</th>\n",
       "      <th>2422</th>\n",
       "      <th>2338</th>\n",
       "      <th>...</th>\n",
       "      <th>1830</th>\n",
       "      <th>2025</th>\n",
       "      <th>2777</th>\n",
       "      <th>2993</th>\n",
       "      <th>1946</th>\n",
       "      <th>2389</th>\n",
       "      <th>378</th>\n",
       "      <th>2411</th>\n",
       "      <th>2982</th>\n",
       "      <th>2742</th>\n",
       "    </tr>\n",
       "  </thead>\n",
       "  <tbody>\n",
       "    <tr>\n",
       "      <th>A2M</th>\n",
       "      <td>-0.038699</td>\n",
       "      <td>-0.049446</td>\n",
       "      <td>0.081242</td>\n",
       "      <td>-0.003450</td>\n",
       "      <td>-0.025308</td>\n",
       "      <td>0.011098</td>\n",
       "      <td>0.000285</td>\n",
       "      <td>-0.030274</td>\n",
       "      <td>-0.082235</td>\n",
       "      <td>-0.060269</td>\n",
       "      <td>...</td>\n",
       "      <td>0.037064</td>\n",
       "      <td>-0.031674</td>\n",
       "      <td>0.003815</td>\n",
       "      <td>0.050718</td>\n",
       "      <td>0.016912</td>\n",
       "      <td>-0.037577</td>\n",
       "      <td>-0.068707</td>\n",
       "      <td>0.108302</td>\n",
       "      <td>-0.042271</td>\n",
       "      <td>-0.014820</td>\n",
       "    </tr>\n",
       "    <tr>\n",
       "      <th>AANAT</th>\n",
       "      <td>-0.038209</td>\n",
       "      <td>-0.079271</td>\n",
       "      <td>0.076323</td>\n",
       "      <td>-0.023940</td>\n",
       "      <td>0.032480</td>\n",
       "      <td>0.014345</td>\n",
       "      <td>0.011687</td>\n",
       "      <td>-0.011025</td>\n",
       "      <td>-0.100036</td>\n",
       "      <td>-0.025256</td>\n",
       "      <td>...</td>\n",
       "      <td>0.029474</td>\n",
       "      <td>-0.008134</td>\n",
       "      <td>-0.002666</td>\n",
       "      <td>0.049662</td>\n",
       "      <td>-0.030334</td>\n",
       "      <td>-0.025429</td>\n",
       "      <td>-0.035234</td>\n",
       "      <td>0.082722</td>\n",
       "      <td>-0.040324</td>\n",
       "      <td>0.009324</td>\n",
       "    </tr>\n",
       "    <tr>\n",
       "      <th>ADAM12</th>\n",
       "      <td>-0.036660</td>\n",
       "      <td>-0.033528</td>\n",
       "      <td>0.069146</td>\n",
       "      <td>-0.008778</td>\n",
       "      <td>-0.039136</td>\n",
       "      <td>0.008922</td>\n",
       "      <td>-0.014692</td>\n",
       "      <td>-0.027231</td>\n",
       "      <td>-0.073598</td>\n",
       "      <td>-0.057468</td>\n",
       "      <td>...</td>\n",
       "      <td>0.041015</td>\n",
       "      <td>-0.021111</td>\n",
       "      <td>0.005802</td>\n",
       "      <td>0.061673</td>\n",
       "      <td>0.014733</td>\n",
       "      <td>-0.042970</td>\n",
       "      <td>-0.077354</td>\n",
       "      <td>0.105102</td>\n",
       "      <td>-0.035882</td>\n",
       "      <td>-0.023975</td>\n",
       "    </tr>\n",
       "    <tr>\n",
       "      <th>ADAM15</th>\n",
       "      <td>-0.046566</td>\n",
       "      <td>-0.063452</td>\n",
       "      <td>0.073299</td>\n",
       "      <td>-0.048081</td>\n",
       "      <td>0.040736</td>\n",
       "      <td>-0.007671</td>\n",
       "      <td>0.019924</td>\n",
       "      <td>-0.006517</td>\n",
       "      <td>-0.096430</td>\n",
       "      <td>0.004263</td>\n",
       "      <td>...</td>\n",
       "      <td>0.015353</td>\n",
       "      <td>-0.019922</td>\n",
       "      <td>-0.002388</td>\n",
       "      <td>0.044010</td>\n",
       "      <td>-0.047967</td>\n",
       "      <td>-0.045091</td>\n",
       "      <td>0.010051</td>\n",
       "      <td>0.077977</td>\n",
       "      <td>-0.016666</td>\n",
       "      <td>0.021123</td>\n",
       "    </tr>\n",
       "    <tr>\n",
       "      <th>ADAM17</th>\n",
       "      <td>-0.020800</td>\n",
       "      <td>-0.044450</td>\n",
       "      <td>0.066712</td>\n",
       "      <td>0.029450</td>\n",
       "      <td>-0.028732</td>\n",
       "      <td>0.039558</td>\n",
       "      <td>0.001212</td>\n",
       "      <td>-0.035122</td>\n",
       "      <td>-0.076297</td>\n",
       "      <td>-0.068012</td>\n",
       "      <td>...</td>\n",
       "      <td>0.050480</td>\n",
       "      <td>-0.051200</td>\n",
       "      <td>0.004015</td>\n",
       "      <td>0.043707</td>\n",
       "      <td>0.027426</td>\n",
       "      <td>-0.038948</td>\n",
       "      <td>-0.091170</td>\n",
       "      <td>0.103425</td>\n",
       "      <td>-0.071417</td>\n",
       "      <td>0.003589</td>\n",
       "    </tr>\n",
       "  </tbody>\n",
       "</table>\n",
       "<p>5 rows × 101 columns</p>\n",
       "</div>"
      ],
      "text/plain": [
       "            2410      2860      2487      2723      1319      3062       169  \\\n",
       "A2M    -0.038699 -0.049446  0.081242 -0.003450 -0.025308  0.011098  0.000285   \n",
       "AANAT  -0.038209 -0.079271  0.076323 -0.023940  0.032480  0.014345  0.011687   \n",
       "ADAM12 -0.036660 -0.033528  0.069146 -0.008778 -0.039136  0.008922 -0.014692   \n",
       "ADAM15 -0.046566 -0.063452  0.073299 -0.048081  0.040736 -0.007671  0.019924   \n",
       "ADAM17 -0.020800 -0.044450  0.066712  0.029450 -0.028732  0.039558  0.001212   \n",
       "\n",
       "             358      2422      2338  ...      1830      2025      2777  \\\n",
       "A2M    -0.030274 -0.082235 -0.060269  ...  0.037064 -0.031674  0.003815   \n",
       "AANAT  -0.011025 -0.100036 -0.025256  ...  0.029474 -0.008134 -0.002666   \n",
       "ADAM12 -0.027231 -0.073598 -0.057468  ...  0.041015 -0.021111  0.005802   \n",
       "ADAM15 -0.006517 -0.096430  0.004263  ...  0.015353 -0.019922 -0.002388   \n",
       "ADAM17 -0.035122 -0.076297 -0.068012  ...  0.050480 -0.051200  0.004015   \n",
       "\n",
       "            2993      1946      2389       378      2411      2982      2742  \n",
       "A2M     0.050718  0.016912 -0.037577 -0.068707  0.108302 -0.042271 -0.014820  \n",
       "AANAT   0.049662 -0.030334 -0.025429 -0.035234  0.082722 -0.040324  0.009324  \n",
       "ADAM12  0.061673  0.014733 -0.042970 -0.077354  0.105102 -0.035882 -0.023975  \n",
       "ADAM15  0.044010 -0.047967 -0.045091  0.010051  0.077977 -0.016666  0.021123  \n",
       "ADAM17  0.043707  0.027426 -0.038948 -0.091170  0.103425 -0.071417  0.003589  \n",
       "\n",
       "[5 rows x 101 columns]"
      ]
     },
     "execution_count": 66,
     "metadata": {},
     "output_type": "execute_result"
    }
   ],
   "source": [
    "similarity.head()"
   ]
  },
  {
   "cell_type": "code",
   "execution_count": 68,
   "metadata": {},
   "outputs": [
    {
     "data": {
      "text/html": [
       "<div>\n",
       "<style scoped>\n",
       "    .dataframe tbody tr th:only-of-type {\n",
       "        vertical-align: middle;\n",
       "    }\n",
       "\n",
       "    .dataframe tbody tr th {\n",
       "        vertical-align: top;\n",
       "    }\n",
       "\n",
       "    .dataframe thead th {\n",
       "        text-align: right;\n",
       "    }\n",
       "</style>\n",
       "<table border=\"1\" class=\"dataframe\">\n",
       "  <thead>\n",
       "    <tr style=\"text-align: right;\">\n",
       "      <th></th>\n",
       "      <th>cell_type</th>\n",
       "      <th>chdir_norm</th>\n",
       "      <th>ctrl_ids</th>\n",
       "      <th>curator</th>\n",
       "      <th>geo_id</th>\n",
       "      <th>hs_gene_symbol</th>\n",
       "      <th>mm_gene_symbol</th>\n",
       "      <th>organism</th>\n",
       "      <th>pert_ids</th>\n",
       "      <th>pert_type</th>\n",
       "      <th>platform</th>\n",
       "      <th>version</th>\n",
       "      <th>sign</th>\n",
       "    </tr>\n",
       "  </thead>\n",
       "  <tbody>\n",
       "    <tr>\n",
       "      <th>1928</th>\n",
       "      <td>brown adipose tissue of ob/ob mice</td>\n",
       "      <td>NaN</td>\n",
       "      <td>GSM800590|GSM800591|GSM800592|GSM800593|GSM800...</td>\n",
       "      <td>Andrew</td>\n",
       "      <td>GSE32316</td>\n",
       "      <td>FGFR1</td>\n",
       "      <td>Fgfr1</td>\n",
       "      <td>mouse</td>\n",
       "      <td>GSM800596|GSM800597|GSM800598|GSM800599|GSM800...</td>\n",
       "      <td>drugactivation</td>\n",
       "      <td>GPL1261</td>\n",
       "      <td>1.0</td>\n",
       "      <td>0</td>\n",
       "    </tr>\n",
       "    <tr>\n",
       "      <th>2347</th>\n",
       "      <td>heart</td>\n",
       "      <td>NaN</td>\n",
       "      <td>GSM360098|GSM360099|GSM360100</td>\n",
       "      <td>nbongio</td>\n",
       "      <td>GSE14411</td>\n",
       "      <td>ITGB1</td>\n",
       "      <td>Itgb1</td>\n",
       "      <td>mouse</td>\n",
       "      <td>GSM360101|GSM360102|GSM360103</td>\n",
       "      <td>KO</td>\n",
       "      <td>GPL6246</td>\n",
       "      <td>1.0</td>\n",
       "      <td>-1</td>\n",
       "    </tr>\n",
       "    <tr>\n",
       "      <th>2584</th>\n",
       "      <td>Osteoclasts</td>\n",
       "      <td>NaN</td>\n",
       "      <td>GSM1487524|GSM1487525|GSM1487526</td>\n",
       "      <td>maroulisv</td>\n",
       "      <td>GSE60761</td>\n",
       "      <td>CALCR</td>\n",
       "      <td>Calcr</td>\n",
       "      <td>mouse</td>\n",
       "      <td>GSM1487530|GSM1487531|GSM1487532</td>\n",
       "      <td>KO</td>\n",
       "      <td>GPL1261</td>\n",
       "      <td>1.0</td>\n",
       "      <td>-1</td>\n",
       "    </tr>\n",
       "    <tr>\n",
       "      <th>2589</th>\n",
       "      <td>glioma cells</td>\n",
       "      <td>NaN</td>\n",
       "      <td>GSM1498939|GSM1498940|GSM1498941</td>\n",
       "      <td>NaN</td>\n",
       "      <td>GSE61178</td>\n",
       "      <td>KDR</td>\n",
       "      <td>Kdr</td>\n",
       "      <td>human</td>\n",
       "      <td>GSM1498942|GSM1498943|GSM1498944</td>\n",
       "      <td>KD</td>\n",
       "      <td>GPL10558</td>\n",
       "      <td>1.0</td>\n",
       "      <td>-1</td>\n",
       "    </tr>\n",
       "    <tr>\n",
       "      <th>1852</th>\n",
       "      <td>mammary gland</td>\n",
       "      <td>NaN</td>\n",
       "      <td>GSM72723|GSM72730|GSM72795|GSM72877</td>\n",
       "      <td>Andrew</td>\n",
       "      <td>GSE3260</td>\n",
       "      <td>FGFR1</td>\n",
       "      <td>Fgfr1</td>\n",
       "      <td>mouse</td>\n",
       "      <td>GSM72726|GSM72727|GSM72789|GSM72793|GSM72869</td>\n",
       "      <td>activemutant</td>\n",
       "      <td>GPL81</td>\n",
       "      <td>1.0</td>\n",
       "      <td>1</td>\n",
       "    </tr>\n",
       "  </tbody>\n",
       "</table>\n",
       "</div>"
      ],
      "text/plain": [
       "                               cell_type chdir_norm  \\\n",
       "1928  brown adipose tissue of ob/ob mice        NaN   \n",
       "2347                               heart        NaN   \n",
       "2584                         Osteoclasts        NaN   \n",
       "2589                        glioma cells        NaN   \n",
       "1852                       mammary gland        NaN   \n",
       "\n",
       "                                               ctrl_ids    curator    geo_id  \\\n",
       "1928  GSM800590|GSM800591|GSM800592|GSM800593|GSM800...     Andrew  GSE32316   \n",
       "2347                      GSM360098|GSM360099|GSM360100    nbongio  GSE14411   \n",
       "2584                   GSM1487524|GSM1487525|GSM1487526  maroulisv  GSE60761   \n",
       "2589                   GSM1498939|GSM1498940|GSM1498941        NaN  GSE61178   \n",
       "1852                GSM72723|GSM72730|GSM72795|GSM72877     Andrew   GSE3260   \n",
       "\n",
       "     hs_gene_symbol mm_gene_symbol organism  \\\n",
       "1928          FGFR1          Fgfr1    mouse   \n",
       "2347          ITGB1          Itgb1    mouse   \n",
       "2584          CALCR          Calcr    mouse   \n",
       "2589            KDR            Kdr    human   \n",
       "1852          FGFR1          Fgfr1    mouse   \n",
       "\n",
       "                                               pert_ids       pert_type  \\\n",
       "1928  GSM800596|GSM800597|GSM800598|GSM800599|GSM800...  drugactivation   \n",
       "2347                      GSM360101|GSM360102|GSM360103              KO   \n",
       "2584                   GSM1487530|GSM1487531|GSM1487532              KO   \n",
       "2589                   GSM1498942|GSM1498943|GSM1498944              KD   \n",
       "1852       GSM72726|GSM72727|GSM72789|GSM72793|GSM72869    activemutant   \n",
       "\n",
       "      platform  version  sign  \n",
       "1928   GPL1261      1.0     0  \n",
       "2347   GPL6246      1.0    -1  \n",
       "2584   GPL1261      1.0    -1  \n",
       "2589  GPL10558      1.0    -1  \n",
       "1852     GPL81      1.0     1  "
      ]
     },
     "execution_count": 68,
     "metadata": {},
     "output_type": "execute_result"
    }
   ],
   "source": [
    "meta.head()"
   ]
  },
  {
   "cell_type": "code",
   "execution_count": 69,
   "metadata": {},
   "outputs": [],
   "source": [
    "true_matrix = pd.DataFrame(0, index=similarity.index, columns=similarity.columns)\n",
    "for sample in true_matrix.columns:\n",
    "    target = meta.loc[int(sample), 'hs_gene_symbol']\n",
    "    fil = lr_network['to'] == target\n",
    "    ligands = lr_network['from'][fil].unique()\n",
    "    ligands = list(set(ligands) & set(true_matrix.index))\n",
    "    true_matrix.loc[ligands, sample] = 1\n",
    "    if target in true_matrix.index:\n",
    "        true_matrix.loc[target, sample] = 1"
   ]
  },
  {
   "cell_type": "code",
   "execution_count": 72,
   "metadata": {},
   "outputs": [],
   "source": [
    "y_pr = similarity.values.reshape((1, -1))[0]\n",
    "y_tr = true_matrix.values.reshape((1, -1))[0]\n",
    "fil = ~pd.isna(y_pr)\n",
    "y_pr = y_pr[fil]\n",
    "y_tr = y_tr[fil]"
   ]
  },
  {
   "cell_type": "code",
   "execution_count": 73,
   "metadata": {},
   "outputs": [],
   "source": [
    "fpr, tpr, dummy = ROC(y_tr, y_pr)"
   ]
  },
  {
   "cell_type": "code",
   "execution_count": 74,
   "metadata": {},
   "outputs": [
    {
     "data": {
      "text/plain": [
       "0.546014849206806"
      ]
     },
     "execution_count": 74,
     "metadata": {},
     "output_type": "execute_result"
    },
    {
     "data": {
      "image/png": "[encoded data removed]",
      "text/plain": [
       "<matplotlib.figure.Figure at 0x128ce6b70>"
      ]
     },
     "metadata": {},
     "output_type": "display_data"
    }
   ],
   "source": [
    "plt.plot(fpr, tpr)\n",
    "AUC(fpr, tpr)"
   ]
  },
  {
   "cell_type": "code",
   "execution_count": 90,
   "metadata": {},
   "outputs": [],
   "source": [
    "for l_or_r in similarity.columns:\n",
    "        pairs=[l_or_r]\n",
    "        pairs+=list(ligand_receptor[ligand_receptor['to']==l_or_r]['from'])\n",
    "        pairs=list(set(pairs)&set(truedata.index))\n",
    "        truedata.loc[pairs,l_or_r]=1"
   ]
  },
  {
   "cell_type": "code",
   "execution_count": null,
   "metadata": {},
   "outputs": [],
   "source": []
  },
  {
   "cell_type": "code",
   "execution_count": null,
   "metadata": {},
   "outputs": [],
   "source": []
  },
  {
   "cell_type": "code",
   "execution_count": null,
   "metadata": {},
   "outputs": [],
   "source": [
    "truedata=np.zeros((correlations.shape),int) #array\n",
    "truedata=pd.DataFrame(truedata, index=correlations.index, columns=correlations.columns)"
   ]
  },
  {
   "cell_type": "code",
   "execution_count": null,
   "metadata": {},
   "outputs": [],
   "source": [
    "def NN_compare(similarity_name) :\n",
    "    similarity=pd.read_csv('../results/'+similarity+'.csv',sep=',',header=0,index_col=0)\n",
    "    truedata=np.zeros((similarity.shape),int) #array\n",
    "    truedata=pd.DataFrame(truedata, index=similarity.index, columns=similarity.columns)\n",
    "    for l_or_r in similarity.columns:\n",
    "        pairs=[l_or_r]\n",
    "        pairs+=list(ligand_receptor[ligand_receptor['to']==l_or_r]['from'])\n",
    "        pairs=list(set(pairs)&set(truedata.index))\n",
    "        truedata.loc[pairs,l_or_r]=1\n",
    "    \n",
    "    truedata_ROC=truedata.values.reshape((1,-1))[0]\n",
    "    #ROC\n",
    "    y_pr=similarity\n",
    "    y_true=truedata\n",
    "    fpr, tpr, th=ROC(y_true=y_true, y_score=y_pr)\n",
    "    plt.subplot(121)\n",
    "    plt.plot(fpr, tpr)\n",
    "    plt.xlabel('False positive rate', size=15)\n",
    "    plt.ylabel('True positive rate', size=15)\n",
    "    plt.title(similarity_name, size=12)\n",
    "    plt.legend(['ROC AUC=' + str(AUC(fpr, tpr))[:4]])\n",
    "    plt.tight_layout()\n",
    "    print(AUC(fpr, tpr))\n",
    "    #PRC\n",
    "    y_pred=similarity\n",
    "    y_tr=truedata\n",
    "    precision, recall, thresholds = PRC( y_true=y_tr, probas_pred=y_pred)\n",
    "    plt.subplot(122)\n",
    "    plt.plot(recall, precision)\n",
    "    plt.xlabel('Recall', size=15)\n",
    "    plt.ylabel('Precision', size=15)\n",
    "    plt.title(similarity_name, size=12)\n",
    "    random_AUC=np.sum(y_tr)/len(y_tr)\n",
    "    real_AUC=AUC(recall, precision)\n",
    "    plt.plot([0,1],[random_AUC,random_AUC], 'k:') #matplotlib colours, line stile\n",
    "    print (AUC(recall,precision))\n",
    "    print('Random AUC:',np.sum(y_tr)/len(y_tr))\n",
    "    plt.legend(['PRC AUC=' + str(real_AUC)[:4], 'random AUC='+ str(random_AUC)[:4]])\n",
    "    plt.tight_layout()"
   ]
  },
  {
   "cell_type": "code",
   "execution_count": null,
   "metadata": {},
   "outputs": [],
   "source": [
    "NN_compare('drug_NN_sim')"
   ]
  },
  {
   "cell_type": "code",
   "execution_count": null,
   "metadata": {},
   "outputs": [],
   "source": [
    "NN_compare('drug_A_NN_sim')"
   ]
  },
  {
   "cell_type": "code",
   "execution_count": null,
   "metadata": {},
   "outputs": [],
   "source": [
    "NN_compare('gene_NN_sim')"
   ]
  },
  {
   "cell_type": "code",
   "execution_count": null,
   "metadata": {},
   "outputs": [],
   "source": [
    "NN_compare('gene_A_NN_sim')"
   ]
  },
  {
   "cell_type": "markdown",
   "metadata": {},
   "source": [
    "### Comparing LINCS with CREEDs"
   ]
  },
  {
   "cell_type": "code",
   "execution_count": null,
   "metadata": {},
   "outputs": [],
   "source": [
    "def LINCS_compare(similarity_name) :\n",
    "    similarity=pd.read_csv('../results/'+similarity+'.csv',sep=',',header=0,index_col=0)\n",
    "    \n",
    "    #ROC\n",
    "    y_pr=similarity\n",
    "    y_true=pd.Series(0,index=y_pr.index)\n",
    "    y_true[list(set(rl[pathway])&(set(progeny_consig.index)))]=1\n",
    "    \n",
    "    fpr, tpr, th=ROC(y_true=y_true, y_score=y_pr)\n",
    "    plt.subplot(121)\n",
    "    plt.plot(fpr, tpr)\n",
    "    plt.xlabel('False positive rate', size=15)\n",
    "    plt.ylabel('True positive rate', size=15)\n",
    "    plt.title(similarity_name, size=12)\n",
    "    plt.legend(['ROC AUC=' + str(AUC(fpr, tpr))[:4]])\n",
    "    plt.tight_layout()\n",
    "    print(AUC(fpr, tpr))\n",
    "    #PRC\n",
    "    y_pred=similarity\n",
    "    y_tr=truedata\n",
    "    precision, recall, thresholds = PRC( y_true=y_tr, probas_pred=y_pred)\n",
    "    plt.subplot(122)\n",
    "    plt.plot(recall, precision)\n",
    "    plt.xlabel('Recall', size=15)\n",
    "    plt.ylabel('Precision', size=15)\n",
    "    plt.title(similarity_name, size=12)\n",
    "    random_AUC=np.sum(y_tr)/len(y_tr)\n",
    "    real_AUC=AUC(recall, precision)\n",
    "    plt.plot([0,1],[random_AUC,random_AUC], 'k:') #matplotlib colours, line stile\n",
    "    print (AUC(recall,precision))\n",
    "    print('Random AUC:',np.sum(y_tr)/len(y_tr))\n",
    "    plt.legend(['PRC AUC=' + str(real_AUC)[:4], 'random AUC='+ str(random_AUC)[:4]])\n",
    "    plt.tight_layout()"
   ]
  },
  {
   "cell_type": "code",
   "execution_count": null,
   "metadata": {},
   "outputs": [],
   "source": [
    "lincs_compare('drug_pert_gse70138_trt_xpr')\n",
    "lincs_compare('drug_pert_gse70138_trt_xpr_A')\n",
    "lincs_compare('drug_pert_gse70138_trt_lig')\n",
    "lincs_compare('drug_pert_gse70138_trt_lig_A')\n",
    "lincs_compare('drug_pert_gse70138_trt_oe')\n",
    "lincs_compare('drug_pert_gse70138_trt_oe_A')\n",
    "lincs_compare('drug_pert_gse70138_trt_sh')\n",
    "lincs_compare('drug_pert_gse70138_trt_sh_A')\n",
    "lincs_compare('drug_pert_gse70138_trt_sh_fil')\n",
    "lincs_compare('drug_pert_gse70138_trt_sh_fil_A')"
   ]
  },
  {
   "cell_type": "code",
   "execution_count": null,
   "metadata": {},
   "outputs": [],
   "source": [
    "lincs_compare('drug_pert_A_gse70138_trt_xpr')\n",
    "lincs_compare('drug_pert_A_gse70138_trt_xpr_A')\n",
    "lincs_compare('drug_pert_A_gse70138_trt_lig')\n",
    "lincs_compare('drug_pert_A_gse70138_trt_lig_A')\n",
    "lincs_compare('drug_pert_A_gse70138_trt_oe')\n",
    "lincs_compare('drug_pert_A_gse70138_trt_oe_A')\n",
    "lincs_compare('drug_pert_A_gse70138_trt_sh')\n",
    "lincs_compare('drug_pert_A_gse70138_trt_sh_A')\n",
    "lincs_compare('drug_pert_A_gse70138_trt_sh_fil')\n",
    "lincs_compare('drug_pert_A_gse70138_trt_sh_fil_A')"
   ]
  },
  {
   "cell_type": "code",
   "execution_count": null,
   "metadata": {},
   "outputs": [],
   "source": [
    "lincs_compare('gene_pert_gse70138_trt_xpr')\n",
    "lincs_compare('gene_pert_gse70138_trt_xpr_A')\n",
    "lincs_compare('gene_pert_gse70138_trt_lig')\n",
    "lincs_compare('gene_pert_gse70138_trt_lig_A')\n",
    "lincs_compare('gene_pert_gse70138_trt_oe')\n",
    "lincs_compare('gene_pert_gse70138_trt_oe_A')\n",
    "lincs_compare('gene_pert_gse70138_trt_sh')\n",
    "lincs_compare('gene_pert_gse70138_trt_sh_A')\n",
    "lincs_compare('gene_pert_gse70138_trt_sh_fil')\n",
    "lincs_compare('gene_pert_gse70138_trt_sh_fil_A')"
   ]
  },
  {
   "cell_type": "code",
   "execution_count": null,
   "metadata": {},
   "outputs": [],
   "source": [
    "lincs_compare('gene_pert_A_gse70138_trt_xpr')\n",
    "lincs_compare('gene_pert_A_gse70138_trt_xpr_A')\n",
    "lincs_compare('gene_pert_A_gse70138_trt_lig')\n",
    "lincs_compare('gene_pert_A_gse70138_trt_lig_A')\n",
    "lincs_compare('gene_pert_A_gse70138_trt_oe')\n",
    "lincs_compare('gene_pert_A_gse70138_trt_oe_A')\n",
    "lincs_compare('gene_pert_A_gse70138_trt_sh')\n",
    "lincs_compare('gene_pert_A_gse70138_trt_sh_A')\n",
    "lincs_compare('gene_pert_A_gse70138_trt_sh_fil')\n",
    "lincs_compare('gene_pert_A_gse70138_trt_sh_fil_A')"
   ]
  },
  {
   "cell_type": "code",
   "execution_count": null,
   "metadata": {},
   "outputs": [],
   "source": []
  }
 ],
 "metadata": {
  "kernelspec": {
   "display_name": "Python 3",
   "language": "python",
   "name": "python3"
  },
  "language_info": {
   "codemirror_mode": {
    "name": "ipython",
    "version": 3
   },
   "file_extension": ".py",
   "mimetype": "text/x-python",
   "name": "python",
   "nbconvert_exporter": "python",
   "pygments_lexer": "ipython3",
   "version": "3.5.2"
  }
 },
 "nbformat": 4,
 "nbformat_minor": 4
}
