{
 "cells": [
  {
   "cell_type": "code",
   "execution_count": 111,
   "metadata": {},
   "outputs": [],
   "source": [
    "import pandas as pd\n",
    "import numpy as np\n",
    "import umap\n",
    "import scanpy as sc\n",
    "\n",
    "from matplotlib import pyplot as plt\n",
    "%matplotlib inline\n",
    "import seaborn as sns\n",
    "sns.set_style('whitegrid')"
   ]
  },
  {
   "cell_type": "markdown",
   "metadata": {},
   "source": [
    "## scRNAseq data"
   ]
  },
  {
   "cell_type": "code",
   "execution_count": 112,
   "metadata": {},
   "outputs": [],
   "source": [
    "data = pd.read_csv('../data/scrnaseq/test_mat.csv', sep=',', header=0, index_col=0)"
   ]
  },
  {
   "cell_type": "code",
   "execution_count": 113,
   "metadata": {},
   "outputs": [],
   "source": [
    "meta = pd.read_csv('../data/scrnaseq/meta_data_smartseq2.csv', sep=',', header=0, index_col=0)"
   ]
  },
  {
   "cell_type": "code",
   "execution_count": 114,
   "metadata": {},
   "outputs": [
    {
     "data": {
      "text/html": [
       "<div>\n",
       "<style scoped>\n",
       "    .dataframe tbody tr th:only-of-type {\n",
       "        vertical-align: middle;\n",
       "    }\n",
       "\n",
       "    .dataframe tbody tr th {\n",
       "        vertical-align: top;\n",
       "    }\n",
       "\n",
       "    .dataframe thead th {\n",
       "        text-align: right;\n",
       "    }\n",
       "</style>\n",
       "<table border=\"1\" class=\"dataframe\">\n",
       "  <thead>\n",
       "    <tr style=\"text-align: right;\">\n",
       "      <th></th>\n",
       "      <th>nnet2</th>\n",
       "      <th>ident</th>\n",
       "      <th>technology</th>\n",
       "    </tr>\n",
       "    <tr>\n",
       "      <th>cell</th>\n",
       "      <th></th>\n",
       "      <th></th>\n",
       "      <th></th>\n",
       "    </tr>\n",
       "  </thead>\n",
       "  <tbody>\n",
       "    <tr>\n",
       "      <th>SMARTseqFINAL_allLanes_AACATCCGAAGAGAGG</th>\n",
       "      <td>NK cells</td>\n",
       "      <td>NK cells</td>\n",
       "      <td>Smart-Seq2</td>\n",
       "    </tr>\n",
       "    <tr>\n",
       "      <th>SMARTseqFINAL_allLanes_AACATCCGCAGTATCG</th>\n",
       "      <td>NK cells</td>\n",
       "      <td>NK cells</td>\n",
       "      <td>Smart-Seq2</td>\n",
       "    </tr>\n",
       "    <tr>\n",
       "      <th>SMARTseqFINAL_allLanes_AACATCCGCCTCCTAA</th>\n",
       "      <td>B cells</td>\n",
       "      <td>B cells</td>\n",
       "      <td>Smart-Seq2</td>\n",
       "    </tr>\n",
       "    <tr>\n",
       "      <th>SMARTseqFINAL_allLanes_AACATCCGCGAATCTG</th>\n",
       "      <td>NK cells</td>\n",
       "      <td>NK cells</td>\n",
       "      <td>Smart-Seq2</td>\n",
       "    </tr>\n",
       "    <tr>\n",
       "      <th>SMARTseqFINAL_allLanes_AACATCCGCGCCTATA</th>\n",
       "      <td>NK cells</td>\n",
       "      <td>NK cells</td>\n",
       "      <td>Smart-Seq2</td>\n",
       "    </tr>\n",
       "  </tbody>\n",
       "</table>\n",
       "</div>"
      ],
      "text/plain": [
       "                                            nnet2     ident  technology\n",
       "cell                                                                   \n",
       "SMARTseqFINAL_allLanes_AACATCCGAAGAGAGG  NK cells  NK cells  Smart-Seq2\n",
       "SMARTseqFINAL_allLanes_AACATCCGCAGTATCG  NK cells  NK cells  Smart-Seq2\n",
       "SMARTseqFINAL_allLanes_AACATCCGCCTCCTAA   B cells   B cells  Smart-Seq2\n",
       "SMARTseqFINAL_allLanes_AACATCCGCGAATCTG  NK cells  NK cells  Smart-Seq2\n",
       "SMARTseqFINAL_allLanes_AACATCCGCGCCTATA  NK cells  NK cells  Smart-Seq2"
      ]
     },
     "execution_count": 114,
     "metadata": {},
     "output_type": "execute_result"
    }
   ],
   "source": [
    "meta.head()"
   ]
  },
  {
   "cell_type": "code",
   "execution_count": 115,
   "metadata": {},
   "outputs": [
    {
     "data": {
      "text/html": [
       "<div>\n",
       "<style scoped>\n",
       "    .dataframe tbody tr th:only-of-type {\n",
       "        vertical-align: middle;\n",
       "    }\n",
       "\n",
       "    .dataframe tbody tr th {\n",
       "        vertical-align: top;\n",
       "    }\n",
       "\n",
       "    .dataframe thead th {\n",
       "        text-align: right;\n",
       "    }\n",
       "</style>\n",
       "<table border=\"1\" class=\"dataframe\">\n",
       "  <thead>\n",
       "    <tr style=\"text-align: right;\">\n",
       "      <th></th>\n",
       "      <th>SMARTseqFINAL_allLanes_AACATCCGAAGAGAGG</th>\n",
       "      <th>SMARTseqFINAL_allLanes_AACATCCGCAGTATCG</th>\n",
       "      <th>SMARTseqFINAL_allLanes_AACATCCGCCTCCTAA</th>\n",
       "      <th>SMARTseqFINAL_allLanes_AACATCCGCGAATCTG</th>\n",
       "      <th>SMARTseqFINAL_allLanes_AACATCCGCGCCTATA</th>\n",
       "      <th>SMARTseqFINAL_allLanes_AACATCCGCGGAAGAA</th>\n",
       "      <th>SMARTseqFINAL_allLanes_AACATCCGCGGCATTA</th>\n",
       "      <th>SMARTseqFINAL_allLanes_AACATCCGCTATGTGG</th>\n",
       "      <th>SMARTseqFINAL_allLanes_AACATCCGGAATCCAG</th>\n",
       "      <th>SMARTseqFINAL_allLanes_AACATCCGGAGGAGAA</th>\n",
       "      <th>...</th>\n",
       "      <th>SMARTseqFINAL_allLanes_TTGTCGTGCCTGAGAA</th>\n",
       "      <th>SMARTseqFINAL_allLanes_TTGTCGTGCTAAGCAG</th>\n",
       "      <th>SMARTseqFINAL_allLanes_TTGTCGTGGACACCAA</th>\n",
       "      <th>SMARTseqFINAL_allLanes_TTGTCGTGGCGACTAA</th>\n",
       "      <th>SMARTseqFINAL_allLanes_TTGTCGTGGCTTGCTA</th>\n",
       "      <th>SMARTseqFINAL_allLanes_TTGTCGTGGTGAGGAA</th>\n",
       "      <th>SMARTseqFINAL_allLanes_TTGTCGTGGTTGACCA</th>\n",
       "      <th>SMARTseqFINAL_allLanes_TTGTCGTGTCGTGGTA</th>\n",
       "      <th>SMARTseqFINAL_allLanes_TTGTCGTGTCTCGGAA</th>\n",
       "      <th>SMARTseqFINAL_allLanes_TTGTCGTGTGATCCGA</th>\n",
       "    </tr>\n",
       "  </thead>\n",
       "  <tbody>\n",
       "    <tr>\n",
       "      <th>TSPAN6</th>\n",
       "      <td>0.0</td>\n",
       "      <td>0.000000</td>\n",
       "      <td>0.000000</td>\n",
       "      <td>0.000000</td>\n",
       "      <td>0.000000</td>\n",
       "      <td>0.000000</td>\n",
       "      <td>0.0</td>\n",
       "      <td>0.0</td>\n",
       "      <td>0.0</td>\n",
       "      <td>0.000000</td>\n",
       "      <td>...</td>\n",
       "      <td>0.0</td>\n",
       "      <td>0.000000</td>\n",
       "      <td>0.0</td>\n",
       "      <td>0.000000</td>\n",
       "      <td>0.0</td>\n",
       "      <td>0.0</td>\n",
       "      <td>3.186911</td>\n",
       "      <td>0.0</td>\n",
       "      <td>0.0</td>\n",
       "      <td>0.000000</td>\n",
       "    </tr>\n",
       "    <tr>\n",
       "      <th>DPM1</th>\n",
       "      <td>0.0</td>\n",
       "      <td>0.000000</td>\n",
       "      <td>0.000000</td>\n",
       "      <td>0.000000</td>\n",
       "      <td>0.000000</td>\n",
       "      <td>0.000000</td>\n",
       "      <td>0.0</td>\n",
       "      <td>0.0</td>\n",
       "      <td>0.0</td>\n",
       "      <td>2.701919</td>\n",
       "      <td>...</td>\n",
       "      <td>0.0</td>\n",
       "      <td>0.000000</td>\n",
       "      <td>0.0</td>\n",
       "      <td>3.222570</td>\n",
       "      <td>0.0</td>\n",
       "      <td>0.0</td>\n",
       "      <td>2.337225</td>\n",
       "      <td>0.0</td>\n",
       "      <td>0.0</td>\n",
       "      <td>0.000000</td>\n",
       "    </tr>\n",
       "    <tr>\n",
       "      <th>SCYL3</th>\n",
       "      <td>0.0</td>\n",
       "      <td>0.000000</td>\n",
       "      <td>0.000000</td>\n",
       "      <td>0.000000</td>\n",
       "      <td>0.000000</td>\n",
       "      <td>0.000000</td>\n",
       "      <td>0.0</td>\n",
       "      <td>0.0</td>\n",
       "      <td>0.0</td>\n",
       "      <td>0.000000</td>\n",
       "      <td>...</td>\n",
       "      <td>0.0</td>\n",
       "      <td>0.000000</td>\n",
       "      <td>0.0</td>\n",
       "      <td>0.000000</td>\n",
       "      <td>0.0</td>\n",
       "      <td>0.0</td>\n",
       "      <td>1.009579</td>\n",
       "      <td>0.0</td>\n",
       "      <td>0.0</td>\n",
       "      <td>0.000000</td>\n",
       "    </tr>\n",
       "    <tr>\n",
       "      <th>C1orf112</th>\n",
       "      <td>0.0</td>\n",
       "      <td>0.000000</td>\n",
       "      <td>0.000000</td>\n",
       "      <td>0.000000</td>\n",
       "      <td>0.000000</td>\n",
       "      <td>0.000000</td>\n",
       "      <td>0.0</td>\n",
       "      <td>0.0</td>\n",
       "      <td>0.0</td>\n",
       "      <td>0.000000</td>\n",
       "      <td>...</td>\n",
       "      <td>0.0</td>\n",
       "      <td>0.000000</td>\n",
       "      <td>0.0</td>\n",
       "      <td>0.000000</td>\n",
       "      <td>0.0</td>\n",
       "      <td>0.0</td>\n",
       "      <td>0.000000</td>\n",
       "      <td>0.0</td>\n",
       "      <td>0.0</td>\n",
       "      <td>0.000000</td>\n",
       "    </tr>\n",
       "    <tr>\n",
       "      <th>FGR</th>\n",
       "      <td>0.0</td>\n",
       "      <td>3.710542</td>\n",
       "      <td>3.304465</td>\n",
       "      <td>4.164365</td>\n",
       "      <td>1.621903</td>\n",
       "      <td>3.442635</td>\n",
       "      <td>0.0</td>\n",
       "      <td>0.0</td>\n",
       "      <td>0.0</td>\n",
       "      <td>0.000000</td>\n",
       "      <td>...</td>\n",
       "      <td>0.0</td>\n",
       "      <td>4.441022</td>\n",
       "      <td>0.0</td>\n",
       "      <td>2.233954</td>\n",
       "      <td>0.0</td>\n",
       "      <td>0.0</td>\n",
       "      <td>0.000000</td>\n",
       "      <td>0.0</td>\n",
       "      <td>0.0</td>\n",
       "      <td>3.087333</td>\n",
       "    </tr>\n",
       "  </tbody>\n",
       "</table>\n",
       "<p>5 rows × 682 columns</p>\n",
       "</div>"
      ],
      "text/plain": [
       "          SMARTseqFINAL_allLanes_AACATCCGAAGAGAGG  \\\n",
       "TSPAN6                                        0.0   \n",
       "DPM1                                          0.0   \n",
       "SCYL3                                         0.0   \n",
       "C1orf112                                      0.0   \n",
       "FGR                                           0.0   \n",
       "\n",
       "          SMARTseqFINAL_allLanes_AACATCCGCAGTATCG  \\\n",
       "TSPAN6                                   0.000000   \n",
       "DPM1                                     0.000000   \n",
       "SCYL3                                    0.000000   \n",
       "C1orf112                                 0.000000   \n",
       "FGR                                      3.710542   \n",
       "\n",
       "          SMARTseqFINAL_allLanes_AACATCCGCCTCCTAA  \\\n",
       "TSPAN6                                   0.000000   \n",
       "DPM1                                     0.000000   \n",
       "SCYL3                                    0.000000   \n",
       "C1orf112                                 0.000000   \n",
       "FGR                                      3.304465   \n",
       "\n",
       "          SMARTseqFINAL_allLanes_AACATCCGCGAATCTG  \\\n",
       "TSPAN6                                   0.000000   \n",
       "DPM1                                     0.000000   \n",
       "SCYL3                                    0.000000   \n",
       "C1orf112                                 0.000000   \n",
       "FGR                                      4.164365   \n",
       "\n",
       "          SMARTseqFINAL_allLanes_AACATCCGCGCCTATA  \\\n",
       "TSPAN6                                   0.000000   \n",
       "DPM1                                     0.000000   \n",
       "SCYL3                                    0.000000   \n",
       "C1orf112                                 0.000000   \n",
       "FGR                                      1.621903   \n",
       "\n",
       "          SMARTseqFINAL_allLanes_AACATCCGCGGAAGAA  \\\n",
       "TSPAN6                                   0.000000   \n",
       "DPM1                                     0.000000   \n",
       "SCYL3                                    0.000000   \n",
       "C1orf112                                 0.000000   \n",
       "FGR                                      3.442635   \n",
       "\n",
       "          SMARTseqFINAL_allLanes_AACATCCGCGGCATTA  \\\n",
       "TSPAN6                                        0.0   \n",
       "DPM1                                          0.0   \n",
       "SCYL3                                         0.0   \n",
       "C1orf112                                      0.0   \n",
       "FGR                                           0.0   \n",
       "\n",
       "          SMARTseqFINAL_allLanes_AACATCCGCTATGTGG  \\\n",
       "TSPAN6                                        0.0   \n",
       "DPM1                                          0.0   \n",
       "SCYL3                                         0.0   \n",
       "C1orf112                                      0.0   \n",
       "FGR                                           0.0   \n",
       "\n",
       "          SMARTseqFINAL_allLanes_AACATCCGGAATCCAG  \\\n",
       "TSPAN6                                        0.0   \n",
       "DPM1                                          0.0   \n",
       "SCYL3                                         0.0   \n",
       "C1orf112                                      0.0   \n",
       "FGR                                           0.0   \n",
       "\n",
       "          SMARTseqFINAL_allLanes_AACATCCGGAGGAGAA  ...  \\\n",
       "TSPAN6                                   0.000000  ...   \n",
       "DPM1                                     2.701919  ...   \n",
       "SCYL3                                    0.000000  ...   \n",
       "C1orf112                                 0.000000  ...   \n",
       "FGR                                      0.000000  ...   \n",
       "\n",
       "          SMARTseqFINAL_allLanes_TTGTCGTGCCTGAGAA  \\\n",
       "TSPAN6                                        0.0   \n",
       "DPM1                                          0.0   \n",
       "SCYL3                                         0.0   \n",
       "C1orf112                                      0.0   \n",
       "FGR                                           0.0   \n",
       "\n",
       "          SMARTseqFINAL_allLanes_TTGTCGTGCTAAGCAG  \\\n",
       "TSPAN6                                   0.000000   \n",
       "DPM1                                     0.000000   \n",
       "SCYL3                                    0.000000   \n",
       "C1orf112                                 0.000000   \n",
       "FGR                                      4.441022   \n",
       "\n",
       "          SMARTseqFINAL_allLanes_TTGTCGTGGACACCAA  \\\n",
       "TSPAN6                                        0.0   \n",
       "DPM1                                          0.0   \n",
       "SCYL3                                         0.0   \n",
       "C1orf112                                      0.0   \n",
       "FGR                                           0.0   \n",
       "\n",
       "          SMARTseqFINAL_allLanes_TTGTCGTGGCGACTAA  \\\n",
       "TSPAN6                                   0.000000   \n",
       "DPM1                                     3.222570   \n",
       "SCYL3                                    0.000000   \n",
       "C1orf112                                 0.000000   \n",
       "FGR                                      2.233954   \n",
       "\n",
       "          SMARTseqFINAL_allLanes_TTGTCGTGGCTTGCTA  \\\n",
       "TSPAN6                                        0.0   \n",
       "DPM1                                          0.0   \n",
       "SCYL3                                         0.0   \n",
       "C1orf112                                      0.0   \n",
       "FGR                                           0.0   \n",
       "\n",
       "          SMARTseqFINAL_allLanes_TTGTCGTGGTGAGGAA  \\\n",
       "TSPAN6                                        0.0   \n",
       "DPM1                                          0.0   \n",
       "SCYL3                                         0.0   \n",
       "C1orf112                                      0.0   \n",
       "FGR                                           0.0   \n",
       "\n",
       "          SMARTseqFINAL_allLanes_TTGTCGTGGTTGACCA  \\\n",
       "TSPAN6                                   3.186911   \n",
       "DPM1                                     2.337225   \n",
       "SCYL3                                    1.009579   \n",
       "C1orf112                                 0.000000   \n",
       "FGR                                      0.000000   \n",
       "\n",
       "          SMARTseqFINAL_allLanes_TTGTCGTGTCGTGGTA  \\\n",
       "TSPAN6                                        0.0   \n",
       "DPM1                                          0.0   \n",
       "SCYL3                                         0.0   \n",
       "C1orf112                                      0.0   \n",
       "FGR                                           0.0   \n",
       "\n",
       "          SMARTseqFINAL_allLanes_TTGTCGTGTCTCGGAA  \\\n",
       "TSPAN6                                        0.0   \n",
       "DPM1                                          0.0   \n",
       "SCYL3                                         0.0   \n",
       "C1orf112                                      0.0   \n",
       "FGR                                           0.0   \n",
       "\n",
       "          SMARTseqFINAL_allLanes_TTGTCGTGTGATCCGA  \n",
       "TSPAN6                                   0.000000  \n",
       "DPM1                                     0.000000  \n",
       "SCYL3                                    0.000000  \n",
       "C1orf112                                 0.000000  \n",
       "FGR                                      3.087333  \n",
       "\n",
       "[5 rows x 682 columns]"
      ]
     },
     "execution_count": 115,
     "metadata": {},
     "output_type": "execute_result"
    }
   ],
   "source": [
    "data.head()"
   ]
  },
  {
   "cell_type": "code",
   "execution_count": 116,
   "metadata": {},
   "outputs": [],
   "source": [
    "data = data[meta.index]"
   ]
  },
  {
   "cell_type": "code",
   "execution_count": 117,
   "metadata": {},
   "outputs": [],
   "source": [
    "fil = meta['nnet2'] != 'HEK cells'\n",
    "meta = meta[fil]\n",
    "data = data[data.columns[fil]]"
   ]
  },
  {
   "cell_type": "code",
   "execution_count": 118,
   "metadata": {},
   "outputs": [],
   "source": [
    "data = data[data.mean(1) != 0]"
   ]
  },
  {
   "cell_type": "code",
   "execution_count": 119,
   "metadata": {},
   "outputs": [
    {
     "data": {
      "text/plain": [
       "(17021, 623)"
      ]
     },
     "execution_count": 119,
     "metadata": {},
     "output_type": "execute_result"
    }
   ],
   "source": [
    "data.shape"
   ]
  },
  {
   "cell_type": "code",
   "execution_count": 120,
   "metadata": {},
   "outputs": [],
   "source": [
    "#using Umap\n",
    "model = umap.UMAP()"
   ]
  },
  {
   "cell_type": "code",
   "execution_count": 121,
   "metadata": {},
   "outputs": [],
   "source": [
    "data_umap = model.fit_transform(data.T)"
   ]
  },
  {
   "cell_type": "code",
   "execution_count": 122,
   "metadata": {},
   "outputs": [],
   "source": [
    "data_umap = pd.DataFrame(data_umap, index=data.columns, columns=['UMAP1', 'UMAP2'])"
   ]
  },
  {
   "cell_type": "code",
   "execution_count": 123,
   "metadata": {},
   "outputs": [],
   "source": [
    "data_umap = data_umap.loc[meta.index]"
   ]
  },
  {
   "cell_type": "code",
   "execution_count": 124,
   "metadata": {},
   "outputs": [],
   "source": [
    "data_umap['Cell'] = meta.loc[data_umap.index, 'nnet2']"
   ]
  },
  {
   "cell_type": "code",
   "execution_count": 125,
   "metadata": {},
   "outputs": [
    {
     "data": {
      "text/html": [
       "<div>\n",
       "<style scoped>\n",
       "    .dataframe tbody tr th:only-of-type {\n",
       "        vertical-align: middle;\n",
       "    }\n",
       "\n",
       "    .dataframe tbody tr th {\n",
       "        vertical-align: top;\n",
       "    }\n",
       "\n",
       "    .dataframe thead th {\n",
       "        text-align: right;\n",
       "    }\n",
       "</style>\n",
       "<table border=\"1\" class=\"dataframe\">\n",
       "  <thead>\n",
       "    <tr style=\"text-align: right;\">\n",
       "      <th></th>\n",
       "      <th>UMAP1</th>\n",
       "      <th>UMAP2</th>\n",
       "      <th>Cell</th>\n",
       "    </tr>\n",
       "    <tr>\n",
       "      <th>cell</th>\n",
       "      <th></th>\n",
       "      <th></th>\n",
       "      <th></th>\n",
       "    </tr>\n",
       "  </thead>\n",
       "  <tbody>\n",
       "    <tr>\n",
       "      <th>SMARTseqFINAL_allLanes_AACATCCGAAGAGAGG</th>\n",
       "      <td>-0.857418</td>\n",
       "      <td>11.831481</td>\n",
       "      <td>NK cells</td>\n",
       "    </tr>\n",
       "    <tr>\n",
       "      <th>SMARTseqFINAL_allLanes_AACATCCGCAGTATCG</th>\n",
       "      <td>-1.613946</td>\n",
       "      <td>11.648443</td>\n",
       "      <td>NK cells</td>\n",
       "    </tr>\n",
       "    <tr>\n",
       "      <th>SMARTseqFINAL_allLanes_AACATCCGCCTCCTAA</th>\n",
       "      <td>2.482719</td>\n",
       "      <td>0.799955</td>\n",
       "      <td>B cells</td>\n",
       "    </tr>\n",
       "    <tr>\n",
       "      <th>SMARTseqFINAL_allLanes_AACATCCGCGAATCTG</th>\n",
       "      <td>-0.609102</td>\n",
       "      <td>11.741214</td>\n",
       "      <td>NK cells</td>\n",
       "    </tr>\n",
       "    <tr>\n",
       "      <th>SMARTseqFINAL_allLanes_AACATCCGCGCCTATA</th>\n",
       "      <td>-1.053558</td>\n",
       "      <td>11.876027</td>\n",
       "      <td>NK cells</td>\n",
       "    </tr>\n",
       "  </tbody>\n",
       "</table>\n",
       "</div>"
      ],
      "text/plain": [
       "                                            UMAP1      UMAP2      Cell\n",
       "cell                                                                  \n",
       "SMARTseqFINAL_allLanes_AACATCCGAAGAGAGG -0.857418  11.831481  NK cells\n",
       "SMARTseqFINAL_allLanes_AACATCCGCAGTATCG -1.613946  11.648443  NK cells\n",
       "SMARTseqFINAL_allLanes_AACATCCGCCTCCTAA  2.482719   0.799955   B cells\n",
       "SMARTseqFINAL_allLanes_AACATCCGCGAATCTG -0.609102  11.741214  NK cells\n",
       "SMARTseqFINAL_allLanes_AACATCCGCGCCTATA -1.053558  11.876027  NK cells"
      ]
     },
     "execution_count": 125,
     "metadata": {},
     "output_type": "execute_result"
    }
   ],
   "source": [
    "data_umap.head()"
   ]
  },
  {
   "cell_type": "code",
   "execution_count": 166,
   "metadata": {},
   "outputs": [
    {
     "data": {
      "image/png": "[encoded data removed]",
      "text/plain": [
       "<Figure size 432x288 with 1 Axes>"
      ]
     },
     "metadata": {},
     "output_type": "display_data"
    }
   ],
   "source": [
    "#plotting UMAP values by cell types\n",
    "sns.scatterplot(x=data_umap['UMAP1'], y=data_umap['UMAP2'], hue=data_umap['Cell'])\n",
    "plt.xlabel('UMAP1', size=15)\n",
    "plt.ylabel('UMAP2', size=15)\n",
    "plt.title('UMAP values by cell types', size=15)\n",
    "plt.savefig('../pictures/UMAP1')"
   ]
  },
  {
   "cell_type": "code",
   "execution_count": 1,
   "metadata": {},
   "outputs": [
    {
     "ename": "NameError",
     "evalue": "name 'data' is not defined",
     "output_type": "error",
     "traceback": [
      "\u001b[1;31m---------------------------------------------------------------------------\u001b[0m",
      "\u001b[1;31mNameError\u001b[0m                                 Traceback (most recent call last)",
      "\u001b[1;32m<ipython-input-1-2fdb2e493890>\u001b[0m in \u001b[0;36m<module>\u001b[1;34m\u001b[0m\n\u001b[1;32m----> 1\u001b[1;33m \u001b[0mdata_umap\u001b[0m\u001b[1;33m[\u001b[0m\u001b[1;34m'Expression'\u001b[0m\u001b[1;33m]\u001b[0m \u001b[1;33m=\u001b[0m \u001b[0mdata\u001b[0m\u001b[1;33m.\u001b[0m\u001b[0mloc\u001b[0m\u001b[1;33m[\u001b[0m\u001b[1;34m'IL2'\u001b[0m\u001b[1;33m]\u001b[0m\u001b[1;33m\u001b[0m\u001b[1;33m\u001b[0m\u001b[0m\n\u001b[0m",
      "\u001b[1;31mNameError\u001b[0m: name 'data' is not defined"
     ]
    }
   ],
   "source": [
    "data_umap['Expression'] = data.loc['IL2']"
   ]
  },
  {
   "cell_type": "code",
   "execution_count": 167,
   "metadata": {},
   "outputs": [
    {
     "data": {
      "image/png": "[encoded data removed]",
      "text/plain": [
       "<Figure size 432x288 with 1 Axes>"
      ]
     },
     "metadata": {},
     "output_type": "display_data"
    }
   ],
   "source": [
    "#plotting UMAP values by expression\n",
    "sns.scatterplot(x=data_umap['UMAP1'], y=data_umap['UMAP2'], hue=data_umap['Expression'])\n",
    "plt.title('Expression of IL2RA', size=15)\n",
    "plt.xlabel('UMAP1', size=15)\n",
    "plt.ylabel('UMAP2', size=15)\n",
    "plt.savefig('../pictures/expr_of_IL2RA')"
   ]
  },
  {
   "cell_type": "markdown",
   "metadata": {},
   "source": [
    "## scRNAseq on NicheNet"
   ]
  },
  {
   "cell_type": "code",
   "execution_count": 134,
   "metadata": {},
   "outputs": [],
   "source": [
    "#Importing the scRNAseq data preprocessed in R (file name= scRNAseq_NN.R)\n",
    "nn = pd.read_csv('../results/nn_scrnaseq_scaled.csv', sep=',', header=0, index_col=0)"
   ]
  },
  {
   "cell_type": "code",
   "execution_count": 135,
   "metadata": {},
   "outputs": [],
   "source": [
    "#Importing the NicheNet model\n",
    "nn_model = pd.read_csv('../data/ligand_target_matrix.csv', sep=',', header=0, index_col=0)"
   ]
  },
  {
   "cell_type": "code",
   "execution_count": 136,
   "metadata": {},
   "outputs": [],
   "source": [
    "common_genes = list(set(nn.index) & set(nn_model.index))"
   ]
  },
  {
   "cell_type": "code",
   "execution_count": 137,
   "metadata": {},
   "outputs": [],
   "source": [
    "#Correlating the 2 matrices\n",
    "nn_score = pd.concat([nn_model.loc[common_genes], nn.loc[common_genes]], 1).corr()"
   ]
  },
  {
   "cell_type": "code",
   "execution_count": 138,
   "metadata": {},
   "outputs": [],
   "source": [
    "nn_activity = nn_score.loc[nn_model.columns, nn.columns]"
   ]
  },
  {
   "cell_type": "markdown",
   "metadata": {},
   "source": [
    "2 way standardisation"
   ]
  },
  {
   "cell_type": "code",
   "execution_count": 139,
   "metadata": {},
   "outputs": [],
   "source": [
    "nn_activity_norm = ((nn_activity.T - nn_activity.mean(1)) / nn_activity.std(1)).T"
   ]
  },
  {
   "cell_type": "code",
   "execution_count": 140,
   "metadata": {},
   "outputs": [],
   "source": [
    "nn_activity_norm = (nn_activity_norm - nn_activity_norm.mean()) / nn_activity_norm.std()"
   ]
  },
  {
   "cell_type": "code",
   "execution_count": 205,
   "metadata": {},
   "outputs": [],
   "source": [
    "ligand = 'IL12A'\n",
    "data_umap['Activity_NN'] = nn_activity_norm.loc[ligand]"
   ]
  },
  {
   "cell_type": "code",
   "execution_count": 206,
   "metadata": {},
   "outputs": [],
   "source": [
    "data_umap['Expression'] = data.loc['IL12A']"
   ]
  },
  {
   "cell_type": "code",
   "execution_count": 211,
   "metadata": {},
   "outputs": [
    {
     "data": {
      "image/png": "[encoded data removed]",
      "text/plain": [
       "<Figure size 432x288 with 2 Axes>"
      ]
     },
     "metadata": {},
     "output_type": "display_data"
    }
   ],
   "source": [
    "#Plotting the NicheNet receptor activity \n",
    "plt.subplot(121)\n",
    "sns.scatterplot(x=data_umap['UMAP1'], y=data_umap['UMAP2'], hue=data_umap['Activity_NN'])\n",
    "plt.title('Activity of IL12A-NicheNet', size=15)\n",
    "plt.xlabel('UMAP1', size=15)\n",
    "plt.ylabel('UMAP2', size=15)\n",
    "plt.tight_layout()\n",
    "\n",
    "#Plotting the NicheNet expression \n",
    "plt.subplot(122)\n",
    "sns.scatterplot(x=data_umap['UMAP1'], y=data_umap['UMAP2'], hue=data_umap['Expression'])\n",
    "plt.title('Expression of IL12A-NicheNet', size=15)\n",
    "plt.xlabel('UMAP1', size=15)\n",
    "plt.ylabel('UMAP2', size=15)\n",
    "plt.tight_layout()\n",
    "plt.savefig('../pictures/IL12A_NN')"
   ]
  },
  {
   "cell_type": "code",
   "execution_count": 212,
   "metadata": {},
   "outputs": [
    {
     "data": {
      "image/png": "[encoded data removed]",
      "text/plain": [
       "<Figure size 432x288 with 1 Axes>"
      ]
     },
     "metadata": {},
     "output_type": "display_data"
    }
   ],
   "source": [
    "#Plotting the NicheNet receptor activity \n",
    "sns.scatterplot(x=data_umap['UMAP1'], y=data_umap['UMAP2'], hue=data_umap['Activity_NN'])\n",
    "plt.title('Activity of IL12A-NicheNet', size=15)\n",
    "plt.xlabel('UMAP1', size=15)\n",
    "plt.ylabel('UMAP2', size=15)\n",
    "plt.savefig('../pictures/activity_of_IL12A_NN')"
   ]
  },
  {
   "cell_type": "code",
   "execution_count": 213,
   "metadata": {},
   "outputs": [
    {
     "data": {
      "image/png": "[encoded data removed]",
      "text/plain": [
       "<Figure size 432x288 with 1 Axes>"
      ]
     },
     "metadata": {},
     "output_type": "display_data"
    }
   ],
   "source": [
    "#Plotting the NicheNet expression \n",
    "sns.scatterplot(x=data_umap['UMAP1'], y=data_umap['UMAP2'], hue=data_umap['Expression'])\n",
    "plt.title('Expression of IL12A-NicheNet', size=15)\n",
    "plt.xlabel('UMAP1', size=15)\n",
    "plt.ylabel('UMAP2', size=15)\n",
    "plt.savefig('../pictures/expr_of_IL12A_NN')"
   ]
  },
  {
   "cell_type": "code",
   "execution_count": 146,
   "metadata": {},
   "outputs": [],
   "source": [
    "#Getting the average activity of the receptors\n",
    "average_activity = nn_activity_norm.T\n",
    "average_activity['Cell_type'] = meta.loc[nn_activity_norm.columns, 'nnet2']\n",
    "average_activity = average_activity.groupby('Cell_type').mean()"
   ]
  },
  {
   "cell_type": "code",
   "execution_count": 147,
   "metadata": {},
   "outputs": [
    {
     "data": {
      "text/plain": [
       "IL2         1.981231\n",
       "IL12A       1.649399\n",
       "IL12B       1.582466\n",
       "IL15        1.369889\n",
       "TGFB1       1.256119\n",
       "              ...   \n",
       "CCL15      -0.759910\n",
       "NDP        -0.772356\n",
       "SERPINC1   -0.778733\n",
       "TENM3      -0.979656\n",
       "CLDN24           NaN\n",
       "Name: CD8 T cells, Length: 688, dtype: float64"
      ]
     },
     "execution_count": 147,
     "metadata": {},
     "output_type": "execute_result"
    }
   ],
   "source": [
    "average_activity.loc['CD8 T cells'].sort_values(ascending=False)"
   ]
  },
  {
   "cell_type": "code",
   "execution_count": 148,
   "metadata": {},
   "outputs": [
    {
     "data": {
      "text/html": [
       "<div>\n",
       "<style scoped>\n",
       "    .dataframe tbody tr th:only-of-type {\n",
       "        vertical-align: middle;\n",
       "    }\n",
       "\n",
       "    .dataframe tbody tr th {\n",
       "        vertical-align: top;\n",
       "    }\n",
       "\n",
       "    .dataframe thead th {\n",
       "        text-align: right;\n",
       "    }\n",
       "</style>\n",
       "<table border=\"1\" class=\"dataframe\">\n",
       "  <thead>\n",
       "    <tr style=\"text-align: right;\">\n",
       "      <th></th>\n",
       "      <th>1</th>\n",
       "      <th>2</th>\n",
       "      <th>3</th>\n",
       "      <th>4</th>\n",
       "      <th>5</th>\n",
       "    </tr>\n",
       "  </thead>\n",
       "  <tbody>\n",
       "    <tr>\n",
       "      <th>B cells</th>\n",
       "      <td>NaN</td>\n",
       "      <td>NaN</td>\n",
       "      <td>NaN</td>\n",
       "      <td>NaN</td>\n",
       "      <td>NaN</td>\n",
       "    </tr>\n",
       "    <tr>\n",
       "      <th>CD14+ Monocytes</th>\n",
       "      <td>NaN</td>\n",
       "      <td>NaN</td>\n",
       "      <td>NaN</td>\n",
       "      <td>NaN</td>\n",
       "      <td>NaN</td>\n",
       "    </tr>\n",
       "    <tr>\n",
       "      <th>CD4 T cells</th>\n",
       "      <td>NaN</td>\n",
       "      <td>NaN</td>\n",
       "      <td>NaN</td>\n",
       "      <td>NaN</td>\n",
       "      <td>NaN</td>\n",
       "    </tr>\n",
       "    <tr>\n",
       "      <th>CD8 T cells</th>\n",
       "      <td>NaN</td>\n",
       "      <td>NaN</td>\n",
       "      <td>NaN</td>\n",
       "      <td>NaN</td>\n",
       "      <td>NaN</td>\n",
       "    </tr>\n",
       "    <tr>\n",
       "      <th>Dendritic cells</th>\n",
       "      <td>NaN</td>\n",
       "      <td>NaN</td>\n",
       "      <td>NaN</td>\n",
       "      <td>NaN</td>\n",
       "      <td>NaN</td>\n",
       "    </tr>\n",
       "    <tr>\n",
       "      <th>FCGR3A+ Monocytes</th>\n",
       "      <td>NaN</td>\n",
       "      <td>NaN</td>\n",
       "      <td>NaN</td>\n",
       "      <td>NaN</td>\n",
       "      <td>NaN</td>\n",
       "    </tr>\n",
       "    <tr>\n",
       "      <th>NK cells</th>\n",
       "      <td>NaN</td>\n",
       "      <td>NaN</td>\n",
       "      <td>NaN</td>\n",
       "      <td>NaN</td>\n",
       "      <td>NaN</td>\n",
       "    </tr>\n",
       "  </tbody>\n",
       "</table>\n",
       "</div>"
      ],
      "text/plain": [
       "                     1    2    3    4    5\n",
       "B cells            NaN  NaN  NaN  NaN  NaN\n",
       "CD14+ Monocytes    NaN  NaN  NaN  NaN  NaN\n",
       "CD4 T cells        NaN  NaN  NaN  NaN  NaN\n",
       "CD8 T cells        NaN  NaN  NaN  NaN  NaN\n",
       "Dendritic cells    NaN  NaN  NaN  NaN  NaN\n",
       "FCGR3A+ Monocytes  NaN  NaN  NaN  NaN  NaN\n",
       "NK cells           NaN  NaN  NaN  NaN  NaN"
      ]
     },
     "execution_count": 148,
     "metadata": {},
     "output_type": "execute_result"
    }
   ],
   "source": [
    "#Getting the top5 active receptors in NicheNet for each cell type\n",
    "top5_nn= pd.DataFrame(columns=['1', '2', '3', '4','5'], index=list(average_activity.index.unique()))\n",
    "top5_nn"
   ]
  },
  {
   "cell_type": "code",
   "execution_count": 149,
   "metadata": {},
   "outputs": [],
   "source": [
    "for i in average_activity.index:\n",
    "    top5_nn.loc[i]=list(average_activity.loc[i].sort_values(ascending=False).head(5).index)"
   ]
  },
  {
   "cell_type": "code",
   "execution_count": 150,
   "metadata": {},
   "outputs": [
    {
     "data": {
      "text/html": [
       "<div>\n",
       "<style scoped>\n",
       "    .dataframe tbody tr th:only-of-type {\n",
       "        vertical-align: middle;\n",
       "    }\n",
       "\n",
       "    .dataframe tbody tr th {\n",
       "        vertical-align: top;\n",
       "    }\n",
       "\n",
       "    .dataframe thead th {\n",
       "        text-align: right;\n",
       "    }\n",
       "</style>\n",
       "<table border=\"1\" class=\"dataframe\">\n",
       "  <thead>\n",
       "    <tr style=\"text-align: right;\">\n",
       "      <th></th>\n",
       "      <th>1</th>\n",
       "      <th>2</th>\n",
       "      <th>3</th>\n",
       "      <th>4</th>\n",
       "      <th>5</th>\n",
       "    </tr>\n",
       "  </thead>\n",
       "  <tbody>\n",
       "    <tr>\n",
       "      <th>B cells</th>\n",
       "      <td>ASIP</td>\n",
       "      <td>TNFSF13B</td>\n",
       "      <td>HLA-G</td>\n",
       "      <td>DKK2</td>\n",
       "      <td>EGF</td>\n",
       "    </tr>\n",
       "    <tr>\n",
       "      <th>CD14+ Monocytes</th>\n",
       "      <td>IL1A</td>\n",
       "      <td>IL1B</td>\n",
       "      <td>F2</td>\n",
       "      <td>NLGN2</td>\n",
       "      <td>AGT</td>\n",
       "    </tr>\n",
       "    <tr>\n",
       "      <th>CD4 T cells</th>\n",
       "      <td>IGF1</td>\n",
       "      <td>IL17C</td>\n",
       "      <td>INS</td>\n",
       "      <td>NLGN3</td>\n",
       "      <td>PTDSS1</td>\n",
       "    </tr>\n",
       "    <tr>\n",
       "      <th>CD8 T cells</th>\n",
       "      <td>IL2</td>\n",
       "      <td>IL12A</td>\n",
       "      <td>IL12B</td>\n",
       "      <td>IL15</td>\n",
       "      <td>TGFB1</td>\n",
       "    </tr>\n",
       "    <tr>\n",
       "      <th>Dendritic cells</th>\n",
       "      <td>THBS4</td>\n",
       "      <td>PCDHB16</td>\n",
       "      <td>PCDH20</td>\n",
       "      <td>WNT7A</td>\n",
       "      <td>INHBE</td>\n",
       "    </tr>\n",
       "    <tr>\n",
       "      <th>FCGR3A+ Monocytes</th>\n",
       "      <td>IL1B</td>\n",
       "      <td>IFNA13</td>\n",
       "      <td>IFNA1</td>\n",
       "      <td>CCL3</td>\n",
       "      <td>TNF</td>\n",
       "    </tr>\n",
       "    <tr>\n",
       "      <th>NK cells</th>\n",
       "      <td>IL2</td>\n",
       "      <td>IL15</td>\n",
       "      <td>IL12A</td>\n",
       "      <td>TGFB1</td>\n",
       "      <td>IL21</td>\n",
       "    </tr>\n",
       "  </tbody>\n",
       "</table>\n",
       "</div>"
      ],
      "text/plain": [
       "                       1         2       3      4       5\n",
       "B cells             ASIP  TNFSF13B   HLA-G   DKK2     EGF\n",
       "CD14+ Monocytes     IL1A      IL1B      F2  NLGN2     AGT\n",
       "CD4 T cells         IGF1     IL17C     INS  NLGN3  PTDSS1\n",
       "CD8 T cells          IL2     IL12A   IL12B   IL15   TGFB1\n",
       "Dendritic cells    THBS4   PCDHB16  PCDH20  WNT7A   INHBE\n",
       "FCGR3A+ Monocytes   IL1B    IFNA13   IFNA1   CCL3     TNF\n",
       "NK cells             IL2      IL15   IL12A  TGFB1    IL21"
      ]
     },
     "execution_count": 150,
     "metadata": {},
     "output_type": "execute_result"
    }
   ],
   "source": [
    "top5_nn"
   ]
  },
  {
   "cell_type": "code",
   "execution_count": 46,
   "metadata": {},
   "outputs": [],
   "source": [
    "top5_nn.to_csv('../results/top5_nichenet_rec.csv', sep=',')"
   ]
  },
  {
   "cell_type": "markdown",
   "metadata": {},
   "source": [
    "## scRNAseq on LINCS"
   ]
  },
  {
   "cell_type": "code",
   "execution_count": 151,
   "metadata": {},
   "outputs": [],
   "source": [
    "#Importing the ligand perturbation LINCS data\n",
    "lincs=pd.read_csv('../results/consensus_signature_gse92742_trt_lig.csv', sep=',', header=0, index_col=0)\n",
    "lincs=lincs.T"
   ]
  },
  {
   "cell_type": "code",
   "execution_count": 152,
   "metadata": {},
   "outputs": [
    {
     "data": {
      "text/html": [
       "<div>\n",
       "<style scoped>\n",
       "    .dataframe tbody tr th:only-of-type {\n",
       "        vertical-align: middle;\n",
       "    }\n",
       "\n",
       "    .dataframe tbody tr th {\n",
       "        vertical-align: top;\n",
       "    }\n",
       "\n",
       "    .dataframe thead th {\n",
       "        text-align: right;\n",
       "    }\n",
       "</style>\n",
       "<table border=\"1\" class=\"dataframe\">\n",
       "  <thead>\n",
       "    <tr style=\"text-align: right;\">\n",
       "      <th></th>\n",
       "      <th>ADM</th>\n",
       "      <th>AGT</th>\n",
       "      <th>ANGPT1</th>\n",
       "      <th>ANGPT2</th>\n",
       "      <th>ANGPT4</th>\n",
       "      <th>APLN</th>\n",
       "      <th>APOE</th>\n",
       "      <th>AREG</th>\n",
       "      <th>ARTN</th>\n",
       "      <th>AVP</th>\n",
       "      <th>...</th>\n",
       "      <th>UTS2</th>\n",
       "      <th>VEGFA</th>\n",
       "      <th>VEGFB</th>\n",
       "      <th>VEGFC</th>\n",
       "      <th>VIP</th>\n",
       "      <th>VTN</th>\n",
       "      <th>WNT1</th>\n",
       "      <th>XCL1</th>\n",
       "      <th>IL17A</th>\n",
       "      <th>IFNA2</th>\n",
       "    </tr>\n",
       "  </thead>\n",
       "  <tbody>\n",
       "    <tr>\n",
       "      <th>DDR1</th>\n",
       "      <td>-0.311746</td>\n",
       "      <td>0.328147</td>\n",
       "      <td>-0.290770</td>\n",
       "      <td>0.681153</td>\n",
       "      <td>-0.105004</td>\n",
       "      <td>0.290904</td>\n",
       "      <td>0.211712</td>\n",
       "      <td>0.053174</td>\n",
       "      <td>0.187789</td>\n",
       "      <td>0.279418</td>\n",
       "      <td>...</td>\n",
       "      <td>0.396761</td>\n",
       "      <td>0.413950</td>\n",
       "      <td>0.108714</td>\n",
       "      <td>-0.006694</td>\n",
       "      <td>1.221195</td>\n",
       "      <td>0.391628</td>\n",
       "      <td>0.344205</td>\n",
       "      <td>0.302420</td>\n",
       "      <td>0.156113</td>\n",
       "      <td>0.122696</td>\n",
       "    </tr>\n",
       "    <tr>\n",
       "      <th>PAX8</th>\n",
       "      <td>-0.598979</td>\n",
       "      <td>0.187768</td>\n",
       "      <td>0.331472</td>\n",
       "      <td>-0.265093</td>\n",
       "      <td>0.168645</td>\n",
       "      <td>-0.044158</td>\n",
       "      <td>0.551838</td>\n",
       "      <td>0.199567</td>\n",
       "      <td>-0.004982</td>\n",
       "      <td>0.174167</td>\n",
       "      <td>...</td>\n",
       "      <td>0.390771</td>\n",
       "      <td>-0.283967</td>\n",
       "      <td>0.124826</td>\n",
       "      <td>0.015059</td>\n",
       "      <td>0.107968</td>\n",
       "      <td>-0.014858</td>\n",
       "      <td>0.070973</td>\n",
       "      <td>-0.108537</td>\n",
       "      <td>0.064737</td>\n",
       "      <td>-0.582232</td>\n",
       "    </tr>\n",
       "    <tr>\n",
       "      <th>RPS5</th>\n",
       "      <td>0.279604</td>\n",
       "      <td>-0.214431</td>\n",
       "      <td>0.041328</td>\n",
       "      <td>0.158823</td>\n",
       "      <td>-0.413267</td>\n",
       "      <td>-0.199525</td>\n",
       "      <td>-0.293629</td>\n",
       "      <td>0.110433</td>\n",
       "      <td>0.317544</td>\n",
       "      <td>-0.239516</td>\n",
       "      <td>...</td>\n",
       "      <td>-0.114810</td>\n",
       "      <td>-0.241148</td>\n",
       "      <td>0.117850</td>\n",
       "      <td>0.020890</td>\n",
       "      <td>-0.232517</td>\n",
       "      <td>0.369823</td>\n",
       "      <td>0.627918</td>\n",
       "      <td>0.206093</td>\n",
       "      <td>-0.158104</td>\n",
       "      <td>0.574131</td>\n",
       "    </tr>\n",
       "    <tr>\n",
       "      <th>ABCF1</th>\n",
       "      <td>-0.713548</td>\n",
       "      <td>0.387740</td>\n",
       "      <td>-0.156881</td>\n",
       "      <td>0.164295</td>\n",
       "      <td>-0.507766</td>\n",
       "      <td>0.168712</td>\n",
       "      <td>-0.117965</td>\n",
       "      <td>-0.442779</td>\n",
       "      <td>-0.316651</td>\n",
       "      <td>-0.049654</td>\n",
       "      <td>...</td>\n",
       "      <td>-0.104671</td>\n",
       "      <td>0.133034</td>\n",
       "      <td>-0.736458</td>\n",
       "      <td>-0.150523</td>\n",
       "      <td>0.052420</td>\n",
       "      <td>0.382225</td>\n",
       "      <td>-0.388378</td>\n",
       "      <td>-0.119838</td>\n",
       "      <td>-0.149376</td>\n",
       "      <td>-0.702036</td>\n",
       "    </tr>\n",
       "    <tr>\n",
       "      <th>SPAG7</th>\n",
       "      <td>-1.766061</td>\n",
       "      <td>0.104206</td>\n",
       "      <td>-0.040080</td>\n",
       "      <td>0.143002</td>\n",
       "      <td>-0.695529</td>\n",
       "      <td>0.048788</td>\n",
       "      <td>0.073540</td>\n",
       "      <td>0.219238</td>\n",
       "      <td>-0.037445</td>\n",
       "      <td>-0.031229</td>\n",
       "      <td>...</td>\n",
       "      <td>-0.347993</td>\n",
       "      <td>0.401141</td>\n",
       "      <td>-0.317175</td>\n",
       "      <td>-0.096045</td>\n",
       "      <td>0.480370</td>\n",
       "      <td>0.046199</td>\n",
       "      <td>-0.360219</td>\n",
       "      <td>-0.773374</td>\n",
       "      <td>0.054229</td>\n",
       "      <td>-0.110045</td>\n",
       "    </tr>\n",
       "  </tbody>\n",
       "</table>\n",
       "<p>5 rows × 213 columns</p>\n",
       "</div>"
      ],
      "text/plain": [
       "            ADM       AGT    ANGPT1    ANGPT2    ANGPT4      APLN      APOE  \\\n",
       "DDR1  -0.311746  0.328147 -0.290770  0.681153 -0.105004  0.290904  0.211712   \n",
       "PAX8  -0.598979  0.187768  0.331472 -0.265093  0.168645 -0.044158  0.551838   \n",
       "RPS5   0.279604 -0.214431  0.041328  0.158823 -0.413267 -0.199525 -0.293629   \n",
       "ABCF1 -0.713548  0.387740 -0.156881  0.164295 -0.507766  0.168712 -0.117965   \n",
       "SPAG7 -1.766061  0.104206 -0.040080  0.143002 -0.695529  0.048788  0.073540   \n",
       "\n",
       "           AREG      ARTN       AVP  ...      UTS2     VEGFA     VEGFB  \\\n",
       "DDR1   0.053174  0.187789  0.279418  ...  0.396761  0.413950  0.108714   \n",
       "PAX8   0.199567 -0.004982  0.174167  ...  0.390771 -0.283967  0.124826   \n",
       "RPS5   0.110433  0.317544 -0.239516  ... -0.114810 -0.241148  0.117850   \n",
       "ABCF1 -0.442779 -0.316651 -0.049654  ... -0.104671  0.133034 -0.736458   \n",
       "SPAG7  0.219238 -0.037445 -0.031229  ... -0.347993  0.401141 -0.317175   \n",
       "\n",
       "          VEGFC       VIP       VTN      WNT1      XCL1     IL17A     IFNA2  \n",
       "DDR1  -0.006694  1.221195  0.391628  0.344205  0.302420  0.156113  0.122696  \n",
       "PAX8   0.015059  0.107968 -0.014858  0.070973 -0.108537  0.064737 -0.582232  \n",
       "RPS5   0.020890 -0.232517  0.369823  0.627918  0.206093 -0.158104  0.574131  \n",
       "ABCF1 -0.150523  0.052420  0.382225 -0.388378 -0.119838 -0.149376 -0.702036  \n",
       "SPAG7 -0.096045  0.480370  0.046199 -0.360219 -0.773374  0.054229 -0.110045  \n",
       "\n",
       "[5 rows x 213 columns]"
      ]
     },
     "execution_count": 152,
     "metadata": {},
     "output_type": "execute_result"
    }
   ],
   "source": [
    "lincs.head()"
   ]
  },
  {
   "cell_type": "code",
   "execution_count": 153,
   "metadata": {},
   "outputs": [
    {
     "data": {
      "text/plain": [
       "907"
      ]
     },
     "execution_count": 153,
     "metadata": {},
     "output_type": "execute_result"
    }
   ],
   "source": [
    "common_genes = list(set(nn.index) & set(lincs.index))\n",
    "len(common_genes)"
   ]
  },
  {
   "cell_type": "code",
   "execution_count": 154,
   "metadata": {},
   "outputs": [],
   "source": [
    "#correlating the 2 matrices\n",
    "lincs_score = pd.concat([lincs.loc[common_genes], nn.loc[common_genes]], 1).corr()"
   ]
  },
  {
   "cell_type": "code",
   "execution_count": 155,
   "metadata": {},
   "outputs": [],
   "source": [
    "lincs_activity = lincs_score.loc[lincs.columns, nn.columns]"
   ]
  },
  {
   "cell_type": "markdown",
   "metadata": {},
   "source": [
    "2 way standardisation"
   ]
  },
  {
   "cell_type": "code",
   "execution_count": 156,
   "metadata": {},
   "outputs": [],
   "source": [
    "lincs_activity_norm = ((lincs_activity.T - lincs_activity.mean(1)) / lincs_activity.std(1)).T"
   ]
  },
  {
   "cell_type": "code",
   "execution_count": 157,
   "metadata": {},
   "outputs": [],
   "source": [
    "lincs_activity_norm = (lincs_activity_norm - lincs_activity_norm.mean()) / lincs_activity_norm.std()"
   ]
  },
  {
   "cell_type": "code",
   "execution_count": 215,
   "metadata": {},
   "outputs": [],
   "source": [
    "ligand = 'IL24'\n",
    "data_umap['Activity_LINCS'] = lincs_activity_norm.loc[ligand]"
   ]
  },
  {
   "cell_type": "code",
   "execution_count": 216,
   "metadata": {},
   "outputs": [],
   "source": [
    "data_umap['Expression'] = data.loc['IL24']"
   ]
  },
  {
   "cell_type": "code",
   "execution_count": 217,
   "metadata": {},
   "outputs": [
    {
     "data": {
      "image/png": "[encoded data removed]",
      "text/plain": [
       "<Figure size 432x288 with 2 Axes>"
      ]
     },
     "metadata": {},
     "output_type": "display_data"
    }
   ],
   "source": [
    "#Plotting the LINCS receptor activity \n",
    "plt.subplot(121)\n",
    "sns.scatterplot(x=data_umap['UMAP1'], y=data_umap['UMAP2'], hue=data_umap['Activity_LINCS'])\n",
    "plt.title('Activity of IL24-LINCS ligand', size=15)\n",
    "plt.xlabel('UMAP1', size=15)\n",
    "plt.ylabel('UMAP2', size=15)\n",
    "plt.tight_layout()\n",
    "\n",
    "#Plotting the LINCS expression \n",
    "plt.subplot(122)\n",
    "sns.scatterplot(x=data_umap['UMAP1'], y=data_umap['UMAP2'], hue=data_umap['Expression'])\n",
    "plt.title('Expression of IL24-LINCS ligand', size=15)\n",
    "plt.xlabel('UMAP1', size=15)\n",
    "plt.ylabel('UMAP2', size=15)\n",
    "plt.tight_layout()\n",
    "plt.savefig('../pictures/IL21_LINCS')"
   ]
  },
  {
   "cell_type": "code",
   "execution_count": 218,
   "metadata": {},
   "outputs": [
    {
     "data": {
      "image/png": "[encoded data removed]",
      "text/plain": [
       "<Figure size 432x288 with 1 Axes>"
      ]
     },
     "metadata": {},
     "output_type": "display_data"
    }
   ],
   "source": [
    "#Plotting the LINCS receptor activities\n",
    "sns.scatterplot(x=data_umap['UMAP1'], y=data_umap['UMAP2'], hue=data_umap['Activity_LINCS'])\n",
    "plt.title('Activity of IL24-LINCS ligand', size=15)\n",
    "plt.xlabel('UMAP1', size=15)\n",
    "plt.ylabel('UMAP2', size=15)\n",
    "plt.savefig('../pictures/expr_of_IL24_LINCS')"
   ]
  },
  {
   "cell_type": "code",
   "execution_count": 219,
   "metadata": {},
   "outputs": [
    {
     "data": {
      "image/png": "[encoded data removed]",
      "text/plain": [
       "<Figure size 432x288 with 1 Axes>"
      ]
     },
     "metadata": {},
     "output_type": "display_data"
    }
   ],
   "source": [
    "#Plotting the LINCS expression\n",
    "sns.scatterplot(x=data_umap['UMAP1'], y=data_umap['UMAP2'], hue=data_umap['Expression'])\n",
    "plt.title('Expression of IL24-LINCS ligand', size=15)\n",
    "plt.xlabel('UMAP1', size=15)\n",
    "plt.ylabel('UMAP2', size=15)\n",
    "plt.savefig('../pictures/expr_of_IL24_LINCS')"
   ]
  },
  {
   "cell_type": "code",
   "execution_count": 105,
   "metadata": {},
   "outputs": [],
   "source": [
    "##Getting the average activity of the receptors\n",
    "average_activity = lincs_activity_norm.T\n",
    "average_activity['Cell_type'] = meta.loc[lincs_activity_norm.columns, 'nnet2']\n",
    "average_activity = average_activity.groupby('Cell_type').mean()"
   ]
  },
  {
   "cell_type": "code",
   "execution_count": 106,
   "metadata": {},
   "outputs": [
    {
     "data": {
      "text/plain": [
       "IL24    -0.471722\n",
       "BMP10   -0.442018\n",
       "EDN1    -0.418779\n",
       "IL22    -0.359740\n",
       "PDGFC   -0.357713\n",
       "Name: CD8 T cells, dtype: float64"
      ]
     },
     "execution_count": 106,
     "metadata": {},
     "output_type": "execute_result"
    }
   ],
   "source": [
    "average_activity.loc['CD8 T cells'].sort_values().head(5)"
   ]
  },
  {
   "cell_type": "code",
   "execution_count": 107,
   "metadata": {},
   "outputs": [
    {
     "data": {
      "text/html": [
       "<div>\n",
       "<style scoped>\n",
       "    .dataframe tbody tr th:only-of-type {\n",
       "        vertical-align: middle;\n",
       "    }\n",
       "\n",
       "    .dataframe tbody tr th {\n",
       "        vertical-align: top;\n",
       "    }\n",
       "\n",
       "    .dataframe thead th {\n",
       "        text-align: right;\n",
       "    }\n",
       "</style>\n",
       "<table border=\"1\" class=\"dataframe\">\n",
       "  <thead>\n",
       "    <tr style=\"text-align: right;\">\n",
       "      <th></th>\n",
       "      <th>1</th>\n",
       "      <th>2</th>\n",
       "      <th>3</th>\n",
       "      <th>4</th>\n",
       "      <th>5</th>\n",
       "    </tr>\n",
       "  </thead>\n",
       "  <tbody>\n",
       "    <tr>\n",
       "      <th>B cells</th>\n",
       "      <td>NaN</td>\n",
       "      <td>NaN</td>\n",
       "      <td>NaN</td>\n",
       "      <td>NaN</td>\n",
       "      <td>NaN</td>\n",
       "    </tr>\n",
       "    <tr>\n",
       "      <th>CD14+ Monocytes</th>\n",
       "      <td>NaN</td>\n",
       "      <td>NaN</td>\n",
       "      <td>NaN</td>\n",
       "      <td>NaN</td>\n",
       "      <td>NaN</td>\n",
       "    </tr>\n",
       "    <tr>\n",
       "      <th>CD4 T cells</th>\n",
       "      <td>NaN</td>\n",
       "      <td>NaN</td>\n",
       "      <td>NaN</td>\n",
       "      <td>NaN</td>\n",
       "      <td>NaN</td>\n",
       "    </tr>\n",
       "    <tr>\n",
       "      <th>CD8 T cells</th>\n",
       "      <td>NaN</td>\n",
       "      <td>NaN</td>\n",
       "      <td>NaN</td>\n",
       "      <td>NaN</td>\n",
       "      <td>NaN</td>\n",
       "    </tr>\n",
       "    <tr>\n",
       "      <th>Dendritic cells</th>\n",
       "      <td>NaN</td>\n",
       "      <td>NaN</td>\n",
       "      <td>NaN</td>\n",
       "      <td>NaN</td>\n",
       "      <td>NaN</td>\n",
       "    </tr>\n",
       "    <tr>\n",
       "      <th>FCGR3A+ Monocytes</th>\n",
       "      <td>NaN</td>\n",
       "      <td>NaN</td>\n",
       "      <td>NaN</td>\n",
       "      <td>NaN</td>\n",
       "      <td>NaN</td>\n",
       "    </tr>\n",
       "    <tr>\n",
       "      <th>NK cells</th>\n",
       "      <td>NaN</td>\n",
       "      <td>NaN</td>\n",
       "      <td>NaN</td>\n",
       "      <td>NaN</td>\n",
       "      <td>NaN</td>\n",
       "    </tr>\n",
       "  </tbody>\n",
       "</table>\n",
       "</div>"
      ],
      "text/plain": [
       "                     1    2    3    4    5\n",
       "B cells            NaN  NaN  NaN  NaN  NaN\n",
       "CD14+ Monocytes    NaN  NaN  NaN  NaN  NaN\n",
       "CD4 T cells        NaN  NaN  NaN  NaN  NaN\n",
       "CD8 T cells        NaN  NaN  NaN  NaN  NaN\n",
       "Dendritic cells    NaN  NaN  NaN  NaN  NaN\n",
       "FCGR3A+ Monocytes  NaN  NaN  NaN  NaN  NaN\n",
       "NK cells           NaN  NaN  NaN  NaN  NaN"
      ]
     },
     "execution_count": 107,
     "metadata": {},
     "output_type": "execute_result"
    }
   ],
   "source": [
    "#Getting the top5 active receptors in LINCS_ligand for each cell type\n",
    "top5_lincs= pd.DataFrame(columns=['1', '2', '3', '4','5'], index=list(average_activity.index.unique()))\n",
    "top5_lincs"
   ]
  },
  {
   "cell_type": "code",
   "execution_count": 108,
   "metadata": {},
   "outputs": [],
   "source": [
    "for i in average_activity.index:\n",
    "    top5_lincs.loc[i]=list(average_activity.loc[i].sort_values(ascending=False).head(5).index)"
   ]
  },
  {
   "cell_type": "code",
   "execution_count": 109,
   "metadata": {},
   "outputs": [
    {
     "data": {
      "text/html": [
       "<div>\n",
       "<style scoped>\n",
       "    .dataframe tbody tr th:only-of-type {\n",
       "        vertical-align: middle;\n",
       "    }\n",
       "\n",
       "    .dataframe tbody tr th {\n",
       "        vertical-align: top;\n",
       "    }\n",
       "\n",
       "    .dataframe thead th {\n",
       "        text-align: right;\n",
       "    }\n",
       "</style>\n",
       "<table border=\"1\" class=\"dataframe\">\n",
       "  <thead>\n",
       "    <tr style=\"text-align: right;\">\n",
       "      <th></th>\n",
       "      <th>1</th>\n",
       "      <th>2</th>\n",
       "      <th>3</th>\n",
       "      <th>4</th>\n",
       "      <th>5</th>\n",
       "    </tr>\n",
       "  </thead>\n",
       "  <tbody>\n",
       "    <tr>\n",
       "      <th>B cells</th>\n",
       "      <td>CXCL1</td>\n",
       "      <td>CCL1</td>\n",
       "      <td>SPP1</td>\n",
       "      <td>LTA</td>\n",
       "      <td>SERPINC1</td>\n",
       "    </tr>\n",
       "    <tr>\n",
       "      <th>CD14+ Monocytes</th>\n",
       "      <td>IL1A</td>\n",
       "      <td>TNF</td>\n",
       "      <td>AGT</td>\n",
       "      <td>LTA</td>\n",
       "      <td>FGF6</td>\n",
       "    </tr>\n",
       "    <tr>\n",
       "      <th>CD4 T cells</th>\n",
       "      <td>IL24</td>\n",
       "      <td>PSPN</td>\n",
       "      <td>CCL26</td>\n",
       "      <td>CXCL10</td>\n",
       "      <td>ARTN</td>\n",
       "    </tr>\n",
       "    <tr>\n",
       "      <th>CD8 T cells</th>\n",
       "      <td>EPO</td>\n",
       "      <td>FGF22</td>\n",
       "      <td>VTN</td>\n",
       "      <td>TNFRSF1A</td>\n",
       "      <td>FN1</td>\n",
       "    </tr>\n",
       "    <tr>\n",
       "      <th>Dendritic cells</th>\n",
       "      <td>CXCL1</td>\n",
       "      <td>GHRH</td>\n",
       "      <td>BMP4</td>\n",
       "      <td>CXCL16</td>\n",
       "      <td>IL1A</td>\n",
       "    </tr>\n",
       "    <tr>\n",
       "      <th>FCGR3A+ Monocytes</th>\n",
       "      <td>FGF6</td>\n",
       "      <td>ADM</td>\n",
       "      <td>IFNG</td>\n",
       "      <td>IL1A</td>\n",
       "      <td>IL13</td>\n",
       "    </tr>\n",
       "    <tr>\n",
       "      <th>NK cells</th>\n",
       "      <td>TGFB3</td>\n",
       "      <td>AREG</td>\n",
       "      <td>FN1</td>\n",
       "      <td>NPPA</td>\n",
       "      <td>VEGFC</td>\n",
       "    </tr>\n",
       "  </tbody>\n",
       "</table>\n",
       "</div>"
      ],
      "text/plain": [
       "                       1      2      3         4         5\n",
       "B cells            CXCL1   CCL1   SPP1       LTA  SERPINC1\n",
       "CD14+ Monocytes     IL1A    TNF    AGT       LTA      FGF6\n",
       "CD4 T cells         IL24   PSPN  CCL26    CXCL10      ARTN\n",
       "CD8 T cells          EPO  FGF22    VTN  TNFRSF1A       FN1\n",
       "Dendritic cells    CXCL1   GHRH   BMP4    CXCL16      IL1A\n",
       "FCGR3A+ Monocytes   FGF6    ADM   IFNG      IL1A      IL13\n",
       "NK cells           TGFB3   AREG    FN1      NPPA     VEGFC"
      ]
     },
     "execution_count": 109,
     "metadata": {},
     "output_type": "execute_result"
    }
   ],
   "source": [
    "top5_lincs"
   ]
  },
  {
   "cell_type": "code",
   "execution_count": 61,
   "metadata": {},
   "outputs": [],
   "source": [
    "top5_lincs.to_csv('../results/top5_lincs_rec.csv', sep=',')"
   ]
  },
  {
   "cell_type": "code",
   "execution_count": null,
   "metadata": {},
   "outputs": [],
   "source": []
  }
 ],
 "metadata": {
  "kernelspec": {
   "display_name": "Python 3",
   "language": "python",
   "name": "python3"
  },
  "language_info": {
   "codemirror_mode": {
    "name": "ipython",
    "version": 3
   },
   "file_extension": ".py",
   "mimetype": "text/x-python",
   "name": "python",
   "nbconvert_exporter": "python",
   "pygments_lexer": "ipython3",
   "version": "3.8.3"
  }
 },
 "nbformat": 4,
 "nbformat_minor": 4
}
