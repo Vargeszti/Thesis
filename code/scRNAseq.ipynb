{
 "cells": [
  {
   "cell_type": "code",
   "execution_count": 1,
   "metadata": {},
   "outputs": [
    {
     "name": "stderr",
     "output_type": "stream",
     "text": [
      "/Users/benceszalai/opt/anaconda3/envs/scanpy/lib/python3.7/site-packages/umap/spectral.py:4: NumbaDeprecationWarning: No direct replacement for 'numba.targets' available. Visit https://gitter.im/numba/numba-dev to request help. Thanks!\n",
      "  import numba.targets\n"
     ]
    }
   ],
   "source": [
    "import pandas as pd\n",
    "import numpy as np\n",
    "import umap\n",
    "import scanpy as sc\n",
    "\n",
    "from matplotlib import pyplot as plt\n",
    "%matplotlib inline\n",
    "import seaborn as sns\n",
    "sns.set_style('whitegrid')"
   ]
  },
  {
   "cell_type": "code",
   "execution_count": 55,
   "metadata": {},
   "outputs": [],
   "source": [
    "data = pd.read_csv('../data/scrnaseq/test_mat.csv', sep=',', header=0, index_col=0)"
   ]
  },
  {
   "cell_type": "code",
   "execution_count": 56,
   "metadata": {},
   "outputs": [],
   "source": [
    "meta = pd.read_csv('../data/scrnaseq/meta_data_smartseq2.csv', sep=',', header=0, index_col=0)"
   ]
  },
  {
   "cell_type": "code",
   "execution_count": 57,
   "metadata": {},
   "outputs": [
    {
     "data": {
      "text/html": [
       "<div>\n",
       "<style scoped>\n",
       "    .dataframe tbody tr th:only-of-type {\n",
       "        vertical-align: middle;\n",
       "    }\n",
       "\n",
       "    .dataframe tbody tr th {\n",
       "        vertical-align: top;\n",
       "    }\n",
       "\n",
       "    .dataframe thead th {\n",
       "        text-align: right;\n",
       "    }\n",
       "</style>\n",
       "<table border=\"1\" class=\"dataframe\">\n",
       "  <thead>\n",
       "    <tr style=\"text-align: right;\">\n",
       "      <th></th>\n",
       "      <th>nnet2</th>\n",
       "      <th>ident</th>\n",
       "      <th>technology</th>\n",
       "    </tr>\n",
       "    <tr>\n",
       "      <th>cell</th>\n",
       "      <th></th>\n",
       "      <th></th>\n",
       "      <th></th>\n",
       "    </tr>\n",
       "  </thead>\n",
       "  <tbody>\n",
       "    <tr>\n",
       "      <th>SMARTseqFINAL_allLanes_AACATCCGAAGAGAGG</th>\n",
       "      <td>NK cells</td>\n",
       "      <td>NK cells</td>\n",
       "      <td>Smart-Seq2</td>\n",
       "    </tr>\n",
       "    <tr>\n",
       "      <th>SMARTseqFINAL_allLanes_AACATCCGCAGTATCG</th>\n",
       "      <td>NK cells</td>\n",
       "      <td>NK cells</td>\n",
       "      <td>Smart-Seq2</td>\n",
       "    </tr>\n",
       "    <tr>\n",
       "      <th>SMARTseqFINAL_allLanes_AACATCCGCCTCCTAA</th>\n",
       "      <td>B cells</td>\n",
       "      <td>B cells</td>\n",
       "      <td>Smart-Seq2</td>\n",
       "    </tr>\n",
       "    <tr>\n",
       "      <th>SMARTseqFINAL_allLanes_AACATCCGCGAATCTG</th>\n",
       "      <td>NK cells</td>\n",
       "      <td>NK cells</td>\n",
       "      <td>Smart-Seq2</td>\n",
       "    </tr>\n",
       "    <tr>\n",
       "      <th>SMARTseqFINAL_allLanes_AACATCCGCGCCTATA</th>\n",
       "      <td>NK cells</td>\n",
       "      <td>NK cells</td>\n",
       "      <td>Smart-Seq2</td>\n",
       "    </tr>\n",
       "  </tbody>\n",
       "</table>\n",
       "</div>"
      ],
      "text/plain": [
       "                                            nnet2     ident  technology\n",
       "cell                                                                   \n",
       "SMARTseqFINAL_allLanes_AACATCCGAAGAGAGG  NK cells  NK cells  Smart-Seq2\n",
       "SMARTseqFINAL_allLanes_AACATCCGCAGTATCG  NK cells  NK cells  Smart-Seq2\n",
       "SMARTseqFINAL_allLanes_AACATCCGCCTCCTAA   B cells   B cells  Smart-Seq2\n",
       "SMARTseqFINAL_allLanes_AACATCCGCGAATCTG  NK cells  NK cells  Smart-Seq2\n",
       "SMARTseqFINAL_allLanes_AACATCCGCGCCTATA  NK cells  NK cells  Smart-Seq2"
      ]
     },
     "execution_count": 57,
     "metadata": {},
     "output_type": "execute_result"
    }
   ],
   "source": [
    "meta.head()"
   ]
  },
  {
   "cell_type": "code",
   "execution_count": 58,
   "metadata": {},
   "outputs": [
    {
     "data": {
      "text/html": [
       "<div>\n",
       "<style scoped>\n",
       "    .dataframe tbody tr th:only-of-type {\n",
       "        vertical-align: middle;\n",
       "    }\n",
       "\n",
       "    .dataframe tbody tr th {\n",
       "        vertical-align: top;\n",
       "    }\n",
       "\n",
       "    .dataframe thead th {\n",
       "        text-align: right;\n",
       "    }\n",
       "</style>\n",
       "<table border=\"1\" class=\"dataframe\">\n",
       "  <thead>\n",
       "    <tr style=\"text-align: right;\">\n",
       "      <th></th>\n",
       "      <th>SMARTseqFINAL_allLanes_AACATCCGAAGAGAGG</th>\n",
       "      <th>SMARTseqFINAL_allLanes_AACATCCGCAGTATCG</th>\n",
       "      <th>SMARTseqFINAL_allLanes_AACATCCGCCTCCTAA</th>\n",
       "      <th>SMARTseqFINAL_allLanes_AACATCCGCGAATCTG</th>\n",
       "      <th>SMARTseqFINAL_allLanes_AACATCCGCGCCTATA</th>\n",
       "      <th>SMARTseqFINAL_allLanes_AACATCCGCGGAAGAA</th>\n",
       "      <th>SMARTseqFINAL_allLanes_AACATCCGCGGCATTA</th>\n",
       "      <th>SMARTseqFINAL_allLanes_AACATCCGCTATGTGG</th>\n",
       "      <th>SMARTseqFINAL_allLanes_AACATCCGGAATCCAG</th>\n",
       "      <th>SMARTseqFINAL_allLanes_AACATCCGGAGGAGAA</th>\n",
       "      <th>...</th>\n",
       "      <th>SMARTseqFINAL_allLanes_TTGTCGTGCCTGAGAA</th>\n",
       "      <th>SMARTseqFINAL_allLanes_TTGTCGTGCTAAGCAG</th>\n",
       "      <th>SMARTseqFINAL_allLanes_TTGTCGTGGACACCAA</th>\n",
       "      <th>SMARTseqFINAL_allLanes_TTGTCGTGGCGACTAA</th>\n",
       "      <th>SMARTseqFINAL_allLanes_TTGTCGTGGCTTGCTA</th>\n",
       "      <th>SMARTseqFINAL_allLanes_TTGTCGTGGTGAGGAA</th>\n",
       "      <th>SMARTseqFINAL_allLanes_TTGTCGTGGTTGACCA</th>\n",
       "      <th>SMARTseqFINAL_allLanes_TTGTCGTGTCGTGGTA</th>\n",
       "      <th>SMARTseqFINAL_allLanes_TTGTCGTGTCTCGGAA</th>\n",
       "      <th>SMARTseqFINAL_allLanes_TTGTCGTGTGATCCGA</th>\n",
       "    </tr>\n",
       "  </thead>\n",
       "  <tbody>\n",
       "    <tr>\n",
       "      <th>TSPAN6</th>\n",
       "      <td>0.0</td>\n",
       "      <td>0.000000</td>\n",
       "      <td>0.000000</td>\n",
       "      <td>0.000000</td>\n",
       "      <td>0.000000</td>\n",
       "      <td>0.000000</td>\n",
       "      <td>0.0</td>\n",
       "      <td>0.0</td>\n",
       "      <td>0.0</td>\n",
       "      <td>0.000000</td>\n",
       "      <td>...</td>\n",
       "      <td>0.0</td>\n",
       "      <td>0.000000</td>\n",
       "      <td>0.0</td>\n",
       "      <td>0.000000</td>\n",
       "      <td>0.0</td>\n",
       "      <td>0.0</td>\n",
       "      <td>3.186911</td>\n",
       "      <td>0.0</td>\n",
       "      <td>0.0</td>\n",
       "      <td>0.000000</td>\n",
       "    </tr>\n",
       "    <tr>\n",
       "      <th>DPM1</th>\n",
       "      <td>0.0</td>\n",
       "      <td>0.000000</td>\n",
       "      <td>0.000000</td>\n",
       "      <td>0.000000</td>\n",
       "      <td>0.000000</td>\n",
       "      <td>0.000000</td>\n",
       "      <td>0.0</td>\n",
       "      <td>0.0</td>\n",
       "      <td>0.0</td>\n",
       "      <td>2.701919</td>\n",
       "      <td>...</td>\n",
       "      <td>0.0</td>\n",
       "      <td>0.000000</td>\n",
       "      <td>0.0</td>\n",
       "      <td>3.222570</td>\n",
       "      <td>0.0</td>\n",
       "      <td>0.0</td>\n",
       "      <td>2.337225</td>\n",
       "      <td>0.0</td>\n",
       "      <td>0.0</td>\n",
       "      <td>0.000000</td>\n",
       "    </tr>\n",
       "    <tr>\n",
       "      <th>SCYL3</th>\n",
       "      <td>0.0</td>\n",
       "      <td>0.000000</td>\n",
       "      <td>0.000000</td>\n",
       "      <td>0.000000</td>\n",
       "      <td>0.000000</td>\n",
       "      <td>0.000000</td>\n",
       "      <td>0.0</td>\n",
       "      <td>0.0</td>\n",
       "      <td>0.0</td>\n",
       "      <td>0.000000</td>\n",
       "      <td>...</td>\n",
       "      <td>0.0</td>\n",
       "      <td>0.000000</td>\n",
       "      <td>0.0</td>\n",
       "      <td>0.000000</td>\n",
       "      <td>0.0</td>\n",
       "      <td>0.0</td>\n",
       "      <td>1.009579</td>\n",
       "      <td>0.0</td>\n",
       "      <td>0.0</td>\n",
       "      <td>0.000000</td>\n",
       "    </tr>\n",
       "    <tr>\n",
       "      <th>C1orf112</th>\n",
       "      <td>0.0</td>\n",
       "      <td>0.000000</td>\n",
       "      <td>0.000000</td>\n",
       "      <td>0.000000</td>\n",
       "      <td>0.000000</td>\n",
       "      <td>0.000000</td>\n",
       "      <td>0.0</td>\n",
       "      <td>0.0</td>\n",
       "      <td>0.0</td>\n",
       "      <td>0.000000</td>\n",
       "      <td>...</td>\n",
       "      <td>0.0</td>\n",
       "      <td>0.000000</td>\n",
       "      <td>0.0</td>\n",
       "      <td>0.000000</td>\n",
       "      <td>0.0</td>\n",
       "      <td>0.0</td>\n",
       "      <td>0.000000</td>\n",
       "      <td>0.0</td>\n",
       "      <td>0.0</td>\n",
       "      <td>0.000000</td>\n",
       "    </tr>\n",
       "    <tr>\n",
       "      <th>FGR</th>\n",
       "      <td>0.0</td>\n",
       "      <td>3.710542</td>\n",
       "      <td>3.304465</td>\n",
       "      <td>4.164365</td>\n",
       "      <td>1.621903</td>\n",
       "      <td>3.442635</td>\n",
       "      <td>0.0</td>\n",
       "      <td>0.0</td>\n",
       "      <td>0.0</td>\n",
       "      <td>0.000000</td>\n",
       "      <td>...</td>\n",
       "      <td>0.0</td>\n",
       "      <td>4.441022</td>\n",
       "      <td>0.0</td>\n",
       "      <td>2.233954</td>\n",
       "      <td>0.0</td>\n",
       "      <td>0.0</td>\n",
       "      <td>0.000000</td>\n",
       "      <td>0.0</td>\n",
       "      <td>0.0</td>\n",
       "      <td>3.087333</td>\n",
       "    </tr>\n",
       "  </tbody>\n",
       "</table>\n",
       "<p>5 rows × 682 columns</p>\n",
       "</div>"
      ],
      "text/plain": [
       "          SMARTseqFINAL_allLanes_AACATCCGAAGAGAGG  \\\n",
       "TSPAN6                                        0.0   \n",
       "DPM1                                          0.0   \n",
       "SCYL3                                         0.0   \n",
       "C1orf112                                      0.0   \n",
       "FGR                                           0.0   \n",
       "\n",
       "          SMARTseqFINAL_allLanes_AACATCCGCAGTATCG  \\\n",
       "TSPAN6                                   0.000000   \n",
       "DPM1                                     0.000000   \n",
       "SCYL3                                    0.000000   \n",
       "C1orf112                                 0.000000   \n",
       "FGR                                      3.710542   \n",
       "\n",
       "          SMARTseqFINAL_allLanes_AACATCCGCCTCCTAA  \\\n",
       "TSPAN6                                   0.000000   \n",
       "DPM1                                     0.000000   \n",
       "SCYL3                                    0.000000   \n",
       "C1orf112                                 0.000000   \n",
       "FGR                                      3.304465   \n",
       "\n",
       "          SMARTseqFINAL_allLanes_AACATCCGCGAATCTG  \\\n",
       "TSPAN6                                   0.000000   \n",
       "DPM1                                     0.000000   \n",
       "SCYL3                                    0.000000   \n",
       "C1orf112                                 0.000000   \n",
       "FGR                                      4.164365   \n",
       "\n",
       "          SMARTseqFINAL_allLanes_AACATCCGCGCCTATA  \\\n",
       "TSPAN6                                   0.000000   \n",
       "DPM1                                     0.000000   \n",
       "SCYL3                                    0.000000   \n",
       "C1orf112                                 0.000000   \n",
       "FGR                                      1.621903   \n",
       "\n",
       "          SMARTseqFINAL_allLanes_AACATCCGCGGAAGAA  \\\n",
       "TSPAN6                                   0.000000   \n",
       "DPM1                                     0.000000   \n",
       "SCYL3                                    0.000000   \n",
       "C1orf112                                 0.000000   \n",
       "FGR                                      3.442635   \n",
       "\n",
       "          SMARTseqFINAL_allLanes_AACATCCGCGGCATTA  \\\n",
       "TSPAN6                                        0.0   \n",
       "DPM1                                          0.0   \n",
       "SCYL3                                         0.0   \n",
       "C1orf112                                      0.0   \n",
       "FGR                                           0.0   \n",
       "\n",
       "          SMARTseqFINAL_allLanes_AACATCCGCTATGTGG  \\\n",
       "TSPAN6                                        0.0   \n",
       "DPM1                                          0.0   \n",
       "SCYL3                                         0.0   \n",
       "C1orf112                                      0.0   \n",
       "FGR                                           0.0   \n",
       "\n",
       "          SMARTseqFINAL_allLanes_AACATCCGGAATCCAG  \\\n",
       "TSPAN6                                        0.0   \n",
       "DPM1                                          0.0   \n",
       "SCYL3                                         0.0   \n",
       "C1orf112                                      0.0   \n",
       "FGR                                           0.0   \n",
       "\n",
       "          SMARTseqFINAL_allLanes_AACATCCGGAGGAGAA  ...  \\\n",
       "TSPAN6                                   0.000000  ...   \n",
       "DPM1                                     2.701919  ...   \n",
       "SCYL3                                    0.000000  ...   \n",
       "C1orf112                                 0.000000  ...   \n",
       "FGR                                      0.000000  ...   \n",
       "\n",
       "          SMARTseqFINAL_allLanes_TTGTCGTGCCTGAGAA  \\\n",
       "TSPAN6                                        0.0   \n",
       "DPM1                                          0.0   \n",
       "SCYL3                                         0.0   \n",
       "C1orf112                                      0.0   \n",
       "FGR                                           0.0   \n",
       "\n",
       "          SMARTseqFINAL_allLanes_TTGTCGTGCTAAGCAG  \\\n",
       "TSPAN6                                   0.000000   \n",
       "DPM1                                     0.000000   \n",
       "SCYL3                                    0.000000   \n",
       "C1orf112                                 0.000000   \n",
       "FGR                                      4.441022   \n",
       "\n",
       "          SMARTseqFINAL_allLanes_TTGTCGTGGACACCAA  \\\n",
       "TSPAN6                                        0.0   \n",
       "DPM1                                          0.0   \n",
       "SCYL3                                         0.0   \n",
       "C1orf112                                      0.0   \n",
       "FGR                                           0.0   \n",
       "\n",
       "          SMARTseqFINAL_allLanes_TTGTCGTGGCGACTAA  \\\n",
       "TSPAN6                                   0.000000   \n",
       "DPM1                                     3.222570   \n",
       "SCYL3                                    0.000000   \n",
       "C1orf112                                 0.000000   \n",
       "FGR                                      2.233954   \n",
       "\n",
       "          SMARTseqFINAL_allLanes_TTGTCGTGGCTTGCTA  \\\n",
       "TSPAN6                                        0.0   \n",
       "DPM1                                          0.0   \n",
       "SCYL3                                         0.0   \n",
       "C1orf112                                      0.0   \n",
       "FGR                                           0.0   \n",
       "\n",
       "          SMARTseqFINAL_allLanes_TTGTCGTGGTGAGGAA  \\\n",
       "TSPAN6                                        0.0   \n",
       "DPM1                                          0.0   \n",
       "SCYL3                                         0.0   \n",
       "C1orf112                                      0.0   \n",
       "FGR                                           0.0   \n",
       "\n",
       "          SMARTseqFINAL_allLanes_TTGTCGTGGTTGACCA  \\\n",
       "TSPAN6                                   3.186911   \n",
       "DPM1                                     2.337225   \n",
       "SCYL3                                    1.009579   \n",
       "C1orf112                                 0.000000   \n",
       "FGR                                      0.000000   \n",
       "\n",
       "          SMARTseqFINAL_allLanes_TTGTCGTGTCGTGGTA  \\\n",
       "TSPAN6                                        0.0   \n",
       "DPM1                                          0.0   \n",
       "SCYL3                                         0.0   \n",
       "C1orf112                                      0.0   \n",
       "FGR                                           0.0   \n",
       "\n",
       "          SMARTseqFINAL_allLanes_TTGTCGTGTCTCGGAA  \\\n",
       "TSPAN6                                        0.0   \n",
       "DPM1                                          0.0   \n",
       "SCYL3                                         0.0   \n",
       "C1orf112                                      0.0   \n",
       "FGR                                           0.0   \n",
       "\n",
       "          SMARTseqFINAL_allLanes_TTGTCGTGTGATCCGA  \n",
       "TSPAN6                                   0.000000  \n",
       "DPM1                                     0.000000  \n",
       "SCYL3                                    0.000000  \n",
       "C1orf112                                 0.000000  \n",
       "FGR                                      3.087333  \n",
       "\n",
       "[5 rows x 682 columns]"
      ]
     },
     "execution_count": 58,
     "metadata": {},
     "output_type": "execute_result"
    }
   ],
   "source": [
    "data.head()"
   ]
  },
  {
   "cell_type": "code",
   "execution_count": 59,
   "metadata": {},
   "outputs": [],
   "source": [
    "data = data[meta.index]"
   ]
  },
  {
   "cell_type": "code",
   "execution_count": 60,
   "metadata": {},
   "outputs": [],
   "source": [
    "fil = meta['nnet2'] != 'HEK cells'\n",
    "meta = meta[fil]\n",
    "data = data[data.columns[fil]]"
   ]
  },
  {
   "cell_type": "code",
   "execution_count": 61,
   "metadata": {},
   "outputs": [],
   "source": [
    "data = data[data.mean(1) != 0]"
   ]
  },
  {
   "cell_type": "code",
   "execution_count": 62,
   "metadata": {},
   "outputs": [
    {
     "data": {
      "text/plain": [
       "(17021, 623)"
      ]
     },
     "execution_count": 62,
     "metadata": {},
     "output_type": "execute_result"
    }
   ],
   "source": [
    "data.shape"
   ]
  },
  {
   "cell_type": "code",
   "execution_count": 63,
   "metadata": {},
   "outputs": [],
   "source": [
    "model = umap.UMAP()"
   ]
  },
  {
   "cell_type": "code",
   "execution_count": 64,
   "metadata": {},
   "outputs": [],
   "source": [
    "data_umap = model.fit_transform(data.T)"
   ]
  },
  {
   "cell_type": "code",
   "execution_count": 65,
   "metadata": {},
   "outputs": [],
   "source": [
    "data_umap = pd.DataFrame(data_umap, index=data.columns, columns=['UMAP1', 'UMAP2'])"
   ]
  },
  {
   "cell_type": "code",
   "execution_count": 66,
   "metadata": {},
   "outputs": [],
   "source": [
    "data_umap = data_umap.loc[meta.index]"
   ]
  },
  {
   "cell_type": "code",
   "execution_count": 67,
   "metadata": {},
   "outputs": [],
   "source": [
    "data_umap['Cell'] = meta.loc[data_umap.index, 'nnet2']"
   ]
  },
  {
   "cell_type": "code",
   "execution_count": 68,
   "metadata": {},
   "outputs": [
    {
     "data": {
      "text/html": [
       "<div>\n",
       "<style scoped>\n",
       "    .dataframe tbody tr th:only-of-type {\n",
       "        vertical-align: middle;\n",
       "    }\n",
       "\n",
       "    .dataframe tbody tr th {\n",
       "        vertical-align: top;\n",
       "    }\n",
       "\n",
       "    .dataframe thead th {\n",
       "        text-align: right;\n",
       "    }\n",
       "</style>\n",
       "<table border=\"1\" class=\"dataframe\">\n",
       "  <thead>\n",
       "    <tr style=\"text-align: right;\">\n",
       "      <th></th>\n",
       "      <th>UMAP1</th>\n",
       "      <th>UMAP2</th>\n",
       "      <th>Cell</th>\n",
       "    </tr>\n",
       "    <tr>\n",
       "      <th>cell</th>\n",
       "      <th></th>\n",
       "      <th></th>\n",
       "      <th></th>\n",
       "    </tr>\n",
       "  </thead>\n",
       "  <tbody>\n",
       "    <tr>\n",
       "      <th>SMARTseqFINAL_allLanes_AACATCCGAAGAGAGG</th>\n",
       "      <td>2.585949</td>\n",
       "      <td>9.533819</td>\n",
       "      <td>NK cells</td>\n",
       "    </tr>\n",
       "    <tr>\n",
       "      <th>SMARTseqFINAL_allLanes_AACATCCGCAGTATCG</th>\n",
       "      <td>2.558304</td>\n",
       "      <td>8.852983</td>\n",
       "      <td>NK cells</td>\n",
       "    </tr>\n",
       "    <tr>\n",
       "      <th>SMARTseqFINAL_allLanes_AACATCCGCCTCCTAA</th>\n",
       "      <td>4.400710</td>\n",
       "      <td>-3.947250</td>\n",
       "      <td>B cells</td>\n",
       "    </tr>\n",
       "    <tr>\n",
       "      <th>SMARTseqFINAL_allLanes_AACATCCGCGAATCTG</th>\n",
       "      <td>2.677900</td>\n",
       "      <td>9.470150</td>\n",
       "      <td>NK cells</td>\n",
       "    </tr>\n",
       "    <tr>\n",
       "      <th>SMARTseqFINAL_allLanes_AACATCCGCGCCTATA</th>\n",
       "      <td>2.954403</td>\n",
       "      <td>9.019343</td>\n",
       "      <td>NK cells</td>\n",
       "    </tr>\n",
       "  </tbody>\n",
       "</table>\n",
       "</div>"
      ],
      "text/plain": [
       "                                            UMAP1     UMAP2      Cell\n",
       "cell                                                                 \n",
       "SMARTseqFINAL_allLanes_AACATCCGAAGAGAGG  2.585949  9.533819  NK cells\n",
       "SMARTseqFINAL_allLanes_AACATCCGCAGTATCG  2.558304  8.852983  NK cells\n",
       "SMARTseqFINAL_allLanes_AACATCCGCCTCCTAA  4.400710 -3.947250   B cells\n",
       "SMARTseqFINAL_allLanes_AACATCCGCGAATCTG  2.677900  9.470150  NK cells\n",
       "SMARTseqFINAL_allLanes_AACATCCGCGCCTATA  2.954403  9.019343  NK cells"
      ]
     },
     "execution_count": 68,
     "metadata": {},
     "output_type": "execute_result"
    }
   ],
   "source": [
    "data_umap.head()"
   ]
  },
  {
   "cell_type": "code",
   "execution_count": 69,
   "metadata": {},
   "outputs": [
    {
     "data": {
      "text/plain": [
       "<matplotlib.axes._subplots.AxesSubplot at 0x7fe800a35310>"
      ]
     },
     "execution_count": 69,
     "metadata": {},
     "output_type": "execute_result"
    },
    {
     "data": {
      "image/png": "[encoded data removed]",
      "text/plain": [
       "<Figure size 432x288 with 1 Axes>"
      ]
     },
     "metadata": {},
     "output_type": "display_data"
    }
   ],
   "source": [
    "sns.scatterplot(x=data_umap['UMAP1'], y=data_umap['UMAP2'], hue=data_umap['Cell'])"
   ]
  },
  {
   "cell_type": "code",
   "execution_count": 183,
   "metadata": {},
   "outputs": [],
   "source": [
    "data_umap['Expression'] = data.loc['IL2RA']"
   ]
  },
  {
   "cell_type": "code",
   "execution_count": 184,
   "metadata": {},
   "outputs": [
    {
     "data": {
      "text/plain": [
       "<matplotlib.axes._subplots.AxesSubplot at 0x7fe81092fd10>"
      ]
     },
     "execution_count": 184,
     "metadata": {},
     "output_type": "execute_result"
    },
    {
     "data": {
      "image/png": "[encoded data removed]",
      "text/plain": [
       "<Figure size 432x288 with 1 Axes>"
      ]
     },
     "metadata": {},
     "output_type": "display_data"
    }
   ],
   "source": [
    "sns.scatterplot(x=data_umap['UMAP1'], y=data_umap['UMAP2'], hue=data_umap['Expression'])"
   ]
  },
  {
   "cell_type": "code",
   "execution_count": 72,
   "metadata": {},
   "outputs": [],
   "source": [
    "nn = pd.read_csv('../results/nn_scrnaseq_scaled.csv', sep=',', header=0, index_col=0)"
   ]
  },
  {
   "cell_type": "code",
   "execution_count": 37,
   "metadata": {},
   "outputs": [],
   "source": [
    "nn_model = pd.read_csv('../data/ligand_target_matrix.csv', sep=',', header=0, index_col=0)"
   ]
  },
  {
   "cell_type": "code",
   "execution_count": 79,
   "metadata": {},
   "outputs": [],
   "source": [
    "common_genes = list(set(nn.index) & set(nn_model.index))"
   ]
  },
  {
   "cell_type": "code",
   "execution_count": 82,
   "metadata": {},
   "outputs": [],
   "source": [
    "nn_score = pd.concat([nn_model.loc[common_genes], nn.loc[common_genes]], 1).corr()"
   ]
  },
  {
   "cell_type": "code",
   "execution_count": 165,
   "metadata": {},
   "outputs": [],
   "source": [
    "nn_activity = nn_score.loc[nn_model.columns, nn.columns]"
   ]
  },
  {
   "cell_type": "code",
   "execution_count": 166,
   "metadata": {},
   "outputs": [],
   "source": [
    "nn_activity_norm = ((nn_activity.T - nn_activity.mean(1)) / nn_activity.std(1)).T"
   ]
  },
  {
   "cell_type": "code",
   "execution_count": 167,
   "metadata": {},
   "outputs": [],
   "source": [
    "nn_activity_norm = (nn_activity_norm - nn_activity_norm.mean()) / nn_activity_norm.std()"
   ]
  },
  {
   "cell_type": "code",
   "execution_count": 181,
   "metadata": {},
   "outputs": [],
   "source": [
    "ligand = 'IL2'\n",
    "data_umap['Activity'] = nn_activity_norm.loc[ligand]"
   ]
  },
  {
   "cell_type": "code",
   "execution_count": 182,
   "metadata": {},
   "outputs": [
    {
     "data": {
      "text/plain": [
       "<matplotlib.axes._subplots.AxesSubplot at 0x7fe812aceed0>"
      ]
     },
     "execution_count": 182,
     "metadata": {},
     "output_type": "execute_result"
    },
    {
     "data": {
      "image/png": "[encoded data removed]",
      "text/plain": [
       "<Figure size 432x288 with 1 Axes>"
      ]
     },
     "metadata": {},
     "output_type": "display_data"
    }
   ],
   "source": [
    "sns.scatterplot(x=data_umap['UMAP1'], y=data_umap['UMAP2'], hue=data_umap['Activity'])"
   ]
  },
  {
   "cell_type": "code",
   "execution_count": 170,
   "metadata": {},
   "outputs": [],
   "source": [
    "average_activity = nn_activity_norm.T\n",
    "average_activity['Cell_type'] = meta.loc[nn_activity_norm.columns, 'nnet2']\n",
    "average_activity = average_activity.groupby('Cell_type').mean()"
   ]
  },
  {
   "cell_type": "code",
   "execution_count": 180,
   "metadata": {},
   "outputs": [
    {
     "data": {
      "text/plain": [
       "TENM3      -0.979656\n",
       "SERPINC1   -0.778733\n",
       "NDP        -0.772356\n",
       "CCL15      -0.759910\n",
       "DKK1       -0.755915\n",
       "              ...   \n",
       "IL15        1.369889\n",
       "IL12B       1.582466\n",
       "IL12A       1.649399\n",
       "IL2         1.981231\n",
       "CLDN24           NaN\n",
       "Name: CD8 T cells, Length: 688, dtype: float64"
      ]
     },
     "execution_count": 180,
     "metadata": {},
     "output_type": "execute_result"
    }
   ],
   "source": [
    "average_activity.loc['CD8 T cells'].sort_values()"
   ]
  },
  {
   "cell_type": "code",
   "execution_count": 132,
   "metadata": {},
   "outputs": [
    {
     "data": {
      "text/html": [
       "<div>\n",
       "<style scoped>\n",
       "    .dataframe tbody tr th:only-of-type {\n",
       "        vertical-align: middle;\n",
       "    }\n",
       "\n",
       "    .dataframe tbody tr th {\n",
       "        vertical-align: top;\n",
       "    }\n",
       "\n",
       "    .dataframe thead th {\n",
       "        text-align: right;\n",
       "    }\n",
       "</style>\n",
       "<table border=\"1\" class=\"dataframe\">\n",
       "  <thead>\n",
       "    <tr style=\"text-align: right;\">\n",
       "      <th></th>\n",
       "      <th>CXCL1</th>\n",
       "      <th>CXCL2</th>\n",
       "      <th>CXCL3</th>\n",
       "      <th>CXCL5</th>\n",
       "      <th>PPBP</th>\n",
       "      <th>CXCL6</th>\n",
       "      <th>CXCL8</th>\n",
       "      <th>CXCL9</th>\n",
       "      <th>CXCL10</th>\n",
       "      <th>CXCL11</th>\n",
       "      <th>...</th>\n",
       "      <th>PCDHGB1</th>\n",
       "      <th>CDH6</th>\n",
       "      <th>CDH9</th>\n",
       "      <th>CDH12</th>\n",
       "      <th>CDH18</th>\n",
       "      <th>PCDHB16</th>\n",
       "      <th>PCDHA7</th>\n",
       "      <th>PCDHA6</th>\n",
       "      <th>PCDHA4</th>\n",
       "      <th>PCDHA12</th>\n",
       "    </tr>\n",
       "    <tr>\n",
       "      <th>Cell_type</th>\n",
       "      <th></th>\n",
       "      <th></th>\n",
       "      <th></th>\n",
       "      <th></th>\n",
       "      <th></th>\n",
       "      <th></th>\n",
       "      <th></th>\n",
       "      <th></th>\n",
       "      <th></th>\n",
       "      <th></th>\n",
       "      <th></th>\n",
       "      <th></th>\n",
       "      <th></th>\n",
       "      <th></th>\n",
       "      <th></th>\n",
       "      <th></th>\n",
       "      <th></th>\n",
       "      <th></th>\n",
       "      <th></th>\n",
       "      <th></th>\n",
       "      <th></th>\n",
       "    </tr>\n",
       "  </thead>\n",
       "  <tbody>\n",
       "    <tr>\n",
       "      <th>B cells</th>\n",
       "      <td>-0.109884</td>\n",
       "      <td>0.052272</td>\n",
       "      <td>-0.027145</td>\n",
       "      <td>-0.022601</td>\n",
       "      <td>-0.005557</td>\n",
       "      <td>-0.070821</td>\n",
       "      <td>-0.134378</td>\n",
       "      <td>-0.024815</td>\n",
       "      <td>-0.118784</td>\n",
       "      <td>-0.055725</td>\n",
       "      <td>...</td>\n",
       "      <td>-0.083784</td>\n",
       "      <td>0.375203</td>\n",
       "      <td>0.356546</td>\n",
       "      <td>0.293804</td>\n",
       "      <td>0.296374</td>\n",
       "      <td>0.234954</td>\n",
       "      <td>-0.073638</td>\n",
       "      <td>0.139528</td>\n",
       "      <td>-0.136329</td>\n",
       "      <td>0.049847</td>\n",
       "    </tr>\n",
       "    <tr>\n",
       "      <th>CD14+ Monocytes</th>\n",
       "      <td>0.972156</td>\n",
       "      <td>0.983885</td>\n",
       "      <td>1.016429</td>\n",
       "      <td>1.006994</td>\n",
       "      <td>1.019110</td>\n",
       "      <td>0.980994</td>\n",
       "      <td>0.795201</td>\n",
       "      <td>0.923133</td>\n",
       "      <td>0.843265</td>\n",
       "      <td>1.016122</td>\n",
       "      <td>...</td>\n",
       "      <td>0.856104</td>\n",
       "      <td>0.487211</td>\n",
       "      <td>0.502270</td>\n",
       "      <td>0.800630</td>\n",
       "      <td>0.585425</td>\n",
       "      <td>0.902737</td>\n",
       "      <td>0.944016</td>\n",
       "      <td>0.815035</td>\n",
       "      <td>0.689353</td>\n",
       "      <td>0.839805</td>\n",
       "    </tr>\n",
       "    <tr>\n",
       "      <th>CD4 T cells</th>\n",
       "      <td>-0.296470</td>\n",
       "      <td>-0.372367</td>\n",
       "      <td>-0.315462</td>\n",
       "      <td>-0.302300</td>\n",
       "      <td>-0.281346</td>\n",
       "      <td>-0.296450</td>\n",
       "      <td>-0.298921</td>\n",
       "      <td>-0.365042</td>\n",
       "      <td>-0.353819</td>\n",
       "      <td>-0.303980</td>\n",
       "      <td>...</td>\n",
       "      <td>-0.205363</td>\n",
       "      <td>-0.143524</td>\n",
       "      <td>-0.142092</td>\n",
       "      <td>-0.268762</td>\n",
       "      <td>-0.229337</td>\n",
       "      <td>-0.391270</td>\n",
       "      <td>-0.292667</td>\n",
       "      <td>-0.215647</td>\n",
       "      <td>-0.157642</td>\n",
       "      <td>-0.194698</td>\n",
       "    </tr>\n",
       "    <tr>\n",
       "      <th>CD8 T cells</th>\n",
       "      <td>-0.224780</td>\n",
       "      <td>-0.220729</td>\n",
       "      <td>-0.269828</td>\n",
       "      <td>-0.226010</td>\n",
       "      <td>-0.284118</td>\n",
       "      <td>-0.302347</td>\n",
       "      <td>-0.230321</td>\n",
       "      <td>-0.133770</td>\n",
       "      <td>-0.138718</td>\n",
       "      <td>-0.230327</td>\n",
       "      <td>...</td>\n",
       "      <td>-0.282450</td>\n",
       "      <td>-0.275163</td>\n",
       "      <td>-0.276259</td>\n",
       "      <td>-0.321123</td>\n",
       "      <td>-0.312833</td>\n",
       "      <td>-0.233608</td>\n",
       "      <td>-0.230410</td>\n",
       "      <td>-0.310374</td>\n",
       "      <td>-0.277581</td>\n",
       "      <td>-0.367103</td>\n",
       "    </tr>\n",
       "    <tr>\n",
       "      <th>Dendritic cells</th>\n",
       "      <td>2.463053</td>\n",
       "      <td>2.695571</td>\n",
       "      <td>2.680142</td>\n",
       "      <td>2.473104</td>\n",
       "      <td>2.614140</td>\n",
       "      <td>2.718563</td>\n",
       "      <td>2.339960</td>\n",
       "      <td>2.473424</td>\n",
       "      <td>2.385454</td>\n",
       "      <td>2.541628</td>\n",
       "      <td>...</td>\n",
       "      <td>2.459979</td>\n",
       "      <td>2.152228</td>\n",
       "      <td>2.149243</td>\n",
       "      <td>2.636453</td>\n",
       "      <td>2.594791</td>\n",
       "      <td>2.898169</td>\n",
       "      <td>2.209240</td>\n",
       "      <td>2.559538</td>\n",
       "      <td>2.601595</td>\n",
       "      <td>2.524816</td>\n",
       "    </tr>\n",
       "    <tr>\n",
       "      <th>FCGR3A+ Monocytes</th>\n",
       "      <td>2.170008</td>\n",
       "      <td>2.194374</td>\n",
       "      <td>2.181297</td>\n",
       "      <td>2.089295</td>\n",
       "      <td>2.020307</td>\n",
       "      <td>2.140865</td>\n",
       "      <td>1.712708</td>\n",
       "      <td>1.961027</td>\n",
       "      <td>2.025694</td>\n",
       "      <td>2.069673</td>\n",
       "      <td>...</td>\n",
       "      <td>1.876981</td>\n",
       "      <td>1.350825</td>\n",
       "      <td>1.354560</td>\n",
       "      <td>1.825932</td>\n",
       "      <td>1.627161</td>\n",
       "      <td>2.318018</td>\n",
       "      <td>1.857251</td>\n",
       "      <td>1.799855</td>\n",
       "      <td>1.817871</td>\n",
       "      <td>1.907054</td>\n",
       "    </tr>\n",
       "    <tr>\n",
       "      <th>NK cells</th>\n",
       "      <td>-0.028512</td>\n",
       "      <td>0.035890</td>\n",
       "      <td>-0.034955</td>\n",
       "      <td>-0.051763</td>\n",
       "      <td>-0.080341</td>\n",
       "      <td>-0.026565</td>\n",
       "      <td>0.140111</td>\n",
       "      <td>0.094863</td>\n",
       "      <td>0.133160</td>\n",
       "      <td>-0.032782</td>\n",
       "      <td>...</td>\n",
       "      <td>-0.136378</td>\n",
       "      <td>-0.295279</td>\n",
       "      <td>-0.292691</td>\n",
       "      <td>-0.152563</td>\n",
       "      <td>-0.153554</td>\n",
       "      <td>-0.029762</td>\n",
       "      <td>0.039851</td>\n",
       "      <td>-0.194918</td>\n",
       "      <td>-0.183076</td>\n",
       "      <td>-0.193513</td>\n",
       "    </tr>\n",
       "  </tbody>\n",
       "</table>\n",
       "<p>7 rows × 688 columns</p>\n",
       "</div>"
      ],
      "text/plain": [
       "                      CXCL1     CXCL2     CXCL3     CXCL5      PPBP     CXCL6  \\\n",
       "Cell_type                                                                       \n",
       "B cells           -0.109884  0.052272 -0.027145 -0.022601 -0.005557 -0.070821   \n",
       "CD14+ Monocytes    0.972156  0.983885  1.016429  1.006994  1.019110  0.980994   \n",
       "CD4 T cells       -0.296470 -0.372367 -0.315462 -0.302300 -0.281346 -0.296450   \n",
       "CD8 T cells       -0.224780 -0.220729 -0.269828 -0.226010 -0.284118 -0.302347   \n",
       "Dendritic cells    2.463053  2.695571  2.680142  2.473104  2.614140  2.718563   \n",
       "FCGR3A+ Monocytes  2.170008  2.194374  2.181297  2.089295  2.020307  2.140865   \n",
       "NK cells          -0.028512  0.035890 -0.034955 -0.051763 -0.080341 -0.026565   \n",
       "\n",
       "                      CXCL8     CXCL9    CXCL10    CXCL11  ...   PCDHGB1  \\\n",
       "Cell_type                                                  ...             \n",
       "B cells           -0.134378 -0.024815 -0.118784 -0.055725  ... -0.083784   \n",
       "CD14+ Monocytes    0.795201  0.923133  0.843265  1.016122  ...  0.856104   \n",
       "CD4 T cells       -0.298921 -0.365042 -0.353819 -0.303980  ... -0.205363   \n",
       "CD8 T cells       -0.230321 -0.133770 -0.138718 -0.230327  ... -0.282450   \n",
       "Dendritic cells    2.339960  2.473424  2.385454  2.541628  ...  2.459979   \n",
       "FCGR3A+ Monocytes  1.712708  1.961027  2.025694  2.069673  ...  1.876981   \n",
       "NK cells           0.140111  0.094863  0.133160 -0.032782  ... -0.136378   \n",
       "\n",
       "                       CDH6      CDH9     CDH12     CDH18   PCDHB16    PCDHA7  \\\n",
       "Cell_type                                                                       \n",
       "B cells            0.375203  0.356546  0.293804  0.296374  0.234954 -0.073638   \n",
       "CD14+ Monocytes    0.487211  0.502270  0.800630  0.585425  0.902737  0.944016   \n",
       "CD4 T cells       -0.143524 -0.142092 -0.268762 -0.229337 -0.391270 -0.292667   \n",
       "CD8 T cells       -0.275163 -0.276259 -0.321123 -0.312833 -0.233608 -0.230410   \n",
       "Dendritic cells    2.152228  2.149243  2.636453  2.594791  2.898169  2.209240   \n",
       "FCGR3A+ Monocytes  1.350825  1.354560  1.825932  1.627161  2.318018  1.857251   \n",
       "NK cells          -0.295279 -0.292691 -0.152563 -0.153554 -0.029762  0.039851   \n",
       "\n",
       "                     PCDHA6    PCDHA4   PCDHA12  \n",
       "Cell_type                                        \n",
       "B cells            0.139528 -0.136329  0.049847  \n",
       "CD14+ Monocytes    0.815035  0.689353  0.839805  \n",
       "CD4 T cells       -0.215647 -0.157642 -0.194698  \n",
       "CD8 T cells       -0.310374 -0.277581 -0.367103  \n",
       "Dendritic cells    2.559538  2.601595  2.524816  \n",
       "FCGR3A+ Monocytes  1.799855  1.817871  1.907054  \n",
       "NK cells          -0.194918 -0.183076 -0.193513  \n",
       "\n",
       "[7 rows x 688 columns]"
      ]
     },
     "execution_count": 132,
     "metadata": {},
     "output_type": "execute_result"
    }
   ],
   "source": [
    "average_activity"
   ]
  },
  {
   "cell_type": "code",
   "execution_count": null,
   "metadata": {},
   "outputs": [],
   "source": []
  },
  {
   "cell_type": "code",
   "execution_count": null,
   "metadata": {},
   "outputs": [],
   "source": []
  },
  {
   "cell_type": "code",
   "execution_count": null,
   "metadata": {},
   "outputs": [],
   "source": []
  },
  {
   "cell_type": "code",
   "execution_count": null,
   "metadata": {},
   "outputs": [],
   "source": []
  },
  {
   "cell_type": "code",
   "execution_count": null,
   "metadata": {},
   "outputs": [],
   "source": []
  }
 ],
 "metadata": {
  "kernelspec": {
   "display_name": "scanpy",
   "language": "python",
   "name": "scanpy"
  },
  "language_info": {
   "codemirror_mode": {
    "name": "ipython",
    "version": 3
   },
   "file_extension": ".py",
   "mimetype": "text/x-python",
   "name": "python",
   "nbconvert_exporter": "python",
   "pygments_lexer": "ipython3",
   "version": "3.7.7"
  }
 },
 "nbformat": 4,
 "nbformat_minor": 4
}
