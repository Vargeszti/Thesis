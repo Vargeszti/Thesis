{
 "cells": [
  {
   "cell_type": "code",
   "execution_count": 26,
   "metadata": {},
   "outputs": [],
   "source": [
    "import pandas as pd\n",
    "import numpy as np\n",
    "import umap\n",
    "import scanpy as sc\n",
    "import umap\n",
    "\n",
    "from matplotlib import pyplot as plt\n",
    "%matplotlib inline\n",
    "import seaborn as sns\n",
    "sns.set_style('whitegrid')\n",
    "\n",
    "from scipy.stats import spearmanr"
   ]
  },
  {
   "cell_type": "code",
   "execution_count": 33,
   "metadata": {},
   "outputs": [],
   "source": [
    "afatinib = sc.read_10x_mtx('../data/Afatinib_expt10/')\n",
    "dmso = sc.read_10x_mtx('../data/DMSO_expt10/')"
   ]
  },
  {
   "cell_type": "code",
   "execution_count": 34,
   "metadata": {},
   "outputs": [],
   "source": [
    "nn = pd.read_csv('../results/consensus_signature_gse92742_trt_lig.csv', sep=',', header=0, index_col=0).T"
   ]
  },
  {
   "cell_type": "code",
   "execution_count": 35,
   "metadata": {},
   "outputs": [],
   "source": [
    "sc.pp.normalize_total(afatinib, target_sum=1e4)\n",
    "sc.pp.normalize_total(dmso, target_sum=1e4)"
   ]
  },
  {
   "cell_type": "code",
   "execution_count": 36,
   "metadata": {},
   "outputs": [],
   "source": [
    "afatinib = afatinib.to_df()\n",
    "dmso = dmso.to_df()"
   ]
  },
  {
   "cell_type": "code",
   "execution_count": 10,
   "metadata": {},
   "outputs": [],
   "source": [
    "afatinib = np.log2(afatinib+1)\n",
    "dmso =np.log2(dmso+1)"
   ]
  },
  {
   "cell_type": "code",
   "execution_count": 11,
   "metadata": {},
   "outputs": [],
   "source": [
    "common_genes = list(set(nn.index) & set(afatinib.columns) & set(dmso.columns))"
   ]
  },
  {
   "cell_type": "code",
   "execution_count": null,
   "metadata": {},
   "outputs": [],
   "source": []
  },
  {
   "cell_type": "code",
   "execution_count": 12,
   "metadata": {},
   "outputs": [],
   "source": [
    "afatinib = afatinib[common_genes]\n",
    "dmso = dmso[common_genes]\n",
    "nn = nn.loc [common_genes].T"
   ]
  },
  {
   "cell_type": "code",
   "execution_count": 37,
   "metadata": {},
   "outputs": [],
   "source": [
    "model = umap.UMAP()\n",
    "temp = model.fit_transform(dmso.T)"
   ]
  },
  {
   "cell_type": "code",
   "execution_count": 38,
   "metadata": {},
   "outputs": [
    {
     "data": {
      "text/plain": [
       "[<matplotlib.lines.Line2D at 0x7f90b5dce390>]"
      ]
     },
     "execution_count": 38,
     "metadata": {},
     "output_type": "execute_result"
    },
    {
     "data": {
      "image/png": "[encoded data removed]",
      "text/plain": [
       "<Figure size 432x288 with 1 Axes>"
      ]
     },
     "metadata": {},
     "output_type": "display_data"
    }
   ],
   "source": [
    "plt.plot(temp[:,0], temp[:,1],'.')"
   ]
  },
  {
   "cell_type": "code",
   "execution_count": 8,
   "metadata": {},
   "outputs": [],
   "source": [
    "a_meta = pd.read_csv('../data/Afatinib_expt10/classifications.csv', sep=',', header=0, index_col=0)\n",
    "d_meta = pd.read_csv('../data/DMSO_expt10/classifications.csv', sep=',', header=0, index_col=0)"
   ]
  },
  {
   "cell_type": "code",
   "execution_count": 9,
   "metadata": {},
   "outputs": [],
   "source": [
    "for cell in list(set(d_meta['singlet_ID'])):\n",
    "    samples_a = a_meta.index[a_meta['singlet_ID'] == cell]\n",
    "    samples_d = d_meta.index[d_meta['singlet_ID'] == cell]\n",
    "    dmso.loc[samples_d] = (dmso.loc[samples_d] - dmso.loc[samples_d].mean()) / dmso.loc[samples_d].std()\n",
    "    afatinib.loc[samples_a] = (afatinib.loc[samples_a] - dmso.loc[samples_d].mean()) / dmso.loc[samples_d].std()"
   ]
  },
  {
   "cell_type": "code",
   "execution_count": 11,
   "metadata": {},
   "outputs": [
    {
     "data": {
      "text/plain": [
       "{'NCIH1648_LUNG'}"
      ]
     },
     "execution_count": 11,
     "metadata": {},
     "output_type": "execute_result"
    }
   ],
   "source": [
    "set(a_meta['singlet_ID']) - set(d_meta['singlet_ID'])"
   ]
  },
  {
   "cell_type": "code",
   "execution_count": 14,
   "metadata": {},
   "outputs": [],
   "source": [
    "a_sim = pd.concat([afatinib.T, nn.T], 1)\n",
    "a_sim = pd.DataFrame(spearmanr(a_sim)[0], index=a_sim.columns, columns=a_sim.columns)\n",
    "a_sim = a_sim.loc[nn.index, afatinib.index]"
   ]
  },
  {
   "cell_type": "code",
   "execution_count": 15,
   "metadata": {},
   "outputs": [],
   "source": [
    "d_sim = pd.concat([dmso.T, nn.T], 1)\n",
    "d_sim = pd.DataFrame(spearmanr(d_sim)[0], index=d_sim.columns, columns=d_sim.columns)\n",
    "d_sim = d_sim.loc[nn.index, dmso.index]"
   ]
  },
  {
   "cell_type": "code",
   "execution_count": 17,
   "metadata": {},
   "outputs": [
    {
     "data": {
      "text/plain": [
       "(array([   6.,   45.,  196.,  762., 1544., 1463.,  864.,  269.,   47.,\n",
       "           9.]),\n",
       " array([-0.14280172, -0.12064314, -0.09848456, -0.07632598, -0.0541674 ,\n",
       "        -0.03200882, -0.00985025,  0.01230833,  0.03446691,  0.05662549,\n",
       "         0.07878407]),\n",
       " <a list of 10 Patch objects>)"
      ]
     },
     "execution_count": 17,
     "metadata": {},
     "output_type": "execute_result"
    },
    {
     "data": {
      "image/png": "[encoded data removed]",
      "text/plain": [
       "<Figure size 432x288 with 1 Axes>"
      ]
     },
     "metadata": {},
     "output_type": "display_data"
    }
   ],
   "source": [
    "plt.hist(d_sim.loc[\"EGF\"].sort_values())"
   ]
  },
  {
   "cell_type": "code",
   "execution_count": 18,
   "metadata": {},
   "outputs": [
    {
     "data": {
      "text/plain": [
       "(array([ 19.,  86., 278., 602., 947., 909., 622., 258.,  69.,  17.]),\n",
       " array([-0.13805356, -0.11818832, -0.09832308, -0.07845784, -0.0585926 ,\n",
       "        -0.03872736, -0.01886212,  0.00100312,  0.02086835,  0.04073359,\n",
       "         0.06059883]),\n",
       " <a list of 10 Patch objects>)"
      ]
     },
     "execution_count": 18,
     "metadata": {},
     "output_type": "execute_result"
    },
    {
     "data": {
      "image/png": "[encoded data removed]",
      "text/plain": [
       "<Figure size 432x288 with 1 Axes>"
      ]
     },
     "metadata": {},
     "output_type": "display_data"
    }
   ],
   "source": [
    "plt.hist(a_sim.loc[\"EGF\"].sort_values())"
   ]
  },
  {
   "cell_type": "code",
   "execution_count": 25,
   "metadata": {},
   "outputs": [
    {
     "data": {
      "text/plain": [
       "-0.14280171973229963"
      ]
     },
     "execution_count": 25,
     "metadata": {},
     "output_type": "execute_result"
    }
   ],
   "source": [
    "d_sim.min(1)['EGF']"
   ]
  },
  {
   "cell_type": "code",
   "execution_count": 24,
   "metadata": {},
   "outputs": [
    {
     "data": {
      "text/plain": [
       "EDN2      -0.108346\n",
       "NTS       -0.086062\n",
       "THBD      -0.069351\n",
       "TNFSF13   -0.068919\n",
       "BMP7      -0.064511\n",
       "             ...   \n",
       "COL4A1     0.220800\n",
       "VIP        0.221833\n",
       "HGF        0.226379\n",
       "CXCL5      0.226911\n",
       "UTS2       0.238058\n",
       "Length: 213, dtype: float64"
      ]
     },
     "execution_count": 24,
     "metadata": {},
     "output_type": "execute_result"
    }
   ],
   "source": [
    "(d_sim.mean(1) - a_sim.mean(1)).sort_values()"
   ]
  },
  {
   "cell_type": "code",
   "execution_count": 28,
   "metadata": {},
   "outputs": [
    {
     "data": {
      "text/plain": [
       "0.1358958719866639"
      ]
     },
     "execution_count": 28,
     "metadata": {},
     "output_type": "execute_result"
    }
   ],
   "source": [
    "d_sim.mean(1)['UTS2']"
   ]
  },
  {
   "cell_type": "code",
   "execution_count": null,
   "metadata": {},
   "outputs": [],
   "source": []
  }
 ],
 "metadata": {
  "kernelspec": {
   "display_name": "scanpy",
   "language": "python",
   "name": "scanpy"
  },
  "language_info": {
   "codemirror_mode": {
    "name": "ipython",
    "version": 3
   },
   "file_extension": ".py",
   "mimetype": "text/x-python",
   "name": "python",
   "nbconvert_exporter": "python",
   "pygments_lexer": "ipython3",
   "version": "3.7.7"
  }
 },
 "nbformat": 4,
 "nbformat_minor": 4
}
